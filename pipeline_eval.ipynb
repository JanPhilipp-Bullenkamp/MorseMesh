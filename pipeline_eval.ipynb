{
 "cells": [
  {
   "cell_type": "markdown",
   "metadata": {},
   "source": [
    "# Pipeline for evaluations\n",
    "\n",
    "This notebook shows example pipelines for evaluation related things. It contains conversion of colored .plys to label .txts as well as the evaluation of a results subfolder as created by the Pipeline for running the segmentation method with a range of parameters."
   ]
  },
  {
   "cell_type": "markdown",
   "metadata": {},
   "source": [
    "# Conversion\n",
    "\n",
    "Conversion from colored ply files to label txt files (creates a new subfolder with txts)"
   ]
  },
  {
   "cell_type": "code",
   "execution_count": null,
   "metadata": {},
   "outputs": [],
   "source": [
    "# Convert groundtruth plys to groundtruth label txts\n",
    "\n",
    "from src.evaluation_and_conversion import painted_ply_to_label_dict, label_dict_to_label_txt, label_txt_to_sorted_label_txt\n",
    "\n",
    "import os\n",
    "\n",
    "folder = \"path/to_folder/\"\n",
    "\n",
    "broken = []\n",
    "for file in os.listdir(folder+\"plys/\"):\n",
    "    print(\"Convert file \", file)\n",
    "    file_id = file.split(\"_c.ply\")[0]\n",
    "    try:\n",
    "        gt_label_dict = painted_ply_to_label_dict(folder+\"plys/\"+file, clean_thresh=30, connected_components = True)\n",
    "        label_dict_to_label_txt(gt_label_dict, folder+\"txts/\"+file_id+\"_gt_labels\")\n",
    "        label_txt_to_sorted_label_txt(folder+\"txts/\"+file_id+\"_gt_labels.txt\", folder+\"txts/\"+file_id+\"_gt_labels\")\n",
    "    except:\n",
    "        broken.append(file_id)\n",
    "\n",
    "print(\"Broken files:\")\n",
    "print(broken)"
   ]
  },
  {
   "cell_type": "markdown",
   "metadata": {},
   "source": [
    "# Evaluation\n",
    "\n",
    "Is currently only set up to work in the folder structure as in the Pipeline for running on different parameter combinations. Files are expected to have the GigaMesh naming convention etc, so needs adjustment if necessary."
   ]
  },
  {
   "cell_type": "code",
   "execution_count": null,
   "metadata": {},
   "outputs": [],
   "source": [
    "# evaluate\n",
    "\n",
    "from src.evaluation_and_conversion import painted_ply_to_label_dict, compare_result_txt_to_groundtruth_label_dict, label_txt_to_label_dict\n",
    "\n",
    "import os\n",
    "import csv\n",
    "\n",
    "folder = \"path/to_folder/\"\n",
    "\n",
    "with open(folder + \"/results/best_results.txt\", \"w\") as fresults:\n",
    "    fresults.write(\"ObjectID BestResult BestParams\\n\")\n",
    "    \n",
    "    for dir_name in os.listdir(folder+\"results/\"):\n",
    "        obj_id = dir_name.split(\"_GMOCF_r1.00_n4_v256.volume\", 1)[0]\n",
    "        gt_filepath = folder+\"groundtruths/txts/\" + obj_id + \"_gt_labels.txt\"\n",
    "        result_files = []\n",
    "        \n",
    "        if dir_name != \"best_results.txt\":\n",
    "            for filename in os.listdir(folder+\"results/\"+dir_name+\"/\"):\n",
    "\n",
    "                if filename.endswith(\".txt\") and not filename.endswith(\"_correct.txt\") and not filename.endswith(\"_timings.txt\"):\n",
    "                    result_files.append(os.path.join(folder+\"results/\"+dir_name+\"/\", filename))\n",
    "                else:\n",
    "                    continue\n",
    "\n",
    "            gt_label = label_txt_to_label_dict(gt_filepath)\n",
    "\n",
    "            best_result = 0\n",
    "            best_param = None\n",
    "\n",
    "            result_table = []\n",
    "            #result_table.append([\"Persistence\", \"High_thresh\", \"Low_thresh\", \"Merge_thresh\", \"Correctness\"])\n",
    "            for file in result_files:\n",
    "                correctness, high_thr, low_thr, merge_thr = compare_result_txt_to_groundtruth_label_dict(file, gt_label, metric=\"IoU\", plot_correctness_mask=False)\n",
    "                result_table.append([high_thr, low_thr, merge_thr, correctness])\n",
    "                if correctness > best_result:\n",
    "                    best_result = correctness\n",
    "                    best_param = [high_thr, low_thr, merge_thr]\n",
    "\n",
    "            fresults.write(str(obj_id) + \" \" + str(best_result) + \" \" + str(best_param) + \"\\n\")\n",
    "\n",
    "            with open(folder+\"results/\"+dir_name+\"/\"+str(obj_id)+\"_result_table.csv\", \"w\", newline=\"\") as f:\n",
    "                writer = csv.writer(f)\n",
    "                writer.writerows(result_table)"
   ]
  },
  {
   "cell_type": "code",
   "execution_count": null,
   "metadata": {},
   "outputs": [],
   "source": []
  }
 ],
 "metadata": {
  "kernelspec": {
   "display_name": "Python 3.9.12 ('base')",
   "language": "python",
   "name": "python3"
  },
  "language_info": {
   "codemirror_mode": {
    "name": "ipython",
    "version": 3
   },
   "file_extension": ".py",
   "mimetype": "text/x-python",
   "name": "python",
   "nbconvert_exporter": "python",
   "pygments_lexer": "ipython3",
   "version": "3.9.12"
  },
  "orig_nbformat": 4,
  "vscode": {
   "interpreter": {
    "hash": "2796f898c241be261d17d4440712f4c58a6e72713839fe7ec4d10cc08aa00573"
   }
  }
 },
 "nbformat": 4,
 "nbformat_minor": 2
}
