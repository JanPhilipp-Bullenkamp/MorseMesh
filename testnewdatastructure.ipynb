{
 "cells": [
  {
   "cell_type": "code",
   "execution_count": 1,
   "id": "648001e5",
   "metadata": {},
   "outputs": [],
   "source": [
    "from mesh import Mesh\n",
    "from ExtractMorseComplex2 import ExtractMorseComplex2\n",
    "from MorseAlgorithms.ReduceMorseComplex import CancelCriticalPairs2"
   ]
  },
  {
   "cell_type": "code",
   "execution_count": 2,
   "id": "c45da0e2",
   "metadata": {},
   "outputs": [],
   "source": [
    "#minimal\n",
    "#filename, quality_index = \"Data/simplicial_donut_3.ply\", 2\n",
    "#small\n",
    "#filename, quality_index = \"Data/simplicial_donut_3_deform.ply\", 2\n",
    "#medium\n",
    "filename, quality_index = \"Data/HS_0109_HeiCuBeDa_GigaMesh.ply\", 3\n",
    "#large:\n",
    "#filename, quality_index = \"Data/HS_190_HeiCuBeDa_GigaMesh.ply\", 3"
   ]
  },
  {
   "cell_type": "code",
   "execution_count": 3,
   "id": "6df59c4c",
   "metadata": {},
   "outputs": [
    {
     "name": "stdout",
     "output_type": "stream",
     "text": [
      "Time read data file: 4.9367732\n",
      "Time read and prepare data: 27.9932473\n",
      "Mesh Info\n",
      "-------------------------------------\n",
      "Filename:  Data/HS_0109_HeiCuBeDa_GigaMesh.ply\n",
      "Number of Vertices:  559767\n",
      "Number of Edges:  1679295\n",
      "Number of Faces:  1119530\n",
      "-------------------------------------\n",
      "Euler characteristic:  2\n",
      "-------------------------------------\n"
     ]
    }
   ],
   "source": [
    "Mesh = Mesh()\n",
    "Mesh.load_mesh_ply(filename, quality_index)\n",
    "Mesh.info()"
   ]
  },
  {
   "cell_type": "code",
   "execution_count": 4,
   "id": "808a1588",
   "metadata": {},
   "outputs": [
    {
     "name": "stdout",
     "output_type": "stream",
     "text": [
      "Time ProcessLowerStar: 14.867096199999999\n",
      "Time ExtractMorseComplex and Separatrices: 8.445107800000002\n",
      "MorseComplex Info\n",
      "-------------------------------------\n",
      "Number of Vertices:  29135\n",
      "Number of Edges:  57819\n",
      "Number of Faces:  28686\n",
      "-------------------------------------\n",
      "Euler characteristic:  2\n",
      "-------------------------------------\n"
     ]
    }
   ],
   "source": [
    "Mesh.ProcessLowerStars()\n",
    "Mesh.ExtractMorseComplex()\n",
    "Mesh.MorseComplex.info()"
   ]
  },
  {
   "cell_type": "code",
   "execution_count": 5,
   "id": "6ff3cf6d",
   "metadata": {},
   "outputs": [
    {
     "name": "stdout",
     "output_type": "stream",
     "text": [
      "Time cancel critical points with  0.02  persistence:  7.6352805\n",
      "Time cancel critical points with  0.04  persistence:  6.168085999999995\n",
      "Time cancel critical points with  0.06  persistence:  6.491731400000006\n",
      "MorseComplex Info\n",
      "-------------------------------------\n",
      "Persistence of this reduced Complex:  0.02\n",
      "Number of Vertices:  8151\n",
      "Number of Edges:  16511\n",
      "Number of Faces:  8362\n",
      "-------------------------------------\n",
      "Euler characteristic:  2\n",
      "-------------------------------------\n",
      "MorseComplex Info\n",
      "-------------------------------------\n",
      "Persistence of this reduced Complex:  0.04\n",
      "Number of Vertices:  1992\n",
      "Number of Edges:  4793\n",
      "Number of Faces:  2803\n",
      "-------------------------------------\n",
      "Euler characteristic:  2\n",
      "-------------------------------------\n",
      "MorseComplex Info\n",
      "-------------------------------------\n",
      "Persistence of this reduced Complex:  0.06\n",
      "Number of Vertices:  433\n",
      "Number of Edges:  1798\n",
      "Number of Faces:  1367\n",
      "-------------------------------------\n",
      "Euler characteristic:  2\n",
      "-------------------------------------\n"
     ]
    }
   ],
   "source": [
    "pers = [0.02,0.04,0.06]\n",
    "red_test = []\n",
    "for thresh in pers:\n",
    "    red = Mesh.ReducedMorseComplex(thresh)\n",
    "    red_test.append(red)\n",
    "    \n",
    "for cplx in Mesh.reducedMorseComplexes:\n",
    "    cplx.info()"
   ]
  }
 ],
 "metadata": {
  "kernelspec": {
   "display_name": "Python 3 (ipykernel)",
   "language": "python",
   "name": "python3"
  },
  "language_info": {
   "codemirror_mode": {
    "name": "ipython",
    "version": 3
   },
   "file_extension": ".py",
   "mimetype": "text/x-python",
   "name": "python",
   "nbconvert_exporter": "python",
   "pygments_lexer": "ipython3",
   "version": "3.9.7"
  }
 },
 "nbformat": 4,
 "nbformat_minor": 5
}
