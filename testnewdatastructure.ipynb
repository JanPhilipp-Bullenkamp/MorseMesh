{
 "cells": [
  {
   "cell_type": "code",
   "execution_count": 1,
   "id": "648001e5",
   "metadata": {},
   "outputs": [],
   "source": [
    "from LoadData.mesh import Mesh"
   ]
  },
  {
   "cell_type": "code",
   "execution_count": 2,
   "id": "c45da0e2",
   "metadata": {},
   "outputs": [],
   "source": [
    "#small\n",
    "filename, quality_index = \"Data/simplicial_donut_3_deform.ply\", 7\n",
    "#medium\n",
    "#filename, quality_index = \"Data/HS_0109_HeiCuBeDa_GigaMesh.ply\", 3\n",
    "#large:\n",
    "#filename, quality_index = \"Data/HS_190_HeiCuBeDa_GigaMesh.ply\", 3"
   ]
  },
  {
   "cell_type": "code",
   "execution_count": 3,
   "id": "5c385732",
   "metadata": {},
   "outputs": [
    {
     "name": "stdout",
     "output_type": "stream",
     "text": [
      "Mesh Info\n",
      "-------------------------------------\n",
      "Filename:  None\n",
      "Number of Vertices:  0\n",
      "Number of Edges:  0\n",
      "Number of Faces:  0\n",
      "-------------------------------------\n"
     ]
    }
   ],
   "source": [
    "Mesh = Mesh()\n",
    "Mesh.info()"
   ]
  },
  {
   "cell_type": "code",
   "execution_count": 4,
   "id": "6df59c4c",
   "metadata": {},
   "outputs": [
    {
     "name": "stdout",
     "output_type": "stream",
     "text": [
      "Time read data file: 0.15628589999999987\n",
      "Time read and prepare data: 0.43816900000000003\n",
      "Mesh Info\n",
      "-------------------------------------\n",
      "Filename:  Data/simplicial_donut_3_deform.ply\n",
      "Number of Vertices:  8364\n",
      "Number of Edges:  25092\n",
      "Number of Faces:  16728\n",
      "-------------------------------------\n",
      "MorseComplex Info\n",
      "-------------------------------------\n",
      "Number of Vertices:  0\n",
      "Number of Edges:  0\n",
      "Number of Faces:  0\n",
      "-------------------------------------\n"
     ]
    }
   ],
   "source": [
    "Mesh.load_mesh_ply(filename, quality_index)\n",
    "Mesh.info()\n",
    "Mesh.info_Morse()"
   ]
  },
  {
   "cell_type": "code",
   "execution_count": 5,
   "id": "7b06f16b",
   "metadata": {},
   "outputs": [
    {
     "name": "stdout",
     "output_type": "stream",
     "text": [
      "0\n"
     ]
    }
   ],
   "source": [
    "print(len(Mesh.Vertices)+len(Mesh.Faces)-len(Mesh.Edges))"
   ]
  },
  {
   "cell_type": "code",
   "execution_count": 6,
   "id": "d1a43e57",
   "metadata": {},
   "outputs": [],
   "source": [
    "#for key, value in Mesh.Vertices.items():\n",
    "#    print(value.star)\n"
   ]
  },
  {
   "cell_type": "code",
   "execution_count": 7,
   "id": "c82d2cc9",
   "metadata": {},
   "outputs": [
    {
     "name": "stdout",
     "output_type": "stream",
     "text": [
      "{frozenset({3, 4}), frozenset({4, 5})}\n"
     ]
    }
   ],
   "source": [
    "a = set()\n",
    "a.add(frozenset([3,4]))\n",
    "a.add(frozenset([4,5]))\n",
    "print(a)"
   ]
  },
  {
   "cell_type": "code",
   "execution_count": 8,
   "id": "e4049a0a",
   "metadata": {},
   "outputs": [
    {
     "name": "stdout",
     "output_type": "stream",
     "text": [
      "fail\n"
     ]
    }
   ],
   "source": [
    "\n",
    "if set([4,3]) in a:\n",
    "    print(\"fail\")"
   ]
  },
  {
   "cell_type": "code",
   "execution_count": 11,
   "id": "2d42f202",
   "metadata": {},
   "outputs": [
    {
     "name": "stdout",
     "output_type": "stream",
     "text": [
      "[2, 3, 6]\n"
     ]
    }
   ],
   "source": [
    "a = [2,6,3]\n",
    "a.sort()\n",
    "print(a)"
   ]
  },
  {
   "cell_type": "code",
   "execution_count": null,
   "id": "c04e4a14",
   "metadata": {},
   "outputs": [],
   "source": []
  }
 ],
 "metadata": {
  "kernelspec": {
   "display_name": "Python 3 (ipykernel)",
   "language": "python",
   "name": "python3"
  },
  "language_info": {
   "codemirror_mode": {
    "name": "ipython",
    "version": 3
   },
   "file_extension": ".py",
   "mimetype": "text/x-python",
   "name": "python",
   "nbconvert_exporter": "python",
   "pygments_lexer": "ipython3",
   "version": "3.9.7"
  }
 },
 "nbformat": 4,
 "nbformat_minor": 5
}
