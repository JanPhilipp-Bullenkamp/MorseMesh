{
 "cells": [
  {
   "cell_type": "code",
   "execution_count": 1,
   "id": "648001e5",
   "metadata": {},
   "outputs": [],
   "source": [
    "from mesh import Mesh\n",
    "from ExtractMorseComplex2 import ExtractMorseComplex2\n",
    "from MorseAlgorithms.ReduceMorseComplex import CancelCriticalPairs2"
   ]
  },
  {
   "cell_type": "code",
   "execution_count": 2,
   "id": "c45da0e2",
   "metadata": {},
   "outputs": [],
   "source": [
    "#minimal\n",
    "#filename, quality_index = \"Data/simplicial_donut_3.ply\", 2\n",
    "#small\n",
    "filename, quality_index = \"Data/simplicial_donut_3_deform.ply\", 2\n",
    "#medium\n",
    "#filename, quality_index = \"Data/HS_0109_HeiCuBeDa_GigaMesh.ply\", 3\n",
    "#large:\n",
    "#filename, quality_index = \"Data/HS_190_HeiCuBeDa_GigaMesh.ply\", 3"
   ]
  },
  {
   "cell_type": "code",
   "execution_count": 3,
   "id": "6df59c4c",
   "metadata": {},
   "outputs": [
    {
     "name": "stdout",
     "output_type": "stream",
     "text": [
      "Time read data file: 0.15937519999999994\n",
      "Time read and prepare data: 0.46958579999999994\n",
      "Mesh Info\n",
      "-------------------------------------\n",
      "Filename:  Data/simplicial_donut_3_deform.ply\n",
      "Number of Vertices:  8364\n",
      "Number of Edges:  25092\n",
      "Number of Faces:  16728\n",
      "-------------------------------------\n",
      "Euler characteristic:  0\n",
      "-------------------------------------\n",
      "MorseComplex Info\n",
      "-------------------------------------\n",
      "Number of Vertices:  0\n",
      "Number of Edges:  0\n",
      "Number of Faces:  0\n",
      "-------------------------------------\n",
      "Euler characteristic:  0\n",
      "-------------------------------------\n"
     ]
    }
   ],
   "source": [
    "Mesh = Mesh()\n",
    "Mesh.load_mesh_ply(filename, quality_index)\n",
    "Mesh.info()\n",
    "Mesh.info_Morse()"
   ]
  },
  {
   "cell_type": "code",
   "execution_count": 4,
   "id": "f3bd0203",
   "metadata": {},
   "outputs": [
    {
     "name": "stdout",
     "output_type": "stream",
     "text": [
      "Time ProcessLowerStar: 0.17951229999999985\n",
      "MorseComplex Info\n",
      "-------------------------------------\n",
      "Number of Vertices:  22\n",
      "Number of Edges:  48\n",
      "Number of Faces:  26\n",
      "-------------------------------------\n",
      "Euler characteristic:  0\n",
      "-------------------------------------\n"
     ]
    }
   ],
   "source": [
    "Mesh.ProcessLowerStars()\n",
    "Mesh.info_Morse()"
   ]
  },
  {
   "cell_type": "code",
   "execution_count": 5,
   "id": "808a1588",
   "metadata": {},
   "outputs": [
    {
     "name": "stdout",
     "output_type": "stream",
     "text": [
      "Time ExtractMorseComplex and Separatrices: 0.1058519\n"
     ]
    }
   ],
   "source": [
    "MorseComplex = Mesh.ExtractMorseComplex()"
   ]
  },
  {
   "cell_type": "code",
   "execution_count": 6,
   "id": "89738047",
   "metadata": {},
   "outputs": [
    {
     "data": {
      "text/plain": [
       "'\\nprint(MorseComplex.CritFaces[2])\\nprint(MorseComplex.CritFaces[2].fun_val)\\nprint(MorseComplex.CritFaces[2].connected_saddles)\\nprint(MorseComplex.CritFaces[2].paths)\\n'"
      ]
     },
     "execution_count": 6,
     "metadata": {},
     "output_type": "execute_result"
    }
   ],
   "source": [
    "'''\n",
    "print(MorseComplex.CritFaces[2])\n",
    "print(MorseComplex.CritFaces[2].fun_val)\n",
    "print(MorseComplex.CritFaces[2].connected_saddles)\n",
    "print(MorseComplex.CritFaces[2].paths)\n",
    "'''"
   ]
  },
  {
   "cell_type": "code",
   "execution_count": 7,
   "id": "2cec9efe",
   "metadata": {},
   "outputs": [
    {
     "data": {
      "text/plain": [
       "'\\nprint(MorseComplex.CritEdges[16])\\nprint(MorseComplex.CritEdges[16].fun_val)\\nprint(MorseComplex.CritEdges[16].connected_minima)\\nprint(MorseComplex.CritEdges[16].connected_maxima)\\nprint(MorseComplex.CritEdges[16].paths)\\nprint(MorseComplex.CritEdges[22])\\nprint(MorseComplex.CritEdges[22].fun_val)\\nprint(MorseComplex.CritEdges[22].connected_minima)\\nprint(MorseComplex.CritEdges[22].connected_maxima)\\nprint(MorseComplex.CritEdges[22].paths)\\n'"
      ]
     },
     "execution_count": 7,
     "metadata": {},
     "output_type": "execute_result"
    }
   ],
   "source": [
    "'''\n",
    "print(MorseComplex.CritEdges[16])\n",
    "print(MorseComplex.CritEdges[16].fun_val)\n",
    "print(MorseComplex.CritEdges[16].connected_minima)\n",
    "print(MorseComplex.CritEdges[16].connected_maxima)\n",
    "print(MorseComplex.CritEdges[16].paths)\n",
    "print(MorseComplex.CritEdges[22])\n",
    "print(MorseComplex.CritEdges[22].fun_val)\n",
    "print(MorseComplex.CritEdges[22].connected_minima)\n",
    "print(MorseComplex.CritEdges[22].connected_maxima)\n",
    "print(MorseComplex.CritEdges[22].paths)\n",
    "'''"
   ]
  },
  {
   "cell_type": "code",
   "execution_count": 8,
   "id": "1ce8d03b",
   "metadata": {},
   "outputs": [
    {
     "data": {
      "text/plain": [
       "'\\nprint(MorseComplex.CritVertices[3])\\nprint(MorseComplex.CritVertices[3].fun_val)\\nprint(MorseComplex.CritVertices[3].connected_saddles)\\n'"
      ]
     },
     "execution_count": 8,
     "metadata": {},
     "output_type": "execute_result"
    }
   ],
   "source": [
    "'''\n",
    "print(MorseComplex.CritVertices[3])\n",
    "print(MorseComplex.CritVertices[3].fun_val)\n",
    "print(MorseComplex.CritVertices[3].connected_saddles)\n",
    "'''"
   ]
  },
  {
   "cell_type": "code",
   "execution_count": 9,
   "id": "6ff3cf6d",
   "metadata": {},
   "outputs": [
    {
     "name": "stdout",
     "output_type": "stream",
     "text": [
      " Length of saddles conn maxima:  1\n",
      " Length of maxs conn saddles:  11\n",
      "Try to remove:  6763\n",
      "ConnSaddles of new max before removing:  [20559, 23416, 6948, 2479, 6763, 22759]\n",
      "ConnSaddles of new max after removing:  [20559, 23416, 6948, 2479, 22759]\n",
      "Try to remove:  6763\n",
      "ConnSaddles of new max before removing:  [20559, 23416, 6948, 2479, 22759, 3210]\n",
      "ConnSaddles of new max after removing:  [20559, 23416, 6948, 2479, 22759, 3210]\n",
      "Try to remove:  6763\n",
      "ConnSaddles of new max before removing:  [20559, 23416, 6948, 2479, 22759, 3210, 6763]\n",
      "ConnSaddles of new max after removing:  [20559, 23416, 6948, 2479, 22759, 3210]\n",
      "Try to remove:  6763\n",
      "ConnSaddles of new max before removing:  [20559, 23416, 6948, 2479, 22759, 3210, 24907]\n",
      "ConnSaddles of new max after removing:  [20559, 23416, 6948, 2479, 22759, 3210, 24907]\n",
      "Try to remove:  6763\n",
      "ConnSaddles of new max before removing:  [20559, 23416, 6948, 2479, 22759, 3210, 24907, 11471]\n",
      "ConnSaddles of new max after removing:  [20559, 23416, 6948, 2479, 22759, 3210, 24907, 11471]\n",
      "Try to remove:  6763\n",
      "ConnSaddles of new max before removing:  [20559, 23416, 6948, 2479, 22759, 3210, 24907, 11471, 2479]\n",
      "ConnSaddles of new max after removing:  [20559, 23416, 6948, 2479, 22759, 3210, 24907, 11471, 2479]\n",
      "Try to remove:  6763\n",
      "ConnSaddles of new max before removing:  [20559, 23416, 6948, 2479, 22759, 3210, 24907, 11471, 2479, 7185]\n",
      "ConnSaddles of new max after removing:  [20559, 23416, 6948, 2479, 22759, 3210, 24907, 11471, 2479, 7185]\n",
      "Try to remove:  6763\n",
      "ConnSaddles of new max before removing:  [20559, 23416, 6948, 2479, 22759, 3210, 24907, 11471, 2479, 7185, 17650]\n",
      "ConnSaddles of new max after removing:  [20559, 23416, 6948, 2479, 22759, 3210, 24907, 11471, 2479, 7185, 17650]\n",
      "Try to remove:  6763\n",
      "ConnSaddles of new max before removing:  [20559, 23416, 6948, 2479, 22759, 3210, 24907, 11471, 2479, 7185, 17650, 6993]\n",
      "ConnSaddles of new max after removing:  [20559, 23416, 6948, 2479, 22759, 3210, 24907, 11471, 2479, 7185, 17650, 6993]\n",
      "Try to remove:  6763\n",
      "ConnSaddles of new max before removing:  [20559, 23416, 6948, 2479, 22759, 3210, 24907, 11471, 2479, 7185, 17650, 6993, 23416]\n",
      "ConnSaddles of new max after removing:  [20559, 23416, 6948, 2479, 22759, 3210, 24907, 11471, 2479, 7185, 17650, 6993, 23416]\n",
      "saddle:  6763  and max  2259  were cancelled\n",
      "-----------------------------------------------------------------\n",
      "////////////////////////////////////////////////////////////\n",
      "SHOULDNT HAVE WORKED!\n",
      "MAx:  2259  was in edge  7185\n",
      "////////////////////////////////////////////////////////////\n",
      " Length of saddles conn maxima:  1\n",
      " Length of maxs conn saddles:  6\n",
      "Try to remove:  4166\n",
      "ConnSaddles of new max before removing:  [17202, 6948, 6952, 20559, 4166, 16146, 24033]\n",
      "ConnSaddles of new max after removing:  [17202, 6948, 6952, 20559, 16146, 24033]\n",
      "Try to remove:  4166\n",
      "ConnSaddles of new max before removing:  [17202, 6948, 6952, 20559, 16146, 24033, 24036]\n",
      "ConnSaddles of new max after removing:  [17202, 6948, 6952, 20559, 16146, 24033, 24036]\n",
      "Try to remove:  4166\n",
      "ConnSaddles of new max before removing:  [17202, 6948, 6952, 20559, 16146, 24033, 24036, 4166]\n",
      "ConnSaddles of new max after removing:  [17202, 6948, 6952, 20559, 16146, 24033, 24036]\n",
      "Try to remove:  4166\n",
      "ConnSaddles of new max before removing:  [17202, 6948, 6952, 20559, 16146, 24033, 24036, 10699]\n",
      "ConnSaddles of new max after removing:  [17202, 6948, 6952, 20559, 16146, 24033, 24036, 10699]\n",
      "Try to remove:  4166\n",
      "ConnSaddles of new max before removing:  [17202, 6948, 6952, 20559, 16146, 24033, 24036, 10699, 23538]\n",
      "ConnSaddles of new max after removing:  [17202, 6948, 6952, 20559, 16146, 24033, 24036, 10699, 23538]\n",
      "Try to remove:  4166\n",
      "ConnSaddles of new max before removing:  [17202, 6948, 6952, 20559, 16146, 24033, 24036, 10699, 23538, 19835]\n",
      "ConnSaddles of new max after removing:  [17202, 6948, 6952, 20559, 16146, 24033, 24036, 10699, 23538, 19835]\n",
      "saddle:  4166  and max  1390  were cancelled\n",
      "-----------------------------------------------------------------\n",
      " Length of saddles conn maxima:  1\n",
      " Length of maxs conn saddles:  2\n",
      "Try to remove:  17650\n",
      "ConnSaddles of new max before removing:  [20559, 23416, 6948, 2479, 22759, 11471, 2479, 7185, 17650, 6993, 23416, 6993]\n",
      "ConnSaddles of new max after removing:  [20559, 23416, 6948, 2479, 22759, 11471, 2479, 7185, 6993, 23416, 6993]\n",
      "Try to remove:  17650\n",
      "ConnSaddles of new max before removing:  [20559, 23416, 6948, 2479, 22759, 11471, 2479, 7185, 6993, 23416, 6993, 17650]\n",
      "ConnSaddles of new max after removing:  [20559, 23416, 6948, 2479, 22759, 11471, 2479, 7185, 6993, 23416, 6993]\n",
      "saddle:  17650  and max  6827  were cancelled\n",
      "-----------------------------------------------------------------\n",
      " Length of saddles conn maxima:  1\n",
      " Length of maxs conn saddles:  1\n",
      "Try to remove:  18010\n",
      "ConnSaddles of new max before removing:  [22759, 18010, 24573, 18010]\n",
      "ConnSaddles of new max after removing:  [22759, 24573, 18010]\n",
      "saddle:  18010  and max  14937  were cancelled\n",
      "-----------------------------------------------------------------\n",
      "////////////////////////////////////////////////////////////\n",
      "SHOULDNT HAVE WORKED!\n",
      "saddle:  18010  was in vertex  7322\n",
      "////////////////////////////////////////////////////////////\n",
      "////////////////////////////////////////////////////////////\n",
      "SHOULDNT HAVE WORKED!\n",
      "sadd:  18010  was in max  14935\n",
      "////////////////////////////////////////////////////////////\n",
      " Length of saddles conn maxima:  1\n",
      " Length of maxs conn saddles:  3\n",
      "Try to remove:  4007\n",
      "ConnSaddles of new max before removing:  [14835, 12865, 19651, 4007, 24573]\n",
      "ConnSaddles of new max after removing:  [14835, 12865, 19651, 24573]\n",
      "Try to remove:  4007\n",
      "ConnSaddles of new max before removing:  [14835, 12865, 19651, 24573, 7662]\n",
      "ConnSaddles of new max after removing:  [14835, 12865, 19651, 24573, 7662]\n",
      "Try to remove:  4007\n",
      "ConnSaddles of new max before removing:  [14835, 12865, 19651, 24573, 7662, 4007]\n",
      "ConnSaddles of new max after removing:  [14835, 12865, 19651, 24573, 7662]\n",
      "saddle:  4007  and max  8136  were cancelled\n",
      "-----------------------------------------------------------------\n",
      " Length of saddles conn maxima:  1\n",
      " Length of maxs conn saddles:  4\n",
      "Try to remove:  5755\n",
      "ConnSaddles of new max before removing:  [19821, 14835, 5755, 12896, 21392]\n",
      "ConnSaddles of new max after removing:  [19821, 14835, 12896, 21392]\n",
      "Try to remove:  5755\n",
      "ConnSaddles of new max before removing:  [19821, 14835, 12896, 21392, 5755]\n",
      "ConnSaddles of new max after removing:  [19821, 14835, 12896, 21392]\n",
      "Try to remove:  5755\n",
      "ConnSaddles of new max before removing:  [19821, 14835, 12896, 21392, 7644]\n",
      "ConnSaddles of new max after removing:  [19821, 14835, 12896, 21392, 7644]\n",
      "Try to remove:  5755\n",
      "ConnSaddles of new max before removing:  [19821, 14835, 12896, 21392, 7644, 18708]\n",
      "ConnSaddles of new max after removing:  [19821, 14835, 12896, 21392, 7644, 18708]\n",
      "saddle:  5755  and max  9711  were cancelled\n",
      "-----------------------------------------------------------------\n",
      " Length of saddles conn maxima:  1\n",
      " Length of maxs conn saddles:  2\n",
      "Try to remove:  10128\n",
      "ConnSaddles of new max before removing:  [23400, 16146, 16149, 10128, 10128]\n",
      "ConnSaddles of new max after removing:  [23400, 16146, 16149, 10128]\n",
      "Try to remove:  10128\n",
      "ConnSaddles of new max before removing:  [23400, 16146, 16149, 10128, 6952]\n",
      "ConnSaddles of new max after removing:  [23400, 16146, 16149, 6952]\n",
      "saddle:  10128  and max  13502  were cancelled\n",
      "-----------------------------------------------------------------\n",
      " Length of saddles conn maxima:  1\n",
      " Length of maxs conn saddles:  2\n",
      "Try to remove:  1358\n",
      "ConnSaddles of new max before removing:  [18752, 1358, 21392]\n",
      "ConnSaddles of new max after removing:  [18752, 21392]\n",
      "Try to remove:  1358\n",
      "ConnSaddles of new max before removing:  [18752, 21392, 1358]\n",
      "ConnSaddles of new max after removing:  [18752, 21392]\n",
      "saddle:  1358  and max  5778  were cancelled\n",
      "-----------------------------------------------------------------\n",
      " Length of saddles conn maxima:  1\n",
      " Length of maxs conn saddles:  3\n",
      "Try to remove:  7644\n",
      "ConnSaddles of new max before removing:  [19821, 14835, 12896, 21392, 7644, 18708, 14829]\n",
      "ConnSaddles of new max after removing:  [19821, 14835, 12896, 21392, 18708, 14829]\n",
      "Try to remove:  7644\n",
      "ConnSaddles of new max before removing:  [19821, 14835, 12896, 21392, 18708, 14829, 7644]\n",
      "ConnSaddles of new max after removing:  [19821, 14835, 12896, 21392, 18708, 14829]\n",
      "Try to remove:  7644\n",
      "ConnSaddles of new max before removing:  [19821, 14835, 12896, 21392, 18708, 14829, 18708]\n",
      "ConnSaddles of new max after removing:  [19821, 14835, 12896, 21392, 18708, 14829, 18708]\n",
      "saddle:  7644  and max  2554  were cancelled\n",
      "-----------------------------------------------------------------\n",
      " Length of saddles conn maxima:  1\n",
      " Length of maxs conn saddles:  2\n",
      "Try to remove:  16149\n",
      "ConnSaddles of new max before removing:  [23400, 16146, 16149, 6952, 19835]\n",
      "ConnSaddles of new max after removing:  [23400, 16146, 6952, 19835]\n",
      "Try to remove:  16149\n",
      "ConnSaddles of new max before removing:  [23400, 16146, 6952, 19835, 16149]\n",
      "ConnSaddles of new max after removing:  [23400, 16146, 6952, 19835]\n",
      "saddle:  16149  and max  11861  were cancelled\n",
      "-----------------------------------------------------------------\n",
      " Length of saddles conn maxima:  1\n",
      " Length of maxs conn saddles:  2\n",
      "Try to remove:  18752\n",
      "ConnSaddles of new max before removing:  [18752, 1426, 18752]\n",
      "ConnSaddles of new max after removing:  [1426, 18752]\n",
      "Try to remove:  18752\n",
      "ConnSaddles of new max before removing:  [1426, 18752, 21392]\n",
      "ConnSaddles of new max after removing:  [1426, 21392]\n",
      "saddle:  18752  and max  7440  were cancelled\n",
      "-----------------------------------------------------------------\n",
      " Length of saddles conn maxima:  1\n",
      " Length of maxs conn saddles:  7\n",
      "Try to remove:  19821\n",
      "ConnSaddles of new max before removing:  [8108, 9325, 24025, 19821, 12896]\n",
      "ConnSaddles of new max after removing:  [8108, 9325, 24025, 12896]\n",
      "Try to remove:  19821\n",
      "ConnSaddles of new max before removing:  [8108, 9325, 24025, 12896, 19821]\n",
      "ConnSaddles of new max after removing:  [8108, 9325, 24025, 12896]\n",
      "Try to remove:  19821\n",
      "ConnSaddles of new max before removing:  [8108, 9325, 24025, 12896, 14829]\n",
      "ConnSaddles of new max after removing:  [8108, 9325, 24025, 12896, 14829]\n",
      "Try to remove:  19821\n",
      "ConnSaddles of new max before removing:  [8108, 9325, 24025, 12896, 14829, 21392]\n",
      "ConnSaddles of new max after removing:  [8108, 9325, 24025, 12896, 14829, 21392]\n",
      "Try to remove:  19821\n",
      "ConnSaddles of new max before removing:  [8108, 9325, 24025, 12896, 14829, 21392, 14835]\n",
      "ConnSaddles of new max after removing:  [8108, 9325, 24025, 12896, 14829, 21392, 14835]\n",
      "Try to remove:  19821\n",
      "ConnSaddles of new max before removing:  [8108, 9325, 24025, 12896, 14829, 21392, 14835, 18708]\n",
      "ConnSaddles of new max after removing:  [8108, 9325, 24025, 12896, 14829, 21392, 14835, 18708]\n",
      "saddle:  19821  and max  8276  were cancelled\n",
      "-----------------------------------------------------------------\n",
      "////////////////////////////////////////////////////////////\n",
      "SHOULDNT HAVE WORKED!\n",
      "MAx:  8276  was in edge  18708\n",
      "////////////////////////////////////////////////////////////\n",
      "////////////////////////////////////////////////////////////\n",
      "SHOULDNT HAVE WORKED!\n",
      "saddle:  19821  was in vertex  6011\n",
      "////////////////////////////////////////////////////////////\n",
      " Length of saddles conn maxima:  1\n",
      " Length of maxs conn saddles:  9\n",
      "Try to remove:  20559\n",
      "ConnSaddles of new max before removing:  [6948, 6952, 20559, 16146, 24036, 6948]\n",
      "ConnSaddles of new max after removing:  [6948, 6952, 16146, 24036, 6948]\n",
      "Try to remove:  20559\n",
      "ConnSaddles of new max before removing:  [6948, 6952, 16146, 24036, 6948, 22759]\n",
      "ConnSaddles of new max after removing:  [6948, 6952, 16146, 24036, 6948, 22759]\n"
     ]
    },
    {
     "ename": "KeyError",
     "evalue": "2479",
     "output_type": "error",
     "traceback": [
      "\u001b[1;31m---------------------------------------------------------------------------\u001b[0m",
      "\u001b[1;31mKeyError\u001b[0m                                  Traceback (most recent call last)",
      "\u001b[1;32m~\\AppData\\Local\\Temp/ipykernel_18976/174745860.py\u001b[0m in \u001b[0;36m<module>\u001b[1;34m\u001b[0m\n\u001b[1;32m----> 1\u001b[1;33m \u001b[0mCancelCriticalPairs2\u001b[0m\u001b[1;33m(\u001b[0m\u001b[0mMorseComplex\u001b[0m\u001b[1;33m,\u001b[0m \u001b[1;36m0.02\u001b[0m\u001b[1;33m)\u001b[0m\u001b[1;33m\u001b[0m\u001b[1;33m\u001b[0m\u001b[0m\n\u001b[0m",
      "\u001b[1;32m~\\Documents\\MorseTheory\\MorseAlgorithms\\ReduceMorseComplex.py\u001b[0m in \u001b[0;36mCancelCriticalPairs2\u001b[1;34m(MorseComplex, threshold)\u001b[0m\n\u001b[0;32m    300\u001b[0m             \u001b[0mclosest\u001b[0m\u001b[1;33m,\u001b[0m \u001b[0mdim\u001b[0m\u001b[1;33m,\u001b[0m \u001b[0mdist\u001b[0m \u001b[1;33m=\u001b[0m \u001b[0mcheck\u001b[0m\u001b[1;33m\u001b[0m\u001b[1;33m\u001b[0m\u001b[0m\n\u001b[0;32m    301\u001b[0m             \u001b[1;32mif\u001b[0m \u001b[0mdist\u001b[0m \u001b[1;33m<=\u001b[0m \u001b[0mCancelPairs\u001b[0m\u001b[1;33m.\u001b[0m\u001b[0mcheck_distance\u001b[0m\u001b[1;33m(\u001b[0m\u001b[1;33m)\u001b[0m\u001b[1;33m:\u001b[0m\u001b[1;33m\u001b[0m\u001b[1;33m\u001b[0m\u001b[0m\n\u001b[1;32m--> 302\u001b[1;33m                 \u001b[0mcancel_one_critical_pair\u001b[0m\u001b[1;33m(\u001b[0m\u001b[0msaddle\u001b[0m\u001b[1;33m,\u001b[0m \u001b[0mclosest\u001b[0m\u001b[1;33m,\u001b[0m \u001b[0mdim\u001b[0m\u001b[1;33m,\u001b[0m \u001b[0mMorseComplex\u001b[0m\u001b[1;33m)\u001b[0m\u001b[1;33m\u001b[0m\u001b[1;33m\u001b[0m\u001b[0m\n\u001b[0m\u001b[0;32m    303\u001b[0m             \u001b[1;32melse\u001b[0m\u001b[1;33m:\u001b[0m\u001b[1;33m\u001b[0m\u001b[1;33m\u001b[0m\u001b[0m\n\u001b[0;32m    304\u001b[0m                 \u001b[0mCancelPairs\u001b[0m\u001b[1;33m.\u001b[0m\u001b[0minsert\u001b[0m\u001b[1;33m(\u001b[0m\u001b[0mtuple\u001b[0m\u001b[1;33m(\u001b[0m\u001b[1;33m(\u001b[0m\u001b[0mdist\u001b[0m\u001b[1;33m,\u001b[0m\u001b[0msaddle\u001b[0m\u001b[1;33m)\u001b[0m\u001b[1;33m)\u001b[0m\u001b[1;33m)\u001b[0m\u001b[1;33m\u001b[0m\u001b[1;33m\u001b[0m\u001b[0m\n",
      "\u001b[1;32m~\\Documents\\MorseTheory\\MorseAlgorithms\\ReduceMorseComplex.py\u001b[0m in \u001b[0;36mcancel_one_critical_pair\u001b[1;34m(saddle, extremum, dim, MorseComplex)\u001b[0m\n\u001b[0;32m    104\u001b[0m             \u001b[1;32mfor\u001b[0m \u001b[0mmax_index\u001b[0m \u001b[1;32min\u001b[0m \u001b[0mset\u001b[0m\u001b[1;33m(\u001b[0m\u001b[0msaddle\u001b[0m\u001b[1;33m.\u001b[0m\u001b[0mconnected_maxima\u001b[0m\u001b[1;33m)\u001b[0m\u001b[1;33m:\u001b[0m\u001b[1;33m\u001b[0m\u001b[1;33m\u001b[0m\u001b[0m\n\u001b[0;32m    105\u001b[0m                 \u001b[1;31m# add saddle to max and max to saddle, for the new connection\u001b[0m\u001b[1;33m\u001b[0m\u001b[1;33m\u001b[0m\u001b[0m\n\u001b[1;32m--> 106\u001b[1;33m                 \u001b[0mMorseComplex\u001b[0m\u001b[1;33m.\u001b[0m\u001b[0mCritEdges\u001b[0m\u001b[1;33m[\u001b[0m\u001b[0msad_index\u001b[0m\u001b[1;33m]\u001b[0m\u001b[1;33m.\u001b[0m\u001b[0mconnected_maxima\u001b[0m\u001b[1;33m.\u001b[0m\u001b[0mappend\u001b[0m\u001b[1;33m(\u001b[0m\u001b[0mmax_index\u001b[0m\u001b[1;33m)\u001b[0m\u001b[1;33m\u001b[0m\u001b[1;33m\u001b[0m\u001b[0m\n\u001b[0m\u001b[0;32m    107\u001b[0m                 \u001b[0mMorseComplex\u001b[0m\u001b[1;33m.\u001b[0m\u001b[0mCritFaces\u001b[0m\u001b[1;33m[\u001b[0m\u001b[0mmax_index\u001b[0m\u001b[1;33m]\u001b[0m\u001b[1;33m.\u001b[0m\u001b[0mconnected_saddles\u001b[0m\u001b[1;33m.\u001b[0m\u001b[0mappend\u001b[0m\u001b[1;33m(\u001b[0m\u001b[0msad_index\u001b[0m\u001b[1;33m)\u001b[0m\u001b[1;33m\u001b[0m\u001b[1;33m\u001b[0m\u001b[0m\n\u001b[0;32m    108\u001b[0m                 \u001b[1;31m# save the new path to the saddle. Path is:\u001b[0m\u001b[1;33m\u001b[0m\u001b[1;33m\u001b[0m\u001b[0m\n",
      "\u001b[1;31mKeyError\u001b[0m: 2479"
     ]
    }
   ],
   "source": [
    "CancelCriticalPairs2(MorseComplex, 0.02)"
   ]
  },
  {
   "cell_type": "code",
   "execution_count": null,
   "id": "d0c77549",
   "metadata": {},
   "outputs": [],
   "source": [
    "#print(Mesh.C[0])"
   ]
  },
  {
   "cell_type": "code",
   "execution_count": null,
   "id": "e3023be5",
   "metadata": {},
   "outputs": [],
   "source": [
    "#print(Mesh.C[1])"
   ]
  },
  {
   "cell_type": "code",
   "execution_count": null,
   "id": "59c6c5fe",
   "metadata": {},
   "outputs": [],
   "source": [
    "#print(Mesh.C[2])"
   ]
  },
  {
   "cell_type": "code",
   "execution_count": null,
   "id": "7b06f16b",
   "metadata": {},
   "outputs": [],
   "source": [
    "print(len(Mesh.C[0])+len(Mesh.C[2])-len(Mesh.C[1]))"
   ]
  }
 ],
 "metadata": {
  "kernelspec": {
   "display_name": "Python 3 (ipykernel)",
   "language": "python",
   "name": "python3"
  },
  "language_info": {
   "codemirror_mode": {
    "name": "ipython",
    "version": 3
   },
   "file_extension": ".py",
   "mimetype": "text/x-python",
   "name": "python",
   "nbconvert_exporter": "python",
   "pygments_lexer": "ipython3",
   "version": "3.9.7"
  }
 },
 "nbformat": 4,
 "nbformat_minor": 5
}
