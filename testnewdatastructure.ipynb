{
 "cells": [
  {
   "cell_type": "code",
   "execution_count": 1,
   "id": "648001e5",
   "metadata": {},
   "outputs": [],
   "source": [
    "from mesh import Mesh\n",
    "from ExtractMorseComplex2 import ExtractMorseComplex2"
   ]
  },
  {
   "cell_type": "code",
   "execution_count": 2,
   "id": "c45da0e2",
   "metadata": {},
   "outputs": [],
   "source": [
    "#minimal\n",
    "#filename, quality_index = \"Data/simplicial_donut_3.ply\", 2\n",
    "#small\n",
    "#filename, quality_index = \"Data/simplicial_donut_3_deform.ply\", 2\n",
    "#medium\n",
    "filename, quality_index = \"Data/HS_0109_HeiCuBeDa_GigaMesh.ply\", 3\n",
    "#large:\n",
    "#filename, quality_index = \"Data/HS_190_HeiCuBeDa_GigaMesh.ply\", 3"
   ]
  },
  {
   "cell_type": "code",
   "execution_count": 3,
   "id": "6df59c4c",
   "metadata": {},
   "outputs": [
    {
     "name": "stdout",
     "output_type": "stream",
     "text": [
      "Time read data file: 5.3776928\n",
      "Time read and prepare data: 28.6898887\n",
      "Mesh Info\n",
      "-------------------------------------\n",
      "Filename:  Data/HS_0109_HeiCuBeDa_GigaMesh.ply\n",
      "Number of Vertices:  559767\n",
      "Number of Edges:  1679295\n",
      "Number of Faces:  1119530\n",
      "-------------------------------------\n",
      "Euler characteristic:  2\n",
      "-------------------------------------\n",
      "MorseComplex Info\n",
      "-------------------------------------\n",
      "Number of Vertices:  0\n",
      "Number of Edges:  0\n",
      "Number of Faces:  0\n",
      "-------------------------------------\n",
      "Euler characteristic:  0\n",
      "-------------------------------------\n"
     ]
    }
   ],
   "source": [
    "Mesh = Mesh()\n",
    "Mesh.load_mesh_ply(filename, quality_index)\n",
    "Mesh.info()\n",
    "Mesh.info_Morse()"
   ]
  },
  {
   "cell_type": "code",
   "execution_count": 4,
   "id": "f3bd0203",
   "metadata": {},
   "outputs": [
    {
     "name": "stdout",
     "output_type": "stream",
     "text": [
      "Time ProcessLowerStar: 14.627487200000001\n",
      "MorseComplex Info\n",
      "-------------------------------------\n",
      "Number of Vertices:  29135\n",
      "Number of Edges:  57819\n",
      "Number of Faces:  28686\n",
      "-------------------------------------\n",
      "Euler characteristic:  2\n",
      "-------------------------------------\n"
     ]
    }
   ],
   "source": [
    "Mesh.ProcessLowerStars()\n",
    "Mesh.info_Morse()"
   ]
  },
  {
   "cell_type": "code",
   "execution_count": 5,
   "id": "808a1588",
   "metadata": {},
   "outputs": [
    {
     "name": "stdout",
     "output_type": "stream",
     "text": [
      "Time ExtractMorseComplex and Separatrices: 8.860739099999996\n"
     ]
    }
   ],
   "source": [
    "MorseComplex = Mesh.ExtractMorseComplex()"
   ]
  },
  {
   "cell_type": "code",
   "execution_count": 6,
   "id": "6ff3cf6d",
   "metadata": {},
   "outputs": [
    {
     "name": "stdout",
     "output_type": "stream",
     "text": [
      "[0.15877102, 0.15468122, 0.13902906]\n"
     ]
    }
   ],
   "source": [
    "print(MorseComplex.CritFaces[917510].fun_val)"
   ]
  },
  {
   "cell_type": "code",
   "execution_count": 7,
   "id": "d0c77549",
   "metadata": {},
   "outputs": [],
   "source": [
    "#print(Mesh.C[0])"
   ]
  },
  {
   "cell_type": "code",
   "execution_count": 8,
   "id": "e3023be5",
   "metadata": {},
   "outputs": [],
   "source": [
    "#print(Mesh.C[1])"
   ]
  },
  {
   "cell_type": "code",
   "execution_count": 9,
   "id": "59c6c5fe",
   "metadata": {},
   "outputs": [],
   "source": [
    "#print(Mesh.C[2])"
   ]
  },
  {
   "cell_type": "code",
   "execution_count": 10,
   "id": "7b06f16b",
   "metadata": {},
   "outputs": [
    {
     "name": "stdout",
     "output_type": "stream",
     "text": [
      "2\n"
     ]
    }
   ],
   "source": [
    "print(len(Mesh.C[0])+len(Mesh.C[2])-len(Mesh.C[1]))"
   ]
  }
 ],
 "metadata": {
  "kernelspec": {
   "display_name": "Python 3 (ipykernel)",
   "language": "python",
   "name": "python3"
  },
  "language_info": {
   "codemirror_mode": {
    "name": "ipython",
    "version": 3
   },
   "file_extension": ".py",
   "mimetype": "text/x-python",
   "name": "python",
   "nbconvert_exporter": "python",
   "pygments_lexer": "ipython3",
   "version": "3.9.7"
  }
 },
 "nbformat": 4,
 "nbformat_minor": 5
}
