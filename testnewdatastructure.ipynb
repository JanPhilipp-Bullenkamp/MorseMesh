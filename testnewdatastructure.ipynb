{
 "cells": [
  {
   "cell_type": "code",
   "execution_count": 1,
   "id": "648001e5",
   "metadata": {},
   "outputs": [],
   "source": [
    "from mesh import Mesh"
   ]
  },
  {
   "cell_type": "code",
   "execution_count": 2,
   "id": "c45da0e2",
   "metadata": {},
   "outputs": [],
   "source": [
    "#minimal\n",
    "#filename, quality_index = \"Data/simplicial_donut_3.ply\", 2\n",
    "#small\n",
    "#filename, quality_index = \"Data/simplicial_donut_3_deform.ply\", 2\n",
    "#filename, quality_index = \"Data/31_r1.00_n4_v256.volume.ply\", 3\n",
    "#medium\n",
    "filename, quality_index = \"Data/HS_0109_HeiCuBeDa_GigaMesh.ply\", 3\n",
    "#large:\n",
    "#filename, quality_index = \"Data/HS_190_HeiCuBeDa_GigaMesh.ply\", 3"
   ]
  },
  {
   "cell_type": "code",
   "execution_count": 3,
   "id": "6df59c4c",
   "metadata": {},
   "outputs": [
    {
     "name": "stdout",
     "output_type": "stream",
     "text": [
      "Time read data file: 4.9359539\n",
      "Time read and prepare data: 27.5742577\n",
      "Mesh Info\n",
      "-------------------------------------\n",
      "Filename:  Data/HS_0109_HeiCuBeDa_GigaMesh\n",
      "Number of Vertices:  559767\n",
      "Number of Edges:  1679295\n",
      "Number of Faces:  1119530\n",
      "-------------------------------------\n",
      "Euler characteristic:  2\n",
      "-------------------------------------\n"
     ]
    }
   ],
   "source": [
    "Mesh = Mesh()\n",
    "Mesh.load_mesh_ply(filename, quality_index)\n",
    "Mesh.info()"
   ]
  },
  {
   "cell_type": "code",
   "execution_count": 4,
   "id": "808a1588",
   "metadata": {},
   "outputs": [
    {
     "name": "stdout",
     "output_type": "stream",
     "text": [
      "Time ProcessLowerStar: 14.909265399999999\n",
      "Time ExtractMorseComplex and Separatrices: 8.5053001\n",
      "MorseComplex Info\n",
      "-------------------------------------\n",
      "Filename:  Data/HS_0109_HeiCuBeDa_GigaMesh\n",
      "Number of Vertices:  29135\n",
      "Number of Edges:  57819\n",
      "Number of Faces:  28686\n",
      "-------------------------------------\n",
      "Euler characteristic:  2\n",
      "-------------------------------------\n"
     ]
    }
   ],
   "source": [
    "Mesh.ProcessLowerStars()\n",
    "Mesh.ExtractMorseComplex()\n",
    "Mesh.MorseComplex.info()"
   ]
  },
  {
   "cell_type": "code",
   "execution_count": 5,
   "id": "6ff3cf6d",
   "metadata": {},
   "outputs": [
    {
     "name": "stdout",
     "output_type": "stream",
     "text": [
      "Time cancel critical points with  0.04  persistence:  8.2026227\n",
      "Calculated reduced complex ( 0.06 ) from closest smaller already calculated persistence:  0.04\n",
      "Time cancel critical points with  0.06  persistence:  2.262670799999995\n",
      "Calculated reduced complex ( 0.08 ) from closest smaller already calculated persistence:  0.06\n",
      "Time cancel critical points with  0.08  persistence:  2.9323108999999974\n",
      "Calculated reduced complex ( 0.1 ) from closest smaller already calculated persistence:  0.08\n",
      "Time cancel critical points with  0.1  persistence:  2.410615199999995\n",
      "Calculated reduced complex ( 0.15 ) from closest smaller already calculated persistence:  0.1\n",
      "Time cancel critical points with  0.15  persistence:  2.4035214000000025\n",
      "Time writing overlay file: 8.484735799999996\n",
      "Time writing overlay file: 8.032371099999992\n",
      "Time writing overlay file: 7.066638900000001\n",
      "Time writing overlay file: 6.382864399999988\n",
      "Time writing overlay file: 8.317754899999997\n"
     ]
    }
   ],
   "source": [
    "persistences = [0.04, 0.06, 0.08, 0.1, 0.15]\n",
    "for thresh in persistences:\n",
    "    Mesh.ReducedMorseComplex(thresh)\n",
    "    \n",
    "for persistence, reduced_complex in Mesh.reducedMorseComplexes.items():\n",
    "    #reduced_complex.info()\n",
    "    Mesh.plot_MorseComplex(reduced_complex, str(reduced_complex.filename)+\"_\"+str(persistence))"
   ]
  },
  {
   "cell_type": "code",
   "execution_count": null,
   "id": "94652611",
   "metadata": {},
   "outputs": [],
   "source": []
  }
 ],
 "metadata": {
  "kernelspec": {
   "display_name": "Python 3 (ipykernel)",
   "language": "python",
   "name": "python3"
  },
  "language_info": {
   "codemirror_mode": {
    "name": "ipython",
    "version": 3
   },
   "file_extension": ".py",
   "mimetype": "text/x-python",
   "name": "python",
   "nbconvert_exporter": "python",
   "pygments_lexer": "ipython3",
   "version": "3.9.7"
  }
 },
 "nbformat": 4,
 "nbformat_minor": 5
}
