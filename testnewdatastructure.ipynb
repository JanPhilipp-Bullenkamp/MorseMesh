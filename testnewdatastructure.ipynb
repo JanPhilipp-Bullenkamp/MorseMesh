{
 "cells": [
  {
   "cell_type": "code",
   "execution_count": 1,
   "id": "648001e5",
   "metadata": {},
   "outputs": [],
   "source": [
    "from mesh import Mesh"
   ]
  },
  {
   "cell_type": "code",
   "execution_count": 2,
   "id": "c45da0e2",
   "metadata": {},
   "outputs": [],
   "source": [
    "#minimal\n",
    "#filename, quality_index = \"Data/simplicial_donut_3.ply\", 2\n",
    "#small\n",
    "filename, quality_index = \"Data/simplicial_donut_3_deform.ply\", 2\n",
    "#filename, quality_index = \"Data/31_r1.00_n4_v256.volume.ply\", 3\n",
    "#filename, quality_index = \"Data/31_mean_curvature.ply\", 7\n",
    "#medium\n",
    "#filename, quality_index = \"Data/HS_0109_HeiCuBeDa_GigaMesh.ply\", 3\n",
    "#filename, quality_index = \"Data/HS_0109_HeiCuBeDa_GigaMesh_mean_curvature.ply\", 7\n",
    "#large:\n",
    "#filename, quality_index = \"Data/HS_190_HeiCuBeDa_GigaMesh.ply\", 3"
   ]
  },
  {
   "cell_type": "markdown",
   "id": "8dfc7491",
   "metadata": {},
   "source": [
    "# Mesh class:\n",
    "The Mesh class can be initialized using **Mesh()** . It has the following variables and functions:\n",
    "\n",
    "## Variables:\n",
    "- **Mesh.filename** filename as string. saved without .ply, but with folder structure\n",
    "\n",
    "- **Mesh.Vertices** Vertices stored as a dictionary of Vertex objects, keys are Vertex indices\n",
    "\n",
    "- **Mesh.Edges** Edges stored as a dictionary of Edge objects, keys are numbered\n",
    "\n",
    "- **Mesh.Faces** Faces stored as a dictionary of Face objects, keys are numbered\n",
    "\n",
    "- **Mesh.MorseComplex** if not calculated yet: None, otherwise a MorseComplex object with MorseComplex.persistence = 0\n",
    "\n",
    "- **Mesh.reducedMorseComplexes** a dictionary of MorseComplex objects, that have been reduced by a persistence parameter. The persistence parameter also defines the key of each MorseComplex object\n",
    "\n",
    "- **Mesh.MorseCells** a dictionary of MorseCells dictionaries. the key for each MorseCell dictionary is given by the persistence of the MorseComplex, these Cells were taken from. Each MorseCell dictionary consits of key, value pairs, where the key gives the label of a cell and the value is a set of vertices that make up this cell.\n",
    "\n",
    "## Functions:\n",
    "- **Mesh.load_mesh_ply(filename, quality_index)** loads a .ply file into the Mesh class and takes the value given at quality_index position as the scalar function on the vertices\n",
    "\n",
    "- **Mesh.info()** prints out Mesh info\n",
    "\n",
    "- **Mesh.ProcessLowerStars()** calculates the combinatorial gradient and critical simplices; **required for ExtractMorseComplex**\n",
    "\n",
    "- **Mesh.only_return_ExtractMorseComplex** return MorseComplex without storing it in the Mesh class\n",
    "\n",
    "- **Mesh.ExtractMorseComplex** calculate MorseComplex and store it in the Mesh class\n",
    "\n",
    "- **Mesh.only_return_ReducedMorseComplex(persistence)** reduce the MorseComplex based on the given persistence parameter, but dont store it in the Mesh class\n",
    "\n",
    "- **Mesh.ReducedMorseComplex(persistence)** reduce the MorseComplex based on the given persistence parameter, and store it in the Mesh class\n",
    "\n",
    "- **Mesh.plot_MorseComplex(MorseComplex, filename, path_color=[255,0,255])** plots the critical simplices of a MorseComplex in red (vertex), green (edge) and blue (face) and the according paths connecting them in magenta. Only writes a ply file containing colored points, so should be used as an overlay for the original mesh\n",
    "\n",
    "- **Mesh.ExtractMorseCells(MorseComplex)** takes a MorseComplex and gets all connected cells individually that are enclosed by the lines between critical simplices\n",
    "\n",
    "- **Mesh.plot_MorseCells(persistence, filename)** plots the connected components in each Cell in the same color. Only writes a ply file containing colored points, so should be used as an overlay for the original mesh"
   ]
  },
  {
   "cell_type": "code",
   "execution_count": 3,
   "id": "808a1588",
   "metadata": {},
   "outputs": [
    {
     "name": "stdout",
     "output_type": "stream",
     "text": [
      "Time read data file: 0.16405400000000014\n",
      "Time read and prepare data: 0.4686473\n",
      "+-------------------------------------------------------\n",
      "| Mesh Info\n",
      "+-------------------------------------------------------\n",
      "| Filename:  Data/simplicial_donut_3_deform\n",
      "| Morse function values range:  [-0.75299776, 1.848862]\n",
      "+-------------------------------------------------------\n",
      "| Number of Vertices:  8364\n",
      "| Number of Edges:  25092\n",
      "| Number of Faces:  16728\n",
      "+-------------------------------------------------------\n",
      "| Euler characteristic:  0\n",
      "+-------------------------------------------------------\n",
      "Time ProcessLowerStar: 0.17526090000000005\n",
      "Time ExtractMorseComplex and Separatrices: 0.10293520000000012\n",
      "+-------------------------------------------------------\n",
      "| MorseComplex Info\n",
      "+-------------------------------------------------------\n",
      "| Filename:  Data/simplicial_donut_3_deform\n",
      "| Persistence of this reduced Complex:  0\n",
      "+-------------------------------------------------------\n",
      "| Number of Vertices:  22\n",
      "| Number of Edges:  48\n",
      "| Number of Faces:  26\n",
      "+-------------------------------------------------------\n",
      "| Euler characteristic:  0\n",
      "+-------------------------------------------------------\n"
     ]
    }
   ],
   "source": [
    "Mesh = Mesh()\n",
    "Mesh.load_mesh_ply(filename, quality_index)\n",
    "Mesh.info()\n",
    "Mesh.ProcessLowerStars()\n",
    "Mesh.ExtractMorseComplex()\n",
    "Mesh.MorseComplex.info()"
   ]
  },
  {
   "cell_type": "code",
   "execution_count": 4,
   "id": "6ff3cf6d",
   "metadata": {},
   "outputs": [
    {
     "name": "stdout",
     "output_type": "stream",
     "text": [
      "Time cancel critical points with  15  persistence:  0.008331599999999995\n",
      "Time cancel critical points with  19  persistence:  0.000694699999999937\n",
      "Time cancel critical points with  30  persistence:  0.0006702999999999015\n",
      "Time cancel critical points with  50  persistence:  0.0006788000000002015\n",
      "Time get MorseCells:  0.03453250000000008\n",
      "Time get MorseCells:  0.031548700000000096\n",
      "Time get MorseCells:  0.029090099999999897\n",
      "Time get MorseCells:  0.02869110000000008\n"
     ]
    }
   ],
   "source": [
    "# Calculate reduced Complexes for different persistence levels:\n",
    "\n",
    "persistences = [15,19,30,50 ]\n",
    "for thresh in persistences:\n",
    "    Mesh.ReducedMorseComplex(thresh)\n",
    "    \n",
    "# plot MorseComplexes, calculate MorseCells and plot MorseCells\n",
    "for persistence, reduced_complex in Mesh.reducedMorseComplexes.items():\n",
    "    #reduced_complex.info()\n",
    "    #Mesh.plot_MorseComplex(reduced_complex, str(reduced_complex.filename)+\"_\"+str(persistence))\n",
    "    \n",
    "    Mesh.ExtractMorseCells(reduced_complex)\n",
    "    \n",
    "    #Mesh.plot_MorseCells(persistence, str(reduced_complex.filename)+\"_\"+str(persistence))\n"
   ]
  },
  {
   "cell_type": "code",
   "execution_count": null,
   "id": "11d4f4ca",
   "metadata": {},
   "outputs": [],
   "source": []
  }
 ],
 "metadata": {
  "kernelspec": {
   "display_name": "Python 3 (ipykernel)",
   "language": "python",
   "name": "python3"
  },
  "language_info": {
   "codemirror_mode": {
    "name": "ipython",
    "version": 3
   },
   "file_extension": ".py",
   "mimetype": "text/x-python",
   "name": "python",
   "nbconvert_exporter": "python",
   "pygments_lexer": "ipython3",
   "version": "3.9.7"
  }
 },
 "nbformat": 4,
 "nbformat_minor": 5
}
