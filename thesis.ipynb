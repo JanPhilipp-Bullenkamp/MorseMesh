{
 "cells": [
  {
   "attachments": {},
   "cell_type": "markdown",
   "metadata": {},
   "source": [
    "## Load Data"
   ]
  },
  {
   "cell_type": "code",
   "execution_count": null,
   "metadata": {},
   "outputs": [],
   "source": [
    "from src.morse import Morse\n",
    "from src.evaluation_and_conversion import compare_result_txt_to_groundtruth_ply\n",
    "import itertools"
   ]
  },
  {
   "cell_type": "code",
   "execution_count": null,
   "metadata": {},
   "outputs": [],
   "source": [
    "def process(artifact, persistence, params, index = 7):\n",
    "    data_conf = Morse()\n",
    "    data_n = Morse()\n",
    "    data_conf.load_mesh_ply(\"Data/\"+artifact+\".ply\", quality_index=index, inverted=True)\n",
    "    data_n.load_mesh_ply(\"Data/\"+artifact+\".ply\", quality_index=index, inverted=True)\n",
    "\n",
    "    outfilename =  \"Data/results/\" + artifact + \"/\" + artifact\n",
    "\n",
    "    #### CONFORMING\n",
    "    data_conf.load_labels(\"Data/\"+artifact+\"_labels.txt\")\n",
    "    data_conf.ConformingGradient()\n",
    "    data_conf.ExtractMorseComplex()\n",
    "\n",
    "    accuracy = 0\n",
    "    best_params = []\n",
    "\n",
    "    for pers in persistence:\n",
    "        data_conf.ReduceMorseComplex(pers, conforming=True)\n",
    "        data_conf.ExtractMorseCells(pers)\n",
    "\n",
    "        for high, low, merge in params:\n",
    "            if high > low:\n",
    "                data_conf.Segmentation(pers, high, low, merge, conforming=True)\n",
    "                data_conf.plot_Segmentation_label_txt(pers, high, low, merge, outfilename)\n",
    "                result = compare_result_txt_to_groundtruth_ply(outfilename+ \"_\" + str(pers) + \"P_\" + str(high) + \"-\" + str(low) \n",
    "                                       + \"T_\" + str(merge) + \".txt\", \"Data/\"+artifact+\"_c.ply\")\n",
    "                if result[0] > accuracy:\n",
    "                    accuracy = result[0]\n",
    "                    best_params = result[1:]\n",
    "\n",
    "    print(accuracy, best_params)\n",
    "\n",
    "    ### NON CONFORMING\n",
    "    data_n.ProcessLowerStars()\n",
    "    data_n.ExtractMorseComplex()\n",
    "\n",
    "    data_n.ReduceMorseComplex(best_params[0], conforming=False)\n",
    "    data_n.ExtractMorseCells(best_params[0])\n",
    "    data_n.Segmentation(best_params[0], best_params[1], best_params[2], best_params[3], conforming=False)\n",
    "    data_n.plot_Segmentation_label_txt(best_params[0], best_params[1], best_params[2], best_params[3], outfilename+\"non_conf\")\n",
    "\n",
    "\n"
   ]
  },
  {
   "cell_type": "code",
   "execution_count": null,
   "metadata": {},
   "outputs": [],
   "source": [
    "# PARAMETERS\n",
    "persistence = [0.03, 0.04, 0.05]\n",
    "high_thresh = [0.06, 0.07, 0.08]\n",
    "low_thresh = [0.02, 0.03, 0.04, 0.05]\n",
    "merge_thresh = [0.3, 0.4, 0.5]\n",
    "\n",
    "\n",
    "process(\"700\", persistence, list(itertools.product(high_thresh, low_thresh, merge_thresh)))"
   ]
  },
  {
   "cell_type": "code",
   "execution_count": null,
   "metadata": {},
   "outputs": [],
   "source": [
    "# PARAMETERS\n",
    "persistence = [0.03, 0.04, 0.05]\n",
    "high_thresh = [0.04, 0.05, 0.06]\n",
    "low_thresh = [0.02, 0.03, 0.04]\n",
    "merge_thresh = [0.1, 0.2, 0.3]\n",
    "\n",
    "process(\"801\", persistence, list(itertools.product(high_thresh, low_thresh, merge_thresh)), index = 3)"
   ]
  },
  {
   "cell_type": "code",
   "execution_count": null,
   "metadata": {},
   "outputs": [],
   "source": [
    "# PARAMETERS\n",
    "persistence = [0.06, 0.07, 0.08]\n",
    "high_thresh = [0.08, 0.09, 0.1]\n",
    "low_thresh = [0.06, 0.07, 0.08]\n",
    "merge_thresh = [0.2, 0.3, 0.4]\n",
    "\n",
    "process(\"4501\", persistence, list(itertools.product(high_thresh, low_thresh, merge_thresh)))"
   ]
  }
 ],
 "metadata": {
  "kernelspec": {
   "display_name": "Python 3",
   "language": "python",
   "name": "python3"
  },
  "language_info": {
   "codemirror_mode": {
    "name": "ipython",
    "version": 3
   },
   "file_extension": ".py",
   "mimetype": "text/x-python",
   "name": "python",
   "nbconvert_exporter": "python",
   "pygments_lexer": "ipython3",
   "version": "3.10.4"
  },
  "orig_nbformat": 4,
  "vscode": {
   "interpreter": {
    "hash": "369f2c481f4da34e4445cda3fffd2e751bd1c4d706f27375911949ba6bb62e1c"
   }
  }
 },
 "nbformat": 4,
 "nbformat_minor": 2
}
