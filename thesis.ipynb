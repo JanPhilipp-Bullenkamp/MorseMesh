{
 "cells": [
  {
   "attachments": {},
   "cell_type": "markdown",
   "metadata": {},
   "source": [
    "## Load Data"
   ]
  },
  {
   "cell_type": "code",
   "execution_count": 3,
   "metadata": {},
   "outputs": [],
   "source": [
    "from src.morse import Morse\n",
    "from src.evaluation_and_conversion import compare_result_txt_to_groundtruth_ply\n",
    "import itertools"
   ]
  },
  {
   "cell_type": "code",
   "execution_count": 4,
   "metadata": {},
   "outputs": [],
   "source": [
    "def process(artifact, index = 7):\n",
    "    data_conf = Morse()\n",
    "    data_n = Morse()\n",
    "    data_conf.load_mesh_ply(\"Data/\"+artifact+\".ply\", quality_index=index, inverted=True)\n",
    "    data_n.load_mesh_ply(\"Data/\"+artifact+\".ply\", quality_index=index, inverted=True)\n",
    "\n",
    "    outfilename =  \"Data/results/\" + artifact\n",
    "\n",
    "    #### CONFORMING\n",
    "    data_conf.load_labels(\"Data/\"+artifact+\"_labels.txt\")\n",
    "    data_conf.ConformingGradient()\n",
    "    data_conf.ExtractMorseComplex()\n",
    "\n",
    "    # PARAMETERS\n",
    "    inverted = True\n",
    "    persistence = [0.04,0.05,0.06,0.07]\n",
    "    high_thresh = [0.05,0.06,0.07,0.08,0.09]\n",
    "    low_thresh = [0.03,0.04,0.05,0.06,0.07]\n",
    "    merge_thresh = [0.2,0.3,0.4,0.5]\n",
    "\n",
    "    accuracy = 0\n",
    "    params = []\n",
    "\n",
    "    for pers in persistence:\n",
    "        data_conf.ReduceMorseComplex(pers, conforming=True)\n",
    "        data_conf.ExtractMorseCells(pers)\n",
    "\n",
    "        for high, low, merge in list(itertools.product(high_thresh, low_thresh, merge_thresh)):\n",
    "            if high > low:\n",
    "                data_conf.Segmentation(pers, high, low, merge, conforming=True)\n",
    "                data_conf.plot_Segmentation_label_txt(pers, high, low, merge, outfilename)\n",
    "                result = compare_result_txt_to_groundtruth_ply(outfilename+ \"_\" + str(pers) + \"P_\" + str(high) + \"-\" + str(low) \n",
    "                                       + \"T_\" + str(merge) + \".txt\", \"Data/\"+artifact+\"_c.ply\")\n",
    "                if result[0] > accuracy:\n",
    "                    accuracy = result[0]\n",
    "                    params = result[1:]\n",
    "\n",
    "    print(accuracy, params)\n",
    "\n",
    "    ### NON CONFORMING\n",
    "    data_n.ProcessLowerStars()\n",
    "    data_n.ExtractMorseComplex()\n",
    "\n",
    "    data_n.ReduceMorseComplex(params[0], conforming=False)\n",
    "    data_n.ExtractMorseCells(params[0])\n",
    "    data_n.Segmentation(params[0], params[1], params[2], params[3], conforming=False)\n",
    "    data_n.plot_Segmentation_label_txt(params[0], params[1], params[2], params[3], outfilename+\"non_conf\")\n",
    "\n",
    "\n"
   ]
  },
  {
   "cell_type": "code",
   "execution_count": 5,
   "metadata": {},
   "outputs": [
    {
     "name": "stdout",
     "output_type": "stream",
     "text": [
      "load_mesh_ply took 18.20892 seconds to execute!\n",
      "load_mesh_ply took 17.58285 seconds to execute!\n",
      "Time read labels in txt file: 0.11611649999395013\n",
      "Time ProcessLowerStar: 6.097564700059593\n",
      "ExtractMorseComplex took 5.04965 seconds to execute!\n",
      "ReduceMorseComplex took 5.36395 seconds to execute!\n",
      "BD points:  35465\n",
      "ExtractMorseCells took 2.47066 seconds to execute!\n",
      "Need maximally reduced complex for salient edges...\n",
      "Persistence was high enough that this complex is maximally reduced.\n",
      "ReduceMorseComplex took 5.56432 seconds to execute!\n",
      "get_salient_edges took 0.08483 seconds to execute!\n",
      "Segmentation took 20.71793 seconds to execute!\n",
      "plot_Segmentation_label_txt took 0.21917 seconds to execute!\n",
      "compare_result_txt_to_groundtruth_ply took 10.31557 seconds to execute!\n",
      "get_salient_edges took 0.09488 seconds to execute!\n",
      "Segmentation took 16.43122 seconds to execute!\n",
      "plot_Segmentation_label_txt took 0.21137 seconds to execute!\n",
      "compare_result_txt_to_groundtruth_ply took 9.99885 seconds to execute!\n",
      "get_salient_edges took 0.09486 seconds to execute!\n",
      "Segmentation took 17.46226 seconds to execute!\n",
      "plot_Segmentation_label_txt took 0.22688 seconds to execute!\n",
      "compare_result_txt_to_groundtruth_ply took 9.76051 seconds to execute!\n",
      "get_salient_edges took 0.09687 seconds to execute!\n",
      "Segmentation took 18.21100 seconds to execute!\n",
      "plot_Segmentation_label_txt took 0.22619 seconds to execute!\n",
      "compare_result_txt_to_groundtruth_ply took 9.81692 seconds to execute!\n",
      "get_salient_edges took 0.08318 seconds to execute!\n",
      "Segmentation took 20.57296 seconds to execute!\n",
      "plot_Segmentation_label_txt took 0.23210 seconds to execute!\n"
     ]
    },
    {
     "ename": "KeyboardInterrupt",
     "evalue": "",
     "output_type": "error",
     "traceback": [
      "\u001b[1;31m---------------------------------------------------------------------------\u001b[0m",
      "\u001b[1;31mKeyboardInterrupt\u001b[0m                         Traceback (most recent call last)",
      "Cell \u001b[1;32mIn [5], line 1\u001b[0m\n\u001b[1;32m----> 1\u001b[0m process(\u001b[39m\"\u001b[39m\u001b[39m700\u001b[39m\u001b[39m\"\u001b[39m)\n",
      "Cell \u001b[1;32mIn [4], line 32\u001b[0m, in \u001b[0;36mprocess\u001b[1;34m(artifact, index)\u001b[0m\n\u001b[0;32m     30\u001b[0m data_conf\u001b[39m.\u001b[39mSegmentation(pers, high, low, merge, conforming\u001b[39m=\u001b[39m\u001b[39mTrue\u001b[39;00m)\n\u001b[0;32m     31\u001b[0m data_conf\u001b[39m.\u001b[39mplot_Segmentation_label_txt(pers, high, low, merge, outfilename)\n\u001b[1;32m---> 32\u001b[0m result \u001b[39m=\u001b[39m compare_result_txt_to_groundtruth_ply(outfilename\u001b[39m+\u001b[39;49m \u001b[39m\"\u001b[39;49m\u001b[39m_\u001b[39;49m\u001b[39m\"\u001b[39;49m \u001b[39m+\u001b[39;49m \u001b[39mstr\u001b[39;49m(pers) \u001b[39m+\u001b[39;49m \u001b[39m\"\u001b[39;49m\u001b[39mP_\u001b[39;49m\u001b[39m\"\u001b[39;49m \u001b[39m+\u001b[39;49m \u001b[39mstr\u001b[39;49m(high) \u001b[39m+\u001b[39;49m \u001b[39m\"\u001b[39;49m\u001b[39m-\u001b[39;49m\u001b[39m\"\u001b[39;49m \u001b[39m+\u001b[39;49m \u001b[39mstr\u001b[39;49m(low) \n\u001b[0;32m     33\u001b[0m                        \u001b[39m+\u001b[39;49m \u001b[39m\"\u001b[39;49m\u001b[39mT_\u001b[39;49m\u001b[39m\"\u001b[39;49m \u001b[39m+\u001b[39;49m \u001b[39mstr\u001b[39;49m(merge) \u001b[39m+\u001b[39;49m \u001b[39m\"\u001b[39;49m\u001b[39m.txt\u001b[39;49m\u001b[39m\"\u001b[39;49m, \u001b[39m\"\u001b[39;49m\u001b[39mData/\u001b[39;49m\u001b[39m\"\u001b[39;49m\u001b[39m+\u001b[39;49martifact\u001b[39m+\u001b[39;49m\u001b[39m\"\u001b[39;49m\u001b[39m_c.ply\u001b[39;49m\u001b[39m\"\u001b[39;49m)\n\u001b[0;32m     34\u001b[0m \u001b[39mif\u001b[39;00m result[\u001b[39m0\u001b[39m] \u001b[39m>\u001b[39m accuracy:\n\u001b[0;32m     35\u001b[0m     accuracy \u001b[39m=\u001b[39m result[\u001b[39m0\u001b[39m]\n",
      "File \u001b[1;32mc:\\Users\\Theresa\\Documents\\00_Studium\\01_BA_Info\\Code\\MorseTheory\\src\\timer.py:7\u001b[0m, in \u001b[0;36mtimed.<locals>.wrapper\u001b[1;34m(*args, **kwargs)\u001b[0m\n\u001b[0;32m      5\u001b[0m \u001b[39mdef\u001b[39;00m \u001b[39mwrapper\u001b[39m(\u001b[39m*\u001b[39margs, \u001b[39m*\u001b[39m\u001b[39m*\u001b[39mkwargs):\n\u001b[0;32m      6\u001b[0m     before \u001b[39m=\u001b[39m time\u001b[39m.\u001b[39mtime()\n\u001b[1;32m----> 7\u001b[0m     return_value \u001b[39m=\u001b[39m function(\u001b[39m*\u001b[39margs, \u001b[39m*\u001b[39m\u001b[39m*\u001b[39mkwargs)\n\u001b[0;32m      8\u001b[0m     after \u001b[39m=\u001b[39m time\u001b[39m.\u001b[39mtime()\n\u001b[0;32m      9\u001b[0m     fname \u001b[39m=\u001b[39m function\u001b[39m.\u001b[39m\u001b[39m__name__\u001b[39m\n",
      "File \u001b[1;32mc:\\Users\\Theresa\\Documents\\00_Studium\\01_BA_Info\\Code\\MorseTheory\\src\\evaluation_and_conversion.py:40\u001b[0m, in \u001b[0;36mcompare_result_txt_to_groundtruth_ply\u001b[1;34m(result_filename, groundtruth_filename, metric, plot_correctness_mask)\u001b[0m\n\u001b[0;32m     27\u001b[0m \u001b[39m\"\"\"! @brief Takes a result .txt labels file and compares to a groundtruth given as a colored .ply file.\u001b[39;00m\n\u001b[0;32m     28\u001b[0m \u001b[39m@param result_filename The result .txt filename and location.\u001b[39;00m\n\u001b[0;32m     29\u001b[0m \u001b[39m@param groundtruth_filename The colored .ply groundtruth filename and location.\u001b[39;00m\n\u001b[1;32m   (...)\u001b[0m\n\u001b[0;32m     36\u001b[0m \u001b[39mcompared to the groundtruth file.\u001b[39;00m\n\u001b[0;32m     37\u001b[0m \u001b[39m\"\"\"\u001b[39;00m    \n\u001b[0;32m     38\u001b[0m comp_label, pers, high_thr, low_thr, merge_thr \u001b[39m=\u001b[39m read_labels_txt(result_filename, params\u001b[39m=\u001b[39m\u001b[39mTrue\u001b[39;00m)\n\u001b[1;32m---> 40\u001b[0m gt_label, total_points \u001b[39m=\u001b[39m read_labels_from_color_ply(groundtruth_filename)\n\u001b[0;32m     42\u001b[0m \u001b[39mif\u001b[39;00m metric \u001b[39m==\u001b[39m \u001b[39m\"\u001b[39m\u001b[39mIoU\u001b[39m\u001b[39m\"\u001b[39m:\n\u001b[0;32m     43\u001b[0m     IoU \u001b[39m=\u001b[39m compute_IoU(gt_label, comp_label)\n",
      "File \u001b[1;32mc:\\Users\\Theresa\\Documents\\00_Studium\\01_BA_Info\\Code\\MorseTheory\\src\\Evaluation\\read_labels_from_color_ply.py:4\u001b[0m, in \u001b[0;36mread_labels_from_color_ply\u001b[1;34m(filename)\u001b[0m\n\u001b[0;32m      3\u001b[0m \u001b[39mdef\u001b[39;00m \u001b[39mread_labels_from_color_ply\u001b[39m(filename):\n\u001b[1;32m----> 4\u001b[0m     rawdata \u001b[39m=\u001b[39m PlyData\u001b[39m.\u001b[39;49mread(filename)\n\u001b[0;32m      6\u001b[0m     labels \u001b[39m=\u001b[39m {}\n\u001b[0;32m      7\u001b[0m     conversion \u001b[39m=\u001b[39m {}\n",
      "File \u001b[1;32m~\\AppData\\Roaming\\Python\\Python310\\site-packages\\plyfile.py:397\u001b[0m, in \u001b[0;36mPlyData.read\u001b[1;34m(stream, mmap)\u001b[0m\n\u001b[0;32m    395\u001b[0m     data \u001b[39m=\u001b[39m PlyData\u001b[39m.\u001b[39m_parse_header(stream)\n\u001b[0;32m    396\u001b[0m     \u001b[39mfor\u001b[39;00m elt \u001b[39min\u001b[39;00m data:\n\u001b[1;32m--> 397\u001b[0m         elt\u001b[39m.\u001b[39;49m_read(stream, data\u001b[39m.\u001b[39;49mtext, data\u001b[39m.\u001b[39;49mbyte_order, mmap)\n\u001b[0;32m    398\u001b[0m \u001b[39mfinally\u001b[39;00m:\n\u001b[0;32m    399\u001b[0m     \u001b[39mif\u001b[39;00m must_close:\n",
      "File \u001b[1;32m~\\AppData\\Roaming\\Python\\Python310\\site-packages\\plyfile.py:642\u001b[0m, in \u001b[0;36mPlyElement._read\u001b[1;34m(self, stream, text, byte_order, mmap)\u001b[0m\n\u001b[0;32m    640\u001b[0m dtype \u001b[39m=\u001b[39m \u001b[39mself\u001b[39m\u001b[39m.\u001b[39mdtype(byte_order)\n\u001b[0;32m    641\u001b[0m \u001b[39mif\u001b[39;00m text:\n\u001b[1;32m--> 642\u001b[0m     \u001b[39mself\u001b[39;49m\u001b[39m.\u001b[39;49m_read_txt(stream)\n\u001b[0;32m    643\u001b[0m \u001b[39melif\u001b[39;00m mmap \u001b[39mand\u001b[39;00m _can_mmap(stream) \u001b[39mand\u001b[39;00m \u001b[39mnot\u001b[39;00m \u001b[39mself\u001b[39m\u001b[39m.\u001b[39m_have_list:\n\u001b[0;32m    644\u001b[0m     \u001b[39m# Loading the data is straightforward.  We will memory map\u001b[39;00m\n\u001b[0;32m    645\u001b[0m     \u001b[39m# the file in copy-on-write mode.\u001b[39;00m\n\u001b[0;32m    646\u001b[0m     num_bytes \u001b[39m=\u001b[39m \u001b[39mself\u001b[39m\u001b[39m.\u001b[39mcount \u001b[39m*\u001b[39m dtype\u001b[39m.\u001b[39mitemsize\n",
      "File \u001b[1;32m~\\AppData\\Roaming\\Python\\Python310\\site-packages\\plyfile.py:691\u001b[0m, in \u001b[0;36mPlyElement._read_txt\u001b[1;34m(self, stream)\u001b[0m\n\u001b[0;32m    689\u001b[0m k \u001b[39m=\u001b[39m \u001b[39m0\u001b[39m\n\u001b[0;32m    690\u001b[0m \u001b[39mfor\u001b[39;00m line \u001b[39min\u001b[39;00m _islice(\u001b[39miter\u001b[39m(stream\u001b[39m.\u001b[39mreadline, \u001b[39mb\u001b[39m\u001b[39m'\u001b[39m\u001b[39m'\u001b[39m), \u001b[39mself\u001b[39m\u001b[39m.\u001b[39mcount):\n\u001b[1;32m--> 691\u001b[0m     fields \u001b[39m=\u001b[39m \u001b[39miter\u001b[39m(line\u001b[39m.\u001b[39;49mstrip()\u001b[39m.\u001b[39msplit())\n\u001b[0;32m    692\u001b[0m     \u001b[39mfor\u001b[39;00m prop \u001b[39min\u001b[39;00m \u001b[39mself\u001b[39m\u001b[39m.\u001b[39mproperties:\n\u001b[0;32m    693\u001b[0m         \u001b[39mtry\u001b[39;00m:\n",
      "\u001b[1;31mKeyboardInterrupt\u001b[0m: "
     ]
    }
   ],
   "source": [
    "process(\"700\")"
   ]
  },
  {
   "cell_type": "code",
   "execution_count": null,
   "metadata": {},
   "outputs": [],
   "source": [
    "process(\"801\", index = 3)"
   ]
  },
  {
   "cell_type": "code",
   "execution_count": null,
   "metadata": {},
   "outputs": [],
   "source": [
    "process(\"4501\")"
   ]
  }
 ],
 "metadata": {
  "kernelspec": {
   "display_name": "Python 3",
   "language": "python",
   "name": "python3"
  },
  "language_info": {
   "codemirror_mode": {
    "name": "ipython",
    "version": 3
   },
   "file_extension": ".py",
   "mimetype": "text/x-python",
   "name": "python",
   "nbconvert_exporter": "python",
   "pygments_lexer": "ipython3",
   "version": "3.10.4"
  },
  "orig_nbformat": 4,
  "vscode": {
   "interpreter": {
    "hash": "369f2c481f4da34e4445cda3fffd2e751bd1c4d706f27375911949ba6bb62e1c"
   }
  }
 },
 "nbformat": 4,
 "nbformat_minor": 2
}
