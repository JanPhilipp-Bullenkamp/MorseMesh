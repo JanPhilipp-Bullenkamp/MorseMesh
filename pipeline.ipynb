{
 "cells": [
  {
   "cell_type": "markdown",
   "id": "c9d6bdde",
   "metadata": {},
   "source": [
    "# Pipeline \n",
    "\n",
    "This notebook shows an example of how to pipeline the discrete Morse theory segmentation method to get results for different parameter combinations. It can be adapted to your needs and it saves time to to the evaluation in the same loop and only save the best results as well. This pipeline will create a results label txt for each parameter combination."
   ]
  },
  {
   "attachments": {},
   "cell_type": "markdown",
   "id": "9c2d7fdf",
   "metadata": {},
   "source": [
    "### Parameters:"
   ]
  },
  {
   "cell_type": "code",
   "execution_count": 3,
   "id": "d41636c7",
   "metadata": {},
   "outputs": [],
   "source": [
    "from src.morse import Morse\n",
    "import os\n",
    "\n",
    "# average best parameter combination, can be lists though\n",
    "inverted = True\n",
    "persistence = [0.01,0.015,0.02]\n",
    "high_thresh = [0.055,0.06,0.065,0.07,0.075,0.08,0.085,0.09,0.095,0.1,0.105,0.11]\n",
    "low_thresh = [0.05,0.055,0.06,0.065,0.07,0.075,0.08,0.085,0.09,0.095,0.1,0.105]\n",
    "merge_thresh = [0.2, 0.3, 0.4, 0.5, 0.6]"
   ]
  },
  {
   "attachments": {},
   "cell_type": "markdown",
   "id": "f65281aa",
   "metadata": {},
   "source": [
    "### Folder structure:\n",
    "\n",
    "You need a data folder containing subfolders with curvature.plys and groundtruth label.txts:\n",
    "- data folder\n",
    "    - curvature folder\n",
    "    - groundtruths folder\n",
    "\n",
    "A new subfolder results will be added containing subfolders for each ply in the curvature folder:\n",
    "- data folder\n",
    "    - results\n",
    "        - folder for each file with all parameters"
   ]
  },
  {
   "cell_type": "code",
   "execution_count": 4,
   "id": "ea49c53e",
   "metadata": {},
   "outputs": [],
   "source": [
    "folder = \"path/to_folder/\""
   ]
  },
  {
   "cell_type": "code",
   "execution_count": null,
   "id": "352d7492",
   "metadata": {},
   "outputs": [],
   "source": [
    "if not os.path.exists(folder + \"results/\"):\n",
    "    os.makedirs(folder + \"results/\")\n",
    "\n",
    "files = []\n",
    "for subdir in os.listdir(folder+\"curvature/\"):\n",
    "    for file in os.listdir(folder+\"curvature/\"+subdir+\"/\"):\n",
    "        if file.endswith(\".ply\"):\n",
    "            files.append([str(folder+\"curvature/\"+subdir), str(file)])\n",
    "    \n",
    "for subfolder, filename in files:\n",
    "        infilename = subfolder + \"/\" + filename\n",
    "        outfilename =  folder + \"results/\" + str(os.path.splitext(filename)[0]) + \"/\" + str(os.path.splitext(filename)[0])\n",
    "        \n",
    "        if not os.path.exists(folder + \"results/\" + str(os.path.splitext(filename)[0]) + \"/\"):\n",
    "            os.makedirs(folder + \"results/\" + str(os.path.splitext(filename)[0]) + \"/\")\n",
    "        \n",
    "        data = Morse()\n",
    "        data.pipeline(infilename, outfilename, inverted, persistence,\n",
    "                                          high_thresh, low_thresh, merge_thresh)\n",
    "        #data.pipeline_cluster_segmentation(infilename, outfilename,\n",
    "        #                                   inverted, high_thresh, low_thresh, merge_thresh, \"reverse\")"
   ]
  }
 ],
 "metadata": {
  "kernelspec": {
   "display_name": "Python 3.9.12 ('base')",
   "language": "python",
   "name": "python3"
  },
  "language_info": {
   "codemirror_mode": {
    "name": "ipython",
    "version": 3
   },
   "file_extension": ".py",
   "mimetype": "text/x-python",
   "name": "python",
   "nbconvert_exporter": "python",
   "pygments_lexer": "ipython3",
   "version": "3.9.12"
  },
  "vscode": {
   "interpreter": {
    "hash": "2796f898c241be261d17d4440712f4c58a6e72713839fe7ec4d10cc08aa00573"
   }
  }
 },
 "nbformat": 4,
 "nbformat_minor": 5
}
