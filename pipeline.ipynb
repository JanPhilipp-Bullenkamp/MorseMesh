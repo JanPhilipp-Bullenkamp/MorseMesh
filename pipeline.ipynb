{
 "cells": [
  {
   "cell_type": "code",
   "execution_count": 1,
   "id": "962e6b6e",
   "metadata": {},
   "outputs": [],
   "source": [
    "from morse import Morse"
   ]
  },
  {
   "cell_type": "code",
   "execution_count": 2,
   "id": "0150a9eb",
   "metadata": {},
   "outputs": [],
   "source": [
    "data = Morse()"
   ]
  },
  {
   "cell_type": "code",
   "execution_count": 3,
   "id": "fd0f3cfd",
   "metadata": {
    "scrolled": false
   },
   "outputs": [
    {
     "name": "stdout",
     "output_type": "stream",
     "text": [
      "Time read data file: 1.5551464000000002\n",
      "Time read and prepare data: 3.8730518000000003\n",
      "Time read normals data file: 0.4958368999999996\n",
      "Time read normals: 0.8870113999999996\n",
      "Time ProcessLowerStar: 1.4689819000000002\n",
      "Time ExtractMorseComplex and Separatrices: 0.8951634000000004\n",
      "Time cancel critical points with  0.9612957835197449  persistence:  1.5312983000000013\n",
      "Persistence was high enough that this complex is maximally reduced.\n",
      "Time cancel critical points with  0.04  persistence:  1.2858076999999994\n",
      "Time get MorseCells for  0.04 persistence:  0.7575991999999996\n",
      "Time getting double threshold salient edge points for  0.05 - 0.03 threshold: 0.01523529999999873\n",
      "Time get weighted ConnectivityGraph:  2.0883596000000004\n",
      "Time merging and simplifying Cells: 1.9372533999999977\n",
      "Segmented for 0.04 persistence Complex with 0.05 0.03 salient edge threshold and 20.0 % edge percentage merging threshold\n",
      "Got  8 differnt cell labels\n",
      "Time writing label txt file: 0.050481700000002405\n",
      "Time getting double threshold salient edge points for  0.05 - 0.03 threshold: 0.014128199999998259\n",
      "Time get weighted ConnectivityGraph:  2.108926399999998\n",
      "Time merging and simplifying Cells: 2.2165369000000013\n",
      "Segmented for 0.04 persistence Complex with 0.05 0.03 salient edge threshold and 30.0 % edge percentage merging threshold\n",
      "Got  7 differnt cell labels\n",
      "Time writing label txt file: 0.05267650000000046\n",
      "Time getting double threshold salient edge points for  0.05 - 0.03 threshold: 0.01450089999999804\n",
      "Time get weighted ConnectivityGraph:  2.1189408000000007\n",
      "Time merging and simplifying Cells: 2.1982493000000005\n",
      "Segmented for 0.04 persistence Complex with 0.05 0.03 salient edge threshold and 40.0 % edge percentage merging threshold\n",
      "Got  6 differnt cell labels\n",
      "Time writing label txt file: 0.05394450000000006\n",
      "Time getting double threshold salient edge points for  0.05 - 0.04 threshold: 0.012844000000001188\n",
      "Time get weighted ConnectivityGraph:  4.964804900000001\n",
      "Time merging and simplifying Cells: 2.054615499999997\n",
      "Segmented for 0.04 persistence Complex with 0.05 0.04 salient edge threshold and 20.0 % edge percentage merging threshold\n",
      "Got  6 differnt cell labels\n",
      "Time writing label txt file: 0.053143300000002114\n",
      "Time getting double threshold salient edge points for  0.05 - 0.04 threshold: 0.012616299999997693\n",
      "Time get weighted ConnectivityGraph:  2.097151199999999\n",
      "Time merging and simplifying Cells: 2.147926599999998\n",
      "Segmented for 0.04 persistence Complex with 0.05 0.04 salient edge threshold and 30.0 % edge percentage merging threshold\n",
      "Got  6 differnt cell labels\n",
      "Time writing label txt file: 0.05351679999999703\n",
      "Time getting double threshold salient edge points for  0.05 - 0.04 threshold: 0.0128708999999958\n",
      "Time get weighted ConnectivityGraph:  2.1172236999999967\n",
      "Time merging and simplifying Cells: 2.1868182999999988\n",
      "Segmented for 0.04 persistence Complex with 0.05 0.04 salient edge threshold and 40.0 % edge percentage merging threshold\n",
      "Got  6 differnt cell labels\n",
      "Time writing label txt file: 0.05457429999999874\n",
      "Time getting double threshold salient edge points for  0.06 - 0.03 threshold: 0.014111800000002006\n",
      "Time get weighted ConnectivityGraph:  2.155958500000004\n",
      "Time merging and simplifying Cells: 2.1621002999999988\n",
      "Segmented for 0.04 persistence Complex with 0.06 0.03 salient edge threshold and 20.0 % edge percentage merging threshold\n",
      "Got  7 differnt cell labels\n",
      "Time writing label txt file: 0.05459359999999691\n",
      "Time getting double threshold salient edge points for  0.06 - 0.03 threshold: 0.013930600000001903\n",
      "Time get weighted ConnectivityGraph:  2.1608619000000004\n",
      "Time merging and simplifying Cells: 2.304600200000003\n",
      "Segmented for 0.04 persistence Complex with 0.06 0.03 salient edge threshold and 30.0 % edge percentage merging threshold\n",
      "Got  6 differnt cell labels\n",
      "Time writing label txt file: 0.057189000000001045\n",
      "Time getting double threshold salient edge points for  0.06 - 0.03 threshold: 0.014088300000004494\n",
      "Time get weighted ConnectivityGraph:  2.1110794999999953\n",
      "Time merging and simplifying Cells: 2.2918519999999987\n",
      "Segmented for 0.04 persistence Complex with 0.06 0.03 salient edge threshold and 40.0 % edge percentage merging threshold\n",
      "Got  5 differnt cell labels\n",
      "Time writing label txt file: 0.05263709999999833\n",
      "Time getting double threshold salient edge points for  0.06 - 0.04 threshold: 0.013841399999996895\n",
      "Time get weighted ConnectivityGraph:  2.138410499999999\n",
      "Time merging and simplifying Cells: 2.1266177999999982\n",
      "Segmented for 0.04 persistence Complex with 0.06 0.04 salient edge threshold and 20.0 % edge percentage merging threshold\n",
      "Got  5 differnt cell labels\n",
      "Time writing label txt file: 0.05965160000000225\n",
      "Time getting double threshold salient edge points for  0.06 - 0.04 threshold: 0.012817399999995871\n",
      "Time get weighted ConnectivityGraph:  2.181889599999998\n",
      "Time merging and simplifying Cells: 2.459007900000003\n",
      "Segmented for 0.04 persistence Complex with 0.06 0.04 salient edge threshold and 30.0 % edge percentage merging threshold\n",
      "Got  5 differnt cell labels\n",
      "Time writing label txt file: 0.05462169999999844\n",
      "Time getting double threshold salient edge points for  0.06 - 0.04 threshold: 0.013110700000005693\n",
      "Time get weighted ConnectivityGraph:  2.1653664000000106\n",
      "Time merging and simplifying Cells: 2.4925389999999936\n",
      "Segmented for 0.04 persistence Complex with 0.06 0.04 salient edge threshold and 40.0 % edge percentage merging threshold\n",
      "Got  5 differnt cell labels\n",
      "Time writing label txt file: 0.05303590000001179\n"
     ]
    }
   ],
   "source": [
    "\n",
    "filename, quality_index = \"Data/with_gt/710_r1.50_n4_v256.volume.ply\", 3\n",
    "filename_normals = \"Data/with_gt/710_normals.ply\"\n",
    "#filename_normals = None\n",
    "inverted = True\n",
    "load_normals = False\n",
    "\n",
    "persistences = [0.04]\n",
    "high_thresh = [0.05,0.06]\n",
    "low_thresh = [0.03,0.04]\n",
    "merge_thresh = [0.2,0.3,0.4]\n",
    "\n",
    "data.Pipeline(filename, filename_normals, quality_index, inverted, load_normals, \n",
    "              persistences, high_thresh, low_thresh, merge_thresh)"
   ]
  },
  {
   "cell_type": "code",
   "execution_count": 4,
   "id": "4c980e37",
   "metadata": {},
   "outputs": [
    {
     "name": "stdout",
     "output_type": "stream",
     "text": [
      "+-------------------------------------------------------\n",
      "| Mesh Info\n",
      "+-------------------------------------------------------\n",
      "| Filename:  Data/with_gt/710_r1.50_n4_v256.volume\n",
      "| Morse function values range:  [-0.30233025550842285, 0.658965528011322]\n",
      "+-------------------------------------------------------\n",
      "| Number of Vertices:  55375\n",
      "| Number of Edges:  166119\n",
      "| Number of Faces:  110746\n",
      "+-------------------------------------------------------\n",
      "| Euler characteristic:  2\n",
      "+-------------------------------------------------------\n"
     ]
    }
   ],
   "source": [
    "data.info()"
   ]
  },
  {
   "cell_type": "code",
   "execution_count": 5,
   "id": "ea0d98de",
   "metadata": {},
   "outputs": [
    {
     "name": "stdout",
     "output_type": "stream",
     "text": [
      "1.1040902 1.0510973 2.7226024\n",
      "0.73522115 0.9866442 2.7328126\n",
      "0.6300452 1.0013084 2.8313668\n",
      "0.33486855 0.96128356 2.9028852\n",
      "1.2009912 1.0928934 2.8133643\n",
      "1.0234631 1.0299385 2.715816\n",
      "0.63765633 1.0293072 2.938168\n",
      "0.2776213 0.9895784 3.0349686\n",
      "-0.14234905 0.86964864 2.9243796\n",
      "1.4304285 1.0763814 2.6453736\n"
     ]
    }
   ],
   "source": [
    "i=0\n",
    "for v in data.Vertices.values():\n",
    "    if i < 10:\n",
    "        print(v.nx,v.ny,v.nz)\n",
    "        i+=1"
   ]
  },
  {
   "cell_type": "code",
   "execution_count": null,
   "id": "1f176588",
   "metadata": {},
   "outputs": [],
   "source": []
  }
 ],
 "metadata": {
  "kernelspec": {
   "display_name": "Python 3 (ipykernel)",
   "language": "python",
   "name": "python3"
  },
  "language_info": {
   "codemirror_mode": {
    "name": "ipython",
    "version": 3
   },
   "file_extension": ".py",
   "mimetype": "text/x-python",
   "name": "python",
   "nbconvert_exporter": "python",
   "pygments_lexer": "ipython3",
   "version": "3.9.7"
  }
 },
 "nbformat": 4,
 "nbformat_minor": 5
}
