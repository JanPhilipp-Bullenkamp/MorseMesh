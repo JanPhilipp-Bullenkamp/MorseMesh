{
 "cells": [
  {
   "cell_type": "code",
   "execution_count": 1,
   "id": "962e6b6e",
   "metadata": {},
   "outputs": [],
   "source": [
    "from src.morse import Morse\n",
    "\n",
    "import os"
   ]
  },
  {
   "cell_type": "markdown",
   "id": "9c2d7fdf",
   "metadata": {},
   "source": [
    "### Parameters:"
   ]
  },
  {
   "cell_type": "code",
   "execution_count": 2,
   "id": "d41636c7",
   "metadata": {},
   "outputs": [],
   "source": [
    "inverted = True\n",
    "persistences = [0.04]\n",
    "high_thresh = [0.06]\n",
    "low_thresh = [0.03]\n",
    "merge_thresh = [0.3]"
   ]
  },
  {
   "cell_type": "markdown",
   "id": "f65281aa",
   "metadata": {},
   "source": [
    "### Folder structure:\n",
    "should exist:\n",
    "- data folder\n",
    "    - curvature folder\n",
    "    - groundtruths folder\n",
    "\n",
    "will be added:\n",
    "- data folder\n",
    "    - results\n",
    "        - folder for each file with all parameters"
   ]
  },
  {
   "cell_type": "code",
   "execution_count": 3,
   "id": "ea49c53e",
   "metadata": {},
   "outputs": [],
   "source": [
    "folder = \"../../Data/artefact_31_test/\"\n",
    "# index of relevant function value should be equal in all files\n",
    "quality_index = 3"
   ]
  },
  {
   "cell_type": "code",
   "execution_count": 4,
   "id": "352d7492",
   "metadata": {},
   "outputs": [
    {
     "name": "stdout",
     "output_type": "stream",
     "text": [
      "Time read data file: 3.7193559749939595\n",
      "Time read and prepare data: 14.646244946998195\n",
      "Time ProcessLowerStar: 3.443162340001436\n",
      "Time ExtractMorseComplex and Separatrices: 3.3960780409979634\n",
      "Time cancel critical points with  1.193320393562317  persistence:  3.078270641999552\n",
      "Persistence was high enough that this complex is maximally reduced.\n",
      "Time cancel critical points with  0.04  persistence:  2.338731307994749\n",
      "Time get MorseCells for  0.04 persistence:  31.45128212700365\n",
      "Time fill neighbors for MorseCells:  39.85919250000006\n"
     ]
    },
    {
     "ename": "NameError",
     "evalue": "name 'MorseCells' is not defined",
     "output_type": "error",
     "traceback": [
      "\u001b[0;31m---------------------------------------------------------------------------\u001b[0m",
      "\u001b[0;31mNameError\u001b[0m                                 Traceback (most recent call last)",
      "Input \u001b[0;32mIn [4]\u001b[0m, in \u001b[0;36m<cell line: 4>\u001b[0;34m()\u001b[0m\n\u001b[1;32m     10\u001b[0m     os\u001b[38;5;241m.\u001b[39mmakedirs(folder \u001b[38;5;241m+\u001b[39m \u001b[38;5;124m\"\u001b[39m\u001b[38;5;124mresults/\u001b[39m\u001b[38;5;124m\"\u001b[39m \u001b[38;5;241m+\u001b[39m \u001b[38;5;28mstr\u001b[39m(os\u001b[38;5;241m.\u001b[39mpath\u001b[38;5;241m.\u001b[39msplitext(filename)[\u001b[38;5;241m0\u001b[39m]) \u001b[38;5;241m+\u001b[39m \u001b[38;5;124m\"\u001b[39m\u001b[38;5;124m/\u001b[39m\u001b[38;5;124m\"\u001b[39m)\n\u001b[1;32m     12\u001b[0m data \u001b[38;5;241m=\u001b[39m Morse()\n\u001b[0;32m---> 13\u001b[0m \u001b[43mdata\u001b[49m\u001b[38;5;241;43m.\u001b[39;49m\u001b[43mPipeline\u001b[49m\u001b[43m(\u001b[49m\u001b[43minfilename\u001b[49m\u001b[43m,\u001b[49m\u001b[43m \u001b[49m\u001b[43moutfilename\u001b[49m\u001b[43m,\u001b[49m\u001b[43m \u001b[49m\u001b[43mquality_index\u001b[49m\u001b[43m,\u001b[49m\u001b[43m \u001b[49m\u001b[43minverted\u001b[49m\u001b[43m,\u001b[49m\u001b[43m \u001b[49m\n\u001b[1;32m     14\u001b[0m \u001b[43m              \u001b[49m\u001b[43mpersistences\u001b[49m\u001b[43m,\u001b[49m\u001b[43m \u001b[49m\u001b[43mhigh_thresh\u001b[49m\u001b[43m,\u001b[49m\u001b[43m \u001b[49m\u001b[43mlow_thresh\u001b[49m\u001b[43m,\u001b[49m\u001b[43m \u001b[49m\u001b[43mmerge_thresh\u001b[49m\u001b[43m)\u001b[49m\n",
      "File \u001b[0;32m~/Documents/Code/MorseTheory/src/morse.py:510\u001b[0m, in \u001b[0;36mMorse.Pipeline\u001b[0;34m(self, infilename, outfilename, quality_index, inverted, persistences, high_thresh, low_thresh, merge_thresh)\u001b[0m\n\u001b[1;32m    508\u001b[0m t7 \u001b[38;5;241m=\u001b[39m timeit\u001b[38;5;241m.\u001b[39mdefault_timer()\n\u001b[1;32m    509\u001b[0m f\u001b[38;5;241m.\u001b[39mwrite(\u001b[38;5;124m\"\u001b[39m\u001b[38;5;130;01m\\t\u001b[39;00m\u001b[38;5;124mReduce \u001b[39m\u001b[38;5;124m\"\u001b[39m\u001b[38;5;241m+\u001b[39m\u001b[38;5;28mstr\u001b[39m(pers)\u001b[38;5;241m+\u001b[39m\u001b[38;5;124m\"\u001b[39m\u001b[38;5;124m: \u001b[39m\u001b[38;5;124m\"\u001b[39m\u001b[38;5;241m+\u001b[39m\u001b[38;5;28mstr\u001b[39m(t7\u001b[38;5;241m-\u001b[39mt6)\u001b[38;5;241m+\u001b[39m\u001b[38;5;124m\"\u001b[39m\u001b[38;5;130;01m\\n\u001b[39;00m\u001b[38;5;124m\"\u001b[39m)\n\u001b[0;32m--> 510\u001b[0m \u001b[38;5;28;43mself\u001b[39;49m\u001b[38;5;241;43m.\u001b[39;49m\u001b[43mExtractMorseCells\u001b[49m\u001b[43m(\u001b[49m\u001b[43mpers\u001b[49m\u001b[43m)\u001b[49m\n\u001b[1;32m    511\u001b[0m t8 \u001b[38;5;241m=\u001b[39m timeit\u001b[38;5;241m.\u001b[39mdefault_timer()\n\u001b[1;32m    512\u001b[0m f\u001b[38;5;241m.\u001b[39mwrite(\u001b[38;5;124m\"\u001b[39m\u001b[38;5;130;01m\\t\u001b[39;00m\u001b[38;5;124mMorseCells \u001b[39m\u001b[38;5;124m\"\u001b[39m\u001b[38;5;241m+\u001b[39m\u001b[38;5;28mstr\u001b[39m(pers)\u001b[38;5;241m+\u001b[39m\u001b[38;5;124m\"\u001b[39m\u001b[38;5;124m: \u001b[39m\u001b[38;5;124m\"\u001b[39m\u001b[38;5;241m+\u001b[39m\u001b[38;5;28mstr\u001b[39m(t8\u001b[38;5;241m-\u001b[39mt7)\u001b[38;5;241m+\u001b[39m\u001b[38;5;124m\"\u001b[39m\u001b[38;5;130;01m\\n\u001b[39;00m\u001b[38;5;124m\"\u001b[39m)\n",
      "File \u001b[0;32m~/Documents/Code/MorseTheory/src/morse.py:172\u001b[0m, in \u001b[0;36mMorse.ExtractMorseCells\u001b[0;34m(self, persistence)\u001b[0m\n\u001b[1;32m    170\u001b[0m \u001b[38;5;28;01mdef\u001b[39;00m \u001b[38;5;21mExtractMorseCells\u001b[39m(\u001b[38;5;28mself\u001b[39m, persistence):\n\u001b[1;32m    171\u001b[0m     \u001b[38;5;28;01mif\u001b[39;00m persistence \u001b[38;5;129;01mnot\u001b[39;00m \u001b[38;5;129;01min\u001b[39;00m \u001b[38;5;28mself\u001b[39m\u001b[38;5;241m.\u001b[39mMorseCells\u001b[38;5;241m.\u001b[39mkeys():\n\u001b[0;32m--> 172\u001b[0m         \u001b[38;5;28mself\u001b[39m\u001b[38;5;241m.\u001b[39mMorseCells[persistence] \u001b[38;5;241m=\u001b[39m \u001b[43mget_MorseCells\u001b[49m\u001b[43m(\u001b[49m\u001b[38;5;28;43mself\u001b[39;49m\u001b[38;5;241;43m.\u001b[39;49m\u001b[43mreducedMorseComplexes\u001b[49m\u001b[43m[\u001b[49m\u001b[43mpersistence\u001b[49m\u001b[43m]\u001b[49m\u001b[43m,\u001b[49m\u001b[43m \u001b[49m\n\u001b[1;32m    173\u001b[0m \u001b[43m                                                      \u001b[49m\u001b[38;5;28;43mself\u001b[39;49m\u001b[38;5;241;43m.\u001b[39;49m\u001b[43mVertices\u001b[49m\u001b[43m,\u001b[49m\u001b[43m \u001b[49m\u001b[38;5;28;43mself\u001b[39;49m\u001b[38;5;241;43m.\u001b[39;49m\u001b[43mEdges\u001b[49m\u001b[43m,\u001b[49m\u001b[43m \u001b[49m\u001b[38;5;28;43mself\u001b[39;49m\u001b[38;5;241;43m.\u001b[39;49m\u001b[43mFaces\u001b[49m\u001b[43m)\u001b[49m\n\u001b[1;32m    174\u001b[0m         \u001b[38;5;28;01mreturn\u001b[39;00m \u001b[38;5;28mself\u001b[39m\u001b[38;5;241m.\u001b[39mMorseCells[persistence]\n\u001b[1;32m    175\u001b[0m     \u001b[38;5;28;01melse\u001b[39;00m:\n",
      "File \u001b[0;32m~/Documents/Code/MorseTheory/src/Algorithms/MorseCells.py:137\u001b[0m, in \u001b[0;36mget_MorseCells\u001b[0;34m(MorseComplex, vert_dict, edge_dict, face_dict, fill_neighborhood)\u001b[0m\n\u001b[1;32m    135\u001b[0m     end_time2 \u001b[38;5;241m=\u001b[39m timeit\u001b[38;5;241m.\u001b[39mdefault_timer() \u001b[38;5;241m-\u001b[39mstart_time2\n\u001b[1;32m    136\u001b[0m     \u001b[38;5;28mprint\u001b[39m(\u001b[38;5;124m\"\u001b[39m\u001b[38;5;124mTime fill neighbors for MorseCells: \u001b[39m\u001b[38;5;124m\"\u001b[39m, end_time2)\n\u001b[0;32m--> 137\u001b[0m \u001b[38;5;28;01mreturn\u001b[39;00m \u001b[43mMorseCells\u001b[49m\n",
      "\u001b[0;31mNameError\u001b[0m: name 'MorseCells' is not defined"
     ]
    }
   ],
   "source": [
    "if not os.path.exists(folder + \"results/\"):\n",
    "    os.makedirs(folder + \"results/\")\n",
    "    \n",
    "for filename in os.listdir(folder+\"curvature/\"):\n",
    "    if filename.endswith(\".ply\"):\n",
    "        infilename = folder + \"curvature/\" + str(filename)\n",
    "        outfilename =  folder + \"results/\" + str(os.path.splitext(filename)[0]) + \"/\" + str(os.path.splitext(filename)[0])\n",
    "        \n",
    "        if not os.path.exists(folder + \"results/\" + str(os.path.splitext(filename)[0]) + \"/\"):\n",
    "            os.makedirs(folder + \"results/\" + str(os.path.splitext(filename)[0]) + \"/\")\n",
    "        \n",
    "        data = Morse()\n",
    "        data.Pipeline(infilename, outfilename, quality_index, inverted, \n",
    "                      persistences, high_thresh, low_thresh, merge_thresh)"
   ]
  },
  {
   "cell_type": "code",
   "execution_count": 20,
   "id": "103536e1",
   "metadata": {},
   "outputs": [],
   "source": [
    "class Vertex:\n",
    "    def __init__(self, x=None, y=None, z=None,\n",
    "                quality=None, fun_val=None,\n",
    "                index=None):\n",
    "        self.x = x #float\n",
    "        self.y = y #float\n",
    "        self.z = z #float\n",
    "        \n",
    "        self.label = -1 #int\n",
    "        self.boundary = False #bool\n",
    "        \n",
    "    def __str__(self):\n",
    "        return str(self.label)"
   ]
  },
  {
   "cell_type": "code",
   "execution_count": 21,
   "id": "632bb798",
   "metadata": {},
   "outputs": [],
   "source": [
    "di = {}\n",
    "a = Vertex(1,2,3)\n",
    "a.label=2\n",
    "b = Vertex(4,5,6)\n",
    "c = Vertex(7,8,9)\n",
    "c.label=4\n",
    "di[1] = a\n",
    "di[2] = b\n",
    "di[3] = c"
   ]
  },
  {
   "cell_type": "code",
   "execution_count": 22,
   "id": "254ac74b",
   "metadata": {},
   "outputs": [
    {
     "name": "stdout",
     "output_type": "stream",
     "text": [
      "{1: <__main__.Vertex object at 0x7f6e218b9d90>, 2: <__main__.Vertex object at 0x7f6e218b9ca0>, 3: <__main__.Vertex object at 0x7f6e218b9e20>}\n"
     ]
    }
   ],
   "source": [
    "print(di)"
   ]
  },
  {
   "cell_type": "code",
   "execution_count": 23,
   "id": "02d1375e",
   "metadata": {},
   "outputs": [
    {
     "name": "stdout",
     "output_type": "stream",
     "text": [
      "1 2\n",
      "2 -1\n",
      "3 4\n"
     ]
    }
   ],
   "source": [
    "for k, v in di.items():\n",
    "    print(k,v)"
   ]
  },
  {
   "cell_type": "code",
   "execution_count": 24,
   "id": "32186c77",
   "metadata": {},
   "outputs": [],
   "source": [
    "label = 10\n",
    "for vert_ind, vert in di.items():\n",
    "    if vert.label != -1:\n",
    "    #if vert_ind in boundary_points or vert_ind in visited:\n",
    "        continue\n",
    "    else:\n",
    "        queue = set()\n",
    "        queue.add(vert)\n",
    "\n",
    "        while len(queue) != 0:\n",
    "            # pop one elt from queue\n",
    "            queue_elt = queue.pop()\n",
    "            queue_elt.label = label"
   ]
  },
  {
   "cell_type": "code",
   "execution_count": 25,
   "id": "3e8b70f8",
   "metadata": {},
   "outputs": [
    {
     "name": "stdout",
     "output_type": "stream",
     "text": [
      "1 2\n",
      "2 10\n",
      "3 4\n"
     ]
    }
   ],
   "source": [
    "for k, v in di.items():\n",
    "    print(k,v)"
   ]
  },
  {
   "cell_type": "code",
   "execution_count": null,
   "id": "fce7d111",
   "metadata": {},
   "outputs": [],
   "source": []
  }
 ],
 "metadata": {
  "kernelspec": {
   "display_name": "Python 3 (ipykernel)",
   "language": "python",
   "name": "python3"
  },
  "language_info": {
   "codemirror_mode": {
    "name": "ipython",
    "version": 3
   },
   "file_extension": ".py",
   "mimetype": "text/x-python",
   "name": "python",
   "nbconvert_exporter": "python",
   "pygments_lexer": "ipython3",
   "version": "3.9.12"
  }
 },
 "nbformat": 4,
 "nbformat_minor": 5
}
