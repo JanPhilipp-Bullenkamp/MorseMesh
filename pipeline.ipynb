{
 "cells": [
  {
   "cell_type": "code",
   "execution_count": 1,
   "id": "962e6b6e",
   "metadata": {},
   "outputs": [],
   "source": [
    "from morse import Morse"
   ]
  },
  {
   "cell_type": "code",
   "execution_count": 2,
   "id": "0150a9eb",
   "metadata": {},
   "outputs": [],
   "source": [
    "data = Morse()"
   ]
  },
  {
   "cell_type": "code",
   "execution_count": 3,
   "id": "fd0f3cfd",
   "metadata": {},
   "outputs": [
    {
     "name": "stdout",
     "output_type": "stream",
     "text": [
      "Time read data file: 4.0939555\n",
      "Time read and prepare data: 10.272298200000002\n",
      "Time read normals data file: 7.022819999999998\n",
      "Time read normals: 7.2430219000000005\n",
      "Time ProcessLowerStar: 4.0946964\n",
      "Time ExtractMorseComplex and Separatrices: 2.5869073999999976\n",
      "Time cancel critical points with  1.1815595626831055  persistence:  2.2875566999999997\n",
      "Persistence was high enough that this complex is maximally reduced.\n",
      "Time cancel critical points with  0.04  persistence:  2.8630922000000005\n",
      "Time get MorseCells:  36.708939\n",
      "Time getting double threshold salient edge points for  0.05 - 0.03 threshold: 0.03851459999999918\n",
      "Time get weighted ConnectivityGraph:  47.529085800000004\n",
      "Time merging and simplifying Cells: 10.51172799999999\n",
      "Segmented for 0.04 persistence Complex with 0.05 0.03 salient edge threshold and 20.0 % edge percentage merging threshold\n",
      "Got  32 differnt cell labels\n",
      "Time writing label txt file: 0.14136709999999653\n",
      "Time getting double threshold salient edge points for  0.05 - 0.03 threshold: 0.04032080000000349\n",
      "Time get weighted ConnectivityGraph:  51.299578499999996\n",
      "Time merging and simplifying Cells: 11.323717899999991\n",
      "Segmented for 0.04 persistence Complex with 0.05 0.03 salient edge threshold and 30.0 % edge percentage merging threshold\n",
      "Got  22 differnt cell labels\n",
      "Time writing label txt file: 0.14362259999998628\n",
      "Time getting double threshold salient edge points for  0.05 - 0.03 threshold: 0.04016640000000393\n",
      "Time get weighted ConnectivityGraph:  48.76568739999999\n",
      "Time merging and simplifying Cells: 11.846492699999999\n",
      "Segmented for 0.04 persistence Complex with 0.05 0.03 salient edge threshold and 40.0 % edge percentage merging threshold\n",
      "Got  18 differnt cell labels\n",
      "Time writing label txt file: 0.14134129999999345\n",
      "Time getting double threshold salient edge points for  0.05 - 0.04 threshold: 0.032695300000000316\n",
      "Time get weighted ConnectivityGraph:  48.86689310000003\n",
      "Time merging and simplifying Cells: 10.521697599999982\n",
      "Segmented for 0.04 persistence Complex with 0.05 0.04 salient edge threshold and 20.0 % edge percentage merging threshold\n",
      "Got  31 differnt cell labels\n",
      "Time writing label txt file: 0.14155640000001313\n",
      "Time getting double threshold salient edge points for  0.05 - 0.04 threshold: 0.031901699999991706\n",
      "Time get weighted ConnectivityGraph:  48.52390559999998\n",
      "Time merging and simplifying Cells: 11.078725100000042\n",
      "Segmented for 0.04 persistence Complex with 0.05 0.04 salient edge threshold and 30.0 % edge percentage merging threshold\n",
      "Got  20 differnt cell labels\n",
      "Time writing label txt file: 0.14381040000000667\n",
      "Time getting double threshold salient edge points for  0.05 - 0.04 threshold: 0.03165939999996681\n",
      "Time get weighted ConnectivityGraph:  51.347798100000034\n",
      "Time merging and simplifying Cells: 11.632022500000005\n",
      "Segmented for 0.04 persistence Complex with 0.05 0.04 salient edge threshold and 40.0 % edge percentage merging threshold\n",
      "Got  21 differnt cell labels\n",
      "Time writing label txt file: 0.15118580000000748\n",
      "Time getting double threshold salient edge points for  0.06 - 0.03 threshold: 0.04306509999997843\n",
      "Time get weighted ConnectivityGraph:  51.0823613\n",
      "Time merging and simplifying Cells: 10.383543900000006\n",
      "Segmented for 0.04 persistence Complex with 0.06 0.03 salient edge threshold and 20.0 % edge percentage merging threshold\n",
      "Got  30 differnt cell labels\n",
      "Time writing label txt file: 0.14630570000002763\n",
      "Time getting double threshold salient edge points for  0.06 - 0.03 threshold: 0.040769699999998466\n",
      "Time get weighted ConnectivityGraph:  49.776725699999986\n",
      "Time merging and simplifying Cells: 11.145693100000017\n",
      "Segmented for 0.04 persistence Complex with 0.06 0.03 salient edge threshold and 30.0 % edge percentage merging threshold\n",
      "Got  20 differnt cell labels\n",
      "Time writing label txt file: 0.14488380000000234\n",
      "Time getting double threshold salient edge points for  0.06 - 0.03 threshold: 0.039992999999981294\n",
      "Time get weighted ConnectivityGraph:  50.870931799999994\n",
      "Time merging and simplifying Cells: 11.060626500000012\n",
      "Segmented for 0.04 persistence Complex with 0.06 0.03 salient edge threshold and 40.0 % edge percentage merging threshold\n",
      "Got  18 differnt cell labels\n",
      "Time writing label txt file: 0.14491350000002967\n",
      "Time getting double threshold salient edge points for  0.06 - 0.04 threshold: 0.03188319999992473\n",
      "Time get weighted ConnectivityGraph:  52.24205370000004\n",
      "Time merging and simplifying Cells: 10.684566000000018\n",
      "Segmented for 0.04 persistence Complex with 0.06 0.04 salient edge threshold and 20.0 % edge percentage merging threshold\n",
      "Got  26 differnt cell labels\n",
      "Time writing label txt file: 0.14692999999999756\n",
      "Time getting double threshold salient edge points for  0.06 - 0.04 threshold: 0.03423480000003565\n",
      "Time get weighted ConnectivityGraph:  51.53416200000004\n",
      "Time merging and simplifying Cells: 10.978037400000062\n",
      "Segmented for 0.04 persistence Complex with 0.06 0.04 salient edge threshold and 30.0 % edge percentage merging threshold\n",
      "Got  18 differnt cell labels\n",
      "Time writing label txt file: 0.14982049999991887\n",
      "Time getting double threshold salient edge points for  0.06 - 0.04 threshold: 0.03155540000000201\n",
      "Time get weighted ConnectivityGraph:  54.22011210000005\n",
      "Time merging and simplifying Cells: 10.869414699999993\n",
      "Segmented for 0.04 persistence Complex with 0.06 0.04 salient edge threshold and 40.0 % edge percentage merging threshold\n",
      "Got  21 differnt cell labels\n",
      "Time writing label txt file: 0.14525349999996706\n"
     ]
    }
   ],
   "source": [
    "\n",
    "filename, quality_index = \"Data/31_r1.00_n4_v256.volume.ply\", 3\n",
    "filename_normals = \"Data/31_normals.ply\"\n",
    "inverted = True\n",
    "\n",
    "persistences = [0.04]\n",
    "high_thresh = [0.05,0.06]\n",
    "low_thresh = [0.03,0.04]\n",
    "merge_thresh = [0.2,0.3,0.4]\n",
    "\n",
    "data.Pipeline(filename, filename_normals, quality_index, inverted, \n",
    "              persistences, high_thresh, low_thresh, merge_thresh)"
   ]
  },
  {
   "cell_type": "code",
   "execution_count": null,
   "id": "ea0d98de",
   "metadata": {},
   "outputs": [],
   "source": []
  }
 ],
 "metadata": {
  "kernelspec": {
   "display_name": "Python 3 (ipykernel)",
   "language": "python",
   "name": "python3"
  },
  "language_info": {
   "codemirror_mode": {
    "name": "ipython",
    "version": 3
   },
   "file_extension": ".py",
   "mimetype": "text/x-python",
   "name": "python",
   "nbconvert_exporter": "python",
   "pygments_lexer": "ipython3",
   "version": "3.9.7"
  }
 },
 "nbformat": 4,
 "nbformat_minor": 5
}
