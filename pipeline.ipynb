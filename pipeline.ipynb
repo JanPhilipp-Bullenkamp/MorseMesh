{
 "cells": [
  {
   "cell_type": "code",
   "execution_count": 1,
   "id": "962e6b6e",
   "metadata": {},
   "outputs": [],
   "source": [
    "from src.morse import Morse\n",
    "\n",
    "import os"
   ]
  },
  {
   "cell_type": "markdown",
   "id": "9c2d7fdf",
   "metadata": {},
   "source": [
    "### Parameters:"
   ]
  },
  {
   "cell_type": "code",
   "execution_count": 2,
   "id": "d41636c7",
   "metadata": {},
   "outputs": [],
   "source": [
    "inverted = True\n",
    "persistences = [0.04]\n",
    "high_thresh = [0.08]\n",
    "low_thresh = [0.04]\n",
    "merge_thresh = [0.3]"
   ]
  },
  {
   "cell_type": "markdown",
   "id": "f65281aa",
   "metadata": {},
   "source": [
    "### Folder structure:\n",
    "should exist:\n",
    "- data folder\n",
    "    - curvature folder\n",
    "    - groundtruths folder\n",
    "\n",
    "will be added:\n",
    "- data folder\n",
    "    - results\n",
    "        - folder for each file with all parameters"
   ]
  },
  {
   "cell_type": "code",
   "execution_count": 3,
   "id": "ea49c53e",
   "metadata": {},
   "outputs": [],
   "source": [
    "folder = \"../../Data/artefacts/\"\n",
    "# index of relevant function value should be equal in all files\n",
    "quality_index = 3"
   ]
  },
  {
   "cell_type": "code",
   "execution_count": 4,
   "id": "352d7492",
   "metadata": {
    "scrolled": false
   },
   "outputs": [
    {
     "name": "stdout",
     "output_type": "stream",
     "text": [
      "-------------------------------------------------------\n",
      "Process file:  700_r1.00_n4_v256.volume.ply\n",
      "-------------------------------------------------------\n",
      "Time read data file: 4.663164489000337\n",
      "Time read and prepare data: 19.719139083998016\n",
      "Time ProcessLowerStar: 4.379854082999373\n",
      "Time ExtractMorseComplex and Separatrices: 5.462069457000325\n",
      "Time cancel critical points with  1.4130167365074158  persistence:  4.901705070002208\n",
      "Persistence was high enough that this complex is maximally reduced.\n",
      "Time cancel critical points with  0.04  persistence:  4.045654277000722\n",
      "Have  221  unlabelled boundary points left!\n",
      "Time get MorseCells for  0.04 persistence:  7.614298813001369\n",
      "Time getting double threshold salient edge points for  0.08 - 0.04 threshold: 0.040771128002234036\n",
      "Time get weighted ConnectivityGraph:  0.021596001999569125\n",
      "Time merging and simplifying Cells: 0.07910820500183036\n",
      "Segmented for 0.04 persistence Complex with 0.08 0.04 salient edge threshold and 30.0 % edge percentage merging threshold\n",
      "Got  12 differnt cell labels\n",
      "Time writing label txt file: 0.08041051599866478\n",
      "-------------------------------------------------------\n",
      "Process file:  729_r1.00_n4_v256.volume.ply\n",
      "-------------------------------------------------------\n",
      "Time read data file: 4.718198365000717\n",
      "Time read and prepare data: 22.685012952999386\n",
      "Time ProcessLowerStar: 4.728372353998566\n",
      "Time ExtractMorseComplex and Separatrices: 4.7900081440020585\n",
      "Time cancel critical points with  1.1393409371376038  persistence:  5.593244971001695\n",
      "Persistence was high enough that this complex is maximally reduced.\n",
      "Time cancel critical points with  0.04  persistence:  6.152741825000703\n",
      "Have  268  unlabelled boundary points left!\n",
      "Time get MorseCells for  0.04 persistence:  7.327147770996817\n",
      "Time getting double threshold salient edge points for  0.08 - 0.04 threshold: 0.03632599500269862\n",
      "Time get weighted ConnectivityGraph:  0.029338782998820534\n",
      "Time merging and simplifying Cells: 0.11172720499962452\n",
      "Segmented for 0.04 persistence Complex with 0.08 0.04 salient edge threshold and 30.0 % edge percentage merging threshold\n",
      "Got  1 differnt cell labels\n",
      "Time writing label txt file: 0.08220200600044336\n",
      "-------------------------------------------------------\n",
      "Process file:  695_r1.00_n4_v256.volume.ply\n",
      "-------------------------------------------------------\n",
      "Time read data file: 9.596785465000721\n"
     ]
    },
    {
     "ename": "KeyboardInterrupt",
     "evalue": "",
     "output_type": "error",
     "traceback": [
      "\u001b[0;31m---------------------------------------------------------------------------\u001b[0m",
      "\u001b[0;31mKeyboardInterrupt\u001b[0m                         Traceback (most recent call last)",
      "Input \u001b[0;32mIn [4]\u001b[0m, in \u001b[0;36m<cell line: 4>\u001b[0;34m()\u001b[0m\n\u001b[1;32m     14\u001b[0m \u001b[38;5;28mprint\u001b[39m(\u001b[38;5;124m\"\u001b[39m\u001b[38;5;124m-------------------------------------------------------\u001b[39m\u001b[38;5;124m\"\u001b[39m)\n\u001b[1;32m     15\u001b[0m data \u001b[38;5;241m=\u001b[39m Morse()\n\u001b[0;32m---> 16\u001b[0m \u001b[43mdata\u001b[49m\u001b[38;5;241;43m.\u001b[39;49m\u001b[43mPipeline\u001b[49m\u001b[43m(\u001b[49m\u001b[43minfilename\u001b[49m\u001b[43m,\u001b[49m\u001b[43m \u001b[49m\u001b[43moutfilename\u001b[49m\u001b[43m,\u001b[49m\u001b[43m \u001b[49m\u001b[43mquality_index\u001b[49m\u001b[43m,\u001b[49m\u001b[43m \u001b[49m\u001b[43minverted\u001b[49m\u001b[43m,\u001b[49m\u001b[43m \u001b[49m\n\u001b[1;32m     17\u001b[0m \u001b[43m              \u001b[49m\u001b[43mpersistences\u001b[49m\u001b[43m,\u001b[49m\u001b[43m \u001b[49m\u001b[43mhigh_thresh\u001b[49m\u001b[43m,\u001b[49m\u001b[43m \u001b[49m\u001b[43mlow_thresh\u001b[49m\u001b[43m,\u001b[49m\u001b[43m \u001b[49m\u001b[43mmerge_thresh\u001b[49m\u001b[43m)\u001b[49m\n",
      "File \u001b[0;32m~/Documents/Code/MorseTheory/src/morse.py:467\u001b[0m, in \u001b[0;36mMorse.Pipeline\u001b[0;34m(self, infilename, outfilename, quality_index, inverted, persistences, high_thresh, low_thresh, merge_thresh)\u001b[0m\n\u001b[1;32m    465\u001b[0m \u001b[38;5;28;01mwith\u001b[39;00m \u001b[38;5;28mopen\u001b[39m(outfilename\u001b[38;5;241m+\u001b[39m\u001b[38;5;124m\"\u001b[39m\u001b[38;5;124m_timings.txt\u001b[39m\u001b[38;5;124m\"\u001b[39m, \u001b[38;5;124m\"\u001b[39m\u001b[38;5;124mw\u001b[39m\u001b[38;5;124m\"\u001b[39m) \u001b[38;5;28;01mas\u001b[39;00m f:\n\u001b[1;32m    466\u001b[0m     t1 \u001b[38;5;241m=\u001b[39m timeit\u001b[38;5;241m.\u001b[39mdefault_timer()\n\u001b[0;32m--> 467\u001b[0m     \u001b[38;5;28;43mself\u001b[39;49m\u001b[38;5;241;43m.\u001b[39;49m\u001b[43mload_mesh_ply\u001b[49m\u001b[43m(\u001b[49m\u001b[43minfilename\u001b[49m\u001b[43m,\u001b[49m\u001b[43m \u001b[49m\u001b[43mquality_index\u001b[49m\u001b[43m,\u001b[49m\u001b[43m \u001b[49m\u001b[43minverted\u001b[49m\u001b[43m)\u001b[49m\n\u001b[1;32m    468\u001b[0m     t2 \u001b[38;5;241m=\u001b[39m timeit\u001b[38;5;241m.\u001b[39mdefault_timer()\n\u001b[1;32m    469\u001b[0m     f\u001b[38;5;241m.\u001b[39mwrite(\u001b[38;5;124m\"\u001b[39m\u001b[38;5;124mReadData: \u001b[39m\u001b[38;5;124m\"\u001b[39m\u001b[38;5;241m+\u001b[39m\u001b[38;5;28mstr\u001b[39m(t2\u001b[38;5;241m-\u001b[39mt1)\u001b[38;5;241m+\u001b[39m\u001b[38;5;124m\"\u001b[39m\u001b[38;5;130;01m\\n\u001b[39;00m\u001b[38;5;124m\"\u001b[39m)\n",
      "File \u001b[0;32m~/Documents/Code/MorseTheory/src/morse.py:68\u001b[0m, in \u001b[0;36mMorse.load_mesh_ply\u001b[0;34m(self, filename, quality_index, inverted)\u001b[0m\n\u001b[1;32m     67\u001b[0m \u001b[38;5;28;01mdef\u001b[39;00m \u001b[38;5;21mload_mesh_ply\u001b[39m(\u001b[38;5;28mself\u001b[39m, filename, quality_index, inverted\u001b[38;5;241m=\u001b[39m\u001b[38;5;28;01mFalse\u001b[39;00m):\n\u001b[0;32m---> 68\u001b[0m     min_val, max_val \u001b[38;5;241m=\u001b[39m \u001b[43mread_ply\u001b[49m\u001b[43m(\u001b[49m\u001b[43mfilename\u001b[49m\u001b[43m,\u001b[49m\u001b[43m \u001b[49m\u001b[43mquality_index\u001b[49m\u001b[43m,\u001b[49m\u001b[43m \u001b[49m\u001b[38;5;28;43mself\u001b[39;49m\u001b[38;5;241;43m.\u001b[39;49m\u001b[43mVertices\u001b[49m\u001b[43m,\u001b[49m\u001b[43m \u001b[49m\n\u001b[1;32m     69\u001b[0m \u001b[43m                                \u001b[49m\u001b[38;5;28;43mself\u001b[39;49m\u001b[38;5;241;43m.\u001b[39;49m\u001b[43mEdges\u001b[49m\u001b[43m,\u001b[49m\u001b[43m \u001b[49m\u001b[38;5;28;43mself\u001b[39;49m\u001b[38;5;241;43m.\u001b[39;49m\u001b[43mFaces\u001b[49m\u001b[43m,\u001b[49m\u001b[43m \u001b[49m\u001b[43minverted\u001b[49m\u001b[38;5;241;43m=\u001b[39;49m\u001b[43minverted\u001b[49m\u001b[43m)\u001b[49m\n\u001b[1;32m     70\u001b[0m     \u001b[38;5;28mself\u001b[39m\u001b[38;5;241m.\u001b[39mfilename \u001b[38;5;241m=\u001b[39m os\u001b[38;5;241m.\u001b[39mpath\u001b[38;5;241m.\u001b[39msplitext(filename)[\u001b[38;5;241m0\u001b[39m]\n\u001b[1;32m     71\u001b[0m     \u001b[38;5;28mself\u001b[39m\u001b[38;5;241m.\u001b[39mmin \u001b[38;5;241m=\u001b[39m min_val\n",
      "File \u001b[0;32m~/Documents/Code/MorseTheory/src/Algorithms/LoadData/read_ply.py:89\u001b[0m, in \u001b[0;36mread_ply\u001b[0;34m(filename, quality_index, vertices_dict, edges_dict, faces_dict, inverted)\u001b[0m\n\u001b[1;32m     87\u001b[0m \u001b[38;5;28;01mif\u001b[39;00m \u001b[38;5;28mset\u001b[39m(tmp) \u001b[38;5;129;01mnot\u001b[39;00m \u001b[38;5;129;01min\u001b[39;00m unique_edges:\n\u001b[1;32m     88\u001b[0m     edge \u001b[38;5;241m=\u001b[39m Edge(indices\u001b[38;5;241m=\u001b[39m\u001b[38;5;28mset\u001b[39m(tmp), index\u001b[38;5;241m=\u001b[39meindex)\n\u001b[0;32m---> 89\u001b[0m     \u001b[43medge\u001b[49m\u001b[38;5;241;43m.\u001b[39;49m\u001b[43mset_fun_val\u001b[49m\u001b[43m(\u001b[49m\u001b[43mvertices_dict\u001b[49m\u001b[43m)\u001b[49m\n\u001b[1;32m     91\u001b[0m     edges_dict[eindex] \u001b[38;5;241m=\u001b[39m edge\n\u001b[1;32m     92\u001b[0m     \u001b[38;5;28;01mfor\u001b[39;00m tmp_ed_ind \u001b[38;5;129;01min\u001b[39;00m tmp:\n",
      "File \u001b[0;32m~/Documents/Code/MorseTheory/src/Algorithms/LoadData/Datastructure.py:145\u001b[0m, in \u001b[0;36mEdge.set_fun_val\u001b[0;34m(self, vertices_dict)\u001b[0m\n\u001b[1;32m    137\u001b[0m \u001b[38;5;124;03m\"\"\"! @brief Sets the function value of the edge.\u001b[39;00m\n\u001b[1;32m    138\u001b[0m \u001b[38;5;124;03m@details Uses the two function values of the vertices and sorts them such \u001b[39;00m\n\u001b[1;32m    139\u001b[0m \u001b[38;5;124;03mthat the first value is the larger function value.\u001b[39;00m\n\u001b[0;32m   (...)\u001b[0m\n\u001b[1;32m    142\u001b[0m \u001b[38;5;124;03mindices of the vertices.\u001b[39;00m\n\u001b[1;32m    143\u001b[0m \u001b[38;5;124;03m\"\"\"\u001b[39;00m\n\u001b[1;32m    144\u001b[0m \u001b[38;5;28mself\u001b[39m\u001b[38;5;241m.\u001b[39mfun_val \u001b[38;5;241m=\u001b[39m []\n\u001b[0;32m--> 145\u001b[0m \u001b[38;5;28;01mfor\u001b[39;00m ind \u001b[38;5;129;01min\u001b[39;00m \u001b[38;5;28mself\u001b[39m\u001b[38;5;241m.\u001b[39mindices:\n\u001b[1;32m    146\u001b[0m     \u001b[38;5;28mself\u001b[39m\u001b[38;5;241m.\u001b[39mfun_val\u001b[38;5;241m.\u001b[39mappend(vertices_dict[ind]\u001b[38;5;241m.\u001b[39mfun_val)\n\u001b[1;32m    147\u001b[0m     \u001b[38;5;66;03m# not needed?\u001b[39;00m\n\u001b[1;32m    148\u001b[0m     \u001b[38;5;66;03m#if vertices_dict[ind].fun_val == max(self.fun_val):\u001b[39;00m\n\u001b[1;32m    149\u001b[0m     \u001b[38;5;66;03m#    self.max_fun_val_index = ind\u001b[39;00m\n",
      "\u001b[0;31mKeyboardInterrupt\u001b[0m: "
     ]
    }
   ],
   "source": [
    "if not os.path.exists(folder + \"results/\"):\n",
    "    os.makedirs(folder + \"results/\")\n",
    "    \n",
    "for filename in os.listdir(folder+\"curvature/\"):\n",
    "    if filename.endswith(\".ply\"):\n",
    "        infilename = folder + \"curvature/\" + str(filename)\n",
    "        outfilename =  folder + \"results/\" + str(os.path.splitext(filename)[0]) + \"/\" + str(os.path.splitext(filename)[0])\n",
    "        \n",
    "        if not os.path.exists(folder + \"results/\" + str(os.path.splitext(filename)[0]) + \"/\"):\n",
    "            os.makedirs(folder + \"results/\" + str(os.path.splitext(filename)[0]) + \"/\")\n",
    "        \n",
    "        print(\"-------------------------------------------------------\")\n",
    "        print(\"Process file: \", filename)\n",
    "        print(\"-------------------------------------------------------\")\n",
    "        data = Morse()\n",
    "        data.Pipeline(infilename, outfilename, quality_index, inverted, \n",
    "                      persistences, high_thresh, low_thresh, merge_thresh)"
   ]
  },
  {
   "cell_type": "code",
   "execution_count": null,
   "id": "103536e1",
   "metadata": {},
   "outputs": [],
   "source": []
  }
 ],
 "metadata": {
  "kernelspec": {
   "display_name": "Python 3 (ipykernel)",
   "language": "python",
   "name": "python3"
  },
  "language_info": {
   "codemirror_mode": {
    "name": "ipython",
    "version": 3
   },
   "file_extension": ".py",
   "mimetype": "text/x-python",
   "name": "python",
   "nbconvert_exporter": "python",
   "pygments_lexer": "ipython3",
   "version": "3.9.12"
  }
 },
 "nbformat": 4,
 "nbformat_minor": 5
}
