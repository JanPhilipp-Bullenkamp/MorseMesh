{
 "cells": [
  {
   "cell_type": "code",
   "execution_count": 1,
   "id": "962e6b6e",
   "metadata": {},
   "outputs": [],
   "source": [
    "from src.morse import Morse\n",
    "\n",
    "import os"
   ]
  },
  {
   "cell_type": "markdown",
   "id": "9c2d7fdf",
   "metadata": {},
   "source": [
    "### Parameters:"
   ]
  },
  {
   "cell_type": "code",
   "execution_count": 2,
   "id": "d41636c7",
   "metadata": {},
   "outputs": [],
   "source": [
    "inverted = True\n",
    "persistences = [0.04]\n",
    "high_thresh = [0.08]\n",
    "low_thresh = [0.04]\n",
    "merge_thresh = [0.5]"
   ]
  },
  {
   "cell_type": "markdown",
   "id": "f65281aa",
   "metadata": {},
   "source": [
    "### Folder structure:\n",
    "should exist:\n",
    "- data folder\n",
    "    - curvature folder\n",
    "    - groundtruths folder\n",
    "\n",
    "will be added:\n",
    "- data folder\n",
    "    - results\n",
    "        - folder for each file with all parameters"
   ]
  },
  {
   "cell_type": "code",
   "execution_count": 3,
   "id": "ea49c53e",
   "metadata": {},
   "outputs": [],
   "source": [
    "folder = \"Data/Test_new_stuff/\"\n",
    "# index of relevant function value should be equal in all files\n",
    "quality_index = 3"
   ]
  },
  {
   "cell_type": "code",
   "execution_count": 4,
   "id": "352d7492",
   "metadata": {},
   "outputs": [
    {
     "name": "stdout",
     "output_type": "stream",
     "text": [
      "Time read data file: 4.1594926\n",
      "Time read and prepare data: 11.1912278\n",
      "Time ProcessLowerStar: 4.2767018\n",
      "Time ExtractMorseComplex and Separatrices: 2.8061104000000014\n",
      "Time cancel critical points with  1.193320393562317  persistence:  3.0566852000000004\n",
      "Persistence was high enough that this complex is maximally reduced.\n",
      "Time cancel critical points with  0.04  persistence:  2.2865927999999975\n",
      "Time get MorseCells for  0.04 persistence:  37.2713664\n",
      "Time fill neighbors for MorseCells:  45.823796300000005\n",
      "Time getting double threshold salient edge points for  0.08 - 0.04 threshold: 0.033216800000005264\n",
      "Time get weighted ConnectivityGraph:  0.0549474000000032\n",
      "Time merging and simplifying Cells: 0.24878919999999027\n",
      "Segmented for 0.04 persistence Complex with 0.08 0.04 salient edge threshold and 50.0 % edge percentage merging threshold\n",
      "Got  8 differnt cell labels\n",
      "Time writing label txt file: 0.16553899999999544\n",
      "Time read data file: 1.0585066999999952\n",
      "Time read and prepare data: 2.802153000000004\n",
      "Time ProcessLowerStar: 0.9918147000000062\n",
      "Time ExtractMorseComplex and Separatrices: 0.6180771000000078\n",
      "Time cancel critical points with  0.7587330639362335  persistence:  0.7330325000000073\n",
      "Persistence was high enough that this complex is maximally reduced.\n",
      "Time cancel critical points with  0.04  persistence:  0.8925655999999975\n",
      "Time get MorseCells for  0.04 persistence:  0.7881890999999968\n",
      "Time fill neighbors for MorseCells:  0.9649074999999954\n",
      "Time getting double threshold salient edge points for  0.08 - 0.04 threshold: 0.00918360000000007\n",
      "Time get weighted ConnectivityGraph:  0.00752009999999359\n",
      "Time merging and simplifying Cells: 0.02806079999999156\n",
      "Segmented for 0.04 persistence Complex with 0.08 0.04 salient edge threshold and 50.0 % edge percentage merging threshold\n",
      "Got  4 differnt cell labels\n",
      "Time writing label txt file: 0.04536229999999364\n",
      "Time read data file: 11.47324039999998\n",
      "Time read and prepare data: 29.899646000000004\n",
      "Time ProcessLowerStar: 11.461186499999997\n",
      "Time ExtractMorseComplex and Separatrices: 8.877409200000017\n",
      "Time cancel critical points with  1.424807846546173  persistence:  6.823022600000002\n",
      "Persistence was high enough that this complex is maximally reduced.\n",
      "Time cancel critical points with  0.04  persistence:  6.5872049000000175\n",
      "Time get MorseCells for  0.04 persistence:  286.945073\n",
      "Time fill neighbors for MorseCells:  351.1048979\n",
      "Time getting double threshold salient edge points for  0.08 - 0.04 threshold: 0.09127000000000862\n",
      "Time get weighted ConnectivityGraph:  0.14666380000005574\n",
      "Time merging and simplifying Cells: 0.7268885999999384\n",
      "Segmented for 0.04 persistence Complex with 0.08 0.04 salient edge threshold and 50.0 % edge percentage merging threshold\n",
      "Got  13 differnt cell labels\n",
      "Time writing label txt file: 0.44201619999989816\n"
     ]
    }
   ],
   "source": [
    "if not os.path.exists(folder + \"results/\"):\n",
    "    os.makedirs(folder + \"results/\")\n",
    "    \n",
    "for filename in os.listdir(folder+\"curvature/\"):\n",
    "    if filename.endswith(\".ply\"):\n",
    "        infilename = folder + \"curvature/\" + str(filename)\n",
    "        outfilename =  folder + \"results/\" + str(os.path.splitext(filename)[0]) + \"/\" + str(os.path.splitext(filename)[0])\n",
    "        \n",
    "        if not os.path.exists(folder + \"results/\" + str(os.path.splitext(filename)[0]) + \"/\"):\n",
    "            os.makedirs(folder + \"results/\" + str(os.path.splitext(filename)[0]) + \"/\")\n",
    "        \n",
    "        data = Morse()\n",
    "        data.Pipeline(infilename, outfilename, quality_index, inverted, \n",
    "                      persistences, high_thresh, low_thresh, merge_thresh)"
   ]
  },
  {
   "cell_type": "code",
   "execution_count": null,
   "id": "103536e1",
   "metadata": {},
   "outputs": [],
   "source": []
  }
 ],
 "metadata": {
  "kernelspec": {
   "display_name": "Python 3 (ipykernel)",
   "language": "python",
   "name": "python3"
  },
  "language_info": {
   "codemirror_mode": {
    "name": "ipython",
    "version": 3
   },
   "file_extension": ".py",
   "mimetype": "text/x-python",
   "name": "python",
   "nbconvert_exporter": "python",
   "pygments_lexer": "ipython3",
   "version": "3.9.7"
  }
 },
 "nbformat": 4,
 "nbformat_minor": 5
}
