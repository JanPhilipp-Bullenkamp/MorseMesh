{
 "cells": [
  {
   "cell_type": "code",
   "execution_count": 1,
   "id": "962e6b6e",
   "metadata": {},
   "outputs": [],
   "source": [
    "from src.morse import Morse\n",
    "\n",
    "import os"
   ]
  },
  {
   "cell_type": "markdown",
   "id": "9c2d7fdf",
   "metadata": {},
   "source": [
    "### Parameters:"
   ]
  },
  {
   "cell_type": "code",
   "execution_count": 2,
   "id": "d41636c7",
   "metadata": {},
   "outputs": [],
   "source": [
    "inverted = True\n",
    "persistences = [0.04]\n",
    "high_thresh = [0.08]\n",
    "low_thresh = [0.04]\n",
    "merge_thresh = [0.5]"
   ]
  },
  {
   "cell_type": "markdown",
   "id": "f65281aa",
   "metadata": {},
   "source": [
    "### Folder structure:\n",
    "should exist:\n",
    "- data folder\n",
    "    - curvature folder\n",
    "    - groundtruths folder\n",
    "\n",
    "will be added:\n",
    "- data folder\n",
    "    - results\n",
    "        - folder for each file with all parameters"
   ]
  },
  {
   "cell_type": "code",
   "execution_count": 3,
   "id": "ea49c53e",
   "metadata": {},
   "outputs": [],
   "source": [
    "folder = \"Data/Test_new_stuff/\"\n",
    "# index of relevant function value should be equal in all files\n",
    "quality_index = 3"
   ]
  },
  {
   "cell_type": "code",
   "execution_count": 4,
   "id": "352d7492",
   "metadata": {},
   "outputs": [
    {
     "name": "stdout",
     "output_type": "stream",
     "text": [
      "Time read data file: 1.098037\n",
      "Time read and prepare data: 3.0597190999999997\n",
      "Time ProcessLowerStar: 1.2329156999999995\n",
      "Time ExtractMorseComplex and Separatrices: 0.7736466999999996\n",
      "Time cancel critical points with  0.7587330639362335  persistence:  1.2801834000000003\n",
      "Persistence was high enough that this complex is maximally reduced.\n",
      "Time cancel critical points with  0.04  persistence:  1.3587011000000002\n",
      "Time get MorseCells for  0.04 persistence:  1.3263901000000011\n",
      "Time fill neighbors for MorseCells:  1.6184973000000014\n",
      "Time getting double threshold salient edge points for  0.08 - 0.04 threshold: 0.012230399999999975\n",
      "Time get weighted ConnectivityGraph:  0.011257699999999815\n",
      "Time merging and simplifying Cells: 0.043139800000000506\n",
      "Segmented for 0.04 persistence Complex with 0.08 0.04 salient edge threshold and 50.0 % edge percentage merging threshold\n",
      "Got  4 differnt cell labels\n",
      "Time writing label txt file: 0.06556899999999999\n",
      "Time read data file: 18.5801504\n",
      "Time read and prepare data: 42.797798900000004\n",
      "Time ProcessLowerStar: 11.342734\n",
      "Time ExtractMorseComplex and Separatrices: 8.551491900000002\n",
      "Time cancel critical points with  1.424807846546173  persistence:  6.7256287000000015\n",
      "Persistence was high enough that this complex is maximally reduced.\n",
      "Time cancel critical points with  0.04  persistence:  8.420727400000004\n",
      "Time get MorseCells for  0.04 persistence:  276.72928609999997\n",
      "Time fill neighbors for MorseCells:  359.48516\n",
      "Time getting double threshold salient edge points for  0.08 - 0.04 threshold: 0.11868739999999889\n",
      "Time get weighted ConnectivityGraph:  0.1379252000000406\n",
      "Time merging and simplifying Cells: 0.6995074999999815\n",
      "Segmented for 0.04 persistence Complex with 0.08 0.04 salient edge threshold and 50.0 % edge percentage merging threshold\n",
      "Got  22 differnt cell labels\n",
      "Time writing label txt file: 0.4270735000000059\n"
     ]
    }
   ],
   "source": [
    "if not os.path.exists(folder + \"results/\"):\n",
    "    os.makedirs(folder + \"results/\")\n",
    "    \n",
    "for filename in os.listdir(folder+\"curvature/\"):\n",
    "    if filename.endswith(\".ply\"):\n",
    "        infilename = folder + \"curvature/\" + str(filename)\n",
    "        outfilename =  folder + \"results/\" + str(os.path.splitext(filename)[0]) + \"/\" + str(os.path.splitext(filename)[0])\n",
    "        \n",
    "        if not os.path.exists(folder + \"results/\" + str(os.path.splitext(filename)[0]) + \"/\"):\n",
    "            os.makedirs(folder + \"results/\" + str(os.path.splitext(filename)[0]) + \"/\")\n",
    "        \n",
    "        data = Morse()\n",
    "        data.Pipeline(infilename, outfilename, quality_index, inverted, \n",
    "                      persistences, high_thresh, low_thresh, merge_thresh)"
   ]
  },
  {
   "cell_type": "code",
   "execution_count": null,
   "id": "103536e1",
   "metadata": {},
   "outputs": [],
   "source": []
  }
 ],
 "metadata": {
  "kernelspec": {
   "display_name": "Python 3 (ipykernel)",
   "language": "python",
   "name": "python3"
  },
  "language_info": {
   "codemirror_mode": {
    "name": "ipython",
    "version": 3
   },
   "file_extension": ".py",
   "mimetype": "text/x-python",
   "name": "python",
   "nbconvert_exporter": "python",
   "pygments_lexer": "ipython3",
   "version": "3.9.7"
  }
 },
 "nbformat": 4,
 "nbformat_minor": 5
}
