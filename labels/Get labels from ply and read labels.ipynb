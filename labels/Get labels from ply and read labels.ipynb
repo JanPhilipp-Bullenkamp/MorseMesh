{
 "cells": [
  {
   "cell_type": "code",
   "execution_count": 2,
   "metadata": {},
   "outputs": [],
   "source": [
    "from clean_gt import clean_gt, read_label_txt"
   ]
  },
  {
   "cell_type": "markdown",
   "metadata": {},
   "source": [
    "# Painted ply -> label txt"
   ]
  },
  {
   "cell_type": "code",
   "execution_count": 3,
   "metadata": {},
   "outputs": [
    {
     "name": "stdout",
     "output_type": "stream",
     "text": [
      "Length labels:  3\n",
      "Length labels after clean:  3\n",
      "Time read labels in ply file data: 0.1229252000048291\n"
     ]
    }
   ],
   "source": [
    "ply_filename = \"torus_32_colored.ply\"\n",
    "label_filename = \"torus_32_labels\"\n",
    "labels = clean_gt(ply_filename, label_filename, 0)"
   ]
  },
  {
   "cell_type": "markdown",
   "metadata": {},
   "source": [
    "# Label txt -> label dictionary \n",
    "\n",
    "labels already was label dictionary (is returned when writing the labels txt)"
   ]
  },
  {
   "cell_type": "code",
   "execution_count": 4,
   "metadata": {},
   "outputs": [
    {
     "name": "stdout",
     "output_type": "stream",
     "text": [
      "Time read labels in txt file: 0.01697029999922961\n"
     ]
    }
   ],
   "source": [
    "labels = read_label_txt(label_filename+\".txt\")"
   ]
  },
  {
   "cell_type": "code",
   "execution_count": 5,
   "metadata": {},
   "outputs": [
    {
     "name": "stdout",
     "output_type": "stream",
     "text": [
      "Label  1  has  953  vertices\n",
      "Label  2  has  22  vertices\n",
      "Label  3  has  17  vertices\n"
     ]
    }
   ],
   "source": [
    "for label_id, indices in labels.items():\n",
    "    print(\"Label \", label_id, \" has \", len(indices), \" vertices\")"
   ]
  },
  {
   "cell_type": "code",
   "execution_count": null,
   "metadata": {},
   "outputs": [],
   "source": []
  }
 ],
 "metadata": {
  "kernelspec": {
   "display_name": "Python 3",
   "language": "python",
   "name": "python3"
  },
  "language_info": {
   "codemirror_mode": {
    "name": "ipython",
    "version": 3
   },
   "file_extension": ".py",
   "mimetype": "text/x-python",
   "name": "python",
   "nbconvert_exporter": "python",
   "pygments_lexer": "ipython3",
   "version": "3.10.4"
  },
  "vscode": {
   "interpreter": {
    "hash": "369f2c481f4da34e4445cda3fffd2e751bd1c4d706f27375911949ba6bb62e1c"
   }
  }
 },
 "nbformat": 4,
 "nbformat_minor": 5
}
