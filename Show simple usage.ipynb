{
 "cells": [
  {
   "cell_type": "markdown",
   "id": "aa7879b7",
   "metadata": {},
   "source": [
    "## Need to import the Morse class"
   ]
  },
  {
   "cell_type": "code",
   "execution_count": 1,
   "id": "ff4e6f38",
   "metadata": {},
   "outputs": [
    {
     "ename": "SyntaxError",
     "evalue": "invalid syntax (Datastructure.py, line 472)",
     "output_type": "error",
     "traceback": [
      "Traceback \u001b[0;36m(most recent call last)\u001b[0m:\n",
      "  File \u001b[1;32m~/anaconda3/lib/python3.9/site-packages/IPython/core/interactiveshell.py:3369\u001b[0m in \u001b[1;35mrun_code\u001b[0m\n    exec(code_obj, self.user_global_ns, self.user_ns)\n",
      "  Input \u001b[1;32mIn [1]\u001b[0m in \u001b[1;35m<cell line: 1>\u001b[0m\n    from src.morse import Morse\n",
      "\u001b[0;36m  File \u001b[0;32m~/Documents/Code/MorseTheory/src/morse.py:30\u001b[0;36m in \u001b[0;35m<module>\u001b[0;36m\u001b[0m\n\u001b[0;31m    from src.Algorithms.LoadData.Datastructure import Vertex, Edge, Face\u001b[0m\n",
      "\u001b[0;36m  File \u001b[0;32m~/Documents/Code/MorseTheory/src/Algorithms/LoadData/Datastructure.py:472\u001b[0;36m\u001b[0m\n\u001b[0;31m    def add_boundary_to_label(self, label, index)\u001b[0m\n\u001b[0m                                                 ^\u001b[0m\n\u001b[0;31mSyntaxError\u001b[0m\u001b[0;31m:\u001b[0m invalid syntax\n"
     ]
    }
   ],
   "source": [
    "from src.morse import Morse"
   ]
  },
  {
   "cell_type": "markdown",
   "id": "db3d7bf2",
   "metadata": {},
   "source": [
    "## Initialize Morse class"
   ]
  },
  {
   "cell_type": "code",
   "execution_count": null,
   "id": "713fdeea",
   "metadata": {},
   "outputs": [],
   "source": [
    "data = Morse()"
   ]
  },
  {
   "cell_type": "markdown",
   "id": "dbe41d12",
   "metadata": {},
   "source": [
    "##  Load ply file into the Morse class\n",
    "Use the function: **.load_mesh_ply(filename, quality_index, inverted=False)**\n",
    "\n",
    "- **filename:** The path to the ply file you want to load\n",
    "- **quality_index:** The position index where the Morse function value are saved in the ply file (e.g. 3 if you want the quality value and the plyfile has the properties x,y,z,quality; or if you want to take the height function/z-value: choose 2)\n",
    "- **inverted:** Optional, default is false. Multiplies the Morse function with -1 -> min will become max and max will become min."
   ]
  },
  {
   "cell_type": "code",
   "execution_count": null,
   "id": "8d30dddf",
   "metadata": {},
   "outputs": [],
   "source": [
    "#file = \"../../Data/vase_reduced_cleaned.ply\"\n",
    "file = \"../../Data/artefact_31_test/curvature/31_r1.00_n4_v256.volume.ply\"\n",
    "data.load_mesh_ply(file, quality_index=3)"
   ]
  },
  {
   "cell_type": "markdown",
   "id": "c11a0efc",
   "metadata": {},
   "source": [
    "## Dataset info (Optional)\n",
    "Prints out info like Vertices, Edges and Faces, as well as the Morse function range"
   ]
  },
  {
   "cell_type": "code",
   "execution_count": null,
   "id": "d27b6d4d",
   "metadata": {},
   "outputs": [],
   "source": [
    "data.info()"
   ]
  },
  {
   "cell_type": "markdown",
   "id": "7b904c38",
   "metadata": {},
   "source": [
    "## Perform Morse Complex Calculations\n",
    "Use the functions **.ProcessLowerStars()** and **.ExtractMorseComplex()**\n",
    "- **ProcessLowerStars()** calculates the discrete vector field\n",
    "- **ExtractMorseComplex()** calculates the Morse complex, so finds the neighborhood relations between critical simplices by finding separatrices from maxima to saddles and from saddles to minima"
   ]
  },
  {
   "cell_type": "code",
   "execution_count": null,
   "id": "e78790c0",
   "metadata": {},
   "outputs": [],
   "source": [
    "data.ProcessLowerStars()\n",
    "data.ExtractMorseComplex()"
   ]
  },
  {
   "cell_type": "markdown",
   "id": "6c87fc47",
   "metadata": {},
   "source": [
    "## Get Morse Complex info (Optional)\n",
    "Prints out infos on the original Morse complex like number of critical vertices, crit. edges and crit. faces. Persistence should be 0 on the original complex."
   ]
  },
  {
   "cell_type": "code",
   "execution_count": null,
   "id": "51ca4d51",
   "metadata": {},
   "outputs": [],
   "source": [
    "data.MorseComplex.info()"
   ]
  },
  {
   "cell_type": "code",
   "execution_count": null,
   "id": "cd1d9c3d",
   "metadata": {},
   "outputs": [],
   "source": [
    "#labelfile_name = \"../../Data/vase_cells_only_label\" # the .txt extension is written automatically\n",
    "labelfile_name = \"../../Data/31_only_label\" # the .txt extension is written automatically\n",
    "\n",
    "data.ExtractMorseCells(0)\n",
    "data.write_MorseCellLabels(0, labelfile_name)"
   ]
  },
  {
   "cell_type": "markdown",
   "id": "6c19a249",
   "metadata": {},
   "source": [
    "## Reduce Morse complex (using Persistence)\n",
    "Use the function **.ReduceMorseComplex(persistence)**\n",
    "- **persistence:** The persistence level up to which the Morse complex should be simplified. (neighboring critical simplices will be cancelled, (if topologically possible,) if their Morse function value difference is less than the persistence.\n",
    "\n",
    "The reduced complex will be stored in a dictionary **data.reducedMorseComplexes[persistence]** which allows to calculate several persistences. Can be accessed using the persistence as key."
   ]
  },
  {
   "cell_type": "code",
   "execution_count": null,
   "id": "5a57cc0b",
   "metadata": {},
   "outputs": [],
   "source": [
    "#labelfile_name = \"../../Data/vase_cells_only_label_001\" # the .txt extension is written automatically\n",
    "labelfile_name = \"../../Data/31_only_label_004\" # the .txt extension is written automatically\n",
    "\n",
    "data.ExtractMorseCells(0.04)\n",
    "data.write_MorseCellLabels(0.04, labelfile_name)"
   ]
  },
  {
   "cell_type": "markdown",
   "id": "88794af5",
   "metadata": {},
   "source": [
    "## Plot option for Gigamesh (there are several also for writing meshlab overlay files..)\n",
    "Uses a labels for each Morse cell to write a label file which can be read by Gigamesh for visualization.\n",
    "Need to Extract Morse cells first with **.ExtractMorseCells(persistence)** and than **.write_MorseCellLabels(persistence, filename)** to write the according label file. \n",
    "- **persistence:** The persistence of the Morse complex you want to visualize\n",
    "- **filename:** filename where the label file should be stored"
   ]
  },
  {
   "cell_type": "code",
   "execution_count": null,
   "id": "58f6e80f",
   "metadata": {},
   "outputs": [],
   "source": [
    "#labelfile_name = \"abc_labels\" # the .txt extension is written automatically\n",
    "\n",
    "#data.ExtractMorseCells(3)\n",
    "#data.write_MorseCellLabels(3, labelfile_name)"
   ]
  },
  {
   "cell_type": "markdown",
   "id": "2baafdb7",
   "metadata": {},
   "source": [
    "## Visualize in Gigamesh:\n",
    "(Maybe the develop version of gigamesh is required, since import labels migth not be in the website version)\n",
    "1. Load the ply file into Gigamesh\n",
    "2. Choose Import labels under **File - Import - Import Labels** and load the written output label file\n",
    "3. Vertex in first column: YES \n",
    "4. Select **Labels-Connected Comp.** on the right to see the Morse cells of the Morse complex"
   ]
  },
  {
   "cell_type": "code",
   "execution_count": null,
   "id": "88a63dc7",
   "metadata": {},
   "outputs": [],
   "source": []
  }
 ],
 "metadata": {
  "kernelspec": {
   "display_name": "Python 3 (ipykernel)",
   "language": "python",
   "name": "python3"
  },
  "language_info": {
   "codemirror_mode": {
    "name": "ipython",
    "version": 3
   },
   "file_extension": ".py",
   "mimetype": "text/x-python",
   "name": "python",
   "nbconvert_exporter": "python",
   "pygments_lexer": "ipython3",
   "version": "3.9.12"
  }
 },
 "nbformat": 4,
 "nbformat_minor": 5
}
