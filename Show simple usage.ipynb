{
 "cells": [
  {
   "cell_type": "markdown",
   "id": "aa7879b7",
   "metadata": {},
   "source": [
    "## Need to import the Morse class"
   ]
  },
  {
   "cell_type": "code",
   "execution_count": 4,
   "id": "0f2e5511",
   "metadata": {},
   "outputs": [
    {
     "name": "stdout",
     "output_type": "stream",
     "text": [
      "load_mesh_ply took 0.68049 seconds to execute!\n",
      "ProcessLowerStars took 0.10933 seconds to execute!\n",
      "ExtractMorseComplex took 0.22246 seconds to execute!\n",
      "ReduceMorseComplex took 0.08411 seconds to execute!\n",
      "plot_MorseComplex_ply took 0.14608 seconds to execute!\n"
     ]
    }
   ],
   "source": [
    "from src.morse import Morse\n",
    "data = Morse()\n",
    "\n",
    "file = \"../../Data/test_objects/cube_large_r0.30_n4_v256.volume.ply\"\n",
    "#file = \"../../Data/vase_reduced_cleaned.ply\"\n",
    "#file = \"../../Data/artefact_31_test/curvature/31_r1.00_n4_v256.volume.ply\"\n",
    "#file = \"../../Data/graz/steinbruchwand_ttvc_gmo_2022-11-05_0934/Steinbruchwand_TTVC_GMO_cut_150x200_r15.00_n4_v256.volume.ply\"\n",
    "data.load_mesh_ply(file, quality_index=3, inverted=True)\n",
    "data.ProcessLowerStars()\n",
    "data.ExtractMorseComplex()\n",
    "data.ReduceMorseComplex(0.01)\n",
    "#pers = 0.06\n",
    "#data.ExtractMorseCells(pers)\n",
    "labelfilename = \"../old_MorseTheory/Data/results/test_new_mscomplex_visualization_001_false\"\n",
    "data.plot_MorseComplex_ply(0.01,labelfilename, detailed=False, separate_points_file=False)"
   ]
  },
  {
   "cell_type": "code",
   "execution_count": 1,
   "id": "a5e5084c",
   "metadata": {},
   "outputs": [
    {
     "name": "stdout",
     "output_type": "stream",
     "text": [
      "Flipparameter:  1\n",
      "Flipvector:  [1, 1, 1]\n",
      "Trafomat:\n",
      " [[-0.03823216  0.99387093 -0.10372502]\n",
      " [ 0.95798446  0.00692652 -0.28673647]\n",
      " [ 0.28426059  0.11032951  0.95237772]]\n",
      "Translation:  [-0.39081864 -0.08168858  0.1156127 ]\n",
      "4  labels\n",
      "107133 / 146174  points far away nearest neighbor\n",
      "Process  39040  unvisited points...\n"
     ]
    }
   ],
   "source": [
    "from src.evaluation_and_conversion import artifact3D_to_label_dict\n",
    "\n",
    "filename = \"../../Data/artifact3D/Qins-31.mat\"\n",
    "scarfilename = \"../../Data/artifact3D/ScarsQins-31.mat\"\n",
    "label_dict = artifact3D_to_label_dict(filename, scarfilename)"
   ]
  },
  {
   "cell_type": "code",
   "execution_count": null,
   "id": "73d83e5e",
   "metadata": {},
   "outputs": [],
   "source": [
    "file = \"../../Data/artefact_31_test/curvature/31_r1.00_n4_v256.volume.ply\"\n",
    "\n",
    "import cProfile\n",
    "import pstats\n",
    "\n",
    "with cProfile.Profile() as pr:\n",
    "    data.load_mesh_ply(file, quality_index=3, inverted=True)\n",
    "    \n",
    "stats = pstats.Stats(pr)\n",
    "stats.sort_stats(pstats.SortKey.TIME)\n",
    "stats.print_stats()"
   ]
  },
  {
   "cell_type": "code",
   "execution_count": null,
   "id": "e8f14523",
   "metadata": {
    "scrolled": true
   },
   "outputs": [],
   "source": [
    "with cProfile.Profile() as pr:\n",
    "    data.ProcessLowerStars()\n",
    "    \n",
    "stats = pstats.Stats(pr)\n",
    "stats.sort_stats(pstats.SortKey.TIME)\n",
    "stats.print_stats()"
   ]
  },
  {
   "cell_type": "code",
   "execution_count": null,
   "id": "3c5f0f54",
   "metadata": {
    "scrolled": true
   },
   "outputs": [],
   "source": [
    "with cProfile.Profile() as pr:\n",
    "    data.ExtractMorseComplex()\n",
    "    \n",
    "stats = pstats.Stats(pr)\n",
    "stats.sort_stats(pstats.SortKey.TIME)\n",
    "stats.print_stats()"
   ]
  },
  {
   "cell_type": "code",
   "execution_count": null,
   "id": "65c46708",
   "metadata": {},
   "outputs": [],
   "source": [
    "edge_file = \"../old_MorseTheory/Data/results/test_0075_005_edges\"\n",
    "data.plot_SalientEdges_ply(edge_file, 0.075,0.05, only_strong=True)"
   ]
  },
  {
   "cell_type": "code",
   "execution_count": null,
   "id": "a309bde1",
   "metadata": {},
   "outputs": [],
   "source": [
    "stat = data.salient_edge_statistics(nb_bins = 300, log=False, save = False, filepath = 'histogram', show = True)"
   ]
  },
  {
   "cell_type": "code",
   "execution_count": null,
   "id": "00954f53",
   "metadata": {},
   "outputs": [],
   "source": [
    "filename = \"../old_MorseTheory/Data/results/test_006_0075_005_05_seg\"\n",
    "data.Segmentation(0.06, 0.075, 0.05, 0.5, minimum_labels=3)\n",
    "data.plot_Segmentation_label_txt(0.06, 0.075, 0.05, 0.5, filename)"
   ]
  },
  {
   "cell_type": "markdown",
   "id": "c11a0efc",
   "metadata": {},
   "source": [
    "## Dataset info (Optional)\n",
    "Prints out info like Vertices, Edges and Faces, as well as the Morse function range"
   ]
  },
  {
   "cell_type": "code",
   "execution_count": null,
   "id": "d27b6d4d",
   "metadata": {},
   "outputs": [],
   "source": [
    "data"
   ]
  },
  {
   "cell_type": "code",
   "execution_count": null,
   "id": "6483d386",
   "metadata": {},
   "outputs": [],
   "source": [
    "data.MorseComplex"
   ]
  },
  {
   "cell_type": "markdown",
   "id": "7b904c38",
   "metadata": {},
   "source": [
    "## Perform Morse Complex Calculations\n",
    "Use the functions **.ProcessLowerStars()** and **.ExtractMorseComplex()**\n",
    "- **ProcessLowerStars()** calculates the discrete vector field\n",
    "- **ExtractMorseComplex()** calculates the Morse complex, so finds the neighborhood relations between critical simplices by finding separatrices from maxima to saddles and from saddles to minima"
   ]
  },
  {
   "cell_type": "code",
   "execution_count": null,
   "id": "7da4948c",
   "metadata": {},
   "outputs": [],
   "source": [
    "#data.calculate_BettiNumbers()"
   ]
  },
  {
   "cell_type": "code",
   "execution_count": null,
   "id": "804a43fd",
   "metadata": {},
   "outputs": [],
   "source": [
    "#data.plot_PersistenceDiagram(save = False, filepath = '../../Data/test_plotting_functions/persistenceDiagram_original')"
   ]
  },
  {
   "cell_type": "code",
   "execution_count": null,
   "id": "2a2ed855",
   "metadata": {},
   "outputs": [],
   "source": [
    "#data.calculate_BettiNumbers(0.04)"
   ]
  },
  {
   "cell_type": "code",
   "execution_count": null,
   "id": "4352e362",
   "metadata": {},
   "outputs": [],
   "source": [
    "#data.plot_PersistenceDiagram(0.04,save = False, filepath = '../../Data/test_plotting_functions/persistenceDiagram_0_04P')"
   ]
  },
  {
   "cell_type": "code",
   "execution_count": null,
   "id": "e649e33d",
   "metadata": {},
   "outputs": [],
   "source": [
    "#stats = data.funval_statistics(nb_bins=200, log=True)"
   ]
  },
  {
   "cell_type": "code",
   "execution_count": null,
   "id": "184d3673",
   "metadata": {},
   "outputs": [],
   "source": [
    "#print(\"Stats all fun vals:\")\n",
    "#print(stats['mean'])\n",
    "#print(stats['std'])"
   ]
  },
  {
   "cell_type": "code",
   "execution_count": null,
   "id": "c2d196ca",
   "metadata": {},
   "outputs": [],
   "source": [
    "#stats2 = data.critical_funval_statistics(0,nb_bins=200)"
   ]
  },
  {
   "cell_type": "code",
   "execution_count": null,
   "id": "66a19c1d",
   "metadata": {},
   "outputs": [],
   "source": [
    "#print(\"Stats V:\")\n",
    "#print(stats2['V']['mean'])\n",
    "#print(stats2['V']['std'])\n",
    "#print(\"Stats E:\")\n",
    "#print(stats2['E']['mean'])\n",
    "#print(stats2['E']['std'])\n",
    "#print(\"Stats F:\")\n",
    "#print(stats2['F']['mean'])\n",
    "#print(stats2['F']['std'])"
   ]
  },
  {
   "cell_type": "code",
   "execution_count": null,
   "id": "c3f87f64",
   "metadata": {},
   "outputs": [],
   "source": [
    "#stats3 = data.critical_funval_statistics(0.04,nb_bins=200)"
   ]
  },
  {
   "cell_type": "code",
   "execution_count": null,
   "id": "29accbad",
   "metadata": {},
   "outputs": [],
   "source": [
    "#print(\"Stats V:\")\n",
    "#print(stats3['V']['mean'])\n",
    "#print(stats3['V']['std'])\n",
    "#print(\"Stats E:\")\n",
    "#print(stats3['E']['mean'])\n",
    "#print(stats3['E']['std'])\n",
    "#print(\"Stats F:\")\n",
    "#print(stats3['F']['mean'])\n",
    "#print(stats3['F']['std'])"
   ]
  },
  {
   "cell_type": "code",
   "execution_count": null,
   "id": "132dad7e",
   "metadata": {},
   "outputs": [],
   "source": [
    "#import matplotlib.pyplot as plt\n",
    "#funvals = []\n",
    "#for e in stats2['V']['fun_vals']:\n",
    "#    funvals.append(e)\n",
    "#for e in stats2['E']['fun_vals']:\n",
    "#    funvals.append(e)\n",
    "#for e in stats2['F']['fun_vals']:\n",
    "#    funvals.append(e)\n",
    "    \n",
    "#plt.hist(funvals, bins=200)\n",
    "#plt.xlabel(\"Function Value\")\n",
    "#plt.ylabel(\"Counts\")\n",
    "#plt.title(\"Combined Histogram\")\n",
    "#plt.show()"
   ]
  },
  {
   "cell_type": "code",
   "execution_count": null,
   "id": "2a79c925",
   "metadata": {},
   "outputs": [],
   "source": [
    "#funvals = []\n",
    "#for e in stats3['V']['fun_vals']:\n",
    "#    funvals.append(e)\n",
    "#for e in stats3['E']['fun_vals']:\n",
    "#    funvals.append(e)\n",
    "#for e in stats3['F']['fun_vals']:\n",
    "#    funvals.append(e)\n",
    "#    \n",
    "#plt.hist(funvals, bins=200)\n",
    "#plt.xlabel(\"Function Value\")\n",
    "#plt.ylabel(\"Counts\")\n",
    "#plt.title(\"Combined Histogram\")\n",
    "#plt.show()"
   ]
  },
  {
   "cell_type": "code",
   "execution_count": null,
   "id": "21419fe6",
   "metadata": {},
   "outputs": [],
   "source": [
    "#data.plot_SalientEdges_ply(\"../../Data/test_plotting_functions/plot_saledge\", 0.06, 0.05)\n",
    "#data.plot_MorseCells_ply(0.04, \"../../Data/test_plotting_functions/plot_cells\")\n",
    "#data.plot_MorseComplex_ply(0.04, \"../../Data/test_plotting_functions/plot_complex\")"
   ]
  },
  {
   "cell_type": "code",
   "execution_count": null,
   "id": "d1729330",
   "metadata": {},
   "outputs": [],
   "source": [
    "#stats = data.salient_edge_statistics()"
   ]
  },
  {
   "cell_type": "code",
   "execution_count": null,
   "id": "d2d6871b",
   "metadata": {},
   "outputs": [],
   "source": [
    "#print(\"Stats sepa persistence:\")\n",
    "#print(stats['mean'])\n",
    "#print(stats['std'])"
   ]
  },
  {
   "cell_type": "markdown",
   "id": "6c87fc47",
   "metadata": {},
   "source": [
    "## Get Morse Complex info (Optional)\n",
    "Prints out infos on the original Morse complex like number of critical vertices, crit. edges and crit. faces. Persistence should be 0 on the original complex."
   ]
  },
  {
   "cell_type": "code",
   "execution_count": null,
   "id": "51ca4d51",
   "metadata": {},
   "outputs": [],
   "source": [
    "data.MorseComplex.info()"
   ]
  },
  {
   "cell_type": "code",
   "execution_count": null,
   "id": "cd1d9c3d",
   "metadata": {},
   "outputs": [],
   "source": [
    "#labelfile_name = \"../../Data/vase_cells_only_label\" # the .txt extension is written automatically\n",
    "#labelfile_name = \"../../Data/31_only_label\" # the .txt extension is written automatically\n",
    "labelfile_name = \"../../Data/test_objects/cube_large_0_01\"\n",
    "\n",
    "data.ExtractMorseCells(0.01)\n",
    "data.plot_MorseCells_label_txt(0.01, labelfile_name)\n",
    "data.plot_MorseCells_ply(0.01, labelfile_name)\n",
    "data.plot_MorseComplex_ply(0.01, labelfile_name, path_color=[200,200,200])"
   ]
  },
  {
   "cell_type": "markdown",
   "id": "6c19a249",
   "metadata": {},
   "source": [
    "## Reduce Morse complex (using Persistence)\n",
    "Use the function **.ReduceMorseComplex(persistence)**\n",
    "- **persistence:** The persistence level up to which the Morse complex should be simplified. (neighboring critical simplices will be cancelled, (if topologically possible,) if their Morse function value difference is less than the persistence.\n",
    "\n",
    "The reduced complex will be stored in a dictionary **data.reducedMorseComplexes[persistence]** which allows to calculate several persistences. Can be accessed using the persistence as key."
   ]
  },
  {
   "cell_type": "code",
   "execution_count": null,
   "id": "ba402ca2",
   "metadata": {},
   "outputs": [],
   "source": [
    "#data.ExtractMorseCells(0.04)\n",
    "#filename = \"../../Data/31_testnew_segmentation_no_persistence\"\n",
    "#seg = data.Segmentation(0, 0.06, 0.05, 0.15, minimum_labels=5)\n",
    "#data.plot_Segmentation_label_txt(0, 0.06, 0.05, 0.15, filename)"
   ]
  },
  {
   "cell_type": "code",
   "execution_count": null,
   "id": "802a1d7f",
   "metadata": {},
   "outputs": [],
   "source": [
    "#print(len(seg.Cells.keys()))"
   ]
  },
  {
   "cell_type": "code",
   "execution_count": null,
   "id": "5a57cc0b",
   "metadata": {},
   "outputs": [],
   "source": [
    "#labelfile_name = \"../../Data/vase_cells_only_label_001\" # the .txt extension is written automatically\n",
    "#labelfile_name = \"../../Data/31_only_label_004\" # the .txt extension is written automatically\n",
    "\n",
    "#data.ExtractMorseCells(0.04)\n",
    "#data.write_MorseCellLabels(0.04, labelfile_name)"
   ]
  },
  {
   "cell_type": "markdown",
   "id": "88794af5",
   "metadata": {},
   "source": [
    "## Plot option for Gigamesh (there are several also for writing meshlab overlay files..)\n",
    "Uses a labels for each Morse cell to write a label file which can be read by Gigamesh for visualization.\n",
    "Need to Extract Morse cells first with **.ExtractMorseCells(persistence)** and than **.write_MorseCellLabels(persistence, filename)** to write the according label file. \n",
    "- **persistence:** The persistence of the Morse complex you want to visualize\n",
    "- **filename:** filename where the label file should be stored"
   ]
  },
  {
   "cell_type": "code",
   "execution_count": null,
   "id": "58f6e80f",
   "metadata": {},
   "outputs": [],
   "source": [
    "#labelfile_name = \"abc_labels\" # the .txt extension is written automatically\n",
    "\n",
    "#data.ExtractMorseCells(3)\n",
    "#data.write_MorseCellLabels(3, labelfile_name)"
   ]
  },
  {
   "cell_type": "markdown",
   "id": "2baafdb7",
   "metadata": {},
   "source": [
    "## Visualize in Gigamesh:\n",
    "(Maybe the develop version of gigamesh is required, since import labels migth not be in the website version)\n",
    "1. Load the ply file into Gigamesh\n",
    "2. Choose Import labels under **File - Import - Import Labels** and load the written output label file\n",
    "3. Vertex in first column: YES \n",
    "4. Select **Labels-Connected Comp.** on the right to see the Morse cells of the Morse complex"
   ]
  },
  {
   "cell_type": "code",
   "execution_count": null,
   "id": "7a4134b6",
   "metadata": {},
   "outputs": [],
   "source": [
    "import sys\n",
    "import numpy as np\n",
    "\n",
    "a=float(0.275369)\n",
    "b = np.float16(0.275369)\n",
    "#b = b.astype(np.int32)\n",
    "\n",
    "print(type(a))\n",
    "print(sys.getsizeof(a))\n",
    "\n",
    "\n",
    "print(type(b))\n",
    "print(sys.getsizeof(b))\n",
    "import array\n",
    "b= [1,2,3,0]\n",
    "c = np.array([1,2,3,0],dtype=np.int8)\n",
    "a = array.array('L',[1,2,3,0])\n",
    "print(sorted(a))\n",
    "print(sys.getsizeof(a))\n",
    "print(sys.getsizeof(sorted(a)))\n",
    "print(sys.getsizeof(b))\n",
    "print(sys.getsizeof(c))\n",
    "if 2 in a:\n",
    "    print(\"ok\")\n",
    "print(a[0])"
   ]
  }
 ],
 "metadata": {
  "kernelspec": {
   "display_name": "Python 3.9.12 ('base')",
   "language": "python",
   "name": "python3"
  },
  "language_info": {
   "codemirror_mode": {
    "name": "ipython",
    "version": 3
   },
   "file_extension": ".py",
   "mimetype": "text/x-python",
   "name": "python",
   "nbconvert_exporter": "python",
   "pygments_lexer": "ipython3",
   "version": "3.9.12"
  },
  "vscode": {
   "interpreter": {
    "hash": "2796f898c241be261d17d4440712f4c58a6e72713839fe7ec4d10cc08aa00573"
   }
  }
 },
 "nbformat": 4,
 "nbformat_minor": 5
}
