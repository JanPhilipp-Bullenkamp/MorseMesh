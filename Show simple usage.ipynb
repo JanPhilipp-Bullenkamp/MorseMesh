{
 "cells": [
  {
   "cell_type": "markdown",
   "id": "aa7879b7",
   "metadata": {},
   "source": [
    "## Need to import the Morse class"
   ]
  },
  {
   "cell_type": "code",
   "execution_count": 2,
   "id": "0f2e5511",
   "metadata": {},
   "outputs": [
    {
     "name": "stdout",
     "output_type": "stream",
     "text": [
      "load_mesh_ply took 15.87712 seconds to execute!\n",
      "ProcessLowerStars took 2.78664 seconds to execute!\n",
      "ExtractMorseComplex took 3.22049 seconds to execute!\n"
     ]
    }
   ],
   "source": [
    "from src.morse import Morse\n",
    "data = Morse()\n",
    "\n",
    "#file = \"../../Data/test_objects/cube_large_r0.30_n4_v256.volume.ply\"\n",
    "#file = \"../../Data/vase_reduced_cleaned.ply\"\n",
    "file = \"../../Data/artefact_31_test/curvature/31_r1.00_n4_v256.volume.ply\"\n",
    "#file = \"../../Data/graz/steinbruchwand_ttvc_gmo_2022-11-05_0934/Steinbruchwand_TTVC_GMO_cut_150x200_r15.00_n4_v256.volume.ply\"\n",
    "data.load_mesh_ply(file, quality_index=3, inverted=True)\n",
    "data.ProcessLowerStars()\n",
    "data.ExtractMorseComplex()\n",
    "#data.ReduceMorseComplex(0.01)\n",
    "#pers = 0.06\n",
    "#data.ExtractMorseCells(pers)\n",
    "#labelfilename = \"../old_MorseTheory/Data/results/test_new_mscomplex_visualization_001_false\"\n",
    "#data.plot_MorseComplex_ply(0.01,labelfilename, detailed=False, separate_points_file=False)"
   ]
  },
  {
   "cell_type": "code",
   "execution_count": null,
   "id": "73d83e5e",
   "metadata": {},
   "outputs": [],
   "source": [
    "file = \"../../Data/artefact_31_test/curvature/31_r1.00_n4_v256.volume.ply\"\n",
    "\n",
    "import cProfile\n",
    "import pstats\n",
    "\n",
    "#with cProfile.Profile() as pr:\n",
    "#    data.load_mesh_ply(file, quality_index=3, inverted=True)\n",
    "    \n",
    "#stats = pstats.Stats(pr)\n",
    "#stats.sort_stats(pstats.SortKey.TIME)\n",
    "#stats.print_stats()"
   ]
  },
  {
   "cell_type": "code",
   "execution_count": null,
   "id": "65c46708",
   "metadata": {},
   "outputs": [],
   "source": [
    "edge_file = \"../old_MorseTheory/Data/results/test_0075_005_edges\"\n",
    "data.plot_SalientEdges_ply(edge_file, 0.075,0.05, only_strong=True)"
   ]
  },
  {
   "cell_type": "code",
   "execution_count": null,
   "id": "a309bde1",
   "metadata": {},
   "outputs": [],
   "source": [
    "stat = data.salient_edge_statistics(nb_bins = 300, log=False, save = False, filepath = 'histogram', show = True)"
   ]
  },
  {
   "cell_type": "code",
   "execution_count": null,
   "id": "00954f53",
   "metadata": {},
   "outputs": [],
   "source": [
    "filename = \"../old_MorseTheory/Data/results/test_006_0075_005_05_seg\"\n",
    "data.Segmentation(0.06, 0.075, 0.05, 0.5, minimum_labels=3)\n",
    "data.plot_Segmentation_label_txt(0.06, 0.075, 0.05, 0.5, filename)"
   ]
  }
 ],
 "metadata": {
  "kernelspec": {
   "display_name": "Python 3.9.12 ('base')",
   "language": "python",
   "name": "python3"
  },
  "language_info": {
   "codemirror_mode": {
    "name": "ipython",
    "version": 3
   },
   "file_extension": ".py",
   "mimetype": "text/x-python",
   "name": "python",
   "nbconvert_exporter": "python",
   "pygments_lexer": "ipython3",
   "version": "3.9.12"
  },
  "vscode": {
   "interpreter": {
    "hash": "2796f898c241be261d17d4440712f4c58a6e72713839fe7ec4d10cc08aa00573"
   }
  }
 },
 "nbformat": 4,
 "nbformat_minor": 5
}
