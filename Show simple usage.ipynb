{
 "cells": [
  {
   "cell_type": "code",
   "execution_count": 3,
   "id": "0f2e5511",
   "metadata": {},
   "outputs": [
    {
     "name": "stdout",
     "output_type": "stream",
     "text": [
      "load_mesh_ply took 141.75612 seconds to execute!\n",
      "ProcessLowerStars took 24.21121 seconds to execute!\n",
      "ExtractMorseComplex took 30.60960 seconds to execute!\n"
     ]
    }
   ],
   "source": [
    "from src.morse import Morse\n",
    "data = Morse()\n",
    "\n",
    "#file = \"../../Data/test_objects/cube_large_r0.30_n4_v256.volume.ply\"\n",
    "#file = \"../../Data/test_objects/cube_r0.30_n4_v256.volume.ply\"\n",
    "#file = \"../../Data/vase_reduced_cleaned.ply\"\n",
    "#file = \"../../Data/artefact_31_test/curvature/31_r1.00_n4_v256.volume.ply\"\n",
    "file = \"../../Data/graz/steinbruchwand_ttvc_gmo_2022-11-05_0934/Steinbruchwand_cropped_TTVC_GMO_cut_150x200_r15.00_n4_v256.volume.ply\"\n",
    "#file = \"../../Data/graz/steinbruchwand_ttvc_gmo_2022-11-05_0934/Steinbruchwand_cropped_small_for_debug.ply\"\n",
    "data.load_mesh_ply(file, quality_index=7, inverted=False)\n",
    "data.ProcessLowerStars()\n",
    "data.ExtractMorseComplex()\n",
    "#data.ReduceMorseComplex(0.04)\n",
    "#pers = 0.06\n",
    "#data.ExtractMorseCells(pers)\n",
    "#labelfilename = \"../old_MorseTheory/Data/results/test_new_mscomplex_visualization_001_false\"\n",
    "#data.plot_MorseComplex_ply(0.01,labelfilename, detailed=False, separate_points_file=False)"
   ]
  },
  {
   "cell_type": "code",
   "execution_count": 2,
   "id": "0e0252ad",
   "metadata": {},
   "outputs": [],
   "source": [
    "#s = data.salient_edge_statistics(nb_bins = 150, log=False, save = False)\n",
    "#s = data.funval_statistics(nb_bins = 150, log=False, save = False)"
   ]
  },
  {
   "cell_type": "code",
   "execution_count": 6,
   "id": "d44a53f4",
   "metadata": {},
   "outputs": [
    {
     "name": "stdout",
     "output_type": "stream",
     "text": [
      "get_salient_edges took 0.53638 seconds to execute!\n",
      "Segmentation took 5.66268 seconds to execute!\n",
      "plot_Segmentation_label_txt took 0.65739 seconds to execute!\n"
     ]
    }
   ],
   "source": [
    "data.Segmentation(0.02,0.07,0.06,0.1)\n",
    "data.plot_Segmentation_label_txt(0.02,0.07,0.06,0.1, \"../../Data/test_plotting_functions/Graz_steinbruch_test_segmentation\")"
   ]
  },
  {
   "cell_type": "code",
   "execution_count": null,
   "id": "3b7ad8ef",
   "metadata": {},
   "outputs": [
    {
     "name": "stdout",
     "output_type": "stream",
     "text": [
      "load_mesh_ply took 21.43369 seconds to execute!\n",
      "ProcessLowerStars took 3.37510 seconds to execute!\n",
      "Need to call ExtractMorseComplex first...\n",
      "ExtractMorseComplex took 4.67019 seconds to execute!\n",
      "ReduceMorseComplex took 8.84947 seconds to execute!\n",
      "get_extremal_point_ratio took 15.13869 seconds to execute!\n"
     ]
    }
   ],
   "source": [
    "from src.morse import Morse\n",
    "data = Morse()\n",
    "\n",
    "file = \"../../Data/artefacts/curvature/700_r1.00_n4_v256.volume.ply\"\n",
    "data.load_mesh_ply(file, quality_index=3, inverted=True)\n",
    "data.ProcessLowerStars()\n",
    "\n",
    "ratios = data.get_extremal_point_ratio(0.02, 3)"
   ]
  },
  {
   "cell_type": "code",
   "execution_count": null,
   "id": "0bfe22c4",
   "metadata": {},
   "outputs": [
    {
     "data": {
      "image/png": "[encoded data removed]",
      "text/plain": [
       "<Figure size 432x288 with 1 Axes>"
      ]
     },
     "metadata": {
      "needs_background": "light"
     },
     "output_type": "display_data"
    },
    {
     "name": "stdout",
     "output_type": "stream",
     "text": [
      "{'mean': 0.02247651696844156, 'std': 1.5342803804318956e-12}\n"
     ]
    }
   ],
   "source": [
    "ratio = [v for k,v in ratios.items()]\n",
    "    \n",
    "import matplotlib.pyplot as plt\n",
    "import numpy as np\n",
    "plt.hist(ratio, bins=100, log=True)\n",
    "plt.xlabel(\"Variance\")\n",
    "plt.ylabel(\"Counts\")\n",
    "plt.title(\"Ratios Histogram\")\n",
    "plt.show()\n",
    "\n",
    "stat = {}\n",
    "stat['mean'] = sum(ratio)/len(ratio)\n",
    "stat['std'] = np.sqrt( np.square(np.sum(np.array(ratio) - stat['mean'])) / len(ratio) )\n",
    "print(stat)"
   ]
  },
  {
   "cell_type": "code",
   "execution_count": null,
   "id": "493a21f2",
   "metadata": {},
   "outputs": [
    {
     "name": "stdout",
     "output_type": "stream",
     "text": [
      "write_variance_heat_map_labels took 0.06090 seconds to execute!\n"
     ]
    }
   ],
   "source": [
    "data.write_variance_heat_map_labels(ratios, 0.015, 0.025, \"../../Data/test_plotting_functions/extremal_point_ratio_pers002_700er_3errange\")"
   ]
  },
  {
   "cell_type": "code",
   "execution_count": null,
   "id": "255a9950",
   "metadata": {},
   "outputs": [
    {
     "name": "stdout",
     "output_type": "stream",
     "text": [
      "Need to maximally reduce MorseComplex first...\n",
      "Persistence was high enough that this complex is maximally reduced.\n",
      "ReduceMorseComplex took 3.13210 seconds to execute!\n",
      "get_salient_edges took 3.19358 seconds to execute!\n",
      "ReduceMorseComplex_SalientEdge took 4.45912 seconds to execute!\n",
      "ExtractCellsSalientComplex took 16.20639 seconds to execute!\n",
      "Time Segmentation:  0.3694357049971586\n",
      "Segmentation_SalientReduction took 24.22895 seconds to execute!\n",
      "plot_Segmentation_SalientEdge_label_txt took 0.05205 seconds to execute!\n"
     ]
    }
   ],
   "source": [
    "#data.Segmentation_SalientReduction(0.05, 0.03, 0.3, minimum_labels=3)\n",
    "#data.plot_Segmentation_SalientEdge_label_txt(0.05, 0.03, 0.3, \"../../Data/test_plotting_functions/TEST_salientSegmentation_advanced\")"
   ]
  },
  {
   "cell_type": "code",
   "execution_count": null,
   "id": "0d163728",
   "metadata": {},
   "outputs": [
    {
     "name": "stdout",
     "output_type": "stream",
     "text": [
      "get_salient_edges took 0.08419 seconds to execute!\n",
      "ReduceMorseComplex_SalientEdge took 4.63352 seconds to execute!\n",
      "ExtractCellsSalientComplex took 7.05043 seconds to execute!\n"
     ]
    }
   ],
   "source": [
    "#data.ReduceMorseComplex_SalientEdge(0.05,0.03)\n",
    "#cells = data.ExtractCellsSalientComplex(0.05,0.03)"
   ]
  },
  {
   "cell_type": "code",
   "execution_count": null,
   "id": "c4527174",
   "metadata": {},
   "outputs": [
    {
     "name": "stdout",
     "output_type": "stream",
     "text": [
      "634\n"
     ]
    }
   ],
   "source": [
    "print(len(cells.Cells))"
   ]
  },
  {
   "cell_type": "code",
   "execution_count": null,
   "id": "e71f6fbc",
   "metadata": {},
   "outputs": [
    {
     "ename": "KeyError",
     "evalue": "(0.06, 0.04)",
     "output_type": "error",
     "traceback": [
      "\u001b[0;31m---------------------------------------------------------------------------\u001b[0m",
      "\u001b[0;31mKeyError\u001b[0m                                  Traceback (most recent call last)",
      "\u001b[1;32m/home/jp/Documents/Code/MorseTheory/Show simple usage.ipynb Cell 5\u001b[0m in \u001b[0;36m<cell line: 2>\u001b[0;34m()\u001b[0m\n\u001b[1;32m      <a href='vscode-notebook-cell:/home/jp/Documents/Code/MorseTheory/Show%20simple%20usage.ipynb#X14sZmlsZQ%3D%3D?line=0'>1</a>\u001b[0m \u001b[39mfrom\u001b[39;00m \u001b[39msrc\u001b[39;00m\u001b[39m.\u001b[39;00m\u001b[39mPlotData\u001b[39;00m\u001b[39m.\u001b[39;00m\u001b[39mwrite_labels_txt\u001b[39;00m \u001b[39mimport\u001b[39;00m write_Cell_labels_txt_file\n\u001b[0;32m----> <a href='vscode-notebook-cell:/home/jp/Documents/Code/MorseTheory/Show%20simple%20usage.ipynb#X14sZmlsZQ%3D%3D?line=1'>2</a>\u001b[0m write_Cell_labels_txt_file(data\u001b[39m.\u001b[39;49msalientreducedMorseComplexes[(\u001b[39m0.06\u001b[39;49m,\u001b[39m0.04\u001b[39;49m)]\u001b[39m.\u001b[39mMorseCells\u001b[39m.\u001b[39mCells, \u001b[39m\"\u001b[39m\u001b[39m../../Data/test_plotting_functions/TEST_salientSegmentation\u001b[39m\u001b[39m\"\u001b[39m)\n",
      "\u001b[0;31mKeyError\u001b[0m: (0.06, 0.04)"
     ]
    }
   ],
   "source": [
    "from src.PlotData.write_labels_txt import write_Cell_labels_txt_file\n",
    "write_Cell_labels_txt_file(data.salientreducedMorseComplexes[(0.06,0.04)].MorseCells.Cells, \"../../Data/test_plotting_functions/TEST_salientSegmentation\")"
   ]
  },
  {
   "cell_type": "code",
   "execution_count": null,
   "id": "73d83e5e",
   "metadata": {},
   "outputs": [
    {
     "name": "stdout",
     "output_type": "stream",
     "text": [
      "Time cancel critical points with  3  persistence:  0.0009067000355571508\n",
      "+-------------------------------------------------------\n",
      "| MorseComplex Info\n",
      "+-------------------------------------------------------\n",
      "| Filename:  Data/torus_distorted\n",
      "| Persistence of this Complex:  3\n",
      "+-------------------------------------------------------\n",
      "| Number of Vertices:  1\n",
      "| Number of Edges:  2\n",
      "| Number of Faces:  1\n",
      "+-------------------------------------------------------\n",
      "| Euler characteristic:  0\n",
      "+-------------------------------------------------------\n"
     ]
    }
   ],
   "source": [
    "file = \"../../Data/artefact_31_test/curvature/31_r1.00_n4_v256.volume.ply\"\n",
    "\n",
    "import cProfile\n",
    "import pstats\n",
    "\n",
    "#with cProfile.Profile() as pr:\n",
    "#    data.load_mesh_ply(file, quality_index=3, inverted=True)\n",
    "    \n",
    "#stats = pstats.Stats(pr)\n",
    "#stats.sort_stats(pstats.SortKey.TIME)\n",
    "#stats.print_stats()"
   ]
  },
  {
   "cell_type": "code",
   "execution_count": null,
   "id": "65c46708",
   "metadata": {},
   "outputs": [
    {
     "name": "stdout",
     "output_type": "stream",
     "text": [
      "Time cancel critical points with  3  persistence:  0.0009067000355571508\n",
      "+-------------------------------------------------------\n",
      "| MorseComplex Info\n",
      "+-------------------------------------------------------\n",
      "| Filename:  Data/torus_distorted\n",
      "| Persistence of this Complex:  3\n",
      "+-------------------------------------------------------\n",
      "| Number of Vertices:  1\n",
      "| Number of Edges:  2\n",
      "| Number of Faces:  1\n",
      "+-------------------------------------------------------\n",
      "| Euler characteristic:  0\n",
      "+-------------------------------------------------------\n"
     ]
    }
   ],
   "source": [
    "#edge_file = \"../old_MorseTheory/Data/results/test_0075_005_edges\"\n",
    "#data.plot_SalientEdges_ply(edge_file, 0.075,0.05, only_strong=True)"
   ]
  },
  {
   "cell_type": "code",
   "execution_count": null,
   "id": "a309bde1",
   "metadata": {},
   "outputs": [
    {
     "name": "stdout",
     "output_type": "stream",
     "text": [
      "Time get MorseCells for  3 persistence:  0.010459600016474724\n",
      "Time fill neighbors for MorseCells:  0.0003972998820245266\n",
      "Time writing label txt file: 0.003746800124645233\n"
     ]
    }
   ],
   "source": [
    "#stat = data.salient_edge_statistics(nb_bins = 300, log=False, save = False, filepath = 'histogram', show = True)"
   ]
  },
  {
   "cell_type": "code",
   "execution_count": null,
   "id": "00954f53",
   "metadata": {},
   "outputs": [],
   "source": [
    "#filename = \"../old_MorseTheory/Data/results/test_006_0075_005_05_seg\"\n",
    "#data.Segmentation(0.06, 0.075, 0.05, 0.5, minimum_labels=3)\n",
    "#data.plot_Segmentation_label_txt(0.06, 0.075, 0.05, 0.5, filename)"
   ]
  }
 ],
 "metadata": {
  "kernelspec": {
   "display_name": "Python 3.10.6 64-bit",
   "language": "python",
   "name": "python3"
  },
  "language_info": {
   "codemirror_mode": {
    "name": "ipython",
    "version": 3
   },
   "file_extension": ".py",
   "mimetype": "text/x-python",
   "name": "python",
   "nbconvert_exporter": "python",
   "pygments_lexer": "ipython3",
   "version": "3.10.6"
  },
  "vscode": {
   "interpreter": {
    "hash": "916dbcbb3f70747c44a77c7bcd40155683ae19c65e1c03b4aa3499c5328201f1"
   }
  }
 },
 "nbformat": 4,
 "nbformat_minor": 5
}
