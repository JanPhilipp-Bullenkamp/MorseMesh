{
 "cells": [
  {
   "cell_type": "markdown",
   "id": "da01e1be",
   "metadata": {},
   "source": [
    "## Need to import the Morse class"
   ]
  },
  {
   "cell_type": "code",
   "execution_count": 1,
   "id": "bc67d27a",
   "metadata": {},
   "outputs": [],
   "source": [
    "from src.morse import Morse"
   ]
  },
  {
   "cell_type": "markdown",
   "id": "b6671a6d",
   "metadata": {},
   "source": [
    "## Initialize Morse class"
   ]
  },
  {
   "cell_type": "code",
   "execution_count": 2,
   "id": "809c461e",
   "metadata": {},
   "outputs": [],
   "source": [
    "data = Morse()"
   ]
  },
  {
   "cell_type": "markdown",
   "id": "216d3e79",
   "metadata": {},
   "source": [
    "##  Load ply file into the Morse class\n",
    "Use the function: **.load_mesh_ply(filename, quality_index, inverted=False)**\n",
    "\n",
    "- **filename:** The path to the ply file you want to load\n",
    "- **quality_index:** The position index where the Morse function value are saved in the ply file (e.g. 3 if you want the quality value and the plyfile has the properties x,y,z,quality; or if you want to take the height function/z-value: choose 2)\n",
    "- **inverted:** Optional, default is false. Multiplies the Morse function with -1 -> min will become max and max will become min."
   ]
  },
  {
   "cell_type": "code",
   "execution_count": 3,
   "id": "03f254f4",
   "metadata": {},
   "outputs": [
    {
     "name": "stdout",
     "output_type": "stream",
     "text": [
      "Time read data file: 3.4723256800002673\n",
      "Time read and prepare data: 15.240409735999947\n"
     ]
    }
   ],
   "source": [
    "file = \"../../Data/artefacts/curvature/31_r1.00_n4_v256.volume.ply\"\n",
    "#file = \"../../Data/simplicial_donut_3_deform.ply\"\n",
    "data.load_mesh_ply(file, quality_index=2)"
   ]
  },
  {
   "cell_type": "markdown",
   "id": "821956a7",
   "metadata": {},
   "source": [
    "## Dataset info (Optional)\n",
    "Prints out info like Vertices, Edges and Faces, as well as the Morse function range"
   ]
  },
  {
   "cell_type": "code",
   "execution_count": 4,
   "id": "0173a17b",
   "metadata": {},
   "outputs": [
    {
     "name": "stdout",
     "output_type": "stream",
     "text": [
      "+-------------------------------------------------------\n",
      "| Mesh Info\n",
      "+-------------------------------------------------------\n",
      "| Filename:  ../../Data/artefacts/curvature/31_r1.00_n4_v256.volume\n",
      "| Morse function values range:  [-2.29347, 12.7971]\n",
      "+-------------------------------------------------------\n",
      "| Number of Vertices:  146174\n",
      "| Number of Edges:  438516\n",
      "| Number of Faces:  292344\n",
      "+-------------------------------------------------------\n",
      "| Euler characteristic:  2\n",
      "+-------------------------------------------------------\n"
     ]
    }
   ],
   "source": [
    "data.info()"
   ]
  },
  {
   "cell_type": "markdown",
   "id": "b33c6c36",
   "metadata": {},
   "source": [
    "## Perform Morse Complex Calculations\n",
    "Use the functions **.ProcessLowerStars()** and **.ExtractMorseComplex()**\n",
    "- **ProcessLowerStars()** calculates the discrete vector field\n",
    "- **ExtractMorseComplex()** calculates the Morse complex, so finds the neighborhood relations between critical simplices by finding separatrices from maxima to saddles and from saddles to minima"
   ]
  },
  {
   "cell_type": "code",
   "execution_count": 5,
   "id": "f7a6e537",
   "metadata": {},
   "outputs": [
    {
     "name": "stdout",
     "output_type": "stream",
     "text": [
      "Time ProcessLowerStar: 3.805519462999655\n",
      "Time ExtractMorseComplex and Separatrices: 2.7778568479998285\n"
     ]
    }
   ],
   "source": [
    "data.ProcessLowerStars()\n",
    "data.ExtractMorseComplex()"
   ]
  },
  {
   "cell_type": "markdown",
   "id": "1fdecf32",
   "metadata": {},
   "source": [
    "## Get Morse Complex info (Optional)\n",
    "Prints out infos on the original Morse complex like number of critical vertices, crit. edges and crit. faces. Persistence should be 0 on the original complex."
   ]
  },
  {
   "cell_type": "code",
   "execution_count": 6,
   "id": "5ee794c5",
   "metadata": {},
   "outputs": [
    {
     "name": "stdout",
     "output_type": "stream",
     "text": [
      "+-------------------------------------------------------\n",
      "| MorseComplex Info\n",
      "+-------------------------------------------------------\n",
      "| Filename:  ../../Data/artefacts/curvature/31_r1.00_n4_v256.volume\n",
      "| Persistence of this Complex:  0\n",
      "+-------------------------------------------------------\n",
      "| Number of Vertices:  142\n",
      "| Number of Edges:  309\n",
      "| Number of Faces:  169\n",
      "+-------------------------------------------------------\n",
      "| Euler characteristic:  2\n",
      "+-------------------------------------------------------\n"
     ]
    }
   ],
   "source": [
    "data.MorseComplex.info()"
   ]
  },
  {
   "cell_type": "code",
   "execution_count": 7,
   "id": "1b4d07af",
   "metadata": {},
   "outputs": [
    {
     "name": "stdout",
     "output_type": "stream",
     "text": [
      "Have  24  unlabelled boundary points left!\n",
      "Time get MorseCells for  0 persistence:  3.2382754879999993\n",
      "Time writing label txt file: 0.060338022999985697\n"
     ]
    }
   ],
   "source": [
    "labelfile_name = \"../../Data/artefacts/initial_labels\" # the .txt extension is written automatically\n",
    "\n",
    "data.ExtractMorseCells(0)\n",
    "data.write_MorseCellLabels(0, labelfile_name)"
   ]
  },
  {
   "cell_type": "markdown",
   "id": "4419bd6b",
   "metadata": {},
   "source": [
    "## Reduce Morse complex (using Persistence)\n",
    "Use the function **.ReduceMorseComplex(persistence)**\n",
    "- **persistence:** The persistence level up to which the Morse complex should be simplified. (neighboring critical simplices will be cancelled, (if topologically possible,) if their Morse function value difference is less than the persistence.\n",
    "\n",
    "The reduced complex will be stored in a dictionary **data.reducedMorseComplexes[persistence]** which allows to calculate several persistences. Can be accessed using the persistence as key."
   ]
  },
  {
   "cell_type": "code",
   "execution_count": 8,
   "id": "80dffc89",
   "metadata": {
    "scrolled": false
   },
   "outputs": [
    {
     "ename": "KeyboardInterrupt",
     "evalue": "",
     "output_type": "error",
     "traceback": [
      "\u001b[0;31m---------------------------------------------------------------------------\u001b[0m",
      "\u001b[0;31mKeyboardInterrupt\u001b[0m                         Traceback (most recent call last)",
      "Input \u001b[0;32mIn [8]\u001b[0m, in \u001b[0;36m<cell line: 1>\u001b[0;34m()\u001b[0m\n\u001b[0;32m----> 1\u001b[0m \u001b[43mdata\u001b[49m\u001b[38;5;241;43m.\u001b[39;49m\u001b[43mReduceMorseComplex\u001b[49m\u001b[43m(\u001b[49m\u001b[38;5;241;43m0.02\u001b[39;49m\u001b[43m)\u001b[49m\n",
      "File \u001b[0;32m~/Documents/Code/MorseTheory/src/morse.py:139\u001b[0m, in \u001b[0;36mMorse.ReduceMorseComplex\u001b[0;34m(self, persistence)\u001b[0m\n\u001b[1;32m    137\u001b[0m key_array \u001b[38;5;241m=\u001b[39m np\u001b[38;5;241m.\u001b[39marray([\u001b[38;5;28mlist\u001b[39m(\u001b[38;5;28mself\u001b[39m\u001b[38;5;241m.\u001b[39mreducedMorseComplexes\u001b[38;5;241m.\u001b[39mkeys())])\n\u001b[1;32m    138\u001b[0m closest_smaller \u001b[38;5;241m=\u001b[39m key_array[key_array \u001b[38;5;241m<\u001b[39m persistence]\u001b[38;5;241m.\u001b[39mmax()\n\u001b[0;32m--> 139\u001b[0m \u001b[38;5;28mself\u001b[39m\u001b[38;5;241m.\u001b[39mreducedMorseComplexes[persistence] \u001b[38;5;241m=\u001b[39m \u001b[43mCancelCriticalPairs\u001b[49m\u001b[43m(\u001b[49m\u001b[38;5;28;43mself\u001b[39;49m\u001b[38;5;241;43m.\u001b[39;49m\u001b[43mreducedMorseComplexes\u001b[49m\u001b[43m[\u001b[49m\u001b[43mclosest_smaller\u001b[49m\u001b[43m]\u001b[49m\u001b[43m,\u001b[49m\u001b[43m \u001b[49m\n\u001b[1;32m    140\u001b[0m \u001b[43m                                                              \u001b[49m\u001b[43mpersistence\u001b[49m\u001b[43m,\u001b[49m\u001b[43m \u001b[49m\u001b[38;5;28;43mself\u001b[39;49m\u001b[38;5;241;43m.\u001b[39;49m\u001b[43mVertices\u001b[49m\u001b[43m,\u001b[49m\u001b[43m \u001b[49m\u001b[38;5;28;43mself\u001b[39;49m\u001b[38;5;241;43m.\u001b[39;49m\u001b[43mEdges\u001b[49m\u001b[43m,\u001b[49m\u001b[43m \u001b[49m\u001b[38;5;28;43mself\u001b[39;49m\u001b[38;5;241;43m.\u001b[39;49m\u001b[43mFaces\u001b[49m\u001b[43m)\u001b[49m\n\u001b[1;32m    142\u001b[0m \u001b[38;5;28;01mif\u001b[39;00m persistence \u001b[38;5;241m>\u001b[39m\u001b[38;5;241m=\u001b[39m \u001b[38;5;28mself\u001b[39m\u001b[38;5;241m.\u001b[39mrange \u001b[38;5;129;01mand\u001b[39;00m \u001b[38;5;129;01mnot\u001b[39;00m \u001b[38;5;28mself\u001b[39m\u001b[38;5;241m.\u001b[39m_flag_SalientEdge:\n\u001b[1;32m    143\u001b[0m     \u001b[38;5;28mself\u001b[39m\u001b[38;5;241m.\u001b[39mmaximalReducedComplex \u001b[38;5;241m=\u001b[39m \u001b[38;5;28mself\u001b[39m\u001b[38;5;241m.\u001b[39mreducedMorseComplexes[persistence]\n",
      "File \u001b[0;32m~/Documents/Code/MorseTheory/src/Algorithms/ReduceMorseComplex.py:179\u001b[0m, in \u001b[0;36mCancelCriticalPairs\u001b[0;34m(MorseComplex, threshold, vert_dict, edge_dict, face_dict)\u001b[0m\n\u001b[1;32m    177\u001b[0m         redMorseComplex \u001b[38;5;241m=\u001b[39m cancel_one_critical_pair_min(saddle, redMorseComplex\u001b[38;5;241m.\u001b[39mCritVertices[closest], redMorseComplex, vert_dict, edge_dict, face_dict)\n\u001b[1;32m    178\u001b[0m     \u001b[38;5;28;01melif\u001b[39;00m dim \u001b[38;5;241m==\u001b[39m \u001b[38;5;241m2\u001b[39m:\n\u001b[0;32m--> 179\u001b[0m         redMorseComplex \u001b[38;5;241m=\u001b[39m \u001b[43mcancel_one_critical_pair_max\u001b[49m\u001b[43m(\u001b[49m\u001b[43msaddle\u001b[49m\u001b[43m,\u001b[49m\u001b[43m \u001b[49m\u001b[43mredMorseComplex\u001b[49m\u001b[38;5;241;43m.\u001b[39;49m\u001b[43mCritFaces\u001b[49m\u001b[43m[\u001b[49m\u001b[43mclosest\u001b[49m\u001b[43m]\u001b[49m\u001b[43m,\u001b[49m\u001b[43m \u001b[49m\u001b[43mredMorseComplex\u001b[49m\u001b[43m,\u001b[49m\u001b[43m \u001b[49m\u001b[43mvert_dict\u001b[49m\u001b[43m,\u001b[49m\u001b[43m \u001b[49m\u001b[43medge_dict\u001b[49m\u001b[43m,\u001b[49m\u001b[43m \u001b[49m\u001b[43mface_dict\u001b[49m\u001b[43m)\u001b[49m\n\u001b[1;32m    180\u001b[0m \u001b[38;5;28;01melse\u001b[39;00m:\n\u001b[1;32m    181\u001b[0m     CancelPairs\u001b[38;5;241m.\u001b[39minsert(\u001b[38;5;28mtuple\u001b[39m((dist, obj_id, saddle)))\n",
      "File \u001b[0;32m~/Documents/Code/MorseTheory/src/Algorithms/ReduceMorseComplex.py:143\u001b[0m, in \u001b[0;36mcancel_one_critical_pair_max\u001b[0;34m(saddle, maximum, MorseComplex, vert_dict, edge_dict, face_dict)\u001b[0m\n\u001b[1;32m    140\u001b[0m     \u001b[38;5;28;01mraise\u001b[39;00m \u001b[38;5;167;01mValueError\u001b[39;00m(\u001b[38;5;124m'\u001b[39m\u001b[38;5;124mDid not find the separatrix to be cancelled! Shouldnt happen.\u001b[39m\u001b[38;5;124m'\u001b[39m)\n\u001b[1;32m    142\u001b[0m \u001b[38;5;66;03m# reconnect from new maxs to new sads and add to connections\u001b[39;00m\n\u001b[0;32m--> 143\u001b[0m \u001b[43mMorseComplex\u001b[49m\u001b[38;5;241;43m.\u001b[39;49m\u001b[43mextend_new_maxs_to_new_sads\u001b[49m\u001b[43m(\u001b[49m\u001b[43msaddle\u001b[49m\u001b[38;5;241;43m.\u001b[39;49m\u001b[43mindex\u001b[49m\u001b[43m,\u001b[49m\u001b[43m \u001b[49m\u001b[43mnew_maxima\u001b[49m\u001b[43m,\u001b[49m\u001b[43m \u001b[49m\u001b[43mnew_saddles_sepa_set\u001b[49m\u001b[43m,\u001b[49m\u001b[43m \u001b[49m\u001b[43minverted_cropped_path\u001b[49m\u001b[43m)\u001b[49m\n\u001b[1;32m    145\u001b[0m \u001b[38;5;66;03m# remove old max and old sad from connections of new maxs and new sads\u001b[39;00m\n\u001b[1;32m    146\u001b[0m MorseComplex\u001b[38;5;241m.\u001b[39mremove_face_from_edge_connections(maximum\u001b[38;5;241m.\u001b[39mindex)\n",
      "File \u001b[0;32m~/Documents/Code/MorseTheory/src/Algorithms/LoadData/Datastructure.py:634\u001b[0m, in \u001b[0;36mMorseComplex.extend_new_maxs_to_new_sads\u001b[0;34m(self, old_sad, new_maxs_set, new_saddles_sepa_set, inverted_cancelled_path)\u001b[0m\n\u001b[1;32m    632\u001b[0m \u001b[38;5;28;01mif\u001b[39;00m sepa\u001b[38;5;241m.\u001b[39mdestination \u001b[38;5;241m==\u001b[39m old_sad:\n\u001b[1;32m    633\u001b[0m     \u001b[38;5;28;01mfor\u001b[39;00m last_part_sepa \u001b[38;5;129;01min\u001b[39;00m new_saddles_sepa_set:\n\u001b[0;32m--> 634\u001b[0m         new_sepa \u001b[38;5;241m=\u001b[39m \u001b[43mdeepcopy\u001b[49m\u001b[43m(\u001b[49m\u001b[43msepa\u001b[49m\u001b[43m)\u001b[49m\n\u001b[1;32m    635\u001b[0m         path_to_be_added \u001b[38;5;241m=\u001b[39m inverted_cancelled_path \u001b[38;5;241m+\u001b[39m last_part_sepa\u001b[38;5;241m.\u001b[39mpath\n\u001b[1;32m    636\u001b[0m         new_sepa\u001b[38;5;241m.\u001b[39mextend_to_new_destination(last_part_sepa\u001b[38;5;241m.\u001b[39mdestination, path_to_be_added)\n",
      "File \u001b[0;32m~/anaconda3/lib/python3.9/copy.py:172\u001b[0m, in \u001b[0;36mdeepcopy\u001b[0;34m(x, memo, _nil)\u001b[0m\n\u001b[1;32m    170\u001b[0m                 y \u001b[38;5;241m=\u001b[39m x\n\u001b[1;32m    171\u001b[0m             \u001b[38;5;28;01melse\u001b[39;00m:\n\u001b[0;32m--> 172\u001b[0m                 y \u001b[38;5;241m=\u001b[39m \u001b[43m_reconstruct\u001b[49m\u001b[43m(\u001b[49m\u001b[43mx\u001b[49m\u001b[43m,\u001b[49m\u001b[43m \u001b[49m\u001b[43mmemo\u001b[49m\u001b[43m,\u001b[49m\u001b[43m \u001b[49m\u001b[38;5;241;43m*\u001b[39;49m\u001b[43mrv\u001b[49m\u001b[43m)\u001b[49m\n\u001b[1;32m    174\u001b[0m \u001b[38;5;66;03m# If is its own copy, don't memoize.\u001b[39;00m\n\u001b[1;32m    175\u001b[0m \u001b[38;5;28;01mif\u001b[39;00m y \u001b[38;5;129;01mis\u001b[39;00m \u001b[38;5;129;01mnot\u001b[39;00m x:\n",
      "File \u001b[0;32m~/anaconda3/lib/python3.9/copy.py:270\u001b[0m, in \u001b[0;36m_reconstruct\u001b[0;34m(x, memo, func, args, state, listiter, dictiter, deepcopy)\u001b[0m\n\u001b[1;32m    268\u001b[0m \u001b[38;5;28;01mif\u001b[39;00m state \u001b[38;5;129;01mis\u001b[39;00m \u001b[38;5;129;01mnot\u001b[39;00m \u001b[38;5;28;01mNone\u001b[39;00m:\n\u001b[1;32m    269\u001b[0m     \u001b[38;5;28;01mif\u001b[39;00m deep:\n\u001b[0;32m--> 270\u001b[0m         state \u001b[38;5;241m=\u001b[39m \u001b[43mdeepcopy\u001b[49m\u001b[43m(\u001b[49m\u001b[43mstate\u001b[49m\u001b[43m,\u001b[49m\u001b[43m \u001b[49m\u001b[43mmemo\u001b[49m\u001b[43m)\u001b[49m\n\u001b[1;32m    271\u001b[0m     \u001b[38;5;28;01mif\u001b[39;00m \u001b[38;5;28mhasattr\u001b[39m(y, \u001b[38;5;124m'\u001b[39m\u001b[38;5;124m__setstate__\u001b[39m\u001b[38;5;124m'\u001b[39m):\n\u001b[1;32m    272\u001b[0m         y\u001b[38;5;241m.\u001b[39m__setstate__(state)\n",
      "File \u001b[0;32m~/anaconda3/lib/python3.9/copy.py:146\u001b[0m, in \u001b[0;36mdeepcopy\u001b[0;34m(x, memo, _nil)\u001b[0m\n\u001b[1;32m    144\u001b[0m copier \u001b[38;5;241m=\u001b[39m _deepcopy_dispatch\u001b[38;5;241m.\u001b[39mget(\u001b[38;5;28mcls\u001b[39m)\n\u001b[1;32m    145\u001b[0m \u001b[38;5;28;01mif\u001b[39;00m copier \u001b[38;5;129;01mis\u001b[39;00m \u001b[38;5;129;01mnot\u001b[39;00m \u001b[38;5;28;01mNone\u001b[39;00m:\n\u001b[0;32m--> 146\u001b[0m     y \u001b[38;5;241m=\u001b[39m \u001b[43mcopier\u001b[49m\u001b[43m(\u001b[49m\u001b[43mx\u001b[49m\u001b[43m,\u001b[49m\u001b[43m \u001b[49m\u001b[43mmemo\u001b[49m\u001b[43m)\u001b[49m\n\u001b[1;32m    147\u001b[0m \u001b[38;5;28;01melse\u001b[39;00m:\n\u001b[1;32m    148\u001b[0m     \u001b[38;5;28;01mif\u001b[39;00m \u001b[38;5;28missubclass\u001b[39m(\u001b[38;5;28mcls\u001b[39m, \u001b[38;5;28mtype\u001b[39m):\n",
      "File \u001b[0;32m~/anaconda3/lib/python3.9/copy.py:230\u001b[0m, in \u001b[0;36m_deepcopy_dict\u001b[0;34m(x, memo, deepcopy)\u001b[0m\n\u001b[1;32m    228\u001b[0m memo[\u001b[38;5;28mid\u001b[39m(x)] \u001b[38;5;241m=\u001b[39m y\n\u001b[1;32m    229\u001b[0m \u001b[38;5;28;01mfor\u001b[39;00m key, value \u001b[38;5;129;01min\u001b[39;00m x\u001b[38;5;241m.\u001b[39mitems():\n\u001b[0;32m--> 230\u001b[0m     y[deepcopy(key, memo)] \u001b[38;5;241m=\u001b[39m \u001b[43mdeepcopy\u001b[49m\u001b[43m(\u001b[49m\u001b[43mvalue\u001b[49m\u001b[43m,\u001b[49m\u001b[43m \u001b[49m\u001b[43mmemo\u001b[49m\u001b[43m)\u001b[49m\n\u001b[1;32m    231\u001b[0m \u001b[38;5;28;01mreturn\u001b[39;00m y\n",
      "File \u001b[0;32m~/anaconda3/lib/python3.9/copy.py:172\u001b[0m, in \u001b[0;36mdeepcopy\u001b[0;34m(x, memo, _nil)\u001b[0m\n\u001b[1;32m    170\u001b[0m                 y \u001b[38;5;241m=\u001b[39m x\n\u001b[1;32m    171\u001b[0m             \u001b[38;5;28;01melse\u001b[39;00m:\n\u001b[0;32m--> 172\u001b[0m                 y \u001b[38;5;241m=\u001b[39m \u001b[43m_reconstruct\u001b[49m\u001b[43m(\u001b[49m\u001b[43mx\u001b[49m\u001b[43m,\u001b[49m\u001b[43m \u001b[49m\u001b[43mmemo\u001b[49m\u001b[43m,\u001b[49m\u001b[43m \u001b[49m\u001b[38;5;241;43m*\u001b[39;49m\u001b[43mrv\u001b[49m\u001b[43m)\u001b[49m\n\u001b[1;32m    174\u001b[0m \u001b[38;5;66;03m# If is its own copy, don't memoize.\u001b[39;00m\n\u001b[1;32m    175\u001b[0m \u001b[38;5;28;01mif\u001b[39;00m y \u001b[38;5;129;01mis\u001b[39;00m \u001b[38;5;129;01mnot\u001b[39;00m x:\n",
      "File \u001b[0;32m~/anaconda3/lib/python3.9/copy.py:270\u001b[0m, in \u001b[0;36m_reconstruct\u001b[0;34m(x, memo, func, args, state, listiter, dictiter, deepcopy)\u001b[0m\n\u001b[1;32m    268\u001b[0m \u001b[38;5;28;01mif\u001b[39;00m state \u001b[38;5;129;01mis\u001b[39;00m \u001b[38;5;129;01mnot\u001b[39;00m \u001b[38;5;28;01mNone\u001b[39;00m:\n\u001b[1;32m    269\u001b[0m     \u001b[38;5;28;01mif\u001b[39;00m deep:\n\u001b[0;32m--> 270\u001b[0m         state \u001b[38;5;241m=\u001b[39m \u001b[43mdeepcopy\u001b[49m\u001b[43m(\u001b[49m\u001b[43mstate\u001b[49m\u001b[43m,\u001b[49m\u001b[43m \u001b[49m\u001b[43mmemo\u001b[49m\u001b[43m)\u001b[49m\n\u001b[1;32m    271\u001b[0m     \u001b[38;5;28;01mif\u001b[39;00m \u001b[38;5;28mhasattr\u001b[39m(y, \u001b[38;5;124m'\u001b[39m\u001b[38;5;124m__setstate__\u001b[39m\u001b[38;5;124m'\u001b[39m):\n\u001b[1;32m    272\u001b[0m         y\u001b[38;5;241m.\u001b[39m__setstate__(state)\n",
      "File \u001b[0;32m~/anaconda3/lib/python3.9/copy.py:146\u001b[0m, in \u001b[0;36mdeepcopy\u001b[0;34m(x, memo, _nil)\u001b[0m\n\u001b[1;32m    144\u001b[0m copier \u001b[38;5;241m=\u001b[39m _deepcopy_dispatch\u001b[38;5;241m.\u001b[39mget(\u001b[38;5;28mcls\u001b[39m)\n\u001b[1;32m    145\u001b[0m \u001b[38;5;28;01mif\u001b[39;00m copier \u001b[38;5;129;01mis\u001b[39;00m \u001b[38;5;129;01mnot\u001b[39;00m \u001b[38;5;28;01mNone\u001b[39;00m:\n\u001b[0;32m--> 146\u001b[0m     y \u001b[38;5;241m=\u001b[39m \u001b[43mcopier\u001b[49m\u001b[43m(\u001b[49m\u001b[43mx\u001b[49m\u001b[43m,\u001b[49m\u001b[43m \u001b[49m\u001b[43mmemo\u001b[49m\u001b[43m)\u001b[49m\n\u001b[1;32m    147\u001b[0m \u001b[38;5;28;01melse\u001b[39;00m:\n\u001b[1;32m    148\u001b[0m     \u001b[38;5;28;01mif\u001b[39;00m \u001b[38;5;28missubclass\u001b[39m(\u001b[38;5;28mcls\u001b[39m, \u001b[38;5;28mtype\u001b[39m):\n",
      "File \u001b[0;32m~/anaconda3/lib/python3.9/copy.py:230\u001b[0m, in \u001b[0;36m_deepcopy_dict\u001b[0;34m(x, memo, deepcopy)\u001b[0m\n\u001b[1;32m    228\u001b[0m memo[\u001b[38;5;28mid\u001b[39m(x)] \u001b[38;5;241m=\u001b[39m y\n\u001b[1;32m    229\u001b[0m \u001b[38;5;28;01mfor\u001b[39;00m key, value \u001b[38;5;129;01min\u001b[39;00m x\u001b[38;5;241m.\u001b[39mitems():\n\u001b[0;32m--> 230\u001b[0m     y[deepcopy(key, memo)] \u001b[38;5;241m=\u001b[39m \u001b[43mdeepcopy\u001b[49m\u001b[43m(\u001b[49m\u001b[43mvalue\u001b[49m\u001b[43m,\u001b[49m\u001b[43m \u001b[49m\u001b[43mmemo\u001b[49m\u001b[43m)\u001b[49m\n\u001b[1;32m    231\u001b[0m \u001b[38;5;28;01mreturn\u001b[39;00m y\n",
      "    \u001b[0;31m[... skipping similar frames: deepcopy at line 146 (1 times)]\u001b[0m\n",
      "File \u001b[0;32m~/anaconda3/lib/python3.9/copy.py:205\u001b[0m, in \u001b[0;36m_deepcopy_list\u001b[0;34m(x, memo, deepcopy)\u001b[0m\n\u001b[1;32m    203\u001b[0m append \u001b[38;5;241m=\u001b[39m y\u001b[38;5;241m.\u001b[39mappend\n\u001b[1;32m    204\u001b[0m \u001b[38;5;28;01mfor\u001b[39;00m a \u001b[38;5;129;01min\u001b[39;00m x:\n\u001b[0;32m--> 205\u001b[0m     append(\u001b[43mdeepcopy\u001b[49m\u001b[43m(\u001b[49m\u001b[43ma\u001b[49m\u001b[43m,\u001b[49m\u001b[43m \u001b[49m\u001b[43mmemo\u001b[49m\u001b[43m)\u001b[49m)\n\u001b[1;32m    206\u001b[0m \u001b[38;5;28;01mreturn\u001b[39;00m y\n",
      "    \u001b[0;31m[... skipping similar frames: deepcopy at line 146 (3 times), _deepcopy_dict at line 230 (2 times), _reconstruct at line 270 (2 times), deepcopy at line 172 (2 times)]\u001b[0m\n",
      "File \u001b[0;32m~/anaconda3/lib/python3.9/copy.py:205\u001b[0m, in \u001b[0;36m_deepcopy_list\u001b[0;34m(x, memo, deepcopy)\u001b[0m\n\u001b[1;32m    203\u001b[0m append \u001b[38;5;241m=\u001b[39m y\u001b[38;5;241m.\u001b[39mappend\n\u001b[1;32m    204\u001b[0m \u001b[38;5;28;01mfor\u001b[39;00m a \u001b[38;5;129;01min\u001b[39;00m x:\n\u001b[0;32m--> 205\u001b[0m     append(\u001b[43mdeepcopy\u001b[49m\u001b[43m(\u001b[49m\u001b[43ma\u001b[49m\u001b[43m,\u001b[49m\u001b[43m \u001b[49m\u001b[43mmemo\u001b[49m\u001b[43m)\u001b[49m)\n\u001b[1;32m    206\u001b[0m \u001b[38;5;28;01mreturn\u001b[39;00m y\n",
      "    \u001b[0;31m[... skipping similar frames: deepcopy at line 146 (9 times), _deepcopy_dict at line 230 (6 times), _reconstruct at line 270 (6 times), deepcopy at line 172 (6 times), _deepcopy_list at line 205 (3 times)]\u001b[0m\n",
      "File \u001b[0;32m~/anaconda3/lib/python3.9/copy.py:172\u001b[0m, in \u001b[0;36mdeepcopy\u001b[0;34m(x, memo, _nil)\u001b[0m\n\u001b[1;32m    170\u001b[0m                 y \u001b[38;5;241m=\u001b[39m x\n\u001b[1;32m    171\u001b[0m             \u001b[38;5;28;01melse\u001b[39;00m:\n\u001b[0;32m--> 172\u001b[0m                 y \u001b[38;5;241m=\u001b[39m \u001b[43m_reconstruct\u001b[49m\u001b[43m(\u001b[49m\u001b[43mx\u001b[49m\u001b[43m,\u001b[49m\u001b[43m \u001b[49m\u001b[43mmemo\u001b[49m\u001b[43m,\u001b[49m\u001b[43m \u001b[49m\u001b[38;5;241;43m*\u001b[39;49m\u001b[43mrv\u001b[49m\u001b[43m)\u001b[49m\n\u001b[1;32m    174\u001b[0m \u001b[38;5;66;03m# If is its own copy, don't memoize.\u001b[39;00m\n\u001b[1;32m    175\u001b[0m \u001b[38;5;28;01mif\u001b[39;00m y \u001b[38;5;129;01mis\u001b[39;00m \u001b[38;5;129;01mnot\u001b[39;00m x:\n",
      "File \u001b[0;32m~/anaconda3/lib/python3.9/copy.py:270\u001b[0m, in \u001b[0;36m_reconstruct\u001b[0;34m(x, memo, func, args, state, listiter, dictiter, deepcopy)\u001b[0m\n\u001b[1;32m    268\u001b[0m \u001b[38;5;28;01mif\u001b[39;00m state \u001b[38;5;129;01mis\u001b[39;00m \u001b[38;5;129;01mnot\u001b[39;00m \u001b[38;5;28;01mNone\u001b[39;00m:\n\u001b[1;32m    269\u001b[0m     \u001b[38;5;28;01mif\u001b[39;00m deep:\n\u001b[0;32m--> 270\u001b[0m         state \u001b[38;5;241m=\u001b[39m \u001b[43mdeepcopy\u001b[49m\u001b[43m(\u001b[49m\u001b[43mstate\u001b[49m\u001b[43m,\u001b[49m\u001b[43m \u001b[49m\u001b[43mmemo\u001b[49m\u001b[43m)\u001b[49m\n\u001b[1;32m    271\u001b[0m     \u001b[38;5;28;01mif\u001b[39;00m \u001b[38;5;28mhasattr\u001b[39m(y, \u001b[38;5;124m'\u001b[39m\u001b[38;5;124m__setstate__\u001b[39m\u001b[38;5;124m'\u001b[39m):\n\u001b[1;32m    272\u001b[0m         y\u001b[38;5;241m.\u001b[39m__setstate__(state)\n",
      "    \u001b[0;31m[... skipping similar frames: deepcopy at line 146 (1 times)]\u001b[0m\n",
      "File \u001b[0;32m~/anaconda3/lib/python3.9/copy.py:230\u001b[0m, in \u001b[0;36m_deepcopy_dict\u001b[0;34m(x, memo, deepcopy)\u001b[0m\n\u001b[1;32m    228\u001b[0m memo[\u001b[38;5;28mid\u001b[39m(x)] \u001b[38;5;241m=\u001b[39m y\n\u001b[1;32m    229\u001b[0m \u001b[38;5;28;01mfor\u001b[39;00m key, value \u001b[38;5;129;01min\u001b[39;00m x\u001b[38;5;241m.\u001b[39mitems():\n\u001b[0;32m--> 230\u001b[0m     y[deepcopy(key, memo)] \u001b[38;5;241m=\u001b[39m \u001b[43mdeepcopy\u001b[49m\u001b[43m(\u001b[49m\u001b[43mvalue\u001b[49m\u001b[43m,\u001b[49m\u001b[43m \u001b[49m\u001b[43mmemo\u001b[49m\u001b[43m)\u001b[49m\n\u001b[1;32m    231\u001b[0m \u001b[38;5;28;01mreturn\u001b[39;00m y\n",
      "File \u001b[0;32m~/anaconda3/lib/python3.9/copy.py:146\u001b[0m, in \u001b[0;36mdeepcopy\u001b[0;34m(x, memo, _nil)\u001b[0m\n\u001b[1;32m    144\u001b[0m copier \u001b[38;5;241m=\u001b[39m _deepcopy_dispatch\u001b[38;5;241m.\u001b[39mget(\u001b[38;5;28mcls\u001b[39m)\n\u001b[1;32m    145\u001b[0m \u001b[38;5;28;01mif\u001b[39;00m copier \u001b[38;5;129;01mis\u001b[39;00m \u001b[38;5;129;01mnot\u001b[39;00m \u001b[38;5;28;01mNone\u001b[39;00m:\n\u001b[0;32m--> 146\u001b[0m     y \u001b[38;5;241m=\u001b[39m \u001b[43mcopier\u001b[49m\u001b[43m(\u001b[49m\u001b[43mx\u001b[49m\u001b[43m,\u001b[49m\u001b[43m \u001b[49m\u001b[43mmemo\u001b[49m\u001b[43m)\u001b[49m\n\u001b[1;32m    147\u001b[0m \u001b[38;5;28;01melse\u001b[39;00m:\n\u001b[1;32m    148\u001b[0m     \u001b[38;5;28;01mif\u001b[39;00m \u001b[38;5;28missubclass\u001b[39m(\u001b[38;5;28mcls\u001b[39m, \u001b[38;5;28mtype\u001b[39m):\n",
      "File \u001b[0;32m~/anaconda3/lib/python3.9/copy.py:205\u001b[0m, in \u001b[0;36m_deepcopy_list\u001b[0;34m(x, memo, deepcopy)\u001b[0m\n\u001b[1;32m    203\u001b[0m append \u001b[38;5;241m=\u001b[39m y\u001b[38;5;241m.\u001b[39mappend\n\u001b[1;32m    204\u001b[0m \u001b[38;5;28;01mfor\u001b[39;00m a \u001b[38;5;129;01min\u001b[39;00m x:\n\u001b[0;32m--> 205\u001b[0m     append(\u001b[43mdeepcopy\u001b[49m\u001b[43m(\u001b[49m\u001b[43ma\u001b[49m\u001b[43m,\u001b[49m\u001b[43m \u001b[49m\u001b[43mmemo\u001b[49m\u001b[43m)\u001b[49m)\n\u001b[1;32m    206\u001b[0m \u001b[38;5;28;01mreturn\u001b[39;00m y\n",
      "File \u001b[0;32m~/anaconda3/lib/python3.9/copy.py:144\u001b[0m, in \u001b[0;36mdeepcopy\u001b[0;34m(x, memo, _nil)\u001b[0m\n\u001b[1;32m    140\u001b[0m     \u001b[38;5;28;01mreturn\u001b[39;00m y\n\u001b[1;32m    142\u001b[0m \u001b[38;5;28mcls\u001b[39m \u001b[38;5;241m=\u001b[39m \u001b[38;5;28mtype\u001b[39m(x)\n\u001b[0;32m--> 144\u001b[0m copier \u001b[38;5;241m=\u001b[39m \u001b[43m_deepcopy_dispatch\u001b[49m\u001b[38;5;241;43m.\u001b[39;49m\u001b[43mget\u001b[49m(\u001b[38;5;28mcls\u001b[39m)\n\u001b[1;32m    145\u001b[0m \u001b[38;5;28;01mif\u001b[39;00m copier \u001b[38;5;129;01mis\u001b[39;00m \u001b[38;5;129;01mnot\u001b[39;00m \u001b[38;5;28;01mNone\u001b[39;00m:\n\u001b[1;32m    146\u001b[0m     y \u001b[38;5;241m=\u001b[39m copier(x, memo)\n",
      "\u001b[0;31mKeyboardInterrupt\u001b[0m: "
     ]
    }
   ],
   "source": [
    "data.ReduceMorseComplex(0.02)\n",
    "#data.reducedMorseComplexes[1].info()"
   ]
  },
  {
   "cell_type": "code",
   "execution_count": null,
   "id": "936d50dd",
   "metadata": {},
   "outputs": [],
   "source": [
    "data.ReduceMorseComplex(0.08)\n",
    "#data.reducedMorseComplexes[3].info()"
   ]
  },
  {
   "cell_type": "markdown",
   "id": "e50dcc51",
   "metadata": {},
   "source": [
    "## Plot option for Gigamesh (there are several also for writing meshlab overlay files..)\n",
    "Uses a labels for each Morse cell to write a label file which can be read by Gigamesh for visualization.\n",
    "Need to Extract Morse cells first with **.ExtractMorseCells(persistence)** and than **.write_MorseCellLabels(persistence, filename)** to write the according label file. \n",
    "- **persistence:** The persistence of the Morse complex you want to visualize\n",
    "- **filename:** filename where the label file should be stored"
   ]
  },
  {
   "cell_type": "code",
   "execution_count": null,
   "id": "201662fd",
   "metadata": {},
   "outputs": [],
   "source": [
    "labelfile_name = \"../../Data/artefacts/0_04_labels\" # the .txt extension is written automatically\n",
    "\n",
    "data.ExtractMorseCells(0.04)\n",
    "data.write_MorseCellLabels(0.04, labelfile_name)"
   ]
  },
  {
   "cell_type": "code",
   "execution_count": null,
   "id": "8117bf48",
   "metadata": {},
   "outputs": [],
   "source": [
    "labelfile_name = \"../../Data/artefacts/0_08_labels\" # the .txt extension is written automatically\n",
    "\n",
    "data.ExtractMorseCells(0.08)\n",
    "data.write_MorseCellLabels(0.08, labelfile_name)"
   ]
  },
  {
   "cell_type": "markdown",
   "id": "d1950247",
   "metadata": {},
   "source": [
    "## Visualize in Gigamesh:\n",
    "(Maybe the develop version of gigamesh is required, since import labels migth not be in the website version)\n",
    "1. Load the ply file into Gigamesh\n",
    "2. Choose Import labels under **File - Import - Import Labels** and load the written output label file\n",
    "3. Vertex in first column: YES \n",
    "4. Select **Labels-Connected Comp.** on the right to see the Morse cells of the Morse complex"
   ]
  },
  {
   "cell_type": "code",
   "execution_count": null,
   "id": "ea11c089",
   "metadata": {},
   "outputs": [],
   "source": []
  }
 ],
 "metadata": {
  "kernelspec": {
   "display_name": "Python 3 (ipykernel)",
   "language": "python",
   "name": "python3"
  },
  "language_info": {
   "codemirror_mode": {
    "name": "ipython",
    "version": 3
   },
   "file_extension": ".py",
   "mimetype": "text/x-python",
   "name": "python",
   "nbconvert_exporter": "python",
   "pygments_lexer": "ipython3",
   "version": "3.9.12"
  }
 },
 "nbformat": 4,
 "nbformat_minor": 5
}
