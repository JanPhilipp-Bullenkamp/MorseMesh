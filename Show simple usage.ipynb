{
 "cells": [
  {
   "cell_type": "code",
   "execution_count": 1,
   "id": "0f2e5511",
   "metadata": {},
   "outputs": [
    {
     "name": "stdout",
     "output_type": "stream",
     "text": [
      "load_mesh_ply took 0.00972 seconds to execute!\n",
      "ProcessLowerStars took 0.00156 seconds to execute!\n",
      "ExtractMorseComplex took 0.00181 seconds to execute!\n",
      "ReduceMorseComplex took 0.00127 seconds to execute!\n"
     ]
    },
    {
     "data": {
      "text/plain": [
       "+-------------------------------------------------------\n",
       "| MorseComplex Info\n",
       "+-------------------------------------------------------\n",
       "| Filename: ../../Data/test_objects/cube_r0.30_n4_v256.volume\n",
       "| Persistence of this Complex: 0.025\n",
       "+-------------------------------------------------------\n",
       "| Number of Vertices: 7\n",
       "| Number of Edges: 10\n",
       "| Number of Faces: 5\n",
       "+-------------------------------------------------------\n",
       "| Euler characteristic: 2\n",
       "| Betti numbers: None\n",
       "+-------------------------------------------------------"
      ]
     },
     "execution_count": 1,
     "metadata": {},
     "output_type": "execute_result"
    }
   ],
   "source": [
    "from src.morse import Morse\n",
    "data = Morse()\n",
    "\n",
    "#file = \"../../Data/test_objects/cube_large_r0.30_n4_v256.volume.ply\"\n",
    "file = \"../../Data/test_objects/cube_r0.30_n4_v256.volume.ply\"\n",
    "#file = \"../../Data/vase_reduced_cleaned.ply\"\n",
    "#file = \"../../Data/artefact_31_test/curvature/31_r1.00_n4_v256.volume.ply\"\n",
    "#file = \"../../Data/graz/steinbruchwand_ttvc_gmo_2022-11-05_0934/Steinbruchwand_TTVC_GMO_cut_150x200_r15.00_n4_v256.volume.ply\"\n",
    "data.load_mesh_ply(file, quality_index=3, inverted=True)\n",
    "data.ProcessLowerStars()\n",
    "data.ExtractMorseComplex()\n",
    "data.ReduceMorseComplex(0.025)\n",
    "#pers = 0.06\n",
    "#data.ExtractMorseCells(pers)\n",
    "#labelfilename = \"../old_MorseTheory/Data/results/test_new_mscomplex_visualization_001_false\"\n",
    "#data.plot_MorseComplex_ply(0.01,labelfilename, detailed=False, separate_points_file=False)"
   ]
  },
  {
   "cell_type": "code",
   "execution_count": 2,
   "id": "9c777d3f",
   "metadata": {},
   "outputs": [
    {
     "name": "stdout",
     "output_type": "stream",
     "text": [
      "ExtractMorseCells took 0.00271 seconds to execute!\n",
      "Need to maximally reduce MorseComplex first...\n",
      "Persistence was high enough that this complex is maximally reduced.\n",
      "ReduceMorseComplex took 0.00230 seconds to execute!\n",
      "get_salient_edges took 0.00261 seconds to execute!\n",
      "Nb edge pts 66\n",
      "Nb of cells: 5\n"
     ]
    }
   ],
   "source": [
    "data.ExtractMorseCells(0.025)\n",
    "edge_pts = data.get_salient_edges(0.07,0.05)\n",
    "print(\"Nb edge pts\", len(edge_pts))\n",
    "print(\"Nb of cells:\", len(data.reducedMorseComplexes[0.025].MorseCells.Cells))\n",
    "data.reducedMorseComplexes[0.025].MorseCells.add_salient_edge_points(edge_pts,(0.07,0.05))\n",
    "data.reducedMorseComplexes[0.025].MorseCells.calculate_all_weights()"
   ]
  },
  {
   "cell_type": "code",
   "execution_count": 3,
   "id": "f3767f15",
   "metadata": {},
   "outputs": [
    {
     "name": "stdout",
     "output_type": "stream",
     "text": [
      "plot_MorseComplex_ply took 0.00759 seconds to execute!\n"
     ]
    }
   ],
   "source": [
    "data.plot_MorseComplex_ply(0.025, \"../../Data/test_plotting_functions/TEST_MSCOMPLEX_0025_NEW\", path_color=[255,0,255], detailed=True, separate_points_file=True)"
   ]
  },
  {
   "cell_type": "code",
   "execution_count": 4,
   "id": "0ca4f50c",
   "metadata": {},
   "outputs": [],
   "source": [
    "from src.PlotData.plot_points_for_debugging import write_overlay_points\n",
    "\n",
    "write_overlay_points(edge_pts, data.Vertices, \"../../Data/test_plotting_functions/TEST_BDPOINTS_NEW_ALL_VERTBD\")"
   ]
  },
  {
   "cell_type": "code",
   "execution_count": 5,
   "id": "024db357",
   "metadata": {},
   "outputs": [
    {
     "name": "stdout",
     "output_type": "stream",
     "text": [
      "0.6190476190476191\n",
      "0.5\n",
      "1.0\n",
      "0.3333333333333333\n",
      "0.6190476190476191\n",
      "0.8333333333333334\n",
      "0.0\n",
      "0.8333333333333334\n",
      "0.8333333333333334\n",
      "0.7142857142857143\n",
      "0.3333333333333333\n",
      "1.0\n",
      "0.875\n",
      "0.7142857142857143\n",
      "0.5\n",
      "0.875\n",
      "0.8333333333333334\n",
      "0.0\n",
      "0\n",
      "Av weight:  0.6342592592592592\n",
      "18\n"
     ]
    }
   ],
   "source": [
    "weights = []\n",
    "c=0\n",
    "for cell in data.reducedMorseComplexes[0.025].MorseCells.Cells.values():\n",
    "    for neighbor, weight in cell.neighbors_weights.items():\n",
    "        weights.append(weight)\n",
    "        #if weight==0:\n",
    "        print(weight)\n",
    "        #    c+=1\n",
    "print(c)\n",
    "print(\"Av weight: \", sum(weights)/len(weights))\n",
    "print(len(weights))"
   ]
  },
  {
   "cell_type": "code",
   "execution_count": null,
   "id": "73d83e5e",
   "metadata": {},
   "outputs": [],
   "source": [
    "file = \"../../Data/artefact_31_test/curvature/31_r1.00_n4_v256.volume.ply\"\n",
    "\n",
    "import cProfile\n",
    "import pstats\n",
    "\n",
    "#with cProfile.Profile() as pr:\n",
    "#    data.load_mesh_ply(file, quality_index=3, inverted=True)\n",
    "    \n",
    "#stats = pstats.Stats(pr)\n",
    "#stats.sort_stats(pstats.SortKey.TIME)\n",
    "#stats.print_stats()"
   ]
  },
  {
   "cell_type": "code",
   "execution_count": null,
   "id": "65c46708",
   "metadata": {},
   "outputs": [],
   "source": [
    "edge_file = \"../old_MorseTheory/Data/results/test_0075_005_edges\"\n",
    "data.plot_SalientEdges_ply(edge_file, 0.075,0.05, only_strong=True)"
   ]
  },
  {
   "cell_type": "code",
   "execution_count": null,
   "id": "a309bde1",
   "metadata": {},
   "outputs": [],
   "source": [
    "stat = data.salient_edge_statistics(nb_bins = 300, log=False, save = False, filepath = 'histogram', show = True)"
   ]
  },
  {
   "cell_type": "code",
   "execution_count": null,
   "id": "00954f53",
   "metadata": {},
   "outputs": [],
   "source": [
    "filename = \"../old_MorseTheory/Data/results/test_006_0075_005_05_seg\"\n",
    "data.Segmentation(0.06, 0.075, 0.05, 0.5, minimum_labels=3)\n",
    "data.plot_Segmentation_label_txt(0.06, 0.075, 0.05, 0.5, filename)"
   ]
  }
 ],
 "metadata": {
  "kernelspec": {
   "display_name": "Python 3.9.12 ('base')",
   "language": "python",
   "name": "python3"
  },
  "language_info": {
   "codemirror_mode": {
    "name": "ipython",
    "version": 3
   },
   "file_extension": ".py",
   "mimetype": "text/x-python",
   "name": "python",
   "nbconvert_exporter": "python",
   "pygments_lexer": "ipython3",
   "version": "3.9.12"
  },
  "vscode": {
   "interpreter": {
    "hash": "2796f898c241be261d17d4440712f4c58a6e72713839fe7ec4d10cc08aa00573"
   }
  }
 },
 "nbformat": 4,
 "nbformat_minor": 5
}
