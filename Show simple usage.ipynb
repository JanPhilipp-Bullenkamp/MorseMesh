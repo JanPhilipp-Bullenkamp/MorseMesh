{
 "cells": [
  {
   "cell_type": "markdown",
   "id": "aa7879b7",
   "metadata": {},
   "source": [
    "## Need to import the Morse class"
   ]
  },
  {
   "cell_type": "code",
   "execution_count": 1,
   "id": "ff4e6f38",
   "metadata": {},
   "outputs": [],
   "source": [
    "from src.morse import Morse"
   ]
  },
  {
   "cell_type": "markdown",
   "id": "db3d7bf2",
   "metadata": {},
   "source": [
    "## Initialize Morse class"
   ]
  },
  {
   "cell_type": "code",
   "execution_count": 2,
   "id": "713fdeea",
   "metadata": {},
   "outputs": [],
   "source": [
    "data = Morse()"
   ]
  },
  {
   "cell_type": "markdown",
   "id": "dbe41d12",
   "metadata": {},
   "source": [
    "##  Load ply file into the Morse class\n",
    "Use the function: **.load_mesh_ply(filename, quality_index, inverted=False)**\n",
    "\n",
    "- **filename:** The path to the ply file you want to load\n",
    "- **quality_index:** The position index where the Morse function value are saved in the ply file (e.g. 3 if you want the quality value and the plyfile has the properties x,y,z,quality; or if you want to take the height function/z-value: choose 2)\n",
    "- **inverted:** Optional, default is false. Multiplies the Morse function with -1 -> min will become max and max will become min."
   ]
  },
  {
   "cell_type": "code",
   "execution_count": 3,
   "id": "8d30dddf",
   "metadata": {},
   "outputs": [
    {
     "name": "stdout",
     "output_type": "stream",
     "text": [
      "Time read data file: 3.4367943429988372\n",
      "Time read and prepare data: 13.692319123998459\n"
     ]
    }
   ],
   "source": [
    "#file = \"../../Data/vase_reduced_cleaned.ply\"\n",
    "file = \"../../Data/artefact_31_test/curvature/31_r1.00_n4_v256.volume.ply\"\n",
    "data.load_mesh_ply(file, quality_index=3)"
   ]
  },
  {
   "cell_type": "markdown",
   "id": "c11a0efc",
   "metadata": {},
   "source": [
    "## Dataset info (Optional)\n",
    "Prints out info like Vertices, Edges and Faces, as well as the Morse function range"
   ]
  },
  {
   "cell_type": "code",
   "execution_count": 4,
   "id": "d27b6d4d",
   "metadata": {},
   "outputs": [
    {
     "name": "stdout",
     "output_type": "stream",
     "text": [
      "+-------------------------------------------------------\n",
      "| Mesh Info\n",
      "+-------------------------------------------------------\n",
      "| Filename:  ../../Data/artefact_31_test/curvature/31_r1.00_n4_v256.volume\n",
      "| Morse function values range:  [-0.5752758, 0.6180446]\n",
      "+-------------------------------------------------------\n",
      "| Number of Vertices:  146174\n",
      "| Number of Edges:  438516\n",
      "| Number of Faces:  292344\n",
      "+-------------------------------------------------------\n",
      "| Euler characteristic:  2\n",
      "+-------------------------------------------------------\n"
     ]
    }
   ],
   "source": [
    "data.info()"
   ]
  },
  {
   "cell_type": "markdown",
   "id": "7b904c38",
   "metadata": {},
   "source": [
    "## Perform Morse Complex Calculations\n",
    "Use the functions **.ProcessLowerStars()** and **.ExtractMorseComplex()**\n",
    "- **ProcessLowerStars()** calculates the discrete vector field\n",
    "- **ExtractMorseComplex()** calculates the Morse complex, so finds the neighborhood relations between critical simplices by finding separatrices from maxima to saddles and from saddles to minima"
   ]
  },
  {
   "cell_type": "code",
   "execution_count": 5,
   "id": "e78790c0",
   "metadata": {},
   "outputs": [
    {
     "ename": "KeyboardInterrupt",
     "evalue": "",
     "output_type": "error",
     "traceback": [
      "\u001b[0;31m---------------------------------------------------------------------------\u001b[0m",
      "\u001b[0;31mKeyboardInterrupt\u001b[0m                         Traceback (most recent call last)",
      "Input \u001b[0;32mIn [5]\u001b[0m, in \u001b[0;36m<cell line: 1>\u001b[0;34m()\u001b[0m\n\u001b[0;32m----> 1\u001b[0m \u001b[43mdata\u001b[49m\u001b[38;5;241;43m.\u001b[39;49m\u001b[43mProcessLowerStars\u001b[49m\u001b[43m(\u001b[49m\u001b[43m)\u001b[49m\n\u001b[1;32m      2\u001b[0m data\u001b[38;5;241m.\u001b[39mExtractMorseComplex()\n",
      "File \u001b[0;32m~/Documents/Code/MorseTheory/src/morse.py:98\u001b[0m, in \u001b[0;36mMorse.ProcessLowerStars\u001b[0;34m(self)\u001b[0m\n\u001b[1;32m     95\u001b[0m     \u001b[38;5;28mself\u001b[39m\u001b[38;5;241m.\u001b[39mC[\u001b[38;5;241m1\u001b[39m] \u001b[38;5;241m=\u001b[39m \u001b[38;5;28mset\u001b[39m()\n\u001b[1;32m     96\u001b[0m     \u001b[38;5;28mself\u001b[39m\u001b[38;5;241m.\u001b[39mC[\u001b[38;5;241m2\u001b[39m] \u001b[38;5;241m=\u001b[39m \u001b[38;5;28mset\u001b[39m()\n\u001b[0;32m---> 98\u001b[0m \u001b[43mProcessLowerStars\u001b[49m\u001b[43m(\u001b[49m\u001b[38;5;28;43mself\u001b[39;49m\u001b[38;5;241;43m.\u001b[39;49m\u001b[43mVertices\u001b[49m\u001b[43m,\u001b[49m\u001b[43m \u001b[49m\u001b[38;5;28;43mself\u001b[39;49m\u001b[38;5;241;43m.\u001b[39;49m\u001b[43mEdges\u001b[49m\u001b[43m,\u001b[49m\u001b[43m \u001b[49m\u001b[38;5;28;43mself\u001b[39;49m\u001b[38;5;241;43m.\u001b[39;49m\u001b[43mFaces\u001b[49m\u001b[43m,\u001b[49m\u001b[43m \u001b[49m\u001b[38;5;28;43mself\u001b[39;49m\u001b[38;5;241;43m.\u001b[39;49m\u001b[43mC\u001b[49m\u001b[43m,\u001b[49m\u001b[43m \u001b[49m\u001b[38;5;28;43mself\u001b[39;49m\u001b[38;5;241;43m.\u001b[39;49m\u001b[43mV12\u001b[49m\u001b[43m,\u001b[49m\u001b[43m \u001b[49m\u001b[38;5;28;43mself\u001b[39;49m\u001b[38;5;241;43m.\u001b[39;49m\u001b[43mV23\u001b[49m\u001b[43m)\u001b[49m\n\u001b[1;32m     99\u001b[0m \u001b[38;5;28mself\u001b[39m\u001b[38;5;241m.\u001b[39m_flag_ProcessLowerStars \u001b[38;5;241m=\u001b[39m \u001b[38;5;28;01mTrue\u001b[39;00m\n",
      "File \u001b[0;32m~/Documents/Code/MorseTheory/src/Algorithms/ProcessLowerStars.py:71\u001b[0m, in \u001b[0;36mProcessLowerStars\u001b[0;34m(vertices_dict, edges_dict, faces_dict, C, V12, V23)\u001b[0m\n\u001b[1;32m     68\u001b[0m \u001b[38;5;28;01mwhile\u001b[39;00m PQone\u001b[38;5;241m.\u001b[39mnotEmpty():\n\u001b[1;32m     69\u001b[0m     alpha_simplex, alpha_index \u001b[38;5;241m=\u001b[39m PQone\u001b[38;5;241m.\u001b[39mpop_front()\n\u001b[0;32m---> 71\u001b[0m     \u001b[38;5;28;01mif\u001b[39;00m \u001b[43mnum_unpaired_faces\u001b[49m\u001b[43m(\u001b[49m\u001b[43malpha_simplex\u001b[49m\u001b[43m,\u001b[49m\u001b[43m \u001b[49m\u001b[43mPQzero\u001b[49m\u001b[43m)\u001b[49m \u001b[38;5;241m==\u001b[39m \u001b[38;5;241m0\u001b[39m:\n\u001b[1;32m     72\u001b[0m         PQzero\u001b[38;5;241m.\u001b[39minsert(\u001b[38;5;28mtuple\u001b[39m((alpha_simplex, alpha_index)))\n\u001b[1;32m     74\u001b[0m     \u001b[38;5;28;01melse\u001b[39;00m:\n",
      "File \u001b[0;32m~/Documents/Code/MorseTheory/src/Algorithms/ProcessLowerStars.py:35\u001b[0m, in \u001b[0;36mnum_unpaired_faces\u001b[0;34m(face, PQzero)\u001b[0m\n\u001b[1;32m     33\u001b[0m number \u001b[38;5;241m=\u001b[39m \u001b[38;5;241m0\u001b[39m\n\u001b[1;32m     34\u001b[0m \u001b[38;5;28;01mfor\u001b[39;00m simplex, index \u001b[38;5;129;01min\u001b[39;00m PQzero\u001b[38;5;241m.\u001b[39mitems():\n\u001b[0;32m---> 35\u001b[0m     \u001b[38;5;28;01mif\u001b[39;00m \u001b[43mface\u001b[49m\u001b[38;5;241;43m.\u001b[39;49m\u001b[43mhas_face\u001b[49m\u001b[43m(\u001b[49m\u001b[43msimplex\u001b[49m\u001b[43m)\u001b[49m:\n\u001b[1;32m     36\u001b[0m         number\u001b[38;5;241m+\u001b[39m\u001b[38;5;241m=\u001b[39m\u001b[38;5;241m1\u001b[39m\n\u001b[1;32m     37\u001b[0m \u001b[38;5;28;01mreturn\u001b[39;00m number\n",
      "File \u001b[0;32m~/Documents/Code/MorseTheory/src/Algorithms/LoadData/Datastructure.py:199\u001b[0m, in \u001b[0;36mSimplex.has_face\u001b[0;34m(self, other_simplex)\u001b[0m\n\u001b[1;32m    189\u001b[0m \u001b[38;5;28;01mdef\u001b[39;00m \u001b[38;5;21mhas_face\u001b[39m(\u001b[38;5;28mself\u001b[39m, other_simplex):\n\u001b[1;32m    190\u001b[0m     \u001b[38;5;124;03m\"\"\"! @brief Checks if a given other simplex is a face of this simplex.\u001b[39;00m\n\u001b[1;32m    191\u001b[0m \u001b[38;5;124;03m    @details Another simplex is a face of this simplex, if its vertices are a real subset of this simplex\u001b[39;00m\n\u001b[1;32m    192\u001b[0m \u001b[38;5;124;03m    vertices and there is only one vertex not contained. (e.g. an edge with 2 indices can be the face of a\u001b[39;00m\n\u001b[0;32m   (...)\u001b[0m\n\u001b[1;32m    197\u001b[0m \u001b[38;5;124;03m    @return Bool. True if the other simplex is a face of this simplex, False otherwise.\u001b[39;00m\n\u001b[1;32m    198\u001b[0m \u001b[38;5;124;03m    \"\"\"\u001b[39;00m\n\u001b[0;32m--> 199\u001b[0m     \u001b[38;5;28;01mif\u001b[39;00m \u001b[38;5;28mlen\u001b[39m(\u001b[38;5;28mself\u001b[39m\u001b[38;5;241m.\u001b[39mindices) \u001b[38;5;241m-\u001b[39m \u001b[38;5;28mlen\u001b[39m(other_simplex\u001b[38;5;241m.\u001b[39mindices) \u001b[38;5;241m==\u001b[39m \u001b[38;5;241m1\u001b[39m \u001b[38;5;129;01mand\u001b[39;00m \u001b[43mother_simplex\u001b[49m\u001b[38;5;241;43m.\u001b[39;49m\u001b[43mindices\u001b[49m\u001b[38;5;241;43m.\u001b[39;49m\u001b[43missubset\u001b[49m\u001b[43m(\u001b[49m\u001b[38;5;28;43mself\u001b[39;49m\u001b[38;5;241;43m.\u001b[39;49m\u001b[43mindices\u001b[49m\u001b[43m)\u001b[49m:\n\u001b[1;32m    200\u001b[0m         \u001b[38;5;28;01mreturn\u001b[39;00m \u001b[38;5;28;01mTrue\u001b[39;00m\n\u001b[1;32m    201\u001b[0m     \u001b[38;5;28;01melse\u001b[39;00m:\n",
      "\u001b[0;31mKeyboardInterrupt\u001b[0m: "
     ]
    }
   ],
   "source": [
    "data.ProcessLowerStars()\n",
    "data.ExtractMorseComplex()"
   ]
  },
  {
   "cell_type": "markdown",
   "id": "6c87fc47",
   "metadata": {},
   "source": [
    "## Get Morse Complex info (Optional)\n",
    "Prints out infos on the original Morse complex like number of critical vertices, crit. edges and crit. faces. Persistence should be 0 on the original complex."
   ]
  },
  {
   "cell_type": "code",
   "execution_count": null,
   "id": "51ca4d51",
   "metadata": {},
   "outputs": [],
   "source": [
    "data.MorseComplex.info()"
   ]
  },
  {
   "cell_type": "code",
   "execution_count": null,
   "id": "cd1d9c3d",
   "metadata": {},
   "outputs": [],
   "source": [
    "#labelfile_name = \"../../Data/vase_cells_only_label\" # the .txt extension is written automatically\n",
    "#labelfile_name = \"../../Data/31_only_label\" # the .txt extension is written automatically\n",
    "\n",
    "#data.ExtractMorseCells(0)\n",
    "#data.write_MorseCellLabels(0, labelfile_name)"
   ]
  },
  {
   "cell_type": "markdown",
   "id": "6c19a249",
   "metadata": {},
   "source": [
    "## Reduce Morse complex (using Persistence)\n",
    "Use the function **.ReduceMorseComplex(persistence)**\n",
    "- **persistence:** The persistence level up to which the Morse complex should be simplified. (neighboring critical simplices will be cancelled, (if topologically possible,) if their Morse function value difference is less than the persistence.\n",
    "\n",
    "The reduced complex will be stored in a dictionary **data.reducedMorseComplexes[persistence]** which allows to calculate several persistences. Can be accessed using the persistence as key."
   ]
  },
  {
   "cell_type": "code",
   "execution_count": null,
   "id": "ba402ca2",
   "metadata": {},
   "outputs": [],
   "source": [
    "#data.ExtractMorseCells(0.04)\n",
    "filename = \"../../Data/31_testnew_segmentation\"\n",
    "seg = data.NewSegmentation(0.04, 0.08, 0.04, 0.3, minimum_labels=5)\n",
    "data.write_NewSegmentationLabels(0.04, 0.08, 0.04, 0.3, filename)"
   ]
  },
  {
   "cell_type": "code",
   "execution_count": null,
   "id": "802a1d7f",
   "metadata": {},
   "outputs": [],
   "source": [
    "print(len(seg.Cells.keys()))"
   ]
  },
  {
   "cell_type": "code",
   "execution_count": null,
   "id": "5a57cc0b",
   "metadata": {},
   "outputs": [],
   "source": [
    "#labelfile_name = \"../../Data/vase_cells_only_label_001\" # the .txt extension is written automatically\n",
    "labelfile_name = \"../../Data/31_only_label_004\" # the .txt extension is written automatically\n",
    "\n",
    "#data.ExtractMorseCells(0.04)\n",
    "#data.write_MorseCellLabels(0.04, labelfile_name)"
   ]
  },
  {
   "cell_type": "markdown",
   "id": "88794af5",
   "metadata": {},
   "source": [
    "## Plot option for Gigamesh (there are several also for writing meshlab overlay files..)\n",
    "Uses a labels for each Morse cell to write a label file which can be read by Gigamesh for visualization.\n",
    "Need to Extract Morse cells first with **.ExtractMorseCells(persistence)** and than **.write_MorseCellLabels(persistence, filename)** to write the according label file. \n",
    "- **persistence:** The persistence of the Morse complex you want to visualize\n",
    "- **filename:** filename where the label file should be stored"
   ]
  },
  {
   "cell_type": "code",
   "execution_count": null,
   "id": "58f6e80f",
   "metadata": {},
   "outputs": [],
   "source": [
    "#labelfile_name = \"abc_labels\" # the .txt extension is written automatically\n",
    "\n",
    "#data.ExtractMorseCells(3)\n",
    "#data.write_MorseCellLabels(3, labelfile_name)"
   ]
  },
  {
   "cell_type": "markdown",
   "id": "2baafdb7",
   "metadata": {},
   "source": [
    "## Visualize in Gigamesh:\n",
    "(Maybe the develop version of gigamesh is required, since import labels migth not be in the website version)\n",
    "1. Load the ply file into Gigamesh\n",
    "2. Choose Import labels under **File - Import - Import Labels** and load the written output label file\n",
    "3. Vertex in first column: YES \n",
    "4. Select **Labels-Connected Comp.** on the right to see the Morse cells of the Morse complex"
   ]
  }
 ],
 "metadata": {
  "kernelspec": {
   "display_name": "Python 3 (ipykernel)",
   "language": "python",
   "name": "python3"
  },
  "language_info": {
   "codemirror_mode": {
    "name": "ipython",
    "version": 3
   },
   "file_extension": ".py",
   "mimetype": "text/x-python",
   "name": "python",
   "nbconvert_exporter": "python",
   "pygments_lexer": "ipython3",
   "version": "3.9.12"
  }
 },
 "nbformat": 4,
 "nbformat_minor": 5
}
