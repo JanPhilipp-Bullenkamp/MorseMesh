{
 "cells": [
  {
   "cell_type": "markdown",
   "id": "da01e1be",
   "metadata": {},
   "source": [
    "## Need to import the Morse class"
   ]
  },
  {
   "cell_type": "code",
   "execution_count": 1,
   "id": "bc67d27a",
   "metadata": {},
   "outputs": [],
   "source": [
    "from src.morse import Morse"
   ]
  },
  {
   "cell_type": "markdown",
   "id": "b6671a6d",
   "metadata": {},
   "source": [
    "## Initialize Morse class"
   ]
  },
  {
   "cell_type": "code",
   "execution_count": 2,
   "id": "809c461e",
   "metadata": {},
   "outputs": [],
   "source": [
    "data = Morse()"
   ]
  },
  {
   "cell_type": "markdown",
   "id": "216d3e79",
   "metadata": {},
   "source": [
    "##  Load ply file into the Morse class\n",
    "Use the function: **.load_mesh_ply(filename, quality_index, inverted=False)**\n",
    "\n",
    "- **filename:** The path to the ply file you want to load\n",
    "- **quality_index:** The position index where the Morse function value are saved in the ply file (e.g. 3 if you want the quality value and the plyfile has the properties x,y,z,quality; or if you want to take the height function/z-value: choose 2)\n",
    "- **inverted:** Optional, default is false. Multiplies the Morse function with -1 -> min will become max and max will become min."
   ]
  },
  {
   "cell_type": "code",
   "execution_count": 3,
   "id": "03f254f4",
   "metadata": {},
   "outputs": [
    {
     "name": "stdout",
     "output_type": "stream",
     "text": [
      "Time read data file: 0.11737064200133318\n",
      "Time read and prepare data: 1.1908981369997491\n"
     ]
    }
   ],
   "source": [
    "file = \"../../Data/vase_reduced.ply\"\n",
    "data.load_mesh_ply(file, quality_index=2)"
   ]
  },
  {
   "cell_type": "markdown",
   "id": "821956a7",
   "metadata": {},
   "source": [
    "## Dataset info (Optional)\n",
    "Prints out info like Vertices, Edges and Faces, as well as the Morse function range"
   ]
  },
  {
   "cell_type": "code",
   "execution_count": 4,
   "id": "0173a17b",
   "metadata": {},
   "outputs": [
    {
     "name": "stdout",
     "output_type": "stream",
     "text": [
      "+-------------------------------------------------------\n",
      "| Mesh Info\n",
      "+-------------------------------------------------------\n",
      "| Filename:  ../../Data/vase_reduced\n",
      "| Morse function values range:  [-14.250647, 14.248276]\n",
      "+-------------------------------------------------------\n",
      "| Number of Vertices:  14475\n",
      "| Number of Edges:  43493\n",
      "| Number of Faces:  29048\n",
      "+-------------------------------------------------------\n",
      "| Euler characteristic:  30\n",
      "+-------------------------------------------------------\n"
     ]
    }
   ],
   "source": [
    "data.info()"
   ]
  },
  {
   "cell_type": "markdown",
   "id": "b33c6c36",
   "metadata": {},
   "source": [
    "## Perform Morse Complex Calculations\n",
    "Use the functions **.ProcessLowerStars()** and **.ExtractMorseComplex()**\n",
    "- **ProcessLowerStars()** calculates the discrete vector field\n",
    "- **ExtractMorseComplex()** calculates the Morse complex, so finds the neighborhood relations between critical simplices by finding separatrices from maxima to saddles and from saddles to minima"
   ]
  },
  {
   "cell_type": "code",
   "execution_count": 5,
   "id": "f7a6e537",
   "metadata": {},
   "outputs": [
    {
     "name": "stdout",
     "output_type": "stream",
     "text": [
      "Time ProcessLowerStar: 0.3355366279974987\n",
      "Time ExtractMorseComplex and Separatrices: 0.3568927030028135\n"
     ]
    }
   ],
   "source": [
    "data.ProcessLowerStars()\n",
    "data.ExtractMorseComplex()"
   ]
  },
  {
   "cell_type": "markdown",
   "id": "1fdecf32",
   "metadata": {},
   "source": [
    "## Get Morse Complex info (Optional)\n",
    "Prints out infos on the original Morse complex like number of critical vertices, crit. edges and crit. faces. Persistence should be 0 on the original complex."
   ]
  },
  {
   "cell_type": "code",
   "execution_count": 6,
   "id": "5ee794c5",
   "metadata": {},
   "outputs": [
    {
     "name": "stdout",
     "output_type": "stream",
     "text": [
      "+-------------------------------------------------------\n",
      "| MorseComplex Info\n",
      "+-------------------------------------------------------\n",
      "| Filename:  ../../Data/vase_reduced\n",
      "| Persistence of this Complex:  0\n",
      "+-------------------------------------------------------\n",
      "| Number of Vertices:  52\n",
      "| Number of Edges:  125\n",
      "| Number of Faces:  103\n",
      "+-------------------------------------------------------\n",
      "| Euler characteristic:  30\n",
      "+-------------------------------------------------------\n"
     ]
    }
   ],
   "source": [
    "data.MorseComplex.info()"
   ]
  },
  {
   "cell_type": "code",
   "execution_count": 7,
   "id": "1b4d07af",
   "metadata": {},
   "outputs": [],
   "source": [
    "#labelfile_name = \"abc_labels\" # the .txt extension is written automatically\n",
    "\n",
    "#data.ExtractMorseCells(0)\n",
    "#data.write_MorseCellLabels(0, labelfile_name)"
   ]
  },
  {
   "cell_type": "markdown",
   "id": "4419bd6b",
   "metadata": {},
   "source": [
    "## Reduce Morse complex (using Persistence)\n",
    "Use the function **.ReduceMorseComplex(persistence)**\n",
    "- **persistence:** The persistence level up to which the Morse complex should be simplified. (neighboring critical simplices will be cancelled, (if topologically possible,) if their Morse function value difference is less than the persistence.\n",
    "\n",
    "The reduced complex will be stored in a dictionary **data.reducedMorseComplexes[persistence]** which allows to calculate several persistences. Can be accessed using the persistence as key."
   ]
  },
  {
   "cell_type": "code",
   "execution_count": 8,
   "id": "80dffc89",
   "metadata": {},
   "outputs": [
    {
     "ename": "IndexError",
     "evalue": "list index out of range",
     "output_type": "error",
     "traceback": [
      "\u001b[0;31m---------------------------------------------------------------------------\u001b[0m",
      "\u001b[0;31mIndexError\u001b[0m                                Traceback (most recent call last)",
      "Input \u001b[0;32mIn [8]\u001b[0m, in \u001b[0;36m<cell line: 1>\u001b[0;34m()\u001b[0m\n\u001b[0;32m----> 1\u001b[0m \u001b[43mdata\u001b[49m\u001b[38;5;241;43m.\u001b[39;49m\u001b[43mReduceMorseComplex\u001b[49m\u001b[43m(\u001b[49m\u001b[38;5;241;43m1\u001b[39;49m\u001b[43m)\u001b[49m\n\u001b[1;32m      2\u001b[0m data\u001b[38;5;241m.\u001b[39mreducedMorseComplexes[\u001b[38;5;241m1\u001b[39m]\u001b[38;5;241m.\u001b[39minfo()\n",
      "File \u001b[0;32m~/Documents/Code/MorseTheory/src/morse.py:139\u001b[0m, in \u001b[0;36mMorse.ReduceMorseComplex\u001b[0;34m(self, persistence)\u001b[0m\n\u001b[1;32m    137\u001b[0m key_array \u001b[38;5;241m=\u001b[39m np\u001b[38;5;241m.\u001b[39marray([\u001b[38;5;28mlist\u001b[39m(\u001b[38;5;28mself\u001b[39m\u001b[38;5;241m.\u001b[39mreducedMorseComplexes\u001b[38;5;241m.\u001b[39mkeys())])\n\u001b[1;32m    138\u001b[0m closest_smaller \u001b[38;5;241m=\u001b[39m key_array[key_array \u001b[38;5;241m<\u001b[39m persistence]\u001b[38;5;241m.\u001b[39mmax()\n\u001b[0;32m--> 139\u001b[0m \u001b[38;5;28mself\u001b[39m\u001b[38;5;241m.\u001b[39mreducedMorseComplexes[persistence] \u001b[38;5;241m=\u001b[39m \u001b[43mCancelCriticalPairs\u001b[49m\u001b[43m(\u001b[49m\u001b[38;5;28;43mself\u001b[39;49m\u001b[38;5;241;43m.\u001b[39;49m\u001b[43mreducedMorseComplexes\u001b[49m\u001b[43m[\u001b[49m\u001b[43mclosest_smaller\u001b[49m\u001b[43m]\u001b[49m\u001b[43m,\u001b[49m\u001b[43m \u001b[49m\n\u001b[1;32m    140\u001b[0m \u001b[43m                                                              \u001b[49m\u001b[43mpersistence\u001b[49m\u001b[43m,\u001b[49m\u001b[43m \u001b[49m\u001b[38;5;28;43mself\u001b[39;49m\u001b[38;5;241;43m.\u001b[39;49m\u001b[43mVertices\u001b[49m\u001b[43m,\u001b[49m\u001b[43m \u001b[49m\u001b[38;5;28;43mself\u001b[39;49m\u001b[38;5;241;43m.\u001b[39;49m\u001b[43mEdges\u001b[49m\u001b[43m,\u001b[49m\u001b[43m \u001b[49m\u001b[38;5;28;43mself\u001b[39;49m\u001b[38;5;241;43m.\u001b[39;49m\u001b[43mFaces\u001b[49m\u001b[43m)\u001b[49m\n\u001b[1;32m    142\u001b[0m \u001b[38;5;28;01mif\u001b[39;00m persistence \u001b[38;5;241m>\u001b[39m\u001b[38;5;241m=\u001b[39m \u001b[38;5;28mself\u001b[39m\u001b[38;5;241m.\u001b[39mrange \u001b[38;5;129;01mand\u001b[39;00m \u001b[38;5;129;01mnot\u001b[39;00m \u001b[38;5;28mself\u001b[39m\u001b[38;5;241m.\u001b[39m_flag_SalientEdge:\n\u001b[1;32m    143\u001b[0m     \u001b[38;5;28mself\u001b[39m\u001b[38;5;241m.\u001b[39mmaximalReducedComplex \u001b[38;5;241m=\u001b[39m \u001b[38;5;28mself\u001b[39m\u001b[38;5;241m.\u001b[39mreducedMorseComplexes[persistence]\n",
      "File \u001b[0;32m~/Documents/Code/MorseTheory/src/Algorithms/ReduceMorseComplex.py:287\u001b[0m, in \u001b[0;36mCancelCriticalPairs\u001b[0;34m(MorseComplex, threshold, vert_dict, edge_dict, face_dict)\u001b[0m\n\u001b[1;32m    285\u001b[0m         redMorseComplex \u001b[38;5;241m=\u001b[39m cancel_one_critical_pair_min(saddle, redMorseComplex\u001b[38;5;241m.\u001b[39mCritVertices[closest], redMorseComplex, vert_dict, edge_dict)\n\u001b[1;32m    286\u001b[0m     \u001b[38;5;28;01melif\u001b[39;00m dim \u001b[38;5;241m==\u001b[39m \u001b[38;5;241m2\u001b[39m:\n\u001b[0;32m--> 287\u001b[0m         redMorseComplex \u001b[38;5;241m=\u001b[39m \u001b[43mcancel_one_critical_pair_max\u001b[49m\u001b[43m(\u001b[49m\u001b[43msaddle\u001b[49m\u001b[43m,\u001b[49m\u001b[43m \u001b[49m\u001b[43mredMorseComplex\u001b[49m\u001b[38;5;241;43m.\u001b[39;49m\u001b[43mCritFaces\u001b[49m\u001b[43m[\u001b[49m\u001b[43mclosest\u001b[49m\u001b[43m]\u001b[49m\u001b[43m,\u001b[49m\u001b[43m \u001b[49m\u001b[43mredMorseComplex\u001b[49m\u001b[43m,\u001b[49m\u001b[43m \u001b[49m\u001b[43medge_dict\u001b[49m\u001b[43m,\u001b[49m\u001b[43m \u001b[49m\u001b[43mface_dict\u001b[49m\u001b[43m)\u001b[49m\n\u001b[1;32m    288\u001b[0m \u001b[38;5;28;01melse\u001b[39;00m:\n\u001b[1;32m    289\u001b[0m     CancelPairs\u001b[38;5;241m.\u001b[39minsert(\u001b[38;5;28mtuple\u001b[39m((dist, obj_id, saddle)))\n",
      "File \u001b[0;32m~/Documents/Code/MorseTheory/src/Algorithms/ReduceMorseComplex.py:184\u001b[0m, in \u001b[0;36mcancel_one_critical_pair_max\u001b[0;34m(saddle, maximum, MorseComplex, edge_dict, face_dict)\u001b[0m\n\u001b[1;32m    181\u001b[0m         new_maxima\u001b[38;5;241m.\u001b[39mappend(conn_max)\n\u001b[1;32m    183\u001b[0m \u001b[38;5;66;03m# save original path for separatrix persistence for later:\u001b[39;00m\n\u001b[0;32m--> 184\u001b[0m original_path \u001b[38;5;241m=\u001b[39m \u001b[43mmaximum\u001b[49m\u001b[38;5;241;43m.\u001b[39;49m\u001b[43mpaths\u001b[49m\u001b[43m[\u001b[49m\u001b[43msaddle\u001b[49m\u001b[38;5;241;43m.\u001b[39;49m\u001b[43mindex\u001b[49m\u001b[43m]\u001b[49m\n\u001b[1;32m    185\u001b[0m maximal_line_persistence \u001b[38;5;241m=\u001b[39m compute_max_sad_persistence(original_path, edge_dict, face_dict)\n\u001b[1;32m    187\u001b[0m maximal_line \u001b[38;5;241m=\u001b[39m Separatrix(maximum\u001b[38;5;241m.\u001b[39mindex, saddle\u001b[38;5;241m.\u001b[39mindex, \u001b[38;5;241m2\u001b[39m, original_path, maximal_line_persistence)\n",
      "\u001b[0;31mIndexError\u001b[0m: list index out of range"
     ]
    }
   ],
   "source": [
    "data.ReduceMorseComplex(1)\n",
    "data.reducedMorseComplexes[1].info()"
   ]
  },
  {
   "cell_type": "code",
   "execution_count": null,
   "id": "936d50dd",
   "metadata": {},
   "outputs": [],
   "source": [
    "data.ReduceMorseComplex(3)\n",
    "data.reducedMorseComplexes[3].info()"
   ]
  },
  {
   "cell_type": "markdown",
   "id": "e50dcc51",
   "metadata": {},
   "source": [
    "## Plot option for Gigamesh (there are several also for writing meshlab overlay files..)\n",
    "Uses a labels for each Morse cell to write a label file which can be read by Gigamesh for visualization.\n",
    "Need to Extract Morse cells first with **.ExtractMorseCells(persistence)** and than **.write_MorseCellLabels(persistence, filename)** to write the according label file. \n",
    "- **persistence:** The persistence of the Morse complex you want to visualize\n",
    "- **filename:** filename where the label file should be stored"
   ]
  },
  {
   "cell_type": "code",
   "execution_count": null,
   "id": "201662fd",
   "metadata": {},
   "outputs": [],
   "source": [
    "labelfile_name = \"abc_labels\" # the .txt extension is written automatically\n",
    "\n",
    "data.ExtractMorseCells(3)\n",
    "data.write_MorseCellLabels(3, labelfile_name)"
   ]
  },
  {
   "cell_type": "markdown",
   "id": "d1950247",
   "metadata": {},
   "source": [
    "## Visualize in Gigamesh:\n",
    "(Maybe the develop version of gigamesh is required, since import labels migth not be in the website version)\n",
    "1. Load the ply file into Gigamesh\n",
    "2. Choose Import labels under **File - Import - Import Labels** and load the written output label file\n",
    "3. Vertex in first column: YES \n",
    "4. Select **Labels-Connected Comp.** on the right to see the Morse cells of the Morse complex"
   ]
  },
  {
   "cell_type": "code",
   "execution_count": null,
   "id": "4fc9b9b1",
   "metadata": {},
   "outputs": [],
   "source": []
  }
 ],
 "metadata": {
  "kernelspec": {
   "display_name": "Python 3 (ipykernel)",
   "language": "python",
   "name": "python3"
  },
  "language_info": {
   "codemirror_mode": {
    "name": "ipython",
    "version": 3
   },
   "file_extension": ".py",
   "mimetype": "text/x-python",
   "name": "python",
   "nbconvert_exporter": "python",
   "pygments_lexer": "ipython3",
   "version": "3.9.12"
  }
 },
 "nbformat": 4,
 "nbformat_minor": 5
}
