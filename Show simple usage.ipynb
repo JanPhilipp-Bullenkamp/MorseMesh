{
 "cells": [
  {
   "cell_type": "code",
   "execution_count": 1,
   "id": "0f2e5511",
   "metadata": {},
   "outputs": [
    {
     "name": "stdout",
     "output_type": "stream",
     "text": [
      "load_mesh_ply took 15.76875 seconds to execute!\n",
      "ProcessLowerStars took 2.59278 seconds to execute!\n",
      "ExtractMorseComplex took 3.08348 seconds to execute!\n"
     ]
    }
   ],
   "source": [
    "from src.morse import Morse\n",
    "data = Morse()\n",
    "\n",
    "#file = \"../../Data/test_objects/cube_large_r0.30_n4_v256.volume.ply\"\n",
    "#file = \"../../Data/test_objects/cube_r0.30_n4_v256.volume.ply\"\n",
    "#file = \"../../Data/vase_reduced_cleaned.ply\"\n",
    "file = \"../../Data/artefact_31_test/curvature/31_r1.00_n4_v256.volume.ply\"\n",
    "#file = \"../../Data/graz/steinbruchwand_ttvc_gmo_2022-11-05_0934/Steinbruchwand_TTVC_GMO_cut_150x200_r15.00_n4_v256.volume.ply\"\n",
    "data.load_mesh_ply(file, quality_index=3, inverted=True)\n",
    "data.ProcessLowerStars()\n",
    "data.ExtractMorseComplex()\n",
    "#data.ReduceMorseComplex(0.025)\n",
    "#pers = 0.06\n",
    "#data.ExtractMorseCells(pers)\n",
    "#labelfilename = \"../old_MorseTheory/Data/results/test_new_mscomplex_visualization_001_false\"\n",
    "#data.plot_MorseComplex_ply(0.01,labelfilename, detailed=False, separate_points_file=False)"
   ]
  },
  {
   "cell_type": "code",
   "execution_count": 2,
   "id": "255a9950",
   "metadata": {},
   "outputs": [
    {
     "name": "stdout",
     "output_type": "stream",
     "text": [
      "Need to maximally reduce MorseComplex first...\n",
      "Persistence was high enough that this complex is maximally reduced.\n",
      "ReduceMorseComplex took 3.13210 seconds to execute!\n",
      "get_salient_edges took 3.19358 seconds to execute!\n",
      "ReduceMorseComplex_SalientEdge took 4.45912 seconds to execute!\n",
      "ExtractCellsSalientComplex took 16.20639 seconds to execute!\n",
      "Time Segmentation:  0.3694357049971586\n",
      "Segmentation_SalientReduction took 24.22895 seconds to execute!\n",
      "plot_Segmentation_SalientEdge_label_txt took 0.05205 seconds to execute!\n"
     ]
    }
   ],
   "source": [
    "#data.Segmentation_SalientReduction(0.05, 0.03, 0.3, minimum_labels=3)\n",
    "#data.plot_Segmentation_SalientEdge_label_txt(0.05, 0.03, 0.3, \"../../Data/test_plotting_functions/TEST_salientSegmentation_advanced\")"
   ]
  },
  {
   "cell_type": "code",
   "execution_count": 12,
   "id": "0d163728",
   "metadata": {},
   "outputs": [
    {
     "name": "stdout",
     "output_type": "stream",
     "text": [
      "get_salient_edges took 0.08419 seconds to execute!\n",
      "ReduceMorseComplex_SalientEdge took 4.63352 seconds to execute!\n",
      "ExtractCellsSalientComplex took 7.05043 seconds to execute!\n"
     ]
    }
   ],
   "source": [
    "#data.ReduceMorseComplex_SalientEdge(0.05,0.03)\n",
    "#cells = data.ExtractCellsSalientComplex(0.05,0.03)"
   ]
  },
  {
   "cell_type": "code",
   "execution_count": 13,
   "id": "c4527174",
   "metadata": {},
   "outputs": [
    {
     "name": "stdout",
     "output_type": "stream",
     "text": [
      "634\n"
     ]
    }
   ],
   "source": [
    "print(len(cells.Cells))"
   ]
  },
  {
   "cell_type": "code",
   "execution_count": 14,
   "id": "e71f6fbc",
   "metadata": {},
   "outputs": [
    {
     "ename": "KeyError",
     "evalue": "(0.06, 0.04)",
     "output_type": "error",
     "traceback": [
      "\u001b[0;31m---------------------------------------------------------------------------\u001b[0m",
      "\u001b[0;31mKeyError\u001b[0m                                  Traceback (most recent call last)",
      "\u001b[1;32m/home/jp/Documents/Code/MorseTheory/Show simple usage.ipynb Cell 5\u001b[0m in \u001b[0;36m<cell line: 2>\u001b[0;34m()\u001b[0m\n\u001b[1;32m      <a href='vscode-notebook-cell:/home/jp/Documents/Code/MorseTheory/Show%20simple%20usage.ipynb#X14sZmlsZQ%3D%3D?line=0'>1</a>\u001b[0m \u001b[39mfrom\u001b[39;00m \u001b[39msrc\u001b[39;00m\u001b[39m.\u001b[39;00m\u001b[39mPlotData\u001b[39;00m\u001b[39m.\u001b[39;00m\u001b[39mwrite_labels_txt\u001b[39;00m \u001b[39mimport\u001b[39;00m write_Cell_labels_txt_file\n\u001b[0;32m----> <a href='vscode-notebook-cell:/home/jp/Documents/Code/MorseTheory/Show%20simple%20usage.ipynb#X14sZmlsZQ%3D%3D?line=1'>2</a>\u001b[0m write_Cell_labels_txt_file(data\u001b[39m.\u001b[39;49msalientreducedMorseComplexes[(\u001b[39m0.06\u001b[39;49m,\u001b[39m0.04\u001b[39;49m)]\u001b[39m.\u001b[39mMorseCells\u001b[39m.\u001b[39mCells, \u001b[39m\"\u001b[39m\u001b[39m../../Data/test_plotting_functions/TEST_salientSegmentation\u001b[39m\u001b[39m\"\u001b[39m)\n",
      "\u001b[0;31mKeyError\u001b[0m: (0.06, 0.04)"
     ]
    }
   ],
   "source": [
    "from src.PlotData.write_labels_txt import write_Cell_labels_txt_file\n",
    "write_Cell_labels_txt_file(data.salientreducedMorseComplexes[(0.06,0.04)].MorseCells.Cells, \"../../Data/test_plotting_functions/TEST_salientSegmentation\")"
   ]
  },
  {
   "cell_type": "code",
   "execution_count": null,
   "id": "73d83e5e",
   "metadata": {},
   "outputs": [],
   "source": [
    "file = \"../../Data/artefact_31_test/curvature/31_r1.00_n4_v256.volume.ply\"\n",
    "\n",
    "import cProfile\n",
    "import pstats\n",
    "\n",
    "#with cProfile.Profile() as pr:\n",
    "#    data.load_mesh_ply(file, quality_index=3, inverted=True)\n",
    "    \n",
    "#stats = pstats.Stats(pr)\n",
    "#stats.sort_stats(pstats.SortKey.TIME)\n",
    "#stats.print_stats()"
   ]
  },
  {
   "cell_type": "code",
   "execution_count": null,
   "id": "65c46708",
   "metadata": {},
   "outputs": [],
   "source": [
    "#edge_file = \"../old_MorseTheory/Data/results/test_0075_005_edges\"\n",
    "#data.plot_SalientEdges_ply(edge_file, 0.075,0.05, only_strong=True)"
   ]
  },
  {
   "cell_type": "code",
   "execution_count": null,
   "id": "a309bde1",
   "metadata": {},
   "outputs": [],
   "source": [
    "#stat = data.salient_edge_statistics(nb_bins = 300, log=False, save = False, filepath = 'histogram', show = True)"
   ]
  },
  {
   "cell_type": "code",
   "execution_count": null,
   "id": "00954f53",
   "metadata": {},
   "outputs": [],
   "source": [
    "#filename = \"../old_MorseTheory/Data/results/test_006_0075_005_05_seg\"\n",
    "#data.Segmentation(0.06, 0.075, 0.05, 0.5, minimum_labels=3)\n",
    "#data.plot_Segmentation_label_txt(0.06, 0.075, 0.05, 0.5, filename)"
   ]
  }
 ],
 "metadata": {
  "kernelspec": {
   "display_name": "Python 3.10.6 64-bit",
   "language": "python",
   "name": "python3"
  },
  "language_info": {
   "codemirror_mode": {
    "name": "ipython",
    "version": 3
   },
   "file_extension": ".py",
   "mimetype": "text/x-python",
   "name": "python",
   "nbconvert_exporter": "python",
   "pygments_lexer": "ipython3",
   "version": "3.10.6"
  },
  "vscode": {
   "interpreter": {
    "hash": "916dbcbb3f70747c44a77c7bcd40155683ae19c65e1c03b4aa3499c5328201f1"
   }
  }
 },
 "nbformat": 4,
 "nbformat_minor": 5
}
