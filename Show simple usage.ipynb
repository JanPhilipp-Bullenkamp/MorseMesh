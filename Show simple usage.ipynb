{
 "cells": [
  {
   "cell_type": "markdown",
   "id": "aa7879b7",
   "metadata": {},
   "source": [
    "## Need to import the Morse class"
   ]
  },
  {
   "cell_type": "code",
   "execution_count": 1,
   "id": "ff4e6f38",
   "metadata": {},
   "outputs": [],
   "source": [
    "from src.morse import Morse"
   ]
  },
  {
   "cell_type": "markdown",
   "id": "db3d7bf2",
   "metadata": {},
   "source": [
    "## Initialize Morse class"
   ]
  },
  {
   "cell_type": "code",
   "execution_count": 2,
   "id": "713fdeea",
   "metadata": {},
   "outputs": [],
   "source": [
    "data = Morse()"
   ]
  },
  {
   "cell_type": "markdown",
   "id": "dbe41d12",
   "metadata": {},
   "source": [
    "##  Load ply file into the Morse class\n",
    "Use the function: **.load_mesh_ply(filename, quality_index, inverted=False)**\n",
    "\n",
    "- **filename:** The path to the ply file you want to load\n",
    "- **quality_index:** The position index where the Morse function value are saved in the ply file (e.g. 3 if you want the quality value and the plyfile has the properties x,y,z,quality; or if you want to take the height function/z-value: choose 2)\n",
    "- **inverted:** Optional, default is false. Multiplies the Morse function with -1 -> min will become max and max will become min."
   ]
  },
  {
   "cell_type": "code",
   "execution_count": 3,
   "id": "8d30dddf",
   "metadata": {},
   "outputs": [
    {
     "ename": "TypingError",
     "evalue": "Failed in nopython mode pipeline (step: nopython frontend)\n\u001b[1m\u001b[1mnon-precise type pyobject\u001b[0m\n\u001b[0m\u001b[1mDuring: typing of argument at /home/jp/Documents/Code/MorseTheory/src/Algorithms/LoadData/Datastructure.py (190)\u001b[0m\n\u001b[1m\nFile \"src/Algorithms/LoadData/Datastructure.py\", line 190:\u001b[0m\n\u001b[1m    def set_fun_val(self, vertices_dict):\n        <source elided>\n        \"\"\"\n\u001b[1m        self.fun_val = []\n\u001b[0m        \u001b[1m^\u001b[0m\u001b[0m \n\nThis error may have been caused by the following argument(s):\n- argument 0: \u001b[1mCannot determine Numba type of <class 'src.Algorithms.LoadData.Datastructure.Simplex'>\u001b[0m\n- argument 1: \u001b[1mCannot determine Numba type of <class 'dict'>\u001b[0m\n",
     "output_type": "error",
     "traceback": [
      "\u001b[0;31m---------------------------------------------------------------------------\u001b[0m",
      "\u001b[0;31mTypingError\u001b[0m                               Traceback (most recent call last)",
      "Input \u001b[0;32mIn [3]\u001b[0m, in \u001b[0;36m<cell line: 5>\u001b[0;34m()\u001b[0m\n\u001b[1;32m      3\u001b[0m file \u001b[38;5;241m=\u001b[39m \u001b[38;5;124m\"\u001b[39m\u001b[38;5;124m../../Data/artefact_31_test/curvature/31_r1.00_n4_v256.volume.ply\u001b[39m\u001b[38;5;124m\"\u001b[39m\n\u001b[1;32m      4\u001b[0m \u001b[38;5;66;03m#file = \"../../Data/graz/steinbruchwand_ttvc_gmo_2022-11-05_0934/Steinbruchwand_TTVC_GMO_cut_150x200_r15.00_n4_v256.volume.ply\"\u001b[39;00m\n\u001b[0;32m----> 5\u001b[0m \u001b[43mdata\u001b[49m\u001b[38;5;241;43m.\u001b[39;49m\u001b[43mload_mesh_ply\u001b[49m\u001b[43m(\u001b[49m\u001b[43mfile\u001b[49m\u001b[43m,\u001b[49m\u001b[43m \u001b[49m\u001b[43mquality_index\u001b[49m\u001b[38;5;241;43m=\u001b[39;49m\u001b[38;5;241;43m3\u001b[39;49m\u001b[43m,\u001b[49m\u001b[43m \u001b[49m\u001b[43minverted\u001b[49m\u001b[38;5;241;43m=\u001b[39;49m\u001b[38;5;28;43;01mTrue\u001b[39;49;00m\u001b[43m)\u001b[49m\n\u001b[1;32m      6\u001b[0m data\u001b[38;5;241m.\u001b[39mProcessLowerStars()\n\u001b[1;32m      7\u001b[0m data\u001b[38;5;241m.\u001b[39mExtractMorseComplex()\n",
      "File \u001b[0;32m~/Documents/Code/MorseTheory/src/timer.py:7\u001b[0m, in \u001b[0;36mtimed.<locals>.wrapper\u001b[0;34m(*args, **kwargs)\u001b[0m\n\u001b[1;32m      5\u001b[0m \u001b[38;5;28;01mdef\u001b[39;00m \u001b[38;5;21mwrapper\u001b[39m(\u001b[38;5;241m*\u001b[39margs, \u001b[38;5;241m*\u001b[39m\u001b[38;5;241m*\u001b[39mkwargs):\n\u001b[1;32m      6\u001b[0m     before \u001b[38;5;241m=\u001b[39m time\u001b[38;5;241m.\u001b[39mtime()\n\u001b[0;32m----> 7\u001b[0m     return_value \u001b[38;5;241m=\u001b[39m \u001b[43mfunction\u001b[49m\u001b[43m(\u001b[49m\u001b[38;5;241;43m*\u001b[39;49m\u001b[43margs\u001b[49m\u001b[43m,\u001b[49m\u001b[43m \u001b[49m\u001b[38;5;241;43m*\u001b[39;49m\u001b[38;5;241;43m*\u001b[39;49m\u001b[43mkwargs\u001b[49m\u001b[43m)\u001b[49m\n\u001b[1;32m      8\u001b[0m     after \u001b[38;5;241m=\u001b[39m time\u001b[38;5;241m.\u001b[39mtime()\n\u001b[1;32m      9\u001b[0m     fname \u001b[38;5;241m=\u001b[39m function\u001b[38;5;241m.\u001b[39m\u001b[38;5;18m__name__\u001b[39m\n",
      "File \u001b[0;32m~/Documents/Code/MorseTheory/src/morse.py:72\u001b[0m, in \u001b[0;36mMorse.load_mesh_ply\u001b[0;34m(self, filename, quality_index, inverted)\u001b[0m\n\u001b[1;32m     70\u001b[0m \u001b[38;5;129m@timed\u001b[39m\n\u001b[1;32m     71\u001b[0m \u001b[38;5;28;01mdef\u001b[39;00m \u001b[38;5;21mload_mesh_ply\u001b[39m(\u001b[38;5;28mself\u001b[39m, filename, quality_index, inverted\u001b[38;5;241m=\u001b[39m\u001b[38;5;28;01mFalse\u001b[39;00m):\n\u001b[0;32m---> 72\u001b[0m     min_val, max_val \u001b[38;5;241m=\u001b[39m \u001b[43mread_ply\u001b[49m\u001b[43m(\u001b[49m\u001b[43mfilename\u001b[49m\u001b[43m,\u001b[49m\u001b[43m \u001b[49m\u001b[43mquality_index\u001b[49m\u001b[43m,\u001b[49m\u001b[43m \u001b[49m\u001b[38;5;28;43mself\u001b[39;49m\u001b[38;5;241;43m.\u001b[39;49m\u001b[43mVertices\u001b[49m\u001b[43m,\u001b[49m\u001b[43m \u001b[49m\n\u001b[1;32m     73\u001b[0m \u001b[43m                                \u001b[49m\u001b[38;5;28;43mself\u001b[39;49m\u001b[38;5;241;43m.\u001b[39;49m\u001b[43mEdges\u001b[49m\u001b[43m,\u001b[49m\u001b[43m \u001b[49m\u001b[38;5;28;43mself\u001b[39;49m\u001b[38;5;241;43m.\u001b[39;49m\u001b[43mFaces\u001b[49m\u001b[43m,\u001b[49m\u001b[43m \u001b[49m\u001b[43minverted\u001b[49m\u001b[38;5;241;43m=\u001b[39;49m\u001b[43minverted\u001b[49m\u001b[43m)\u001b[49m\n\u001b[1;32m     74\u001b[0m     \u001b[38;5;28mself\u001b[39m\u001b[38;5;241m.\u001b[39mfilename \u001b[38;5;241m=\u001b[39m os\u001b[38;5;241m.\u001b[39mpath\u001b[38;5;241m.\u001b[39msplitext(filename)[\u001b[38;5;241m0\u001b[39m]\n\u001b[1;32m     75\u001b[0m     \u001b[38;5;28mself\u001b[39m\u001b[38;5;241m.\u001b[39mmin \u001b[38;5;241m=\u001b[39m min_val\n",
      "File \u001b[0;32m~/Documents/Code/MorseTheory/src/Algorithms/LoadData/read_ply.py:66\u001b[0m, in \u001b[0;36mread_ply\u001b[0;34m(filename, quality_index, vertices_dict, edges_dict, faces_dict, inverted)\u001b[0m\n\u001b[1;32m     64\u001b[0m \u001b[38;5;28;01mfor\u001b[39;00m findex, rawface \u001b[38;5;129;01min\u001b[39;00m \u001b[38;5;28menumerate\u001b[39m(rawdata[\u001b[38;5;124m'\u001b[39m\u001b[38;5;124mface\u001b[39m\u001b[38;5;124m'\u001b[39m]):\n\u001b[1;32m     65\u001b[0m     face \u001b[38;5;241m=\u001b[39m Simplex(indices\u001b[38;5;241m=\u001b[39m\u001b[38;5;28mset\u001b[39m(rawface[\u001b[38;5;241m0\u001b[39m]), index\u001b[38;5;241m=\u001b[39mfindex)\n\u001b[0;32m---> 66\u001b[0m     \u001b[43mface\u001b[49m\u001b[38;5;241;43m.\u001b[39;49m\u001b[43mset_fun_val\u001b[49m\u001b[43m(\u001b[49m\u001b[43mvertices_dict\u001b[49m\u001b[43m)\u001b[49m\n\u001b[1;32m     68\u001b[0m     faces_dict[findex] \u001b[38;5;241m=\u001b[39m face\n\u001b[1;32m     70\u001b[0m     \u001b[38;5;28;01mfor\u001b[39;00m i \u001b[38;5;129;01min\u001b[39;00m \u001b[38;5;28mrange\u001b[39m(\u001b[38;5;241m3\u001b[39m):\n",
      "File \u001b[0;32m~/anaconda3/lib/python3.9/site-packages/numba/core/dispatcher.py:468\u001b[0m, in \u001b[0;36m_DispatcherBase._compile_for_args\u001b[0;34m(self, *args, **kws)\u001b[0m\n\u001b[1;32m    464\u001b[0m         msg \u001b[38;5;241m=\u001b[39m (\u001b[38;5;124mf\u001b[39m\u001b[38;5;124m\"\u001b[39m\u001b[38;5;132;01m{\u001b[39;00m\u001b[38;5;28mstr\u001b[39m(e)\u001b[38;5;241m.\u001b[39mrstrip()\u001b[38;5;132;01m}\u001b[39;00m\u001b[38;5;124m \u001b[39m\u001b[38;5;130;01m\\n\u001b[39;00m\u001b[38;5;130;01m\\n\u001b[39;00m\u001b[38;5;124mThis error may have been caused \u001b[39m\u001b[38;5;124m\"\u001b[39m\n\u001b[1;32m    465\u001b[0m                \u001b[38;5;124mf\u001b[39m\u001b[38;5;124m\"\u001b[39m\u001b[38;5;124mby the following argument(s):\u001b[39m\u001b[38;5;130;01m\\n\u001b[39;00m\u001b[38;5;132;01m{\u001b[39;00margs_str\u001b[38;5;132;01m}\u001b[39;00m\u001b[38;5;130;01m\\n\u001b[39;00m\u001b[38;5;124m\"\u001b[39m)\n\u001b[1;32m    466\u001b[0m         e\u001b[38;5;241m.\u001b[39mpatch_message(msg)\n\u001b[0;32m--> 468\u001b[0m     \u001b[43merror_rewrite\u001b[49m\u001b[43m(\u001b[49m\u001b[43me\u001b[49m\u001b[43m,\u001b[49m\u001b[43m \u001b[49m\u001b[38;5;124;43m'\u001b[39;49m\u001b[38;5;124;43mtyping\u001b[39;49m\u001b[38;5;124;43m'\u001b[39;49m\u001b[43m)\u001b[49m\n\u001b[1;32m    469\u001b[0m \u001b[38;5;28;01mexcept\u001b[39;00m errors\u001b[38;5;241m.\u001b[39mUnsupportedError \u001b[38;5;28;01mas\u001b[39;00m e:\n\u001b[1;32m    470\u001b[0m     \u001b[38;5;66;03m# Something unsupported is present in the user code, add help info\u001b[39;00m\n\u001b[1;32m    471\u001b[0m     error_rewrite(e, \u001b[38;5;124m'\u001b[39m\u001b[38;5;124munsupported_error\u001b[39m\u001b[38;5;124m'\u001b[39m)\n",
      "File \u001b[0;32m~/anaconda3/lib/python3.9/site-packages/numba/core/dispatcher.py:409\u001b[0m, in \u001b[0;36m_DispatcherBase._compile_for_args.<locals>.error_rewrite\u001b[0;34m(e, issue_type)\u001b[0m\n\u001b[1;32m    407\u001b[0m     \u001b[38;5;28;01mraise\u001b[39;00m e\n\u001b[1;32m    408\u001b[0m \u001b[38;5;28;01melse\u001b[39;00m:\n\u001b[0;32m--> 409\u001b[0m     \u001b[38;5;28;01mraise\u001b[39;00m e\u001b[38;5;241m.\u001b[39mwith_traceback(\u001b[38;5;28;01mNone\u001b[39;00m)\n",
      "\u001b[0;31mTypingError\u001b[0m: Failed in nopython mode pipeline (step: nopython frontend)\n\u001b[1m\u001b[1mnon-precise type pyobject\u001b[0m\n\u001b[0m\u001b[1mDuring: typing of argument at /home/jp/Documents/Code/MorseTheory/src/Algorithms/LoadData/Datastructure.py (190)\u001b[0m\n\u001b[1m\nFile \"src/Algorithms/LoadData/Datastructure.py\", line 190:\u001b[0m\n\u001b[1m    def set_fun_val(self, vertices_dict):\n        <source elided>\n        \"\"\"\n\u001b[1m        self.fun_val = []\n\u001b[0m        \u001b[1m^\u001b[0m\u001b[0m \n\nThis error may have been caused by the following argument(s):\n- argument 0: \u001b[1mCannot determine Numba type of <class 'src.Algorithms.LoadData.Datastructure.Simplex'>\u001b[0m\n- argument 1: \u001b[1mCannot determine Numba type of <class 'dict'>\u001b[0m\n"
     ]
    }
   ],
   "source": [
    "#file = \"../../Data/test_objects/cube_large_r0.30_n4_v256.volume.ply\"\n",
    "#file = \"../../Data/vase_reduced_cleaned.ply\"\n",
    "file = \"../../Data/artefact_31_test/curvature/31_r1.00_n4_v256.volume.ply\"\n",
    "#file = \"../../Data/graz/steinbruchwand_ttvc_gmo_2022-11-05_0934/Steinbruchwand_TTVC_GMO_cut_150x200_r15.00_n4_v256.volume.ply\"\n",
    "data.load_mesh_ply(file, quality_index=3, inverted=True)\n",
    "data.ProcessLowerStars()\n",
    "data.ExtractMorseComplex()\n",
    "#data.ReduceMorseComplex(0.04)\n",
    "#data.ExtractMorseCells(0.04)"
   ]
  },
  {
   "cell_type": "markdown",
   "id": "c11a0efc",
   "metadata": {},
   "source": [
    "## Dataset info (Optional)\n",
    "Prints out info like Vertices, Edges and Faces, as well as the Morse function range"
   ]
  },
  {
   "cell_type": "code",
   "execution_count": null,
   "id": "d27b6d4d",
   "metadata": {},
   "outputs": [],
   "source": [
    "data.info()"
   ]
  },
  {
   "cell_type": "markdown",
   "id": "7b904c38",
   "metadata": {},
   "source": [
    "## Perform Morse Complex Calculations\n",
    "Use the functions **.ProcessLowerStars()** and **.ExtractMorseComplex()**\n",
    "- **ProcessLowerStars()** calculates the discrete vector field\n",
    "- **ExtractMorseComplex()** calculates the Morse complex, so finds the neighborhood relations between critical simplices by finding separatrices from maxima to saddles and from saddles to minima"
   ]
  },
  {
   "cell_type": "code",
   "execution_count": null,
   "id": "7da4948c",
   "metadata": {},
   "outputs": [],
   "source": [
    "#data.calculate_BettiNumbers()"
   ]
  },
  {
   "cell_type": "code",
   "execution_count": null,
   "id": "804a43fd",
   "metadata": {},
   "outputs": [],
   "source": [
    "#data.plot_PersistenceDiagram(save = False, filepath = '../../Data/test_plotting_functions/persistenceDiagram_original')"
   ]
  },
  {
   "cell_type": "code",
   "execution_count": null,
   "id": "2a2ed855",
   "metadata": {},
   "outputs": [],
   "source": [
    "#data.calculate_BettiNumbers(0.04)"
   ]
  },
  {
   "cell_type": "code",
   "execution_count": null,
   "id": "4352e362",
   "metadata": {},
   "outputs": [],
   "source": [
    "#data.plot_PersistenceDiagram(0.04,save = False, filepath = '../../Data/test_plotting_functions/persistenceDiagram_0_04P')"
   ]
  },
  {
   "cell_type": "code",
   "execution_count": null,
   "id": "e649e33d",
   "metadata": {},
   "outputs": [],
   "source": [
    "#stats = data.funval_statistics(nb_bins=200, log=True)"
   ]
  },
  {
   "cell_type": "code",
   "execution_count": null,
   "id": "184d3673",
   "metadata": {},
   "outputs": [],
   "source": [
    "#print(\"Stats all fun vals:\")\n",
    "#print(stats['mean'])\n",
    "#print(stats['std'])"
   ]
  },
  {
   "cell_type": "code",
   "execution_count": null,
   "id": "c2d196ca",
   "metadata": {},
   "outputs": [],
   "source": [
    "#stats2 = data.critical_funval_statistics(0,nb_bins=200)"
   ]
  },
  {
   "cell_type": "code",
   "execution_count": null,
   "id": "66a19c1d",
   "metadata": {},
   "outputs": [],
   "source": [
    "#print(\"Stats V:\")\n",
    "#print(stats2['V']['mean'])\n",
    "#print(stats2['V']['std'])\n",
    "#print(\"Stats E:\")\n",
    "#print(stats2['E']['mean'])\n",
    "#print(stats2['E']['std'])\n",
    "#print(\"Stats F:\")\n",
    "#print(stats2['F']['mean'])\n",
    "#print(stats2['F']['std'])"
   ]
  },
  {
   "cell_type": "code",
   "execution_count": null,
   "id": "c3f87f64",
   "metadata": {},
   "outputs": [],
   "source": [
    "#stats3 = data.critical_funval_statistics(0.04,nb_bins=200)"
   ]
  },
  {
   "cell_type": "code",
   "execution_count": null,
   "id": "29accbad",
   "metadata": {},
   "outputs": [],
   "source": [
    "#print(\"Stats V:\")\n",
    "#print(stats3['V']['mean'])\n",
    "#print(stats3['V']['std'])\n",
    "#print(\"Stats E:\")\n",
    "#print(stats3['E']['mean'])\n",
    "#print(stats3['E']['std'])\n",
    "#print(\"Stats F:\")\n",
    "#print(stats3['F']['mean'])\n",
    "#print(stats3['F']['std'])"
   ]
  },
  {
   "cell_type": "code",
   "execution_count": null,
   "id": "132dad7e",
   "metadata": {},
   "outputs": [],
   "source": [
    "#import matplotlib.pyplot as plt\n",
    "#funvals = []\n",
    "#for e in stats2['V']['fun_vals']:\n",
    "#    funvals.append(e)\n",
    "#for e in stats2['E']['fun_vals']:\n",
    "#    funvals.append(e)\n",
    "#for e in stats2['F']['fun_vals']:\n",
    "#    funvals.append(e)\n",
    "    \n",
    "#plt.hist(funvals, bins=200)\n",
    "#plt.xlabel(\"Function Value\")\n",
    "#plt.ylabel(\"Counts\")\n",
    "#plt.title(\"Combined Histogram\")\n",
    "#plt.show()"
   ]
  },
  {
   "cell_type": "code",
   "execution_count": null,
   "id": "2a79c925",
   "metadata": {},
   "outputs": [],
   "source": [
    "#funvals = []\n",
    "#for e in stats3['V']['fun_vals']:\n",
    "#    funvals.append(e)\n",
    "#for e in stats3['E']['fun_vals']:\n",
    "#    funvals.append(e)\n",
    "#for e in stats3['F']['fun_vals']:\n",
    "#    funvals.append(e)\n",
    "#    \n",
    "#plt.hist(funvals, bins=200)\n",
    "#plt.xlabel(\"Function Value\")\n",
    "#plt.ylabel(\"Counts\")\n",
    "#plt.title(\"Combined Histogram\")\n",
    "#plt.show()"
   ]
  },
  {
   "cell_type": "code",
   "execution_count": null,
   "id": "21419fe6",
   "metadata": {},
   "outputs": [],
   "source": [
    "#data.plot_SalientEdges_ply(\"../../Data/test_plotting_functions/plot_saledge\", 0.06, 0.05)\n",
    "#data.plot_MorseCells_ply(0.04, \"../../Data/test_plotting_functions/plot_cells\")\n",
    "#data.plot_MorseComplex_ply(0.04, \"../../Data/test_plotting_functions/plot_complex\")"
   ]
  },
  {
   "cell_type": "code",
   "execution_count": null,
   "id": "d1729330",
   "metadata": {},
   "outputs": [],
   "source": [
    "#stats = data.salient_edge_statistics()"
   ]
  },
  {
   "cell_type": "code",
   "execution_count": null,
   "id": "d2d6871b",
   "metadata": {},
   "outputs": [],
   "source": [
    "#print(\"Stats sepa persistence:\")\n",
    "#print(stats['mean'])\n",
    "#print(stats['std'])"
   ]
  },
  {
   "cell_type": "markdown",
   "id": "6c87fc47",
   "metadata": {},
   "source": [
    "## Get Morse Complex info (Optional)\n",
    "Prints out infos on the original Morse complex like number of critical vertices, crit. edges and crit. faces. Persistence should be 0 on the original complex."
   ]
  },
  {
   "cell_type": "code",
   "execution_count": null,
   "id": "51ca4d51",
   "metadata": {},
   "outputs": [],
   "source": [
    "data.MorseComplex.info()"
   ]
  },
  {
   "cell_type": "code",
   "execution_count": null,
   "id": "cd1d9c3d",
   "metadata": {},
   "outputs": [],
   "source": [
    "#labelfile_name = \"../../Data/vase_cells_only_label\" # the .txt extension is written automatically\n",
    "#labelfile_name = \"../../Data/31_only_label\" # the .txt extension is written automatically\n",
    "labelfile_name = \"../../Data/test_objects/cube_large_0_01\"\n",
    "\n",
    "data.ExtractMorseCells(0.01)\n",
    "data.plot_MorseCells_label_txt(0.01, labelfile_name)\n",
    "data.plot_MorseCells_ply(0.01, labelfile_name)\n",
    "data.plot_MorseComplex_ply(0.01, labelfile_name, path_color=[200,200,200])"
   ]
  },
  {
   "cell_type": "markdown",
   "id": "6c19a249",
   "metadata": {},
   "source": [
    "## Reduce Morse complex (using Persistence)\n",
    "Use the function **.ReduceMorseComplex(persistence)**\n",
    "- **persistence:** The persistence level up to which the Morse complex should be simplified. (neighboring critical simplices will be cancelled, (if topologically possible,) if their Morse function value difference is less than the persistence.\n",
    "\n",
    "The reduced complex will be stored in a dictionary **data.reducedMorseComplexes[persistence]** which allows to calculate several persistences. Can be accessed using the persistence as key."
   ]
  },
  {
   "cell_type": "code",
   "execution_count": null,
   "id": "ba402ca2",
   "metadata": {},
   "outputs": [],
   "source": [
    "#data.ExtractMorseCells(0.04)\n",
    "#filename = \"../../Data/31_testnew_segmentation_no_persistence\"\n",
    "#seg = data.Segmentation(0, 0.06, 0.05, 0.15, minimum_labels=5)\n",
    "#data.plot_Segmentation_label_txt(0, 0.06, 0.05, 0.15, filename)"
   ]
  },
  {
   "cell_type": "code",
   "execution_count": null,
   "id": "802a1d7f",
   "metadata": {},
   "outputs": [],
   "source": [
    "#print(len(seg.Cells.keys()))"
   ]
  },
  {
   "cell_type": "code",
   "execution_count": null,
   "id": "5a57cc0b",
   "metadata": {},
   "outputs": [],
   "source": [
    "#labelfile_name = \"../../Data/vase_cells_only_label_001\" # the .txt extension is written automatically\n",
    "#labelfile_name = \"../../Data/31_only_label_004\" # the .txt extension is written automatically\n",
    "\n",
    "#data.ExtractMorseCells(0.04)\n",
    "#data.write_MorseCellLabels(0.04, labelfile_name)"
   ]
  },
  {
   "cell_type": "markdown",
   "id": "88794af5",
   "metadata": {},
   "source": [
    "## Plot option for Gigamesh (there are several also for writing meshlab overlay files..)\n",
    "Uses a labels for each Morse cell to write a label file which can be read by Gigamesh for visualization.\n",
    "Need to Extract Morse cells first with **.ExtractMorseCells(persistence)** and than **.write_MorseCellLabels(persistence, filename)** to write the according label file. \n",
    "- **persistence:** The persistence of the Morse complex you want to visualize\n",
    "- **filename:** filename where the label file should be stored"
   ]
  },
  {
   "cell_type": "code",
   "execution_count": null,
   "id": "58f6e80f",
   "metadata": {},
   "outputs": [],
   "source": [
    "#labelfile_name = \"abc_labels\" # the .txt extension is written automatically\n",
    "\n",
    "#data.ExtractMorseCells(3)\n",
    "#data.write_MorseCellLabels(3, labelfile_name)"
   ]
  },
  {
   "cell_type": "markdown",
   "id": "2baafdb7",
   "metadata": {},
   "source": [
    "## Visualize in Gigamesh:\n",
    "(Maybe the develop version of gigamesh is required, since import labels migth not be in the website version)\n",
    "1. Load the ply file into Gigamesh\n",
    "2. Choose Import labels under **File - Import - Import Labels** and load the written output label file\n",
    "3. Vertex in first column: YES \n",
    "4. Select **Labels-Connected Comp.** on the right to see the Morse cells of the Morse complex"
   ]
  },
  {
   "cell_type": "code",
   "execution_count": null,
   "id": "7a4134b6",
   "metadata": {},
   "outputs": [],
   "source": [
    "import sys\n",
    "import numpy as np\n",
    "\n",
    "a=float(0.275369)\n",
    "b = np.float16(0.275369)\n",
    "#b = b.astype(np.int32)\n",
    "\n",
    "print(type(a))\n",
    "print(sys.getsizeof(a))\n",
    "\n",
    "\n",
    "print(type(b))\n",
    "print(sys.getsizeof(b))\n",
    "import array\n",
    "b= [1,2,3,0]\n",
    "c = np.array([1,2,3,0],dtype=np.int8)\n",
    "a = array.array('L',[1,2,3,0])\n",
    "print(sorted(a))\n",
    "print(sys.getsizeof(a))\n",
    "print(sys.getsizeof(sorted(a)))\n",
    "print(sys.getsizeof(b))\n",
    "print(sys.getsizeof(c))\n",
    "if 2 in a:\n",
    "    print(\"ok\")\n",
    "print(a[0])"
   ]
  }
 ],
 "metadata": {
  "kernelspec": {
   "display_name": "Python 3 (ipykernel)",
   "language": "python",
   "name": "python3"
  },
  "language_info": {
   "codemirror_mode": {
    "name": "ipython",
    "version": 3
   },
   "file_extension": ".py",
   "mimetype": "text/x-python",
   "name": "python",
   "nbconvert_exporter": "python",
   "pygments_lexer": "ipython3",
   "version": "3.9.12"
  }
 },
 "nbformat": 4,
 "nbformat_minor": 5
}
