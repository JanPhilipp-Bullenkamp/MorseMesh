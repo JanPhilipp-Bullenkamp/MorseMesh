{
 "cells": [
  {
   "cell_type": "markdown",
   "id": "da01e1be",
   "metadata": {},
   "source": [
    "## Need to import the Morse class"
   ]
  },
  {
   "cell_type": "code",
   "execution_count": 1,
   "id": "bc67d27a",
   "metadata": {},
   "outputs": [],
   "source": [
    "from src.morse import Morse"
   ]
  },
  {
   "cell_type": "markdown",
   "id": "b6671a6d",
   "metadata": {},
   "source": [
    "## Initialize Morse class"
   ]
  },
  {
   "cell_type": "code",
   "execution_count": 2,
   "id": "809c461e",
   "metadata": {},
   "outputs": [],
   "source": [
    "data = Morse()"
   ]
  },
  {
   "cell_type": "markdown",
   "id": "216d3e79",
   "metadata": {},
   "source": [
    "##  Load ply file into the Morse class\n",
    "Use the function: **.load_mesh_ply(filename, quality_index, inverted=False)**\n",
    "\n",
    "- **filename:** The path to the ply file you want to load\n",
    "- **quality_index:** The position index where the Morse function value are saved in the ply file (e.g. 3 if you want the quality value and the plyfile has the properties x,y,z,quality; or if you want to take the height function/z-value: choose 2)\n",
    "- **inverted:** Optional, default is false. Multiplies the Morse function with -1 -> min will become max and max will become min."
   ]
  },
  {
   "cell_type": "code",
   "execution_count": 3,
   "id": "03f254f4",
   "metadata": {},
   "outputs": [
    {
     "name": "stdout",
     "output_type": "stream",
     "text": [
      "Time read data file: 3.473518989000013\n",
      "Time read and prepare data: 14.524365275000036\n"
     ]
    }
   ],
   "source": [
    "#file = \"../../Data/simplicial_donut_3_deform.ply\"\n",
    "#file = \"../../Data/vase_reduced.ply\"\n",
    "#file = \"../../Data/vase_reduced_cleaned.ply\"\n",
    "file = \"../../Data/artefacts/curvature/31_r1.00_n4_v256.volume.ply\"\n",
    "#file = \"../../Data/simplicial_donut_3_deform.ply\"\n",
    "data.load_mesh_ply(file, quality_index=3)"
   ]
  },
  {
   "cell_type": "markdown",
   "id": "821956a7",
   "metadata": {},
   "source": [
    "## Dataset info (Optional)\n",
    "Prints out info like Vertices, Edges and Faces, as well as the Morse function range"
   ]
  },
  {
   "cell_type": "code",
   "execution_count": 4,
   "id": "0173a17b",
   "metadata": {},
   "outputs": [
    {
     "name": "stdout",
     "output_type": "stream",
     "text": [
      "+-------------------------------------------------------\n",
      "| Mesh Info\n",
      "+-------------------------------------------------------\n",
      "| Filename:  ../../Data/artefacts/curvature/31_r1.00_n4_v256.volume\n",
      "| Morse function values range:  [-0.5752758, 0.6180446]\n",
      "+-------------------------------------------------------\n",
      "| Number of Vertices:  146174\n",
      "| Number of Edges:  438516\n",
      "| Number of Faces:  292344\n",
      "+-------------------------------------------------------\n",
      "| Euler characteristic:  2\n",
      "+-------------------------------------------------------\n"
     ]
    }
   ],
   "source": [
    "data.info()"
   ]
  },
  {
   "cell_type": "markdown",
   "id": "b33c6c36",
   "metadata": {},
   "source": [
    "## Perform Morse Complex Calculations\n",
    "Use the functions **.ProcessLowerStars()** and **.ExtractMorseComplex()**\n",
    "- **ProcessLowerStars()** calculates the discrete vector field\n",
    "- **ExtractMorseComplex()** calculates the Morse complex, so finds the neighborhood relations between critical simplices by finding separatrices from maxima to saddles and from saddles to minima"
   ]
  },
  {
   "cell_type": "code",
   "execution_count": 5,
   "id": "f7a6e537",
   "metadata": {},
   "outputs": [
    {
     "name": "stdout",
     "output_type": "stream",
     "text": [
      "Time ProcessLowerStar: 3.3268821179999577\n",
      "Time ExtractMorseComplex and Separatrices: 3.999901674999819\n"
     ]
    }
   ],
   "source": [
    "data.ProcessLowerStars()\n",
    "data.ExtractMorseComplex()"
   ]
  },
  {
   "cell_type": "markdown",
   "id": "1fdecf32",
   "metadata": {},
   "source": [
    "## Get Morse Complex info (Optional)\n",
    "Prints out infos on the original Morse complex like number of critical vertices, crit. edges and crit. faces. Persistence should be 0 on the original complex."
   ]
  },
  {
   "cell_type": "code",
   "execution_count": 6,
   "id": "5ee794c5",
   "metadata": {},
   "outputs": [
    {
     "name": "stdout",
     "output_type": "stream",
     "text": [
      "+-------------------------------------------------------\n",
      "| MorseComplex Info\n",
      "+-------------------------------------------------------\n",
      "| Filename:  ../../Data/artefacts/curvature/31_r1.00_n4_v256.volume\n",
      "| Persistence of this Complex:  0\n",
      "+-------------------------------------------------------\n",
      "| Number of Vertices:  8882\n",
      "| Number of Edges:  21079\n",
      "| Number of Faces:  12199\n",
      "+-------------------------------------------------------\n",
      "| Euler characteristic:  2\n",
      "+-------------------------------------------------------\n"
     ]
    }
   ],
   "source": [
    "data.MorseComplex.info()"
   ]
  },
  {
   "cell_type": "code",
   "execution_count": 7,
   "id": "1b4d07af",
   "metadata": {},
   "outputs": [
    {
     "name": "stdout",
     "output_type": "stream",
     "text": [
      "Have  33431  unlabelled boundary points left!\n",
      "Time get MorseCells for  0 persistence:  3.930781548000141\n",
      "Time writing label txt file: 0.07472672500011868\n"
     ]
    }
   ],
   "source": [
    "labelfile_name = \"../../Data/initial_labels_vase_cleaned\" # the .txt extension is written automatically\n",
    "\n",
    "data.ExtractMorseCells(0)\n",
    "data.write_MorseCellLabels(0, labelfile_name)"
   ]
  },
  {
   "cell_type": "markdown",
   "id": "4419bd6b",
   "metadata": {},
   "source": [
    "## Reduce Morse complex (using Persistence)\n",
    "Use the function **.ReduceMorseComplex(persistence)**\n",
    "- **persistence:** The persistence level up to which the Morse complex should be simplified. (neighboring critical simplices will be cancelled, (if topologically possible,) if their Morse function value difference is less than the persistence.\n",
    "\n",
    "The reduced complex will be stored in a dictionary **data.reducedMorseComplexes[persistence]** which allows to calculate several persistences. Can be accessed using the persistence as key."
   ]
  },
  {
   "cell_type": "code",
   "execution_count": 8,
   "id": "80dffc89",
   "metadata": {
    "scrolled": false
   },
   "outputs": [
    {
     "name": "stdout",
     "output_type": "stream",
     "text": [
      "Time cancel critical points with  0.004  persistence:  2.165228629000012\n",
      "+-------------------------------------------------------\n",
      "| MorseComplex Info\n",
      "+-------------------------------------------------------\n",
      "| Filename:  ../../Data/artefacts/curvature/31_r1.00_n4_v256.volume\n",
      "| Persistence of this Complex:  0.004\n",
      "+-------------------------------------------------------\n",
      "| Number of Vertices:  6477\n",
      "| Number of Edges:  17428\n",
      "| Number of Faces:  10953\n",
      "+-------------------------------------------------------\n",
      "| Euler characteristic:  2\n",
      "+-------------------------------------------------------\n"
     ]
    }
   ],
   "source": [
    "data.ReduceMorseComplex(0.004)\n",
    "data.reducedMorseComplexes[0.004].info()"
   ]
  },
  {
   "cell_type": "code",
   "execution_count": 9,
   "id": "936d50dd",
   "metadata": {},
   "outputs": [],
   "source": [
    "#data.ReduceMorseComplex(0.08)\n",
    "#data.reducedMorseComplexes[3].info()"
   ]
  },
  {
   "cell_type": "code",
   "execution_count": 10,
   "id": "fc09268e",
   "metadata": {},
   "outputs": [
    {
     "name": "stdout",
     "output_type": "stream",
     "text": [
      "+-------------------------------------------------------\n",
      "| MorseComplex Info\n",
      "+-------------------------------------------------------\n",
      "| Filename:  ../../Data/artefacts/curvature/31_r1.00_n4_v256.volume\n",
      "| Persistence of this Complex:  0.004\n",
      "+-------------------------------------------------------\n",
      "| Number of Vertices:  6477\n",
      "| Number of Edges:  17428\n",
      "| Number of Faces:  10953\n",
      "+-------------------------------------------------------\n",
      "| Euler characteristic:  2\n",
      "+-------------------------------------------------------\n"
     ]
    }
   ],
   "source": [
    "data.reducedMorseComplexes[0.004].info()"
   ]
  },
  {
   "cell_type": "markdown",
   "id": "e50dcc51",
   "metadata": {},
   "source": [
    "## Plot option for Gigamesh (there are several also for writing meshlab overlay files..)\n",
    "Uses a labels for each Morse cell to write a label file which can be read by Gigamesh for visualization.\n",
    "Need to Extract Morse cells first with **.ExtractMorseCells(persistence)** and than **.write_MorseCellLabels(persistence, filename)** to write the according label file. \n",
    "- **persistence:** The persistence of the Morse complex you want to visualize\n",
    "- **filename:** filename where the label file should be stored"
   ]
  },
  {
   "cell_type": "code",
   "execution_count": 11,
   "id": "201662fd",
   "metadata": {},
   "outputs": [
    {
     "name": "stdout",
     "output_type": "stream",
     "text": [
      "Have  17219  unlabelled boundary points left!\n",
      "Time get MorseCells for  0.004 persistence:  3.6415164949999053\n",
      "Time writing label txt file: 0.08582706100014548\n"
     ]
    }
   ],
   "source": [
    "labelfile_name = \"../../Data/0_004_labels_vase_cleaned\" # the .txt extension is written automatically\n",
    "\n",
    "data.ExtractMorseCells(0.004)\n",
    "data.write_MorseCellLabels(0.004, labelfile_name)"
   ]
  },
  {
   "cell_type": "code",
   "execution_count": 19,
   "id": "4df4eeee",
   "metadata": {},
   "outputs": [
    {
     "name": "stdout",
     "output_type": "stream",
     "text": [
      "Need to reduce Morse complex to this persistence first...\n",
      "Time cancel critical points with  1.5  persistence:  0.9993904990001283\n",
      "Persistence was high enough that this complex is maximally reduced.\n",
      "Time get MorseCells for  1.5 persistence:  3.291722026000116\n",
      "Time writing label txt file: 0.04342690900011803\n"
     ]
    }
   ],
   "source": [
    "labelfile_name = \"../../Data/1_5_labels_vase_cleaned\" # the .txt extension is written automatically\n",
    "\n",
    "data.ExtractMorseCells(1.5)\n",
    "data.write_MorseCellLabels(1.5, labelfile_name)"
   ]
  },
  {
   "cell_type": "code",
   "execution_count": 13,
   "id": "8117bf48",
   "metadata": {},
   "outputs": [],
   "source": [
    "#labelfile_name = \"0_02_labels\" # the .txt extension is written automatically\n",
    "\n",
    "#data.ExtractMorseCells(0.08)\n",
    "#data.write_MorseCellLabels(0.08, labelfile_name)"
   ]
  },
  {
   "cell_type": "markdown",
   "id": "d1950247",
   "metadata": {},
   "source": [
    "## Visualize in Gigamesh:\n",
    "(Maybe the develop version of gigamesh is required, since import labels migth not be in the website version)\n",
    "1. Load the ply file into Gigamesh\n",
    "2. Choose Import labels under **File - Import - Import Labels** and load the written output label file\n",
    "3. Vertex in first column: YES \n",
    "4. Select **Labels-Connected Comp.** on the right to see the Morse cells of the Morse complex"
   ]
  },
  {
   "cell_type": "code",
   "execution_count": 18,
   "id": "ea11c089",
   "metadata": {},
   "outputs": [
    {
     "name": "stdout",
     "output_type": "stream",
     "text": [
      "+-------------------------------------------------------\n",
      "| MorseComplex Info\n",
      "+-------------------------------------------------------\n",
      "| Filename:  ../../Data/artefacts/curvature/31_r1.00_n4_v256.volume\n",
      "| Persistence of this Complex:  0.1\n",
      "+-------------------------------------------------------\n",
      "| Number of Vertices:  261\n",
      "| Number of Edges:  826\n",
      "| Number of Faces:  567\n",
      "+-------------------------------------------------------\n",
      "| Euler characteristic:  2\n",
      "+-------------------------------------------------------\n"
     ]
    }
   ],
   "source": [
    "data.reducedMorseComplexes[0.1].info()"
   ]
  },
  {
   "cell_type": "code",
   "execution_count": null,
   "id": "57f406b7",
   "metadata": {},
   "outputs": [],
   "source": []
  }
 ],
 "metadata": {
  "kernelspec": {
   "display_name": "Python 3 (ipykernel)",
   "language": "python",
   "name": "python3"
  },
  "language_info": {
   "codemirror_mode": {
    "name": "ipython",
    "version": 3
   },
   "file_extension": ".py",
   "mimetype": "text/x-python",
   "name": "python",
   "nbconvert_exporter": "python",
   "pygments_lexer": "ipython3",
   "version": "3.9.12"
  }
 },
 "nbformat": 4,
 "nbformat_minor": 5
}
