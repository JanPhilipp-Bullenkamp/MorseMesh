{
 "cells": [
  {
   "cell_type": "markdown",
   "id": "76743a74",
   "metadata": {},
   "source": [
    "## Need to import the Morse class"
   ]
  },
  {
   "cell_type": "code",
   "execution_count": 1,
   "id": "c85abc91",
   "metadata": {},
   "outputs": [],
   "source": [
    "from src.morse import Morse"
   ]
  },
  {
   "cell_type": "markdown",
   "id": "3e52edda",
   "metadata": {},
   "source": [
    "## Initialize Morse class"
   ]
  },
  {
   "cell_type": "code",
   "execution_count": 2,
   "id": "104469fc",
   "metadata": {},
   "outputs": [],
   "source": [
    "data = Morse()"
   ]
  },
  {
   "cell_type": "markdown",
   "id": "a6db5408",
   "metadata": {},
   "source": [
    "##  Load ply file into the Morse class\n",
    "Use the function: **.load_mesh_ply(filename, quality_index, inverted=False)**\n",
    "\n",
    "- **filename:** The path to the ply file you want to load\n",
    "- **quality_index:** The position index where the Morse function value are saved in the ply file (e.g. 3 if you want the quality value and the plyfile has the properties x,y,z,quality; or if you want to take the height function/z-value: choose 2)\n",
    "- **inverted:** Optional, default is false. Multiplies the Morse function with -1 -> min will become max and max will become min."
   ]
  },
  {
   "cell_type": "code",
   "execution_count": 3,
   "id": "8d5d17f8",
   "metadata": {},
   "outputs": [
    {
     "name": "stdout",
     "output_type": "stream",
     "text": [
      "Time read data file: 1.3679211999999998\n",
      "Time read and prepare data: 8.1648778\n"
     ]
    }
   ],
   "source": [
    "file = \"Data/31.ply\"\n",
    "data.load_mesh_ply(file, quality_index=7)"
   ]
  },
  {
   "cell_type": "markdown",
   "id": "154c073a",
   "metadata": {},
   "source": [
    "## Dataset info (Optional)\n",
    "Prints out info like Vertices, Edges and Faces, as well as the Morse function range"
   ]
  },
  {
   "cell_type": "code",
   "execution_count": 4,
   "id": "895d8c5e",
   "metadata": {},
   "outputs": [
    {
     "name": "stdout",
     "output_type": "stream",
     "text": [
      "+-------------------------------------------------------\n",
      "| Mesh Info\n",
      "+-------------------------------------------------------\n",
      "| Filename:  Data/31\n",
      "| Morse function values range:  [-5.574097, 17.70892]\n",
      "+-------------------------------------------------------\n",
      "| Number of Vertices:  146174\n",
      "| Number of Edges:  438516\n",
      "| Number of Faces:  292344\n",
      "+-------------------------------------------------------\n",
      "| Euler characteristic:  2\n",
      "+-------------------------------------------------------\n"
     ]
    }
   ],
   "source": [
    "data.info()"
   ]
  },
  {
   "cell_type": "markdown",
   "id": "b5158e9a",
   "metadata": {},
   "source": [
    "## Perform Morse Complex Calculations\n",
    "Use the functions **.ProcessLowerStars()** and **.ExtractMorseComplex()**\n",
    "- **ProcessLowerStars()** calculates the discrete vector field\n",
    "- **ExtractMorseComplex()** calculates the Morse complex, so finds the neighborhood relations between critical simplices by finding separatrices from maxima to saddles and from saddles to minima"
   ]
  },
  {
   "cell_type": "code",
   "execution_count": 5,
   "id": "a39e768b",
   "metadata": {},
   "outputs": [
    {
     "name": "stdout",
     "output_type": "stream",
     "text": [
      "Time ProcessLowerStar: 4.1237026\n",
      "Time ExtractMorseComplex and Separatrices: 2.692960899999999\n"
     ]
    }
   ],
   "source": [
    "data.ProcessLowerStars()\n",
    "data.ExtractMorseComplex()"
   ]
  },
  {
   "cell_type": "markdown",
   "id": "434f383e",
   "metadata": {},
   "source": [
    "## Get Morse Complex info (Optional)\n",
    "Prints out infos on the original Morse complex like number of critical vertices, crit. edges and crit. faces. Persistence should be 0 on the original complex."
   ]
  },
  {
   "cell_type": "code",
   "execution_count": 6,
   "id": "9656d768",
   "metadata": {},
   "outputs": [
    {
     "name": "stdout",
     "output_type": "stream",
     "text": [
      "+-------------------------------------------------------\n",
      "| MorseComplex Info\n",
      "+-------------------------------------------------------\n",
      "| Filename:  Data/31\n",
      "| Persistence of this Complex:  0\n",
      "+-------------------------------------------------------\n",
      "| Number of Vertices:  9805\n",
      "| Number of Edges:  19670\n",
      "| Number of Faces:  9867\n",
      "+-------------------------------------------------------\n",
      "| Euler characteristic:  2\n",
      "+-------------------------------------------------------\n"
     ]
    }
   ],
   "source": [
    "data.MorseComplex.info()"
   ]
  },
  {
   "cell_type": "markdown",
   "id": "869b605e",
   "metadata": {},
   "source": [
    "## Reduce Morse complex (using Persistence)\n",
    "Use the function **.ReduceMorseComplex(persistence)**\n",
    "- **persistence:** The persistence level up to which the Morse complex should be simplified. (neighboring critical simplices will be cancelled, (if topologically possible,) if their Morse function value difference is less than the persistence.\n",
    "\n",
    "The reduced complex will be stored in a dictionary **data.reducedMorseComplexes[persistence]** which allows to calculate several persistences. Can be accessed using the persistence as key."
   ]
  },
  {
   "cell_type": "code",
   "execution_count": 7,
   "id": "569a5cb3",
   "metadata": {},
   "outputs": [
    {
     "name": "stdout",
     "output_type": "stream",
     "text": [
      "Time cancel critical points with  1  persistence:  2.967143400000001\n",
      "+-------------------------------------------------------\n",
      "| MorseComplex Info\n",
      "+-------------------------------------------------------\n",
      "| Filename:  Data/31\n",
      "| Persistence of this Complex:  1\n",
      "+-------------------------------------------------------\n",
      "| Number of Vertices:  47\n",
      "| Number of Edges:  239\n",
      "| Number of Faces:  194\n",
      "+-------------------------------------------------------\n",
      "| Euler characteristic:  2\n",
      "+-------------------------------------------------------\n"
     ]
    }
   ],
   "source": [
    "data.ReduceMorseComplex(1)\n",
    "data.reducedMorseComplexes[1].info()"
   ]
  },
  {
   "cell_type": "code",
   "execution_count": 8,
   "id": "a73e9ae6",
   "metadata": {},
   "outputs": [
    {
     "name": "stdout",
     "output_type": "stream",
     "text": [
      "Time cancel critical points with  3  persistence:  0.8480184999999985\n",
      "+-------------------------------------------------------\n",
      "| MorseComplex Info\n",
      "+-------------------------------------------------------\n",
      "| Filename:  Data/31\n",
      "| Persistence of this Complex:  3\n",
      "+-------------------------------------------------------\n",
      "| Number of Vertices:  9\n",
      "| Number of Edges:  46\n",
      "| Number of Faces:  39\n",
      "+-------------------------------------------------------\n",
      "| Euler characteristic:  2\n",
      "+-------------------------------------------------------\n"
     ]
    }
   ],
   "source": [
    "data.ReduceMorseComplex(3)\n",
    "data.reducedMorseComplexes[3].info()"
   ]
  },
  {
   "cell_type": "markdown",
   "id": "d75268ba",
   "metadata": {},
   "source": [
    "## Plot option for Gigamesh (there are several also for writing meshlab overlay files..)\n",
    "Uses a labels for each Morse cell to write a label file which can be read by Gigamesh for visualization.\n",
    "Need to Extract Morse cells first with **.ExtractMorseCells(persistence)** and than **.write_MorseCellLabels(persistence, filename)** to write the according label file. \n",
    "- **persistence:** The persistence of the Morse complex you want to visualize\n",
    "- **filename:** filename where the label file should be stored"
   ]
  },
  {
   "cell_type": "code",
   "execution_count": 9,
   "id": "59f59f2a",
   "metadata": {},
   "outputs": [
    {
     "name": "stdout",
     "output_type": "stream",
     "text": [
      "Time get MorseCells for  3 persistence:  0.7154103999999997\n",
      "Time fill neighbors for MorseCells:  0.194314600000002\n",
      "Time writing label txt file: 0.13889409999999813\n"
     ]
    }
   ],
   "source": [
    "labelfile_name = \"abc_labels\" # the .txt extension is written automatically\n",
    "\n",
    "data.ExtractMorseCells(3)\n",
    "data.write_MorseCellLabels(3, labelfile_name)"
   ]
  },
  {
   "cell_type": "markdown",
   "id": "a298bd93",
   "metadata": {},
   "source": [
    "## Visualize in Gigamesh:\n",
    "(Maybe the develop version of gigamesh is required, since import labels migth not be in the website version)\n",
    "1. Load the ply file into Gigamesh\n",
    "2. Choose Import labels under **File - Import - Import Labels** and load the written output label file\n",
    "3. Vertex in first column: YES \n",
    "4. Select **Labels-Connected Comp.** on the right to see the Morse cells of the Morse complex"
   ]
  },
  {
   "cell_type": "code",
   "execution_count": null,
   "id": "654ff8bc",
   "metadata": {},
   "outputs": [],
   "source": []
  }
 ],
 "metadata": {
  "kernelspec": {
   "display_name": "Python 3 (ipykernel)",
   "language": "python",
   "name": "python3"
  },
  "language_info": {
   "codemirror_mode": {
    "name": "ipython",
    "version": 3
   },
   "file_extension": ".py",
   "mimetype": "text/x-python",
   "name": "python",
   "nbconvert_exporter": "python",
   "pygments_lexer": "ipython3",
   "version": "3.9.7"
  }
 },
 "nbformat": 4,
 "nbformat_minor": 5
}
