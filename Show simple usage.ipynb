{
 "cells": [
  {
   "cell_type": "markdown",
   "id": "aa7879b7",
   "metadata": {},
   "source": [
    "## Need to import the Morse class"
   ]
  },
  {
   "cell_type": "code",
   "execution_count": 1,
   "id": "ff4e6f38",
   "metadata": {},
   "outputs": [],
   "source": [
    "from src.morse import Morse"
   ]
  },
  {
   "cell_type": "markdown",
   "id": "db3d7bf2",
   "metadata": {},
   "source": [
    "## Initialize Morse class"
   ]
  },
  {
   "cell_type": "code",
   "execution_count": 2,
   "id": "713fdeea",
   "metadata": {},
   "outputs": [],
   "source": [
    "data = Morse()"
   ]
  },
  {
   "cell_type": "code",
   "execution_count": 3,
   "id": "ffed9ce1",
   "metadata": {},
   "outputs": [
    {
     "name": "stdout",
     "output_type": "stream",
     "text": [
      "load_mesh_ply took 19.50884 seconds to execute!\n"
     ]
    },
    {
     "ename": "AttributeError",
     "evalue": "'Stats' object has no attribute 'print'",
     "output_type": "error",
     "traceback": [
      "\u001b[0;31m---------------------------------------------------------------------------\u001b[0m",
      "\u001b[0;31mAttributeError\u001b[0m                            Traceback (most recent call last)",
      "Input \u001b[0;32mIn [3]\u001b[0m, in \u001b[0;36m<cell line: 11>\u001b[0;34m()\u001b[0m\n\u001b[1;32m      9\u001b[0m stats \u001b[38;5;241m=\u001b[39m pstats\u001b[38;5;241m.\u001b[39mStats(pr)\n\u001b[1;32m     10\u001b[0m stats\u001b[38;5;241m.\u001b[39msort_stats(pstats\u001b[38;5;241m.\u001b[39mSortKey\u001b[38;5;241m.\u001b[39mTIME)\n\u001b[0;32m---> 11\u001b[0m \u001b[43mstats\u001b[49m\u001b[38;5;241;43m.\u001b[39;49m\u001b[43mprint\u001b[49m(stats)\n",
      "\u001b[0;31mAttributeError\u001b[0m: 'Stats' object has no attribute 'print'"
     ]
    }
   ],
   "source": [
    "file = \"../../Data/artefact_31_test/curvature/31_r1.00_n4_v256.volume.ply\"\n",
    "\n",
    "import cProfile\n",
    "import pstats\n",
    "\n",
    "with cProfile.Profile() as pr:\n",
    "    data.load_mesh_ply(file, quality_index=3, inverted=True)\n",
    "    \n",
    "stats = pstats.Stats(pr)\n",
    "stats.sort_stats(pstats.SortKey.TIME)\n",
    "stats.print_stats()"
   ]
  },
  {
   "cell_type": "code",
   "execution_count": 4,
   "id": "245071d0",
   "metadata": {},
   "outputs": [
    {
     "name": "stdout",
     "output_type": "stream",
     "text": [
      "         29675725 function calls (29675681 primitive calls) in 19.509 seconds\n",
      "\n",
      "   Ordered by: internal time\n",
      "\n",
      "   ncalls  tottime  percall  cumtime  percall filename:lineno(function)\n",
      "        1    7.554    7.554   19.374   19.374 /home/jp/Documents/Code/MorseTheory/src/Algorithms/LoadData/read_ply.py:22(read_ply)\n",
      "   730860    4.836    0.000    5.308    0.000 /home/jp/Documents/Code/MorseTheory/src/Algorithms/LoadData/Datastructure.py:180(set_fun_val)\n",
      "  2631124    1.618    0.000    2.436    0.000 /home/jp/anaconda3/lib/python3.9/site-packages/plyfile.py:984(_read_array)\n",
      "        2    1.014    0.507    5.756    2.878 /home/jp/anaconda3/lib/python3.9/site-packages/plyfile.py:727(_read_bin)\n",
      "   438518    0.787    0.000    2.199    0.000 /home/jp/anaconda3/lib/python3.9/site-packages/plyfile.py:938(_read_bin)\n",
      "  1754088    0.657    0.000    2.327    0.000 /home/jp/anaconda3/lib/python3.9/site-packages/plyfile.py:850(_read_bin)\n",
      "  2631124    0.636    0.000    0.636    0.000 {built-in method numpy.frombuffer}\n",
      "  1754112    0.308    0.000    0.403    0.000 /home/jp/anaconda3/lib/python3.9/site-packages/plyfile.py:827(dtype)\n",
      "  1754065    0.256    0.000    0.256    0.000 {built-in method builtins.max}\n",
      "  3654357    0.226    0.000    0.226    0.000 {method 'append' of 'list' objects}\n",
      "  2192580    0.225    0.000    0.225    0.000 {method 'add' of 'set' objects}\n",
      "  2631124    0.182    0.000    0.182    0.000 {method 'read' of '_io.BufferedReader' objects}\n",
      "   438518    0.161    0.000    0.219    0.000 /home/jp/anaconda3/lib/python3.9/site-packages/plyfile.py:904(list_dtype)\n",
      "        1    0.135    0.135   19.509   19.509 /home/jp/Documents/Code/MorseTheory/src/morse.py:70(load_mesh_ply)\n",
      "  2192662    0.134    0.000    0.134    0.000 /home/jp/anaconda3/lib/python3.9/site-packages/plyfile.py:823(name)\n",
      "  2192630    0.121    0.000    0.121    0.000 /home/jp/anaconda3/lib/python3.9/site-packages/plyfile.py:815(_get_val_dtype)\n",
      "   730860    0.113    0.000    0.113    0.000 {method 'sort' of 'list' objects}\n",
      "   438520    0.111    0.000    0.143    0.000 /home/jp/anaconda3/lib/python3.9/site-packages/plyfile.py:778(__getitem__)\n",
      "   730860    0.094    0.000    0.094    0.000 /home/jp/Documents/Code/MorseTheory/src/Algorithms/LoadData/Datastructure.py:169(__init__)\n",
      "   877036    0.077    0.000    0.077    0.000 {method 'pop' of 'list' objects}\n",
      "   146174    0.072    0.000    0.072    0.000 /home/jp/Documents/Code/MorseTheory/src/Algorithms/LoadData/Datastructure.py:69(__init__)\n",
      "        2    0.054    0.027    0.054    0.027 {built-in method numpy.empty}\n",
      "   438518    0.033    0.000    0.033    0.000 /home/jp/anaconda3/lib/python3.9/site-packages/plyfile.py:889(_get_len_dtype)\n",
      "   438520    0.032    0.000    0.032    0.000 /home/jp/anaconda3/lib/python3.9/site-packages/plyfile.py:516(_get_data)\n",
      "   438526    0.028    0.000    0.028    0.000 /home/jp/anaconda3/lib/python3.9/site-packages/plyfile.py:531(_get_properties)\n",
      "   438597    0.024    0.000    0.024    0.000 {built-in method builtins.len}\n",
      "        1    0.019    0.019    0.019    0.019 {built-in method _collections._count_elements}\n",
      "        1    0.003    0.003    0.003    0.003 {built-in method builtins.min}\n",
      "        1    0.000    0.000    0.000    0.000 {built-in method io.open}\n",
      "        2    0.000    0.000    0.000    0.000 {built-in method posix.getcwd}\n",
      "        2    0.000    0.000    0.001    0.000 /home/jp/anaconda3/lib/python3.9/site-packages/numpy/core/memmap.py:208(__new__)\n",
      "        1    0.000    0.000    0.000    0.000 {built-in method _imp.create_dynamic}\n",
      "        4    0.000    0.000    0.000    0.000 /home/jp/anaconda3/lib/python3.9/site-packages/plyfile.py:793(_check_comments)\n",
      "        2    0.000    0.000    0.001    0.000 /home/jp/anaconda3/lib/python3.9/site-packages/plyfile.py:996(_can_mmap)\n",
      "       40    0.000    0.000    0.000    0.000 /home/jp/anaconda3/lib/python3.9/site-packages/plyfile.py:115(consume)\n",
      "        4    0.000    0.000    0.000    0.000 {built-in method posix.stat}\n",
      "     23/1    0.000    0.000    0.000    0.000 {built-in method _abc._abc_subclasscheck}\n",
      "     1401    0.000    0.000    0.000    0.000 {built-in method builtins.ord}\n",
      "        3    0.000    0.000    0.000    0.000 <frozen importlib._bootstrap_external>:1514(find_spec)\n",
      "        3    0.000    0.000    0.000    0.000 /home/jp/anaconda3/lib/python3.9/site-packages/zmq/sugar/socket.py:480(send)\n",
      "       40    0.000    0.000    0.000    0.000 {method 'readline' of '_io.BufferedReader' objects}\n",
      "        4    0.000    0.000    0.000    0.000 /home/jp/anaconda3/lib/python3.9/site-packages/plyfile.py:563(dtype)\n",
      "       59    0.000    0.000    0.000    0.000 {method 'split' of 'str' objects}\n",
      "        1    0.000    0.000    0.000    0.000 /home/jp/anaconda3/lib/python3.9/site-packages/plyfile.py:342(_index)\n",
      "       16    0.000    0.000    0.000    0.000 /home/jp/anaconda3/lib/python3.9/site-packages/plyfile.py:976(_check_name)\n",
      "        2    0.000    0.000    0.000    0.000 <frozen importlib._bootstrap>:220(_call_with_frames_removed)\n",
      "        1    0.000    0.000    0.000    0.000 /home/jp/anaconda3/lib/python3.9/site-packages/plyfile.py:366(_parse_header)\n",
      "       14    0.000    0.000    0.000    0.000 /home/jp/anaconda3/lib/python3.9/site-packages/plyfile.py:178(parse_property)\n",
      "        1    0.000    0.000   19.509   19.509 /home/jp/Documents/Code/MorseTheory/src/timer.py:5(wrapper)\n",
      "        4    0.000    0.000    0.000    0.000 /home/jp/anaconda3/lib/python3.9/site-packages/plyfile.py:571(<listcomp>)\n",
      "        2    0.000    0.000    0.000    0.000 /home/jp/anaconda3/lib/python3.9/posixpath.py:334(normpath)\n",
      "        1    0.000    0.000    5.758    5.758 /home/jp/anaconda3/lib/python3.9/site-packages/plyfile.py:384(read)\n",
      "        2    0.000    0.000    0.000    0.000 /home/jp/anaconda3/lib/python3.9/posixpath.py:373(abspath)\n",
      "        3    0.000    0.000    0.000    0.000 /home/jp/anaconda3/lib/python3.9/site-packages/ipykernel/iostream.py:208(schedule)\n",
      "        2    0.000    0.000    0.000    0.000 {built-in method __new__ of type object at 0x555afb157740}\n",
      "        2    0.000    0.000    5.757    2.879 /home/jp/anaconda3/lib/python3.9/site-packages/plyfile.py:635(_read)\n",
      "        4    0.000    0.000    0.000    0.000 {method 'seek' of '_io.BufferedReader' objects}\n",
      "        1    0.000    0.000    0.000    0.000 /home/jp/anaconda3/lib/python3.9/genericpath.py:121(_splitext)\n",
      "        2    0.000    0.000    0.000    0.000 /home/jp/anaconda3/lib/python3.9/site-packages/plyfile.py:492(__init__)\n",
      "        2    0.000    0.000    0.000    0.000 /home/jp/anaconda3/lib/python3.9/site-packages/plyfile.py:526(_check_sanity)\n",
      "        1    0.000    0.000    0.000    0.000 /home/jp/anaconda3/lib/python3.9/posixpath.py:117(splitext)\n",
      "       14    0.000    0.000    0.000    0.000 /home/jp/anaconda3/lib/python3.9/site-packages/plyfile.py:810(__init__)\n",
      "       47    0.000    0.000    0.000    0.000 {built-in method builtins.getattr}\n",
      "        1    0.000    0.000    0.000    0.000 <frozen importlib._bootstrap>:901(_find_spec)\n",
      "        1    0.000    0.000    0.000    0.000 {built-in method builtins.print}\n",
      "        2    0.000    0.000    0.000    0.000 /home/jp/anaconda3/lib/python3.9/site-packages/ipykernel/iostream.py:502(write)\n",
      "        1    0.000    0.000    0.019    0.019 /home/jp/anaconda3/lib/python3.9/collections/__init__.py:581(__init__)\n",
      "       34    0.000    0.000    0.000    0.000 {built-in method builtins.isinstance}\n",
      "        2    0.000    0.000    0.000    0.000 /home/jp/anaconda3/lib/python3.9/posixpath.py:71(join)\n",
      "       11    0.000    0.000    0.000    0.000 <frozen importlib._bootstrap_external>:123(<listcomp>)\n",
      "       11    0.000    0.000    0.000    0.000 <frozen importlib._bootstrap_external>:121(_path_join)\n",
      "        4    0.000    0.000    0.000    0.000 {method 'tell' of '_io.BufferedReader' objects}\n",
      "        1    0.000    0.000    0.000    0.000 <frozen importlib._bootstrap_external>:1383(_get_spec)\n",
      "        1    0.000    0.000    0.000    0.000 <frozen importlib._bootstrap>:166(_get_module_lock)\n",
      "        1    0.000    0.000    0.000    0.000 <frozen importlib._bootstrap>:1002(_find_and_load)\n",
      "        1    0.000    0.000    0.000    0.000 {method 'close' of '_io.BufferedReader' objects}\n",
      "        1    0.000    0.000    0.000    0.000 <frozen importlib._bootstrap>:659(_load_unlocked)\n",
      "        2    0.000    0.000    0.000    0.000 /home/jp/anaconda3/lib/python3.9/site-packages/plyfile.py:550(_index)\n",
      "       16    0.000    0.000    0.000    0.000 /home/jp/anaconda3/lib/python3.9/site-packages/plyfile.py:80(_lookup_type)\n",
      "       21    0.000    0.000    0.000    0.000 /home/jp/anaconda3/lib/python3.9/site-packages/plyfile.py:155(parse_comment)\n",
      "       40    0.000    0.000    0.000    0.000 {method 'decode' of 'bytes' objects}\n",
      "        1    0.000    0.000    0.019    0.019 /home/jp/anaconda3/lib/python3.9/collections/__init__.py:649(update)\n",
      "       14    0.000    0.000    0.000    0.000 /home/jp/anaconda3/lib/python3.9/site-packages/plyfile.py:818(_set_val_dtype)\n",
      "        1    0.000    0.000    0.000    0.000 {built-in method _abc._abc_instancecheck}\n",
      "       57    0.000    0.000    0.000    0.000 {method 'strip' of 'str' objects}\n",
      "        1    0.000    0.000    0.000    0.000 <frozen importlib._bootstrap_external>:696(spec_from_file_location)\n",
      "        2    0.000    0.000    0.000    0.000 /home/jp/anaconda3/lib/python3.9/site-packages/ipykernel/iostream.py:420(_is_master_process)\n",
      "     23/1    0.000    0.000    0.000    0.000 /home/jp/anaconda3/lib/python3.9/abc.py:121(__subclasscheck__)\n",
      "        2    0.000    0.000    0.000    0.000 /home/jp/anaconda3/lib/python3.9/posixpath.py:60(isabs)\n",
      "        1    0.000    0.000    0.000    0.000 <frozen importlib._bootstrap>:967(_find_and_load_unlocked)\n",
      "        3    0.000    0.000    0.000    0.000 /home/jp/anaconda3/lib/python3.9/threading.py:1126(is_alive)\n",
      "        1    0.000    0.000    0.000    0.000 <frozen importlib._bootstrap>:486(_init_module_attrs)\n",
      "       78    0.000    0.000    0.000    0.000 {method 'isspace' of 'str' objects}\n",
      "       12    0.000    0.000    0.000    0.000 {built-in method builtins.hasattr}\n",
      "       16    0.000    0.000    0.000    0.000 /home/jp/anaconda3/lib/python3.9/site-packages/plyfile.py:551(<genexpr>)\n",
      "        1    0.000    0.000    0.000    0.000 /home/jp/anaconda3/lib/python3.9/site-packages/plyfile.py:294(__init__)\n",
      "       23    0.000    0.000    0.000    0.000 /home/jp/anaconda3/lib/python3.9/_collections_abc.py:409(__subclasshook__)\n",
      "        2    0.000    0.000    0.000    0.000 /home/jp/anaconda3/lib/python3.9/site-packages/plyfile.py:164(parse_element)\n",
      "       14    0.000    0.000    0.000    0.000 <frozen importlib._bootstrap>:231(_verbose_message)\n",
      "       16    0.000    0.000    0.000    0.000 /home/jp/anaconda3/lib/python3.9/site-packages/plyfile.py:509(<genexpr>)\n",
      "        1    0.000    0.000    0.000    0.000 /home/jp/anaconda3/lib/python3.9/abc.py:117(__instancecheck__)\n",
      "        1    0.000    0.000    0.000    0.000 <frozen importlib._bootstrap_external>:1171(create_module)\n",
      "        2    0.000    0.000    0.000    0.000 /home/jp/anaconda3/lib/python3.9/site-packages/numpy/core/memmap.py:288(__array_finalize__)\n",
      "        3    0.000    0.000    0.000    0.000 /home/jp/anaconda3/lib/python3.9/threading.py:1059(_wait_for_tstate_lock)\n",
      "        3    0.000    0.000    0.000    0.000 {method 'acquire' of '_thread.lock' objects}\n",
      "        1    0.000    0.000    0.000    0.000 /home/jp/anaconda3/lib/python3.9/site-packages/_distutils_hack/__init__.py:84(find_spec)\n",
      "        1    0.000    0.000    0.000    0.000 /home/jp/anaconda3/lib/python3.9/site-packages/plyfile.py:107(__init__)\n",
      "        1    0.000    0.000    0.000    0.000 <frozen importlib._bootstrap>:87(acquire)\n",
      "        9    0.000    0.000    0.000    0.000 {method 'startswith' of 'str' objects}\n",
      "        1    0.000    0.000    0.000    0.000 /home/jp/anaconda3/lib/python3.9/site-packages/plyfile.py:468(_open_stream)\n",
      "       13    0.000    0.000    0.000    0.000 {method 'join' of 'str' objects}\n",
      "        1    0.000    0.000    0.000    0.000 <frozen importlib._bootstrap>:156(__enter__)\n",
      "        1    0.000    0.000    0.000    0.000 /home/jp/anaconda3/lib/python3.9/cProfile.py:117(__exit__)\n",
      "        3    0.000    0.000    0.000    0.000 /home/jp/anaconda3/lib/python3.9/site-packages/ipykernel/iostream.py:97(_event_pipe)\n",
      "        4    0.000    0.000    0.000    0.000 <frozen importlib._bootstrap_external>:1346(_path_importer_cache)\n",
      "        1    0.000    0.000    0.000    0.000 <frozen importlib._bootstrap>:112(release)\n",
      "        1    0.000    0.000    0.000    0.000 <frozen importlib._bootstrap_external>:1509(_get_spec)\n",
      "        2    0.000    0.000    0.000    0.000 /home/jp/anaconda3/lib/python3.9/site-packages/plyfile.py:455(__getitem__)\n",
      "        4    0.000    0.000    0.000    0.000 <frozen importlib._bootstrap_external>:135(_path_stat)\n",
      "        1    0.000    0.000    0.000    0.000 <frozen importlib._bootstrap_external>:1155(__init__)\n",
      "        4    0.000    0.000    0.000    0.000 /home/jp/anaconda3/lib/python3.9/posixpath.py:41(_get_sep)\n",
      "        1    0.000    0.000    0.000    0.000 <frozen importlib._bootstrap>:558(module_from_spec)\n",
      "       10    0.000    0.000    0.000    0.000 {built-in method posix.fspath}\n",
      "        1    0.000    0.000    0.000    0.000 {method 'format' of 'str' objects}\n",
      "       22    0.000    0.000    0.000    0.000 {method 'rstrip' of 'str' objects}\n",
      "        1    0.000    0.000    0.000    0.000 <frozen importlib._bootstrap>:58(__init__)\n",
      "        2    0.000    0.000    0.000    0.000 /home/jp/anaconda3/lib/python3.9/contextlib.py:688(__init__)\n",
      "        1    0.000    0.000    0.000    0.000 /home/jp/anaconda3/lib/python3.9/site-packages/plyfile.py:377(<listcomp>)\n",
      "        3    0.000    0.000    0.000    0.000 /home/jp/anaconda3/lib/python3.9/site-packages/plyfile.py:343(<genexpr>)\n",
      "        2    0.000    0.000    0.000    0.000 {method 'rfind' of 'str' objects}\n",
      "        1    0.000    0.000    0.000    0.000 <frozen importlib._bootstrap_external>:1415(find_spec)\n",
      "        2    0.000    0.000    0.000    0.000 {built-in method posix.getpid}\n",
      "        1    0.000    0.000    0.000    0.000 <frozen importlib._bootstrap>:185(cb)\n",
      "        1    0.000    0.000    0.000    0.000 <frozen importlib._bootstrap_external>:491(_get_cached)\n",
      "        4    0.000    0.000    0.000    0.000 /home/jp/anaconda3/lib/python3.9/site-packages/plyfile.py:512(count)\n",
      "        2    0.000    0.000    0.000    0.000 /home/jp/anaconda3/lib/python3.9/site-packages/plyfile.py:884(__init__)\n",
      "        1    0.000    0.000    0.000    0.000 /home/jp/anaconda3/lib/python3.9/site-packages/plyfile.py:141(parse_format)\n",
      "        1    0.000    0.000    0.000    0.000 <frozen importlib._bootstrap>:351(__init__)\n",
      "        2    0.000    0.000    0.000    0.000 {built-in method time.time}\n",
      "        4    0.000    0.000    0.000    0.000 <frozen importlib._bootstrap>:878(__exit__)\n",
      "        2    0.000    0.000    0.000    0.000 /home/jp/anaconda3/lib/python3.9/site-packages/ipykernel/iostream.py:439(_schedule_flush)\n",
      "        2    0.000    0.000    0.000    0.000 {built-in method builtins.any}\n",
      "        5    0.000    0.000    0.000    0.000 {method 'rpartition' of 'str' objects}\n",
      "        2    0.000    0.000    0.000    0.000 /home/jp/anaconda3/lib/python3.9/site-packages/plyfile.py:544(_set_comments)\n",
      "        1    0.000    0.000    0.000    0.000 <frozen importlib._bootstrap_external>:1179(exec_module)\n",
      "        1    0.000    0.000    0.000    0.000 <frozen importlib._bootstrap>:385(cached)\n",
      "        2    0.000    0.000    0.000    0.000 /home/jp/anaconda3/lib/python3.9/site-packages/numpy/compat/py3k.py:79(is_pathlib_path)\n",
      "        1    0.000    0.000    0.000    0.000 <frozen importlib._bootstrap_external>:175(_path_isabs)\n",
      "        1    0.000    0.000    0.000    0.000 <frozen importlib._bootstrap>:736(find_spec)\n",
      "        1    0.000    0.000    0.000    0.000 /home/jp/anaconda3/lib/python3.9/site-packages/plyfile.py:446(__iter__)\n",
      "        4    0.000    0.000    0.000    0.000 <frozen importlib._bootstrap>:874(__enter__)\n",
      "        1    0.000    0.000    0.000    0.000 <frozen importlib._bootstrap_external>:145(_path_is_mode_type)\n",
      "        1    0.000    0.000    0.000    0.000 <frozen importlib._bootstrap_external>:154(_path_isfile)\n",
      "        1    0.000    0.000    0.000    0.000 <frozen importlib._bootstrap>:811(find_spec)\n",
      "        2    0.000    0.000    0.000    0.000 {method 'fileno' of '_io.BufferedReader' objects}\n",
      "        4    0.000    0.000    0.000    0.000 {method 'endswith' of 'str' objects}\n",
      "        1    0.000    0.000    0.000    0.000 {built-in method builtins.locals}\n",
      "        1    0.000    0.000    0.000    0.000 <frozen importlib._bootstrap>:160(__exit__)\n",
      "        6    0.000    0.000    0.000    0.000 {built-in method _imp.acquire_lock}\n",
      "        2    0.000    0.000    0.000    0.000 /home/jp/anaconda3/lib/python3.9/site-packages/plyfile.py:892(_set_len_dtype)\n",
      "        3    0.000    0.000    0.000    0.000 /home/jp/anaconda3/lib/python3.9/threading.py:529(is_set)\n",
      "        1    0.000    0.000    0.000    0.000 {built-in method _imp.is_builtin}\n",
      "        6    0.000    0.000    0.000    0.000 {built-in method _imp.release_lock}\n",
      "        1    0.000    0.000    0.000    0.000 /home/jp/anaconda3/lib/python3.9/site-packages/plyfile.py:325(_set_elements)\n",
      "        1    0.000    0.000    0.000    0.000 <frozen importlib._bootstrap>:152(__init__)\n",
      "        1    0.000    0.000    0.000    0.000 {method 'disable' of '_lsprof.Profiler' objects}\n",
      "        1    0.000    0.000    0.000    0.000 /home/jp/anaconda3/lib/python3.9/site-packages/plyfile.py:136(parse_ply)\n",
      "        1    0.000    0.000    0.000    0.000 {built-in method _imp.exec_dynamic}\n",
      "        2    0.000    0.000    0.000    0.000 /home/jp/anaconda3/lib/python3.9/site-packages/plyfile.py:559(name)\n",
      "        4    0.000    0.000    0.000    0.000 /home/jp/anaconda3/lib/python3.9/site-packages/plyfile.py:897(dtype)\n",
      "        1    0.000    0.000    0.000    0.000 /home/jp/anaconda3/lib/python3.9/site-packages/plyfile.py:360(_set_obj_info)\n",
      "        1    0.000    0.000    0.000    0.000 /home/jp/anaconda3/lib/python3.9/site-packages/plyfile.py:351(_set_comments)\n",
      "        1    0.000    0.000    0.000    0.000 <frozen importlib._bootstrap>:398(parent)\n",
      "        3    0.000    0.000    0.000    0.000 {method 'append' of 'collections.deque' objects}\n",
      "        3    0.000    0.000    0.000    0.000 <frozen importlib._bootstrap_external>:68(_relax_case)\n",
      "        2    0.000    0.000    0.000    0.000 {built-in method _thread.allocate_lock}\n",
      "        1    0.000    0.000    0.000    0.000 {built-in method _imp.is_frozen}\n",
      "        2    0.000    0.000    0.000    0.000 {method '__exit__' of '_thread.lock' objects}\n",
      "        2    0.000    0.000    0.000    0.000 /home/jp/anaconda3/lib/python3.9/site-packages/plyfile.py:331(_get_byte_order)\n",
      "        1    0.000    0.000    0.000    0.000 /home/jp/anaconda3/lib/python3.9/site-packages/plyfile.py:334(_set_byte_order)\n",
      "        2    0.000    0.000    0.000    0.000 /home/jp/anaconda3/lib/python3.9/contextlib.py:694(__exit__)\n",
      "        1    0.000    0.000    0.000    0.000 {method 'items' of 'dict' objects}\n",
      "        2    0.000    0.000    0.000    0.000 {method 'get' of 'dict' objects}\n",
      "        2    0.000    0.000    0.000    0.000 {built-in method _thread.get_ident}\n",
      "        1    0.000    0.000    0.000    0.000 /home/jp/anaconda3/lib/python3.9/site-packages/plyfile.py:207(parse_end_header)\n",
      "        1    0.000    0.000    0.000    0.000 {method 'pop' of 'dict' objects}\n",
      "        2    0.000    0.000    0.000    0.000 /home/jp/anaconda3/lib/python3.9/contextlib.py:691(__enter__)\n",
      "        1    0.000    0.000    0.000    0.000 /home/jp/anaconda3/lib/python3.9/site-packages/plyfile.py:322(_get_elements)\n",
      "        1    0.000    0.000    0.000    0.000 {built-in method builtins.iter}\n",
      "        1    0.000    0.000    0.000    0.000 /home/jp/anaconda3/lib/python3.9/site-packages/_distutils_hack/__init__.py:89(<lambda>)\n",
      "        1    0.000    0.000    0.000    0.000 <frozen importlib._bootstrap>:406(has_location)\n",
      "\n",
      "\n"
     ]
    },
    {
     "data": {
      "text/plain": [
       "<pstats.Stats at 0x7f26e00d4160>"
      ]
     },
     "execution_count": 4,
     "metadata": {},
     "output_type": "execute_result"
    }
   ],
   "source": []
  },
  {
   "cell_type": "code",
   "execution_count": 5,
   "id": "d9fd9f71",
   "metadata": {
    "scrolled": true
   },
   "outputs": [
    {
     "name": "stdout",
     "output_type": "stream",
     "text": [
      "ProcessLowerStars took 6.79319 seconds to execute!\n",
      "         32161030 function calls in 6.793 seconds\n",
      "\n",
      "   Ordered by: internal time\n",
      "\n",
      "   ncalls  tottime  percall  cumtime  percall filename:lineno(function)\n",
      "  4371831    1.388    0.000    2.146    0.000 /home/jp/Documents/Code/MorseTheory/src/Algorithms/LoadData/Datastructure.py:195(has_face)\n",
      "        1    1.122    1.122    6.793    6.793 /home/jp/Documents/Code/MorseTheory/src/Algorithms/ProcessLowerStars.py:84(ProcessLowerStars)\n",
      "  1677213    0.771    0.000    2.578    0.000 /home/jp/Documents/Code/MorseTheory/src/Algorithms/ProcessLowerStars.py:54(num_unpaired_faces)\n",
      "   146174    0.697    0.000    1.041    0.000 /home/jp/Documents/Code/MorseTheory/src/Algorithms/ProcessLowerStars.py:20(lower_star)\n",
      " 11669216    0.449    0.000    0.449    0.000 {built-in method builtins.len}\n",
      "  4135767    0.439    0.000    0.439    0.000 {method 'issubset' of 'set' objects}\n",
      "   547937    0.285    0.000    0.356    0.000 /home/jp/Documents/Code/MorseTheory/src/Algorithms/LoadData/Datastructure.py:111(compare_heights)\n",
      "   292348    0.201    0.000    0.262    0.000 {built-in method builtins.sorted}\n",
      "   283462    0.173    0.000    0.821    0.000 /home/jp/Documents/Code/MorseTheory/src/Algorithms/ProcessLowerStars.py:70(pair)\n",
      "   283462    0.159    0.000    0.446    0.000 /home/jp/Documents/Code/MorseTheory/src/Algorithms/PriorityQueue.py:54(pop)\n",
      "   929471    0.136    0.000    0.177    0.000 /home/jp/Documents/Code/MorseTheory/src/Algorithms/PriorityQueue.py:28(notEmpty)\n",
      "  1960675    0.131    0.000    0.131    0.000 /home/jp/Documents/Code/MorseTheory/src/Algorithms/PriorityQueue.py:48(items)\n",
      "   605767    0.128    0.000    0.435    0.000 {built-in method _heapq.heappush}\n",
      "   605767    0.113    0.000    0.547    0.000 /home/jp/Documents/Code/MorseTheory/src/Algorithms/PriorityQueue.py:35(insert)\n",
      "   547937    0.111    0.000    0.467    0.000 /home/jp/Documents/Code/MorseTheory/src/Algorithms/LoadData/Datastructure.py:213(__lt__)\n",
      "   551412    0.076    0.000    0.234    0.000 {built-in method _heapq.heapify}\n",
      "   873721    0.060    0.000    0.060    0.000 {method 'items' of 'dict' objects}\n",
      "   267950    0.059    0.000    0.073    0.000 /home/jp/Documents/Code/MorseTheory/src/Algorithms/PriorityQueue.py:22(__init__)\n",
      "   322305    0.058    0.000    0.086    0.000 /home/jp/Documents/Code/MorseTheory/src/Algorithms/PriorityQueue.py:42(pop_front)\n",
      "   283462    0.038    0.000    0.038    0.000 {method 'index' of 'list' objects}\n",
      "   438516    0.038    0.000    0.038    0.000 /home/jp/Documents/Code/MorseTheory/src/Algorithms/ProcessLowerStars.py:49(<lambda>)\n",
      "   146174    0.037    0.000    0.037    0.000 /home/jp/Documents/Code/MorseTheory/src/Algorithms/ProcessLowerStars.py:49(<dictcomp>)\n",
      "   283462    0.029    0.000    0.029    0.000 {method 'pop' of 'list' objects}\n",
      "   322305    0.027    0.000    0.029    0.000 {built-in method _heapq.heappop}\n",
      "   146174    0.026    0.000    0.026    0.000 /home/jp/Documents/Code/MorseTheory/src/Algorithms/ProcessLowerStars.py:50(<dictcomp>)\n",
      "   292344    0.023    0.000    0.023    0.000 /home/jp/Documents/Code/MorseTheory/src/Algorithms/ProcessLowerStars.py:50(<lambda>)\n",
      "   133975    0.012    0.000    0.012    0.000 {method 'popitem' of 'dict' objects}\n",
      "    42160    0.007    0.000    0.007    0.000 {method 'add' of 'set' objects}\n",
      "        3    0.000    0.000    0.000    0.000 /home/jp/anaconda3/lib/python3.9/site-packages/zmq/sugar/socket.py:480(send)\n",
      "        1    0.000    0.000    6.793    6.793 /home/jp/Documents/Code/MorseTheory/src/timer.py:5(wrapper)\n",
      "        3    0.000    0.000    0.000    0.000 /home/jp/anaconda3/lib/python3.9/site-packages/ipykernel/iostream.py:208(schedule)\n",
      "        2    0.000    0.000    0.000    0.000 /home/jp/anaconda3/lib/python3.9/site-packages/ipykernel/iostream.py:502(write)\n",
      "        1    0.000    0.000    6.793    6.793 /home/jp/Documents/Code/MorseTheory/src/morse.py:88(ProcessLowerStars)\n",
      "        1    0.000    0.000    0.000    0.000 {built-in method builtins.print}\n",
      "        3    0.000    0.000    0.000    0.000 /home/jp/anaconda3/lib/python3.9/threading.py:1059(_wait_for_tstate_lock)\n",
      "        3    0.000    0.000    0.000    0.000 /home/jp/anaconda3/lib/python3.9/threading.py:1126(is_alive)\n",
      "        2    0.000    0.000    0.000    0.000 /home/jp/anaconda3/lib/python3.9/site-packages/ipykernel/iostream.py:420(_is_master_process)\n",
      "        3    0.000    0.000    0.000    0.000 /home/jp/anaconda3/lib/python3.9/site-packages/ipykernel/iostream.py:97(_event_pipe)\n",
      "        2    0.000    0.000    0.000    0.000 /home/jp/anaconda3/lib/python3.9/site-packages/ipykernel/iostream.py:439(_schedule_flush)\n",
      "        1    0.000    0.000    0.000    0.000 /home/jp/anaconda3/lib/python3.9/cProfile.py:117(__exit__)\n",
      "        3    0.000    0.000    0.000    0.000 {method 'acquire' of '_thread.lock' objects}\n",
      "        2    0.000    0.000    0.000    0.000 {built-in method time.time}\n",
      "        2    0.000    0.000    0.000    0.000 {built-in method posix.getpid}\n",
      "        1    0.000    0.000    0.000    0.000 {method 'values' of 'dict' objects}\n",
      "        1    0.000    0.000    0.000    0.000 {method 'disable' of '_lsprof.Profiler' objects}\n",
      "        3    0.000    0.000    0.000    0.000 /home/jp/anaconda3/lib/python3.9/threading.py:529(is_set)\n",
      "        3    0.000    0.000    0.000    0.000 {method 'append' of 'collections.deque' objects}\n",
      "        2    0.000    0.000    0.000    0.000 {built-in method builtins.isinstance}\n",
      "\n",
      "\n"
     ]
    },
    {
     "data": {
      "text/plain": [
       "<pstats.Stats at 0x7f26bc0b5850>"
      ]
     },
     "execution_count": 5,
     "metadata": {},
     "output_type": "execute_result"
    }
   ],
   "source": [
    "with cProfile.Profile() as pr:\n",
    "    data.ProcessLowerStars()\n",
    "    \n",
    "stats = pstats.Stats(pr)\n",
    "stats.sort_stats(pstats.SortKey.TIME)\n",
    "stats.print_stats()"
   ]
  },
  {
   "cell_type": "code",
   "execution_count": 6,
   "id": "792e94b1",
   "metadata": {
    "scrolled": true
   },
   "outputs": [
    {
     "name": "stdout",
     "output_type": "stream",
     "text": [
      "ExtractMorseComplex took 4.88222 seconds to execute!\n",
      "         13392564 function calls in 4.882 seconds\n",
      "\n",
      "   Ordered by: internal time\n",
      "\n",
      "   ncalls  tottime  percall  cumtime  percall filename:lineno(function)\n",
      "   377021    2.230    0.000    2.854    0.000 /home/jp/Documents/Code/MorseTheory/src/Algorithms/ExtractMorseComplex.py:19(potential_cells)\n",
      "        1    1.450    1.450    4.882    4.882 /home/jp/Documents/Code/MorseTheory/src/Algorithms/ExtractMorseComplex.py:41(ExtractMorseComplex)\n",
      "  5474794    0.525    0.000    0.525    0.000 {method 'issubset' of 'set' objects}\n",
      "   778436    0.160    0.000    0.160    0.000 /home/jp/Documents/Code/MorseTheory/src/Algorithms/Tree.py:45(__init__)\n",
      "  1839583    0.102    0.000    0.102    0.000 {method 'append' of 'list' objects}\n",
      "  1923418    0.099    0.000    0.099    0.000 {method 'add' of 'set' objects}\n",
      "   422805    0.088    0.000    0.115    0.000 /home/jp/Documents/Code/MorseTheory/src/Algorithms/Tree.py:55(addNode)\n",
      "  1267880    0.088    0.000    0.088    0.000 {method 'keys' of 'dict' objects}\n",
      "   347060    0.032    0.000    0.032    0.000 {method 'pop' of 'list' objects}\n",
      "   347060    0.023    0.000    0.023    0.000 {method 'discard' of 'set' objects}\n",
      "   377023    0.019    0.000    0.019    0.000 {built-in method builtins.len}\n",
      "    29961    0.014    0.000    0.014    0.000 /home/jp/Documents/Code/MorseTheory/src/Algorithms/Tree.py:16(__init__)\n",
      "    84316    0.013    0.000    0.018    0.000 /home/jp/Documents/Code/MorseTheory/src/Algorithms/Tree.py:29(addEnd)\n",
      "    68804    0.011    0.000    0.015    0.000 /home/jp/Documents/Code/MorseTheory/src/Algorithms/Tree.py:24(addNode)\n",
      "    21079    0.009    0.000    0.009    0.000 /home/jp/Documents/Code/MorseTheory/src/Algorithms/LoadData/Datastructure.py:288(__init__)\n",
      "    12199    0.008    0.000    0.014    0.000 /home/jp/Documents/Code/MorseTheory/src/Algorithms/LoadData/Datastructure.py:476(add_vertex)\n",
      "    12199    0.006    0.000    0.006    0.000 /home/jp/Documents/Code/MorseTheory/src/Algorithms/LoadData/Datastructure.py:246(__init__)\n",
      "     8882    0.004    0.000    0.004    0.000 /home/jp/Documents/Code/MorseTheory/src/Algorithms/LoadData/Datastructure.py:331(__init__)\n",
      "        3    0.000    0.000    0.000    0.000 /home/jp/anaconda3/lib/python3.9/site-packages/zmq/sugar/socket.py:480(send)\n",
      "        1    0.000    0.000    4.882    4.882 /home/jp/Documents/Code/MorseTheory/src/timer.py:5(wrapper)\n",
      "        1    0.000    0.000    0.000    0.000 /home/jp/Documents/Code/MorseTheory/src/Algorithms/LoadData/Datastructure.py:452(__init__)\n",
      "        1    0.000    0.000    4.882    4.882 /home/jp/Documents/Code/MorseTheory/src/morse.py:103(ExtractMorseComplex)\n",
      "        3    0.000    0.000    0.000    0.000 /home/jp/anaconda3/lib/python3.9/site-packages/ipykernel/iostream.py:208(schedule)\n",
      "        2    0.000    0.000    0.000    0.000 /home/jp/anaconda3/lib/python3.9/site-packages/ipykernel/iostream.py:502(write)\n",
      "        1    0.000    0.000    0.000    0.000 {built-in method builtins.print}\n",
      "        1    0.000    0.000    0.000    0.000 /home/jp/Documents/Code/MorseTheory/src/Algorithms/LoadData/Datastructure.py:597(__init__)\n",
      "        2    0.000    0.000    0.000    0.000 /home/jp/anaconda3/lib/python3.9/site-packages/ipykernel/iostream.py:420(_is_master_process)\n",
      "        3    0.000    0.000    0.000    0.000 /home/jp/anaconda3/lib/python3.9/threading.py:1059(_wait_for_tstate_lock)\n",
      "        3    0.000    0.000    0.000    0.000 /home/jp/anaconda3/lib/python3.9/threading.py:1126(is_alive)\n",
      "        3    0.000    0.000    0.000    0.000 {method 'acquire' of '_thread.lock' objects}\n",
      "        2    0.000    0.000    0.000    0.000 /home/jp/anaconda3/lib/python3.9/site-packages/ipykernel/iostream.py:439(_schedule_flush)\n",
      "        3    0.000    0.000    0.000    0.000 /home/jp/anaconda3/lib/python3.9/site-packages/ipykernel/iostream.py:97(_event_pipe)\n",
      "        2    0.000    0.000    0.000    0.000 {built-in method time.time}\n",
      "        1    0.000    0.000    0.000    0.000 /home/jp/anaconda3/lib/python3.9/cProfile.py:117(__exit__)\n",
      "        2    0.000    0.000    0.000    0.000 {built-in method posix.getpid}\n",
      "        1    0.000    0.000    0.000    0.000 {method 'disable' of '_lsprof.Profiler' objects}\n",
      "        3    0.000    0.000    0.000    0.000 /home/jp/anaconda3/lib/python3.9/threading.py:529(is_set)\n",
      "        3    0.000    0.000    0.000    0.000 {method 'append' of 'collections.deque' objects}\n",
      "        2    0.000    0.000    0.000    0.000 {built-in method builtins.isinstance}\n",
      "\n",
      "\n"
     ]
    },
    {
     "data": {
      "text/plain": [
       "<pstats.Stats at 0x7f26a85c6820>"
      ]
     },
     "execution_count": 6,
     "metadata": {},
     "output_type": "execute_result"
    }
   ],
   "source": [
    "with cProfile.Profile() as pr:\n",
    "    data.ExtractMorseComplex()\n",
    "    \n",
    "stats = pstats.Stats(pr)\n",
    "stats.sort_stats(pstats.SortKey.TIME)\n",
    "stats.print_stats()"
   ]
  },
  {
   "cell_type": "markdown",
   "id": "dbe41d12",
   "metadata": {},
   "source": [
    "##  Load ply file into the Morse class\n",
    "Use the function: **.load_mesh_ply(filename, quality_index, inverted=False)**\n",
    "\n",
    "- **filename:** The path to the ply file you want to load\n",
    "- **quality_index:** The position index where the Morse function value are saved in the ply file (e.g. 3 if you want the quality value and the plyfile has the properties x,y,z,quality; or if you want to take the height function/z-value: choose 2)\n",
    "- **inverted:** Optional, default is false. Multiplies the Morse function with -1 -> min will become max and max will become min."
   ]
  },
  {
   "cell_type": "code",
   "execution_count": 3,
   "id": "8d30dddf",
   "metadata": {},
   "outputs": [
    {
     "name": "stdout",
     "output_type": "stream",
     "text": [
      "load_mesh_ply took 0.58351 seconds to execute!\n",
      "ProcessLowerStars took 0.09527 seconds to execute!\n",
      "ExtractMorseComplex took 0.15553 seconds to execute!\n",
      "plot_MorseComplex_ply took 0.42187 seconds to execute!\n"
     ]
    }
   ],
   "source": [
    "file = \"../../Data/test_objects/cube_large_r0.30_n4_v256.volume.ply\"\n",
    "#file = \"../../Data/vase_reduced_cleaned.ply\"\n",
    "#file = \"../../Data/artefact_31_test/curvature/31_r1.00_n4_v256.volume.ply\"\n",
    "#file = \"../../Data/graz/steinbruchwand_ttvc_gmo_2022-11-05_0934/Steinbruchwand_TTVC_GMO_cut_150x200_r15.00_n4_v256.volume.ply\"\n",
    "data.load_mesh_ply(file, quality_index=3, inverted=True)\n",
    "data.ProcessLowerStars()\n",
    "data.ExtractMorseComplex()\n",
    "#data.ReduceMorseComplex(0.04)\n",
    "#pers = 0.06\n",
    "#data.ExtractMorseCells(pers)\n",
    "labelfilename = \"../old_MorseTheory/Data/results/test_new_mscomplex_visualization\"\n",
    "data.plot_MorseComplex_ply(0,labelfilename, detailed=True)"
   ]
  },
  {
   "cell_type": "code",
   "execution_count": 8,
   "id": "65c46708",
   "metadata": {},
   "outputs": [
    {
     "name": "stdout",
     "output_type": "stream",
     "text": [
      "get_salient_edges took 0.04770302772521973 seconds to execute!\n",
      "plot_SalientEdges_ply took 0.08980488777160645 seconds to execute!\n"
     ]
    }
   ],
   "source": [
    "edge_file = \"../old_MorseTheory/Data/results/test_0075_005_edges\"\n",
    "data.plot_SalientEdges_ply(edge_file, 0.075,0.05, only_strong=True)"
   ]
  },
  {
   "cell_type": "code",
   "execution_count": 7,
   "id": "58a0753c",
   "metadata": {},
   "outputs": [
    {
     "data": {
      "image/png": "[encoded data removed]",
      "text/plain": [
       "<Figure size 432x288 with 1 Axes>"
      ]
     },
     "metadata": {
      "needs_background": "light"
     },
     "output_type": "display_data"
    },
    {
     "name": "stdout",
     "output_type": "stream",
     "text": [
      "salient_edge_statistics took 0.24988698959350586 seconds to execute!\n"
     ]
    }
   ],
   "source": [
    "stat = data.salient_edge_statistics(nb_bins = 300, log=False, save = False, filepath = 'histogram', show = True)"
   ]
  },
  {
   "cell_type": "code",
   "execution_count": 9,
   "id": "220a799f",
   "metadata": {},
   "outputs": [
    {
     "name": "stdout",
     "output_type": "stream",
     "text": [
      "get_salient_edges took 0.04992222785949707 seconds to execute!\n",
      "Time Segmentation:  0.5458341579997068\n",
      "Segmentation took 0.5958964824676514 seconds to execute!\n",
      "plot_Segmentation_label_txt took 0.06621932983398438 seconds to execute!\n"
     ]
    }
   ],
   "source": [
    "filename = \"../old_MorseTheory/Data/results/test_006_0075_005_05_seg\"\n",
    "data.Segmentation(0.06, 0.075, 0.05, 0.5, minimum_labels=3)\n",
    "data.plot_Segmentation_label_txt(0.06, 0.075, 0.05, 0.5, filename)"
   ]
  },
  {
   "cell_type": "markdown",
   "id": "c11a0efc",
   "metadata": {},
   "source": [
    "## Dataset info (Optional)\n",
    "Prints out info like Vertices, Edges and Faces, as well as the Morse function range"
   ]
  },
  {
   "cell_type": "code",
   "execution_count": 6,
   "id": "d27b6d4d",
   "metadata": {},
   "outputs": [
    {
     "name": "stdout",
     "output_type": "stream",
     "text": [
      "+-------------------------------------------------------\n",
      "| Mesh Info\n",
      "+-------------------------------------------------------\n",
      "| Filename: ../../Data/test_objects/cube_large_r0.30_n4_v256.volume\n",
      "| Morse function values range: [-0.0958464965224266, 0.6587028503417969]\n",
      "+-------------------------------------------------------\n",
      "| Number of Vertices: 6146\n",
      "| Number of Edges: 18432\n",
      "| Number of Faces: 12288\n",
      "+-------------------------------------------------------\n",
      "| Euler characteristic: 2\n",
      "| Betti numbers: None\n",
      "+-------------------------------------------------------\n"
     ]
    }
   ],
   "source": [
    "data"
   ]
  },
  {
   "cell_type": "code",
   "execution_count": 5,
   "id": "6483d386",
   "metadata": {},
   "outputs": [
    {
     "data": {
      "text/plain": [
       "+-------------------------------------------------------\n",
       "| MorseComplex Info\n",
       "+-------------------------------------------------------\n",
       "| Filename: ../../Data/test_objects/cube_large_r0.30_n4_v256.volume\n",
       "| Persistence of this Complex: 0\n",
       "+-------------------------------------------------------\n",
       "| Number of Vertices: 396\n",
       "| Number of Edges: 779\n",
       "| Number of Faces: 385\n",
       "+-------------------------------------------------------\n",
       "| Euler characteristic: 2\n",
       "| Betti numbers: None\n",
       "+-------------------------------------------------------"
      ]
     },
     "execution_count": 5,
     "metadata": {},
     "output_type": "execute_result"
    }
   ],
   "source": [
    "data.MorseComplex"
   ]
  },
  {
   "cell_type": "markdown",
   "id": "7b904c38",
   "metadata": {},
   "source": [
    "## Perform Morse Complex Calculations\n",
    "Use the functions **.ProcessLowerStars()** and **.ExtractMorseComplex()**\n",
    "- **ProcessLowerStars()** calculates the discrete vector field\n",
    "- **ExtractMorseComplex()** calculates the Morse complex, so finds the neighborhood relations between critical simplices by finding separatrices from maxima to saddles and from saddles to minima"
   ]
  },
  {
   "cell_type": "code",
   "execution_count": null,
   "id": "7da4948c",
   "metadata": {},
   "outputs": [],
   "source": [
    "#data.calculate_BettiNumbers()"
   ]
  },
  {
   "cell_type": "code",
   "execution_count": null,
   "id": "804a43fd",
   "metadata": {},
   "outputs": [],
   "source": [
    "#data.plot_PersistenceDiagram(save = False, filepath = '../../Data/test_plotting_functions/persistenceDiagram_original')"
   ]
  },
  {
   "cell_type": "code",
   "execution_count": null,
   "id": "2a2ed855",
   "metadata": {},
   "outputs": [],
   "source": [
    "#data.calculate_BettiNumbers(0.04)"
   ]
  },
  {
   "cell_type": "code",
   "execution_count": null,
   "id": "4352e362",
   "metadata": {},
   "outputs": [],
   "source": [
    "#data.plot_PersistenceDiagram(0.04,save = False, filepath = '../../Data/test_plotting_functions/persistenceDiagram_0_04P')"
   ]
  },
  {
   "cell_type": "code",
   "execution_count": null,
   "id": "e649e33d",
   "metadata": {},
   "outputs": [],
   "source": [
    "#stats = data.funval_statistics(nb_bins=200, log=True)"
   ]
  },
  {
   "cell_type": "code",
   "execution_count": null,
   "id": "184d3673",
   "metadata": {},
   "outputs": [],
   "source": [
    "#print(\"Stats all fun vals:\")\n",
    "#print(stats['mean'])\n",
    "#print(stats['std'])"
   ]
  },
  {
   "cell_type": "code",
   "execution_count": null,
   "id": "c2d196ca",
   "metadata": {},
   "outputs": [],
   "source": [
    "#stats2 = data.critical_funval_statistics(0,nb_bins=200)"
   ]
  },
  {
   "cell_type": "code",
   "execution_count": null,
   "id": "66a19c1d",
   "metadata": {},
   "outputs": [],
   "source": [
    "#print(\"Stats V:\")\n",
    "#print(stats2['V']['mean'])\n",
    "#print(stats2['V']['std'])\n",
    "#print(\"Stats E:\")\n",
    "#print(stats2['E']['mean'])\n",
    "#print(stats2['E']['std'])\n",
    "#print(\"Stats F:\")\n",
    "#print(stats2['F']['mean'])\n",
    "#print(stats2['F']['std'])"
   ]
  },
  {
   "cell_type": "code",
   "execution_count": null,
   "id": "c3f87f64",
   "metadata": {},
   "outputs": [],
   "source": [
    "#stats3 = data.critical_funval_statistics(0.04,nb_bins=200)"
   ]
  },
  {
   "cell_type": "code",
   "execution_count": null,
   "id": "29accbad",
   "metadata": {},
   "outputs": [],
   "source": [
    "#print(\"Stats V:\")\n",
    "#print(stats3['V']['mean'])\n",
    "#print(stats3['V']['std'])\n",
    "#print(\"Stats E:\")\n",
    "#print(stats3['E']['mean'])\n",
    "#print(stats3['E']['std'])\n",
    "#print(\"Stats F:\")\n",
    "#print(stats3['F']['mean'])\n",
    "#print(stats3['F']['std'])"
   ]
  },
  {
   "cell_type": "code",
   "execution_count": null,
   "id": "132dad7e",
   "metadata": {},
   "outputs": [],
   "source": [
    "#import matplotlib.pyplot as plt\n",
    "#funvals = []\n",
    "#for e in stats2['V']['fun_vals']:\n",
    "#    funvals.append(e)\n",
    "#for e in stats2['E']['fun_vals']:\n",
    "#    funvals.append(e)\n",
    "#for e in stats2['F']['fun_vals']:\n",
    "#    funvals.append(e)\n",
    "    \n",
    "#plt.hist(funvals, bins=200)\n",
    "#plt.xlabel(\"Function Value\")\n",
    "#plt.ylabel(\"Counts\")\n",
    "#plt.title(\"Combined Histogram\")\n",
    "#plt.show()"
   ]
  },
  {
   "cell_type": "code",
   "execution_count": null,
   "id": "2a79c925",
   "metadata": {},
   "outputs": [],
   "source": [
    "#funvals = []\n",
    "#for e in stats3['V']['fun_vals']:\n",
    "#    funvals.append(e)\n",
    "#for e in stats3['E']['fun_vals']:\n",
    "#    funvals.append(e)\n",
    "#for e in stats3['F']['fun_vals']:\n",
    "#    funvals.append(e)\n",
    "#    \n",
    "#plt.hist(funvals, bins=200)\n",
    "#plt.xlabel(\"Function Value\")\n",
    "#plt.ylabel(\"Counts\")\n",
    "#plt.title(\"Combined Histogram\")\n",
    "#plt.show()"
   ]
  },
  {
   "cell_type": "code",
   "execution_count": null,
   "id": "21419fe6",
   "metadata": {},
   "outputs": [],
   "source": [
    "#data.plot_SalientEdges_ply(\"../../Data/test_plotting_functions/plot_saledge\", 0.06, 0.05)\n",
    "#data.plot_MorseCells_ply(0.04, \"../../Data/test_plotting_functions/plot_cells\")\n",
    "#data.plot_MorseComplex_ply(0.04, \"../../Data/test_plotting_functions/plot_complex\")"
   ]
  },
  {
   "cell_type": "code",
   "execution_count": null,
   "id": "d1729330",
   "metadata": {},
   "outputs": [],
   "source": [
    "#stats = data.salient_edge_statistics()"
   ]
  },
  {
   "cell_type": "code",
   "execution_count": null,
   "id": "d2d6871b",
   "metadata": {},
   "outputs": [],
   "source": [
    "#print(\"Stats sepa persistence:\")\n",
    "#print(stats['mean'])\n",
    "#print(stats['std'])"
   ]
  },
  {
   "cell_type": "markdown",
   "id": "6c87fc47",
   "metadata": {},
   "source": [
    "## Get Morse Complex info (Optional)\n",
    "Prints out infos on the original Morse complex like number of critical vertices, crit. edges and crit. faces. Persistence should be 0 on the original complex."
   ]
  },
  {
   "cell_type": "code",
   "execution_count": null,
   "id": "51ca4d51",
   "metadata": {},
   "outputs": [],
   "source": [
    "data.MorseComplex.info()"
   ]
  },
  {
   "cell_type": "code",
   "execution_count": null,
   "id": "cd1d9c3d",
   "metadata": {},
   "outputs": [],
   "source": [
    "#labelfile_name = \"../../Data/vase_cells_only_label\" # the .txt extension is written automatically\n",
    "#labelfile_name = \"../../Data/31_only_label\" # the .txt extension is written automatically\n",
    "labelfile_name = \"../../Data/test_objects/cube_large_0_01\"\n",
    "\n",
    "data.ExtractMorseCells(0.01)\n",
    "data.plot_MorseCells_label_txt(0.01, labelfile_name)\n",
    "data.plot_MorseCells_ply(0.01, labelfile_name)\n",
    "data.plot_MorseComplex_ply(0.01, labelfile_name, path_color=[200,200,200])"
   ]
  },
  {
   "cell_type": "markdown",
   "id": "6c19a249",
   "metadata": {},
   "source": [
    "## Reduce Morse complex (using Persistence)\n",
    "Use the function **.ReduceMorseComplex(persistence)**\n",
    "- **persistence:** The persistence level up to which the Morse complex should be simplified. (neighboring critical simplices will be cancelled, (if topologically possible,) if their Morse function value difference is less than the persistence.\n",
    "\n",
    "The reduced complex will be stored in a dictionary **data.reducedMorseComplexes[persistence]** which allows to calculate several persistences. Can be accessed using the persistence as key."
   ]
  },
  {
   "cell_type": "code",
   "execution_count": null,
   "id": "ba402ca2",
   "metadata": {},
   "outputs": [],
   "source": [
    "#data.ExtractMorseCells(0.04)\n",
    "#filename = \"../../Data/31_testnew_segmentation_no_persistence\"\n",
    "#seg = data.Segmentation(0, 0.06, 0.05, 0.15, minimum_labels=5)\n",
    "#data.plot_Segmentation_label_txt(0, 0.06, 0.05, 0.15, filename)"
   ]
  },
  {
   "cell_type": "code",
   "execution_count": null,
   "id": "802a1d7f",
   "metadata": {},
   "outputs": [],
   "source": [
    "#print(len(seg.Cells.keys()))"
   ]
  },
  {
   "cell_type": "code",
   "execution_count": null,
   "id": "5a57cc0b",
   "metadata": {},
   "outputs": [],
   "source": [
    "#labelfile_name = \"../../Data/vase_cells_only_label_001\" # the .txt extension is written automatically\n",
    "#labelfile_name = \"../../Data/31_only_label_004\" # the .txt extension is written automatically\n",
    "\n",
    "#data.ExtractMorseCells(0.04)\n",
    "#data.write_MorseCellLabels(0.04, labelfile_name)"
   ]
  },
  {
   "cell_type": "markdown",
   "id": "88794af5",
   "metadata": {},
   "source": [
    "## Plot option for Gigamesh (there are several also for writing meshlab overlay files..)\n",
    "Uses a labels for each Morse cell to write a label file which can be read by Gigamesh for visualization.\n",
    "Need to Extract Morse cells first with **.ExtractMorseCells(persistence)** and than **.write_MorseCellLabels(persistence, filename)** to write the according label file. \n",
    "- **persistence:** The persistence of the Morse complex you want to visualize\n",
    "- **filename:** filename where the label file should be stored"
   ]
  },
  {
   "cell_type": "code",
   "execution_count": null,
   "id": "58f6e80f",
   "metadata": {},
   "outputs": [],
   "source": [
    "#labelfile_name = \"abc_labels\" # the .txt extension is written automatically\n",
    "\n",
    "#data.ExtractMorseCells(3)\n",
    "#data.write_MorseCellLabels(3, labelfile_name)"
   ]
  },
  {
   "cell_type": "markdown",
   "id": "2baafdb7",
   "metadata": {},
   "source": [
    "## Visualize in Gigamesh:\n",
    "(Maybe the develop version of gigamesh is required, since import labels migth not be in the website version)\n",
    "1. Load the ply file into Gigamesh\n",
    "2. Choose Import labels under **File - Import - Import Labels** and load the written output label file\n",
    "3. Vertex in first column: YES \n",
    "4. Select **Labels-Connected Comp.** on the right to see the Morse cells of the Morse complex"
   ]
  },
  {
   "cell_type": "code",
   "execution_count": null,
   "id": "7a4134b6",
   "metadata": {},
   "outputs": [],
   "source": [
    "import sys\n",
    "import numpy as np\n",
    "\n",
    "a=float(0.275369)\n",
    "b = np.float16(0.275369)\n",
    "#b = b.astype(np.int32)\n",
    "\n",
    "print(type(a))\n",
    "print(sys.getsizeof(a))\n",
    "\n",
    "\n",
    "print(type(b))\n",
    "print(sys.getsizeof(b))\n",
    "import array\n",
    "b= [1,2,3,0]\n",
    "c = np.array([1,2,3,0],dtype=np.int8)\n",
    "a = array.array('L',[1,2,3,0])\n",
    "print(sorted(a))\n",
    "print(sys.getsizeof(a))\n",
    "print(sys.getsizeof(sorted(a)))\n",
    "print(sys.getsizeof(b))\n",
    "print(sys.getsizeof(c))\n",
    "if 2 in a:\n",
    "    print(\"ok\")\n",
    "print(a[0])"
   ]
  }
 ],
 "metadata": {
  "kernelspec": {
   "display_name": "Python 3 (ipykernel)",
   "language": "python",
   "name": "python3"
  },
  "language_info": {
   "codemirror_mode": {
    "name": "ipython",
    "version": 3
   },
   "file_extension": ".py",
   "mimetype": "text/x-python",
   "name": "python",
   "nbconvert_exporter": "python",
   "pygments_lexer": "ipython3",
   "version": "3.9.12"
  }
 },
 "nbformat": 4,
 "nbformat_minor": 5
}
