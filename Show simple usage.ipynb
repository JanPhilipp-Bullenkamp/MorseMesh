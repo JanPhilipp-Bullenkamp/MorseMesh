{
 "cells": [
  {
   "cell_type": "markdown",
   "id": "aa7879b7",
   "metadata": {},
   "source": [
    "## Need to import the Morse class"
   ]
  },
  {
   "cell_type": "code",
   "execution_count": 1,
   "id": "ff4e6f38",
   "metadata": {},
   "outputs": [],
   "source": [
    "from src.morse import Morse"
   ]
  },
  {
   "cell_type": "markdown",
   "id": "db3d7bf2",
   "metadata": {},
   "source": [
    "## Initialize Morse class"
   ]
  },
  {
   "cell_type": "code",
   "execution_count": 2,
   "id": "713fdeea",
   "metadata": {},
   "outputs": [],
   "source": [
    "data = Morse()"
   ]
  },
  {
   "cell_type": "markdown",
   "id": "dbe41d12",
   "metadata": {},
   "source": [
    "##  Load ply file into the Morse class\n",
    "Use the function: **.load_mesh_ply(filename, quality_index, inverted=False)**\n",
    "\n",
    "- **filename:** The path to the ply file you want to load\n",
    "- **quality_index:** The position index where the Morse function value are saved in the ply file (e.g. 3 if you want the quality value and the plyfile has the properties x,y,z,quality; or if you want to take the height function/z-value: choose 2)\n",
    "- **inverted:** Optional, default is false. Multiplies the Morse function with -1 -> min will become max and max will become min."
   ]
  },
  {
   "cell_type": "code",
   "execution_count": 3,
   "id": "8d30dddf",
   "metadata": {},
   "outputs": [
    {
     "name": "stdout",
     "output_type": "stream",
     "text": [
      "Time read data file: 0.11626069400517736\n",
      "Time read and prepare data: 1.1566336339965346\n"
     ]
    }
   ],
   "source": [
    "file = \"../../Data/vase_reduced_cleaned.ply\"\n",
    "data.load_mesh_ply(file, quality_index=2)"
   ]
  },
  {
   "cell_type": "markdown",
   "id": "c11a0efc",
   "metadata": {},
   "source": [
    "## Dataset info (Optional)\n",
    "Prints out info like Vertices, Edges and Faces, as well as the Morse function range"
   ]
  },
  {
   "cell_type": "code",
   "execution_count": 4,
   "id": "d27b6d4d",
   "metadata": {},
   "outputs": [
    {
     "name": "stdout",
     "output_type": "stream",
     "text": [
      "+-------------------------------------------------------\n",
      "| Mesh Info\n",
      "+-------------------------------------------------------\n",
      "| Filename:  ../../Data/vase_reduced_cleaned\n",
      "| Morse function values range:  [-14.235389, 14.243169]\n",
      "+-------------------------------------------------------\n",
      "| Number of Vertices:  14255\n",
      "| Number of Edges:  42771\n",
      "| Number of Faces:  28514\n",
      "+-------------------------------------------------------\n",
      "| Euler characteristic:  -2\n",
      "+-------------------------------------------------------\n"
     ]
    }
   ],
   "source": [
    "data.info()"
   ]
  },
  {
   "cell_type": "markdown",
   "id": "7b904c38",
   "metadata": {},
   "source": [
    "## Perform Morse Complex Calculations\n",
    "Use the functions **.ProcessLowerStars()** and **.ExtractMorseComplex()**\n",
    "- **ProcessLowerStars()** calculates the discrete vector field\n",
    "- **ExtractMorseComplex()** calculates the Morse complex, so finds the neighborhood relations between critical simplices by finding separatrices from maxima to saddles and from saddles to minima"
   ]
  },
  {
   "cell_type": "code",
   "execution_count": 5,
   "id": "e78790c0",
   "metadata": {},
   "outputs": [
    {
     "name": "stdout",
     "output_type": "stream",
     "text": [
      "Time ProcessLowerStar: 0.30107151399715804\n",
      "Time ExtractMorseComplex and Separatrices: 0.25850603399885586\n"
     ]
    }
   ],
   "source": [
    "data.ProcessLowerStars()\n",
    "data.ExtractMorseComplex()"
   ]
  },
  {
   "cell_type": "markdown",
   "id": "6c87fc47",
   "metadata": {},
   "source": [
    "## Get Morse Complex info (Optional)\n",
    "Prints out infos on the original Morse complex like number of critical vertices, crit. edges and crit. faces. Persistence should be 0 on the original complex."
   ]
  },
  {
   "cell_type": "code",
   "execution_count": 6,
   "id": "51ca4d51",
   "metadata": {},
   "outputs": [
    {
     "name": "stdout",
     "output_type": "stream",
     "text": [
      "+-------------------------------------------------------\n",
      "| MorseComplex Info\n",
      "+-------------------------------------------------------\n",
      "| Filename:  ../../Data/vase_reduced_cleaned\n",
      "| Persistence of this Complex:  0\n",
      "+-------------------------------------------------------\n",
      "| Number of Vertices:  30\n",
      "| Number of Edges:  71\n",
      "| Number of Faces:  39\n",
      "+-------------------------------------------------------\n",
      "| Euler characteristic:  -2\n",
      "+-------------------------------------------------------\n"
     ]
    }
   ],
   "source": [
    "data.MorseComplex.info()"
   ]
  },
  {
   "cell_type": "code",
   "execution_count": 7,
   "id": "cd1d9c3d",
   "metadata": {},
   "outputs": [
    {
     "name": "stdout",
     "output_type": "stream",
     "text": [
      "4931 vert no label\n",
      "4931 bd pts\n",
      "Time writing label txt file: 0.003111282996542286\n"
     ]
    }
   ],
   "source": [
    "labelfile_name = \"../../Data/vase_cells_only_label\" # the .txt extension is written automatically\n",
    "\n",
    "data.ExtractMorseCells(0)\n",
    "data.write_MorseCellLabels(0, labelfile_name)"
   ]
  },
  {
   "cell_type": "markdown",
   "id": "6c19a249",
   "metadata": {},
   "source": [
    "## Reduce Morse complex (using Persistence)\n",
    "Use the function **.ReduceMorseComplex(persistence)**\n",
    "- **persistence:** The persistence level up to which the Morse complex should be simplified. (neighboring critical simplices will be cancelled, (if topologically possible,) if their Morse function value difference is less than the persistence.\n",
    "\n",
    "The reduced complex will be stored in a dictionary **data.reducedMorseComplexes[persistence]** which allows to calculate several persistences. Can be accessed using the persistence as key."
   ]
  },
  {
   "cell_type": "code",
   "execution_count": 8,
   "id": "5a57cc0b",
   "metadata": {},
   "outputs": [
    {
     "name": "stdout",
     "output_type": "stream",
     "text": [
      "Need to reduce Morse complex to this persistence first...\n",
      "Time cancel critical points with  0.01  persistence:  0.01910107000003336\n",
      "3103 vert no label\n",
      "3103 bd pts\n",
      "Time writing label txt file: 0.0037759690021630377\n"
     ]
    }
   ],
   "source": [
    "labelfile_name = \"../../Data/vase_cells_only_label_001\" # the .txt extension is written automatically\n",
    "\n",
    "data.ExtractMorseCells(0.01)\n",
    "data.write_MorseCellLabels(0.01, labelfile_name)"
   ]
  },
  {
   "cell_type": "markdown",
   "id": "88794af5",
   "metadata": {},
   "source": [
    "## Plot option for Gigamesh (there are several also for writing meshlab overlay files..)\n",
    "Uses a labels for each Morse cell to write a label file which can be read by Gigamesh for visualization.\n",
    "Need to Extract Morse cells first with **.ExtractMorseCells(persistence)** and than **.write_MorseCellLabels(persistence, filename)** to write the according label file. \n",
    "- **persistence:** The persistence of the Morse complex you want to visualize\n",
    "- **filename:** filename where the label file should be stored"
   ]
  },
  {
   "cell_type": "code",
   "execution_count": 9,
   "id": "58f6e80f",
   "metadata": {},
   "outputs": [],
   "source": [
    "#labelfile_name = \"abc_labels\" # the .txt extension is written automatically\n",
    "\n",
    "#data.ExtractMorseCells(3)\n",
    "#data.write_MorseCellLabels(3, labelfile_name)"
   ]
  },
  {
   "cell_type": "markdown",
   "id": "2baafdb7",
   "metadata": {},
   "source": [
    "## Visualize in Gigamesh:\n",
    "(Maybe the develop version of gigamesh is required, since import labels migth not be in the website version)\n",
    "1. Load the ply file into Gigamesh\n",
    "2. Choose Import labels under **File - Import - Import Labels** and load the written output label file\n",
    "3. Vertex in first column: YES \n",
    "4. Select **Labels-Connected Comp.** on the right to see the Morse cells of the Morse complex"
   ]
  },
  {
   "cell_type": "code",
   "execution_count": null,
   "id": "cae9cb9e",
   "metadata": {},
   "outputs": [],
   "source": []
  }
 ],
 "metadata": {
  "kernelspec": {
   "display_name": "Python 3 (ipykernel)",
   "language": "python",
   "name": "python3"
  },
  "language_info": {
   "codemirror_mode": {
    "name": "ipython",
    "version": 3
   },
   "file_extension": ".py",
   "mimetype": "text/x-python",
   "name": "python",
   "nbconvert_exporter": "python",
   "pygments_lexer": "ipython3",
   "version": "3.9.12"
  }
 },
 "nbformat": 4,
 "nbformat_minor": 5
}
