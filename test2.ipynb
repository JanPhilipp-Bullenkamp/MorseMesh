{
 "cells": [
  {
   "cell_type": "code",
   "execution_count": 1,
   "metadata": {},
   "outputs": [],
   "source": [
    "from src.Algorithms.load_data.Datastructure import Vertex, Simplex\n",
    "import numpy as np"
   ]
  },
  {
   "cell_type": "code",
   "execution_count": 14,
   "metadata": {},
   "outputs": [],
   "source": [
    "a1=Vertex(1,1,1,2,0.2,0)\n",
    "a2=Vertex(1,0,1,3,0.6,1)\n",
    "a3=Vertex(1,1,0,4,0.1,2)\n",
    "vert_dict = {0:a1, 1:a2, 2:a3}"
   ]
  },
  {
   "cell_type": "code",
   "execution_count": 15,
   "metadata": {},
   "outputs": [],
   "source": [
    "b = Simplex({2,0,1},0)"
   ]
  },
  {
   "cell_type": "code",
   "execution_count": 16,
   "metadata": {},
   "outputs": [
    {
     "data": {
      "text/plain": [
       "0.5"
      ]
     },
     "execution_count": 16,
     "metadata": {},
     "output_type": "execute_result"
    }
   ],
   "source": [
    "b.compute_area(vert_dict)"
   ]
  },
  {
   "cell_type": "code",
   "execution_count": 17,
   "metadata": {},
   "outputs": [
    {
     "name": "stdout",
     "output_type": "stream",
     "text": [
      "[-0.   0.1  0.4]\n"
     ]
    }
   ],
   "source": [
    "b.face_gradient(vert_dict)"
   ]
  },
  {
   "cell_type": "code",
   "execution_count": 38,
   "metadata": {},
   "outputs": [
    {
     "name": "stdout",
     "output_type": "stream",
     "text": [
      "[[ 1  1  1]\n",
      " [-2  1 -2]]\n",
      "[ 2 -3]\n"
     ]
    }
   ],
   "source": [
    "k=[[1,2,3],4]\n",
    "j=[[2,3,4],6]\n",
    "i=[[0,4,2],3]\n",
    "c = [k,j,i]\n",
    "print(np.diff([d[0] for d in c], axis=0))\n",
    "print(np.diff([d[1] for d in c], axis=0))"
   ]
  },
  {
   "cell_type": "code",
   "execution_count": 1,
   "metadata": {},
   "outputs": [],
   "source": [
    "filename = \"../../Data/artefact_31_test/31_r1.00_n4_v256.volume/31_r1.00_n4_v256.volume_0.13H_0.12L_0.3M.txt\""
   ]
  },
  {
   "cell_type": "code",
   "execution_count": 8,
   "metadata": {},
   "outputs": [
    {
     "name": "stdout",
     "output_type": "stream",
     "text": [
      "0.13\n",
      "0.12\n",
      "0.3\n"
     ]
    }
   ],
   "source": [
    "print(float(filename.split(\"/\")[-1].split(\"_\")[-3][:-1]))\n",
    "print(float(filename.split(\"/\")[-1].split(\"_\")[-2][:-1]))\n",
    "print(float(filename.split(\"/\")[-1].split(\"_\")[-1][:-5]))"
   ]
  },
  {
   "cell_type": "code",
   "execution_count": 1,
   "metadata": {},
   "outputs": [
    {
     "name": "stdout",
     "output_type": "stream",
     "text": [
      "get edges:  2.263361052999244\n",
      "set funvals:  3.6525376480021805\n",
      "load_mesh_new took 7.59726 seconds to execute!\n"
     ]
    }
   ],
   "source": [
    "from src.morse import Morse\n",
    "\n",
    "d=Morse()\n",
    "d.load_mesh_new(\"../../Data/artefact_31_test/curvature/31_r1.00_n4_v256.volume.ply\")"
   ]
  },
  {
   "cell_type": "code",
   "execution_count": 3,
   "metadata": {},
   "outputs": [
    {
     "name": "stdout",
     "output_type": "stream",
     "text": [
      "load_mesh_new took 0.00110 seconds to execute!\n",
      "Index  0\n",
      "Coord  -0.5 -0.5 -0.5\n",
      "funval  0.300000711920929\n",
      "average_gradient_star:  [-2.e-07 -1.e-07  1.e-07]\n",
      "[-2.e-07 -1.e-07  1.e-07]\n",
      "Index  1\n",
      "Coord  0.5 -0.5 -0.5\n",
      "funval  0.300000611920929\n",
      "average_gradient_star:  [ 0.e+00 -8.e-08  4.e-08]\n",
      "[ 0.e+00 -8.e-08  4.e-08]\n",
      "Index  2\n",
      "Coord  -0.5 0.5 -0.5\n",
      "funval  0.30000051192092897\n",
      "average_gradient_star:  [-8.e-08  0.e+00  2.e-08]\n",
      "[-8.e-08  0.e+00  2.e-08]\n",
      "Index  3\n",
      "Coord  0.5 0.5 -0.5\n",
      "funval  0.30000041192092897\n",
      "average_gradient_star:  [ 4.0000003e-08 -1.9999998e-08  0.0000000e+00]\n",
      "[ 4.0000003e-08 -1.9999998e-08  0.0000000e+00]\n",
      "Index  4\n",
      "Coord  -0.5 -0.5 0.5\n",
      "funval  0.30000031192092896\n",
      "average_gradient_star:  [-4.e-08  2.e-08  0.e+00]\n",
      "[-4.e-08  2.e-08  0.e+00]\n",
      "Index  5\n",
      "Coord  0.5 -0.5 0.5\n",
      "funval  0.30000021192092896\n",
      "average_gradient_star:  [ 8.0000007e-08  0.0000000e+00 -2.0000002e-08]\n",
      "[ 8.0000007e-08  0.0000000e+00 -2.0000002e-08]\n",
      "Index  6\n",
      "Coord  -0.5 0.5 0.5\n",
      "funval  0.30000011192092896\n",
      "average_gradient_star:  [ 0.0000000e+00  8.0000000e-08 -4.0000003e-08]\n",
      "[ 0.0000000e+00  8.0000000e-08 -4.0000003e-08]\n",
      "Index  7\n",
      "Coord  0.5 0.5 0.5\n",
      "funval  0.3\n",
      "average_gradient_star:  [ 2.e-07  1.e-07 -1.e-07]\n",
      "[ 2.e-07  1.e-07 -1.e-07]\n"
     ]
    }
   ],
   "source": [
    "from src.morse import Morse\n",
    "\n",
    "d=Morse()\n",
    "d.load_mesh_new(\"../../Data/test_objects/cube_8p_bin_equalQ.ply\")\n",
    "for v in d.Vertices.values():\n",
    "    print(\"Index \",v.index)\n",
    "    print(\"Coord \", v.x,v.y,v.z)\n",
    "    print(\"funval \", v.fun_val)\n",
    "    print(v.average_gradient_on_star(d.Vertices, d.Faces))"
   ]
  },
  {
   "cell_type": "code",
   "execution_count": 3,
   "metadata": {},
   "outputs": [],
   "source": [
    "a = [((3, [2, 1, 0]),), ((3, [1, 2, 3]),), ((3, [4, 2, 0]),), ((3, [2, 4, 6]),),\n",
    " ((3, [1, 4, 0]),), ((3, [4, 1, 5]),), ((3, [6, 5, 7]),), ((3, [5, 6, 4]),),\n",
    " ((3, [3, 6, 7]),), ((3, [6, 3, 2]),), ((3, [5, 3, 7]),), ((3, [3, 5, 1]),)]"
   ]
  },
  {
   "cell_type": "code",
   "execution_count": 15,
   "metadata": {},
   "outputs": [
    {
     "name": "stderr",
     "output_type": "stream",
     "text": [
      "/tmp/ipykernel_26291/2162324525.py:3: VisibleDeprecationWarning: Creating an ndarray from ragged nested sequences (which is a list-or-tuple of lists-or-tuples-or ndarrays with different lengths or shapes) is deprecated. If you meant to do this, you must specify 'dtype=object' when creating the ndarray.\n",
      "  print(list(x)[:][:,0])\n"
     ]
    },
    {
     "ename": "TypeError",
     "evalue": "list indices must be integers or slices, not tuple",
     "output_type": "error",
     "traceback": [
      "\u001b[0;31m---------------------------------------------------------------------------\u001b[0m",
      "\u001b[0;31mTypeError\u001b[0m                                 Traceback (most recent call last)",
      "\u001b[0;32m/tmp/ipykernel_26291/2162324525.py\u001b[0m in \u001b[0;36m<module>\u001b[0;34m\u001b[0m\n\u001b[1;32m      1\u001b[0m \u001b[0;32mimport\u001b[0m \u001b[0mnumpy\u001b[0m \u001b[0;32mas\u001b[0m \u001b[0mnp\u001b[0m\u001b[0;34m\u001b[0m\u001b[0;34m\u001b[0m\u001b[0m\n\u001b[1;32m      2\u001b[0m \u001b[0mx\u001b[0m \u001b[0;34m=\u001b[0m \u001b[0mmap\u001b[0m\u001b[0;34m(\u001b[0m\u001b[0mnp\u001b[0m\u001b[0;34m.\u001b[0m\u001b[0marray\u001b[0m\u001b[0;34m,\u001b[0m \u001b[0ma\u001b[0m\u001b[0;34m)\u001b[0m\u001b[0;34m\u001b[0m\u001b[0;34m\u001b[0m\u001b[0m\n\u001b[0;32m----> 3\u001b[0;31m \u001b[0mprint\u001b[0m\u001b[0;34m(\u001b[0m\u001b[0mlist\u001b[0m\u001b[0;34m(\u001b[0m\u001b[0mx\u001b[0m\u001b[0;34m)\u001b[0m\u001b[0;34m[\u001b[0m\u001b[0;34m:\u001b[0m\u001b[0;34m]\u001b[0m\u001b[0;34m[\u001b[0m\u001b[0;34m:\u001b[0m\u001b[0;34m,\u001b[0m\u001b[0;36m0\u001b[0m\u001b[0;34m]\u001b[0m\u001b[0;34m)\u001b[0m\u001b[0;34m\u001b[0m\u001b[0;34m\u001b[0m\u001b[0m\n\u001b[0m\u001b[1;32m      4\u001b[0m \u001b[0mprint\u001b[0m\u001b[0;34m(\u001b[0m\u001b[0mnp\u001b[0m\u001b[0;34m.\u001b[0m\u001b[0marray\u001b[0m\u001b[0;34m(\u001b[0m\u001b[0ma\u001b[0m\u001b[0;34m[\u001b[0m\u001b[0;34m:\u001b[0m\u001b[0;34m]\u001b[0m\u001b[0;34m)\u001b[0m\u001b[0;34m[\u001b[0m\u001b[0;36m0\u001b[0m\u001b[0;34m]\u001b[0m\u001b[0;34m)\u001b[0m\u001b[0;34m\u001b[0m\u001b[0;34m\u001b[0m\u001b[0m\n",
      "\u001b[0;31mTypeError\u001b[0m: list indices must be integers or slices, not tuple"
     ]
    }
   ],
   "source": [
    "import numpy as np\n",
    "x = map(np.array, a)\n",
    "print(np.array(a[:])[0])"
   ]
  },
  {
   "cell_type": "code",
   "execution_count": 12,
   "metadata": {},
   "outputs": [],
   "source": [
    "import numpy as np\n",
    "import itertools"
   ]
  },
  {
   "cell_type": "code",
   "execution_count": 50,
   "metadata": {},
   "outputs": [],
   "source": [
    "def faces_to_edges(faces, return_index=False):\n",
    "    \"\"\"\n",
    "    Given a list of faces (n,3), return a list of edges (n*3,2)\n",
    "    Parameters\n",
    "    -----------\n",
    "    faces : (n, 3) int\n",
    "      Vertex indices representing faces\n",
    "    Returns\n",
    "    -----------\n",
    "    edges : (n*3, 2) int\n",
    "      Vertex indices representing edges\n",
    "    \"\"\"\n",
    "    faces = np.asanyarray(faces)\n",
    "\n",
    "    # each face has three edges\n",
    "    edges = faces[:, [0, 1, 1, 2, 2, 0]].reshape((-1, 2))\n",
    "\n",
    "    if return_index:\n",
    "        # edges are in order of faces due to reshape\n",
    "        face_index = np.tile(np.arange(len(faces)),\n",
    "                             (3, 1)).T.reshape(-1)\n",
    "        return edges, face_index\n",
    "    return edges"
   ]
  },
  {
   "cell_type": "code",
   "execution_count": 54,
   "metadata": {},
   "outputs": [],
   "source": [
    "faces=[[2, 0,1], \n",
    "[1, 2, 3],\n",
    "[4, 2, 0],\n",
    "[2, 4, 6],\n",
    "[1, 4, 0],\n",
    "[4, 1, 5],\n",
    "[6, 5, 7],\n",
    "[5, 6, 4],\n",
    "[3, 6, 7],\n",
    "[6, 3, 2],\n",
    "[5, 3, 7],\n",
    "[3, 5, 1]]\n",
    "edges, f_ind = faces_to_edges(faces, return_index=True)"
   ]
  },
  {
   "cell_type": "code",
   "execution_count": 55,
   "metadata": {},
   "outputs": [
    {
     "name": "stdout",
     "output_type": "stream",
     "text": [
      "36\n"
     ]
    }
   ],
   "source": [
    "print(len(edges))"
   ]
  },
  {
   "cell_type": "code",
   "execution_count": 56,
   "metadata": {},
   "outputs": [
    {
     "name": "stdout",
     "output_type": "stream",
     "text": [
      "{(0, 1), (2, 4), (1, 2), (0, 4), (1, 5), (3, 7), (4, 6), (1, 4), (5, 7), (2, 3), (6, 7), (0, 2), (4, 5), (2, 6), (5, 6), (3, 6), (1, 3), (3, 5)}\n",
      "18\n"
     ]
    }
   ],
   "source": [
    "\n",
    "tupled_lst = map(set, edges)\n",
    "lst = map(tuple, tupled_lst)\n",
    "#print(len(set(lst)))\n",
    "s = set(lst)\n",
    "print(s)\n",
    "print(len(s))"
   ]
  },
  {
   "cell_type": "code",
   "execution_count": 11,
   "metadata": {},
   "outputs": [
    {
     "name": "stdout",
     "output_type": "stream",
     "text": [
      "[ 0  0  0  1  1  1  2  2  2  3  3  3  4  4  4  5  5  5  6  6  6  7  7  7\n",
      "  8  8  8  9  9  9 10 10 10 11 11 11]\n"
     ]
    }
   ],
   "source": [
    "print(f_ind)"
   ]
  },
  {
   "cell_type": "code",
   "execution_count": null,
   "metadata": {},
   "outputs": [],
   "source": []
  }
 ],
 "metadata": {
  "kernelspec": {
   "display_name": "Python 3",
   "language": "python",
   "name": "python3"
  },
  "language_info": {
   "codemirror_mode": {
    "name": "ipython",
    "version": 3
   },
   "file_extension": ".py",
   "mimetype": "text/x-python",
   "name": "python",
   "nbconvert_exporter": "python",
   "pygments_lexer": "ipython3",
   "version": "3.10.6"
  },
  "orig_nbformat": 4,
  "vscode": {
   "interpreter": {
    "hash": "916dbcbb3f70747c44a77c7bcd40155683ae19c65e1c03b4aa3499c5328201f1"
   }
  }
 },
 "nbformat": 4,
 "nbformat_minor": 2
}
