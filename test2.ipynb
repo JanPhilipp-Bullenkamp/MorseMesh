{
 "cells": [
  {
   "cell_type": "code",
   "execution_count": 1,
   "metadata": {},
   "outputs": [],
   "source": [
    "from src.Algorithms.load_data.Datastructure import Vertex, Simplex\n",
    "import numpy as np"
   ]
  },
  {
   "cell_type": "code",
   "execution_count": 14,
   "metadata": {},
   "outputs": [],
   "source": [
    "a1=Vertex(1,1,1,2,0.2,0)\n",
    "a2=Vertex(1,0,1,3,0.6,1)\n",
    "a3=Vertex(1,1,0,4,0.1,2)\n",
    "vert_dict = {0:a1, 1:a2, 2:a3}"
   ]
  },
  {
   "cell_type": "code",
   "execution_count": 15,
   "metadata": {},
   "outputs": [],
   "source": [
    "b = Simplex({2,0,1},0)"
   ]
  },
  {
   "cell_type": "code",
   "execution_count": 16,
   "metadata": {},
   "outputs": [
    {
     "data": {
      "text/plain": [
       "0.5"
      ]
     },
     "execution_count": 16,
     "metadata": {},
     "output_type": "execute_result"
    }
   ],
   "source": [
    "b.compute_area(vert_dict)"
   ]
  },
  {
   "cell_type": "code",
   "execution_count": 17,
   "metadata": {},
   "outputs": [
    {
     "name": "stdout",
     "output_type": "stream",
     "text": [
      "[-0.   0.1  0.4]\n"
     ]
    }
   ],
   "source": [
    "b.face_gradient(vert_dict)"
   ]
  },
  {
   "cell_type": "code",
   "execution_count": 38,
   "metadata": {},
   "outputs": [
    {
     "name": "stdout",
     "output_type": "stream",
     "text": [
      "[[ 1  1  1]\n",
      " [-2  1 -2]]\n",
      "[ 2 -3]\n"
     ]
    }
   ],
   "source": [
    "k=[[1,2,3],4]\n",
    "j=[[2,3,4],6]\n",
    "i=[[0,4,2],3]\n",
    "c = [k,j,i]\n",
    "print(np.diff([d[0] for d in c], axis=0))\n",
    "print(np.diff([d[1] for d in c], axis=0))"
   ]
  },
  {
   "cell_type": "code",
   "execution_count": 1,
   "metadata": {},
   "outputs": [],
   "source": [
    "filename = \"../../Data/artefact_31_test/31_r1.00_n4_v256.volume/31_r1.00_n4_v256.volume_0.13H_0.12L_0.3M.txt\""
   ]
  },
  {
   "cell_type": "code",
   "execution_count": 8,
   "metadata": {},
   "outputs": [
    {
     "name": "stdout",
     "output_type": "stream",
     "text": [
      "0.13\n",
      "0.12\n",
      "0.3\n"
     ]
    }
   ],
   "source": [
    "print(float(filename.split(\"/\")[-1].split(\"_\")[-3][:-1]))\n",
    "print(float(filename.split(\"/\")[-1].split(\"_\")[-2][:-1]))\n",
    "print(float(filename.split(\"/\")[-1].split(\"_\")[-1][:-5]))"
   ]
  },
  {
   "cell_type": "code",
   "execution_count": null,
   "metadata": {},
   "outputs": [],
   "source": []
  }
 ],
 "metadata": {
  "kernelspec": {
   "display_name": "Python 3",
   "language": "python",
   "name": "python3"
  },
  "language_info": {
   "codemirror_mode": {
    "name": "ipython",
    "version": 3
   },
   "file_extension": ".py",
   "mimetype": "text/x-python",
   "name": "python",
   "nbconvert_exporter": "python",
   "pygments_lexer": "ipython3",
   "version": "3.10.6"
  },
  "orig_nbformat": 4,
  "vscode": {
   "interpreter": {
    "hash": "916dbcbb3f70747c44a77c7bcd40155683ae19c65e1c03b4aa3499c5328201f1"
   }
  }
 },
 "nbformat": 4,
 "nbformat_minor": 2
}
