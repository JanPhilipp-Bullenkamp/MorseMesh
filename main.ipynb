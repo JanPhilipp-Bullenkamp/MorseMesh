{
 "cells": [
  {
   "cell_type": "markdown",
   "metadata": {},
   "source": [
    "# Master Thesis\n",
    "# Applications of Discrete Morse Theory\n",
    "### Jan Philipp Bullenkamp\n",
    "\n",
    "# 0. Requirements:\n",
    "We only used python standard libraries, except for the <b>load_data3D()</b> and the plotting functions for ply files where we used the plyfile Python module which can be found here: https://github.com/dranjan/python-plyfile"
   ]
  },
  {
   "cell_type": "code",
   "execution_count": 1,
   "metadata": {},
   "outputs": [],
   "source": [
    "#Load data functions\n",
    "from LoadData.load_image_data import load_data\n",
    "from LoadData.load_data3D import load_data3D\n",
    "# only for Betti number comparison:\n",
    "from LoadData.load_data_forBettiComparison import load_data_forBettiComparison\n",
    "\n",
    "#Morse algorithm\n",
    "from MorseAlgorithms.MorseComplex import MorseComplex\n",
    "#only for Betti number comparison:\n",
    "from MorseAlgorithms.BettiNumbers_efficient import BettiViaPairCells\n",
    "\n",
    "#Mesh size reduction\n",
    "from MeshSizeReduction.MorseCellEdgeCollapse import MorseCells\n",
    "\n",
    "#Plotting functions:\n",
    "#for images:\n",
    "from PlotData.plot_functions_images import (plot_criticals, \n",
    "                                            plot_criticals_with_Paths, \n",
    "                                            plot_criticals_with_gradient_vectors,\n",
    "                                            plot_criticals_with_gradient_vectors_MonoG)\n",
    "#for ply files\n",
    "from PlotData.plot_functions_write3Dfile import (write_crit_and_base_filesWITHPATH, \n",
    "                                                 write_crit_and_base_files,\n",
    "                                                 write_crit_and_base_filesWITHPATH_and_new)\n",
    "from PlotData.plot_reduced_complex import write_crit_and_base_filesWITHPATH_reducedComplex\n",
    "\n",
    "from PlotData.create_ply_polyline import write_ply_file, write_ply_files_pt_ed_tri, write_ply_file_simplified\n",
    "\n",
    "# for pline format\n",
    "from PlotData.write_pline_file import write_pline_file, write_pline_file_simplified\n"
   ]
  },
  {
   "cell_type": "code",
   "execution_count": 2,
   "metadata": {
    "scrolled": true
   },
   "outputs": [],
   "source": [
    "#path, position = \"Osiris_BronzeTest_S250_1330_090119_VeryDifficult_GMxCFO_grey_HM_FTVec_Max_Element.ply\", 7\n",
    "#path, position = \"simplicial_donut_3_deform.ply\", 2\n",
    "#path, position = \"Altarplatte_S250_Penno_GMOCF_r1.00_n4_v256.volume_fMax.ply\", 7\n",
    "#path, position = \"Isis_Bronze_S250_1330_160119_v_GMxCFO_r1.00_n4_v256_FMax.ply\", 3\n",
    "path, position = \"Data/HS_0109_HeiCuBeDa_GigaMesh.ply\", 3\n",
    "#path, position = \"Data/31_r1.00_n4_v256.volume.ply\", 3\n",
    "#path, position = \"Data/simplicial_donut_3_deform.ply\", 2\n",
    "\n",
    "# large:\n",
    "#path, position = \"Data/HS_0044_HeiCuBeDa_GigaMesh.ply\", 3\n",
    "#path, position = \"Data/HS_190_HeiCuBeDa_GigaMesh.ply\", 3\n",
    "\n",
    "#print('Start Betti calculation on whole complex:')\n",
    "#DATA, FACELIST = load_data_forBettiComparison(path,position)\n",
    "#betti_compare, partner_compare = BettiViaPairCells(DATA,FACELIST)\n",
    "#print(betti_compare)"
   ]
  },
  {
   "cell_type": "markdown",
   "metadata": {},
   "source": [
    "# 1. Load ply file:\n",
    "The <b>load_data3D()</b> function takes two arguments: a filename and an integer <br>\n",
    "<ul>\n",
    "    <li>filename: needs to be a ply file </li>\n",
    "    <li>integer: gives the position, where the Morse function should be taken from. Can be x,y or z value, or a quality, but needs to be in the ply file already </li>\n",
    "    <li>(optional) bool inverted: default is False, can be set to True, which will multiply the Morse function value with -1 </li>\n",
    "</ul>\n",
    "It returns the ply <b>rawdata</b> and a <b>data</b> dictionary containing the following: <br>\n",
    "<b> data </b>\n",
    "<ul>\n",
    "    <li><b>vertex</b>: dictionary of <b>index tuple</b> and <b>value tuple</b> </li>\n",
    "    <li><b>stars</b>: dictionary that contains the <b>star</b> for every <b>vertex</b> (all lines and triangles containing the vertex)</li>\n",
    "</ul>"
   ]
  },
  {
   "cell_type": "code",
   "execution_count": 3,
   "metadata": {},
   "outputs": [
    {
     "name": "stdout",
     "output_type": "stream",
     "text": [
      "Time read data file: 5.0058953\n",
      "Time load data total: 36.1997583\n"
     ]
    }
   ],
   "source": [
    "rawdata, data = load_data3D(path, position, inverted=False)"
   ]
  },
  {
   "cell_type": "markdown",
   "metadata": {},
   "source": [
    "# 2. Create Morse-Smale Complex\n",
    "The <b>MorseComplex</b> class takes the <b>data</b> dictionary and applies the following Morse Theory algorithms automatically: _ProcessLowerStars_ , _ExtractMorseComplex_ and _GetSeparatrices_ <br>\n",
    "(This works for either simplicial or cubical complexes; the load_data3D() gives a simplicial complex; cubical complexes can be taken from load_data() )<br>\n",
    "We then have the following functions, that can be called on the MorseComplex class:\n",
    "<ul>\n",
    "    <li><b>.info()</b>: prints out the number of vertices in the original data, the critical 0-,1- and 2-simplices, as well as the Euler characteristic calculated from the critical simplices </li>\n",
    "    <li><b>.calculateBettinumbers()</b>: calculates the Betti numbers from the reduced Morse-Smale complex using the <em>PairCells</em> algorithm and prints them out </li>\n",
    "    <li><b>.CancelCriticalPairs(threshold)</b>: performs cancellations of critical simplices up to the persistence level given by <b>threshold</b> and also readjusts all separatrices. Number of critical simplices after the cancellation can be printed out by .info()</li>\n",
    "    <li><b>.plot_persistence_diagram(save, filepath)</b>: plots a persistence diagram. If save=True, we need to give a filepath (.png) to obtain a saved image of the persistence diagram.   </li>\n",
    "</ul>"
   ]
  },
  {
   "cell_type": "code",
   "execution_count": 4,
   "metadata": {},
   "outputs": [
    {
     "name": "stdout",
     "output_type": "stream",
     "text": [
      "Time ProcessLowerStar: 16.610542199999998\n",
      "Time ExtractMorseComplex and Separatrices: 25.306583500000002\n",
      "Number of vertices in data: 559767\n",
      "Number of critical 0-simplices: 29135\n",
      "Number of critical 1-simplices: 57819\n",
      "Number of critical 2-simplices: 28686\n",
      "Euler number from critical simplices: 2\n"
     ]
    }
   ],
   "source": [
    "morsecomplex = MorseComplex(data, simplicial = True, cubical = False)\n",
    "morsecomplex.info()"
   ]
  },
  {
   "cell_type": "code",
   "execution_count": 5,
   "metadata": {},
   "outputs": [],
   "source": [
    "#write_ply_file(morsecomplex.C, morsecomplex.Paths, rawdata, \"Data/testfile\")"
   ]
  },
  {
   "cell_type": "code",
   "execution_count": 6,
   "metadata": {},
   "outputs": [],
   "source": [
    "#betti = morsecomplex.calculateBettinumbers()\n",
    "\n",
    "#morsecomplex.plot_persistence_diagram(save=True,filepath='Data/PersistenceDiagram_31.png')"
   ]
  },
  {
   "cell_type": "code",
   "execution_count": 7,
   "metadata": {},
   "outputs": [
    {
     "name": "stdout",
     "output_type": "stream",
     "text": [
      "Time cancel critical points: 3.9621992999999947\n",
      "Number of vertices in data: 559767\n",
      "Number of critical 0-simplices: 8153\n",
      "Number of critical 1-simplices: 16511\n",
      "Number of critical 2-simplices: 8360\n",
      "Euler number from critical simplices: 2\n"
     ]
    }
   ],
   "source": [
    "morsecomplex.CancelCriticalPairs(0.02)\n",
    "morsecomplex.info()"
   ]
  },
  {
   "cell_type": "code",
   "execution_count": 8,
   "metadata": {},
   "outputs": [],
   "source": [
    "#write_pline_file(morsecomplex.C, morsecomplex.Paths, rawdata, \"Data/109_005persistence_pline\")\n",
    "#write_pline_file_simplified(morsecomplex.C, morsecomplex.Paths, rawdata, \"Data/31_error\")"
   ]
  },
  {
   "cell_type": "code",
   "execution_count": 9,
   "metadata": {},
   "outputs": [],
   "source": [
    "#write_ply_files_pt_ed_tri(morsecomplex.C, morsecomplex.Paths, rawdata, \"Data/testlarge\")\n",
    "#write_ply_file(morsecomplex.C, morsecomplex.Paths, rawdata, \"Data/109_005persistence_lineplot\")\n",
    "#write_ply_file_simplified(morsecomplex.C, morsecomplex.Paths, rawdata, \"Data/190_006pers_simplified_plot_thresh_advanced\")"
   ]
  },
  {
   "cell_type": "markdown",
   "metadata": {},
   "source": [
    "# 3. Create Morse Cells and Reduce Mesh Size\n",
    "The <b>MorseCell</b> class takes the (already reduced) <b>morsecomplex</b> class, the <b>rawdata</b> and the two parameters: <b>collapse_iteration</b> and <b>cell_threshold</b> and applies the MeshSizeReduction algorithm with the given reduced MS complex and the parameters given<br>"
   ]
  },
  {
   "cell_type": "code",
   "execution_count": 10,
   "metadata": {
    "scrolled": true
   },
   "outputs": [],
   "source": [
    "coll_iteration = 8\n",
    "cell_threshold = 7\n",
    "\n",
    "#MorseCells = MorseCells(morsecomplex, rawdata, collapse_iterations=coll_iteration, threshold = cell_threshold)"
   ]
  },
  {
   "cell_type": "code",
   "execution_count": 11,
   "metadata": {},
   "outputs": [],
   "source": [
    "# 4. Create a ply file of the reduced complex\n",
    "target_base_file = 'filename_reduced.ply'\n",
    "\n",
    "#write_crit_and_base_filesWITHPATH_reducedComplex(morsecomplex.C, morsecomplex.Paths, MorseCells.data, rawdata, target_base_file)"
   ]
  }
 ],
 "metadata": {
  "kernelspec": {
   "display_name": "Python 3 (ipykernel)",
   "language": "python",
   "name": "python3"
  },
  "language_info": {
   "codemirror_mode": {
    "name": "ipython",
    "version": 3
   },
   "file_extension": ".py",
   "mimetype": "text/x-python",
   "name": "python",
   "nbconvert_exporter": "python",
   "pygments_lexer": "ipython3",
   "version": "3.9.7"
  }
 },
 "nbformat": 4,
 "nbformat_minor": 4
}
