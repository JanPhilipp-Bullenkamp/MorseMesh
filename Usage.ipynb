{
 "cells": [
  {
   "cell_type": "markdown",
   "metadata": {},
   "source": [
    "## Need to import the Morse class"
   ]
  },
  {
   "cell_type": "code",
   "execution_count": 1,
   "metadata": {},
   "outputs": [],
   "source": [
    "from src.morse import Morse"
   ]
  },
  {
   "cell_type": "markdown",
   "metadata": {},
   "source": [
    "## Initialize Morse class"
   ]
  },
  {
   "cell_type": "code",
   "execution_count": 2,
   "metadata": {},
   "outputs": [],
   "source": [
    "data = Morse()"
   ]
  },
  {
   "cell_type": "markdown",
   "metadata": {},
   "source": [
    "##  Load ply file into the Morse class\n",
    "Use the function: **.load_mesh_ply(filename, quality_index, inverted=False)**\n",
    "\n",
    "- **filename:** The path to the ply file you want to load\n",
    "- **quality_index:** The position index where the Morse function value are saved in the ply file (e.g. 3 if you want the quality value and the plyfile has the properties x,y,z,quality; or if you want to take the height function/z-value: choose 2)\n",
    "- **inverted:** Optional, default is false. Multiplies the Morse function with -1 -> min will become max and max will become min."
   ]
  },
  {
   "cell_type": "code",
   "execution_count": 3,
   "id": "d708ce2a",
   "metadata": {},
   "outputs": [
    {
     "name": "stdout",
     "output_type": "stream",
     "text": [
      "load_mesh_ply took 0.25343871116638184 seconds to execute!\n"
     ]
    }
   ],
   "source": [
    "file = \"Data/torus_distorted_painted.ply\"\n",
    "data.load_mesh_ply(file, quality_index=2)"
   ]
  },
  {
   "cell_type": "markdown",
   "id": "86e3c428",
   "metadata": {},
   "source": [
    "## Dataset info (Optional)\n",
    "Prints out info like Vertices, Edges and Faces, as well as the Morse function range"
   ]
  },
  {
   "cell_type": "markdown",
   "id": "c592beff",
   "metadata": {},
   "source": [
    "## Perform Morse Complex Calculations\n",
    "Use the functions **.ProcessLowerStars()** and **.ExtractMorseComplex()**\n",
    "- **ProcessLowerStars()** calculates the discrete vector field\n",
    "- **ExtractMorseComplex()** calculates the Morse complex, so finds the neighborhood relations between critical simplices by finding separatrices from maxima to saddles and from saddles to minima"
   ]
  },
  {
   "cell_type": "code",
   "execution_count": 4,
   "id": "c7847e87",
   "metadata": {},
   "outputs": [],
   "source": [
    "#data.info()"
   ]
  },
  {
   "cell_type": "code",
   "execution_count": 5,
   "id": "3437f90a",
   "metadata": {},
   "outputs": [
    {
     "name": "stdout",
     "output_type": "stream",
     "text": [
      "ProcessLowerStars took 0.10106372833251953 seconds to execute!\n",
      "Time read labels in txt file: 0.003411100013181567\n",
      "Time ProcessLowerStar: 0.127773399988655\n",
      "ExtractMorseComplex took 0.04698967933654785 seconds to execute!\n"
     ]
    }
   ],
   "source": [
    "data.ProcessLowerStars()\n",
    "\n",
    "data.load_labels(\"Data/torus_distorted.txt\")\n",
    "data.ConformingGradient()\n",
    "\n",
    "data.ExtractMorseComplex()"
   ]
  },
  {
   "cell_type": "markdown",
   "id": "25acbbdb",
   "metadata": {},
   "source": [
    "## Get Morse Complex info (Optional)\n",
    "Prints out infos on the original Morse complex like number of critical vertices, crit. edges and crit. faces. Persistence should be 0 on the original complex."
   ]
  },
  {
   "cell_type": "code",
   "execution_count": 6,
   "id": "c2d6192d",
   "metadata": {},
   "outputs": [],
   "source": [
    "#data.MorseComplex.info()"
   ]
  },
  {
   "cell_type": "code",
   "execution_count": 9,
   "id": "ddab56cf",
   "metadata": {},
   "outputs": [
    {
     "name": "stdout",
     "output_type": "stream",
     "text": [
      "MorseCells for the MorseComplex with this persistence have already been calculated!\n",
      "ExtractMorseCells took 0.0013196468353271484 seconds to execute!\n",
      "plot_MorseComplex_ply took 0.06545400619506836 seconds to execute!\n"
     ]
    }
   ],
   "source": [
    "labelfile_name = \"Data/torus_distorted_conforming_labels\" # the .txt extension is written automatically\n",
    "filename = \"Data/torus_distorted_conforming_complex\" # the .ply extension is written automatically\n",
    "\n",
    "data.ExtractMorseCells(0)\n",
    "\n",
    "data.plot_MorseComplex_ply(0, filename, path_color=[255,0,255], detailed=True, separate_points_file=True)\n",
    "\n",
    "#data.write_MorseCellLabels(0, labelfile_name)"
   ]
  },
  {
   "cell_type": "markdown",
   "id": "b9d6c096",
   "metadata": {},
   "source": [
    "## Reduce Morse complex (using Persistence)\n",
    "Use the function **.ReduceMorseComplex(persistence)**\n",
    "- **persistence:** The persistence level up to which the Morse complex should be simplified. (neighboring critical simplices will be cancelled, (if topologically possible,) if their Morse function value difference is less than the persistence.\n",
    "\n",
    "The reduced complex will be stored in a dictionary **data.reducedMorseComplexes[persistence]** which allows to calculate several persistences. Can be accessed using the persistence as key."
   ]
  },
  {
   "cell_type": "code",
   "execution_count": null,
   "id": "86fdabab",
   "metadata": {},
   "outputs": [
    {
     "name": "stdout",
     "output_type": "stream",
     "text": [
      "Time cancel critical points with  1  persistence:  0.0051386000122874975\n",
      "+-------------------------------------------------------\n",
      "| MorseComplex Info\n",
      "+-------------------------------------------------------\n",
      "| Filename:  Data/torus_distorted_painted\n",
      "| Persistence of this Complex:  1\n",
      "+-------------------------------------------------------\n",
      "| Number of Vertices:  1\n",
      "| Number of Edges:  2\n",
      "| Number of Faces:  1\n",
      "+-------------------------------------------------------\n",
      "| Euler characteristic:  0\n",
      "+-------------------------------------------------------\n"
     ]
    }
   ],
   "source": [
    "data.ReduceMorseComplex(1)\n",
    "data.reducedMorseComplexes[1].info()"
   ]
  },
  {
   "cell_type": "code",
   "execution_count": null,
   "id": "3dbad591",
   "metadata": {},
   "outputs": [
    {
     "name": "stdout",
     "output_type": "stream",
     "text": [
      "Time cancel critical points with  3  persistence:  0.0022738999978173524\n",
      "+-------------------------------------------------------\n",
      "| MorseComplex Info\n",
      "+-------------------------------------------------------\n",
      "| Filename:  Data/torus_distorted_painted\n",
      "| Persistence of this Complex:  3\n",
      "+-------------------------------------------------------\n",
      "| Number of Vertices:  1\n",
      "| Number of Edges:  2\n",
      "| Number of Faces:  1\n",
      "+-------------------------------------------------------\n",
      "| Euler characteristic:  0\n",
      "+-------------------------------------------------------\n"
     ]
    }
   ],
   "source": [
    "data.ReduceMorseComplex(3)\n",
    "data.reducedMorseComplexes[3].info()"
   ]
  },
  {
   "cell_type": "markdown",
   "id": "3eccb373",
   "metadata": {},
   "source": [
    "## Plot option for Gigamesh (there are several also for writing meshlab overlay files..)\n",
    "Uses a labels for each Morse cell to write a label file which can be read by Gigamesh for visualization.\n",
    "Need to Extract Morse cells first with **.ExtractMorseCells(persistence)** and than **.write_MorseCellLabels(persistence, filename)** to write the according label file. \n",
    "- **persistence:** The persistence of the Morse complex you want to visualize\n",
    "- **filename:** filename where the label file should be stored"
   ]
  },
  {
   "cell_type": "code",
   "execution_count": null,
   "id": "8cca9424",
   "metadata": {},
   "outputs": [
    {
     "name": "stdout",
     "output_type": "stream",
     "text": [
      "Time get MorseCells for  3 persistence:  0.015600599988829345\n",
      "Time writing label txt file: 0.004110100009711459\n"
     ]
    }
   ],
   "source": [
    "labelfile_name = \"Data/abc_labels\" # the .txt extension is written automatically\n",
    "\n",
    "data.ExtractMorseCells(3)\n",
    "data.write_MorseCellLabels(3, labelfile_name)"
   ]
  },
  {
   "cell_type": "markdown",
   "id": "0a9e39bb",
   "metadata": {},
   "source": [
    "## Visualize in Gigamesh:\n",
    "(Maybe the develop version of gigamesh is required, since import labels migth not be in the website version)\n",
    "1. Load the ply file into Gigamesh\n",
    "2. Choose Import labels under **File - Import - Import Labels** and load the written output label file\n",
    "3. Vertex in first column: YES \n",
    "4. Select **Labels-Connected Comp.** on the right to see the Morse cells of the Morse complex"
   ]
  },
  {
   "cell_type": "code",
   "execution_count": null,
   "id": "a2671fce",
   "metadata": {},
   "outputs": [],
   "source": []
  }
 ],
 "metadata": {
  "kernelspec": {
   "display_name": "Python 3.10.4 64-bit",
   "language": "python",
   "name": "python3"
  },
  "language_info": {
   "codemirror_mode": {
    "name": "ipython",
    "version": 3
   },
   "file_extension": ".py",
   "mimetype": "text/x-python",
   "name": "python",
   "nbconvert_exporter": "python",
   "pygments_lexer": "ipython3",
   "version": "3.10.4"
  },
  "vscode": {
   "interpreter": {
    "hash": "369f2c481f4da34e4445cda3fffd2e751bd1c4d706f27375911949ba6bb62e1c"
   }
  }
 },
 "nbformat": 4,
 "nbformat_minor": 5
}
