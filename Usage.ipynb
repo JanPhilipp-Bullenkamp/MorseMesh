{
 "cells": [
  {
   "cell_type": "markdown",
   "metadata": {},
   "source": [
    "## Need to import the Morse class"
   ]
  },
  {
   "cell_type": "markdown",
   "id": "1feca73f",
   "metadata": {},
   "source": [
    "## Initialize Morse class"
   ]
  },
  {
   "cell_type": "markdown",
   "id": "a527fe96",
   "metadata": {},
   "source": [
    "##  Load ply file into the Morse class\n",
    "Use the function: **.load_mesh_ply(filename, quality_index, inverted=False)**\n",
    "\n",
    "- **filename:** The path to the ply file you want to load\n",
    "- **quality_index:** The position index where the Morse function value are saved in the ply file (e.g. 3 if you want the quality value and the plyfile has the properties x,y,z,quality; or if you want to take the height function/z-value: choose 2)\n",
    "- **inverted:** Optional, default is false. Multiplies the Morse function with -1 -> min will become max and max will become min."
   ]
  },
  {
   "cell_type": "code",
   "execution_count": 9,
   "id": "9ad68f20",
   "metadata": {},
   "outputs": [
    {
     "name": "stdout",
     "output_type": "stream",
     "text": [
      "load_mesh_ply took 1.41041 seconds to execute!\n",
      "Time read labels in txt file: 0.010856000008061528\n",
      "Time ProcessLowerStar: 0.529811599990353\n",
      "Need to reduce Morse complex to this persistence first...\n",
      "Need to call ExtractMorseComplex first...\n",
      "ExtractMorseComplex took 0.51795 seconds to execute!\n",
      "This persistence has already been calculated!\n",
      "You can access it via .reducedMorseComplexes[persistence] \n",
      "ReduceMorseComplex took 0.51795 seconds to execute!\n",
      "BD points:  4574\n",
      "ExtractMorseCells took 0.64148 seconds to execute!\n",
      "454\n"
     ]
    }
   ],
   "source": [
    "from src.morse import Morse\n",
    "\n",
    "# Initialize test data\n",
    "data = Morse()\n",
    "\n",
    "data.load_mesh_ply(\"Data/vase_reduced_cleaned_painted.ply\", quality_index=2)\n",
    "\n",
    "data.load_labels(\"Data/vase_reduced_cleaned_painted_labels.txt\") \n",
    "data.ConformingGradient()\n",
    "\n",
    "p = True\n",
    "\n",
    "cells = data.ExtractMorseCells(0)\n",
    "print(len(cells.Cells))"
   ]
  },
  {
   "cell_type": "code",
   "execution_count": 6,
   "id": "d708ce2a",
   "metadata": {},
   "outputs": [
    {
     "name": "stdout",
     "output_type": "stream",
     "text": [
      "load_mesh_ply took 33.89852 seconds to execute!\n"
     ]
    }
   ],
   "source": [
    "from src.morse import Morse\n",
    "data = Morse()\n",
    "\n",
    "file = \"Data/700_colored_rough_area_r1.00_n4_v256.volume.ply\"\n",
    "data.load_mesh_ply(file, quality_index=7, inverted=True)"
   ]
  },
  {
   "cell_type": "markdown",
   "id": "86e3c428",
   "metadata": {},
   "source": [
    "## Dataset info (Optional)\n",
    "Prints out info like Vertices, Edges and Faces, as well as the Morse function range"
   ]
  },
  {
   "cell_type": "markdown",
   "id": "c592beff",
   "metadata": {},
   "source": [
    "## Perform Morse Complex Calculations\n",
    "Use the functions **.ProcessLowerStars()** and **.ExtractMorseComplex()**\n",
    "- **ProcessLowerStars()** calculates the discrete vector field\n",
    "- **ExtractMorseComplex()** calculates the Morse complex, so finds the neighborhood relations between critical simplices by finding separatrices from maxima to saddles and from saddles to minima"
   ]
  },
  {
   "cell_type": "code",
   "execution_count": 7,
   "id": "3437f90a",
   "metadata": {},
   "outputs": [
    {
     "name": "stdout",
     "output_type": "stream",
     "text": [
      "ProcessLowerStars took 10.70784 seconds to execute!\n",
      "ExtractMorseComplex took 9.13813 seconds to execute!\n"
     ]
    }
   ],
   "source": [
    "data.ProcessLowerStars()\n",
    "\n",
    "#data.load_labels(\"Data/700_colored_rough_area.txt\")\n",
    "#data.ConformingGradient()\n",
    "\n",
    "data.ExtractMorseComplex()"
   ]
  },
  {
   "cell_type": "markdown",
   "id": "25acbbdb",
   "metadata": {},
   "source": [
    "## Get Morse Complex info (Optional)\n",
    "Prints out infos on the original Morse complex like number of critical vertices, crit. edges and crit. faces. Persistence should be 0 on the original complex."
   ]
  },
  {
   "cell_type": "code",
   "execution_count": 8,
   "id": "ddab56cf",
   "metadata": {},
   "outputs": [
    {
     "name": "stdout",
     "output_type": "stream",
     "text": [
      "BD points:  164494\n",
      "ExtractMorseCells took 5.80059 seconds to execute!\n"
     ]
    },
    {
     "data": {
      "text/plain": [
       "<src.Algorithms.LoadData.Datastructure.MorseCells at 0x17d94500b00>"
      ]
     },
     "execution_count": 8,
     "metadata": {},
     "output_type": "execute_result"
    }
   ],
   "source": [
    "#labelfile_name = \"Data/torus_distorted_conforming_labels\" # the .txt extension is written automatically\n",
    "#filename = \"Data/700_colored_rough_area\" # the .ply extension is written automatically\n",
    "\n",
    "data.ExtractMorseCells(0)\n",
    "\n",
    "#data.plot_MorseComplex_ply(0, filename, path_color=[255,0,255], detailed=True, separate_points_file=True)\n",
    "\n",
    "#data.write_MorseCellLabels(0, labelfile_name)"
   ]
  },
  {
   "cell_type": "markdown",
   "id": "b9d6c096",
   "metadata": {},
   "source": [
    "## Reduce Morse complex (using Persistence)\n",
    "Use the function **.ReduceMorseComplex(persistence)**\n",
    "- **persistence:** The persistence level up to which the Morse complex should be simplified. (neighboring critical simplices will be cancelled, (if topologically possible,) if their Morse function value difference is less than the persistence.\n",
    "\n",
    "The reduced complex will be stored in a dictionary **data.reducedMorseComplexes[persistence]** which allows to calculate several persistences. Can be accessed using the persistence as key."
   ]
  },
  {
   "cell_type": "code",
   "execution_count": 9,
   "id": "86fdabab",
   "metadata": {},
   "outputs": [
    {
     "name": "stdout",
     "output_type": "stream",
     "text": [
      "ReduceMorseComplex took 25.33100 seconds to execute!\n",
      "+-------------------------------------------------------\n",
      "| MorseComplex Info\n",
      "+-------------------------------------------------------\n",
      "| Filename: Data/700_colored_rough_area_r1.00_n4_v256.volume\n",
      "| Persistence of this Complex: 0.04\n",
      "+-------------------------------------------------------\n",
      "| Number of Vertices: 255\n",
      "| Number of Edges: 828\n",
      "| Number of Faces: 575\n",
      "+-------------------------------------------------------\n",
      "| Euler characteristic: 2\n",
      "| Betti numbers: None\n",
      "+-------------------------------------------------------\n",
      "BD points:  34606\n",
      "ExtractMorseCells took 21.47784 seconds to execute!\n",
      "Need maximally reduced complex for salient edges...\n",
      "Persistence was high enough that this complex is maximally reduced.\n",
      "ReduceMorseComplex took 14.16837 seconds to execute!\n",
      "get_salient_edges took 0.11509 seconds to execute!\n",
      "Segmentation took 15.66687 seconds to execute!\n",
      "plot_Segmentation_label_txt took 0.54971 seconds to execute!\n"
     ]
    }
   ],
   "source": [
    "persistence = 0.04\n",
    "\n",
    "data.ReduceMorseComplex(persistence, conforming=False)\n",
    "print(data.reducedMorseComplexes[persistence])\n",
    "\n",
    "data.ExtractMorseCells(persistence)\n",
    "\n",
    "#data.plot_MorseComplex_ply(0.1, filename, path_color=[255,0,255], detailed=True, separate_points_file=True)\n",
    "\n",
    "data.Segmentation(persistence,0.07,0.04,0.4)\n",
    "data.plot_Segmentation_label_txt(persistence,0.07,0.04,0.4, \"Data/700_non_conforming\")"
   ]
  },
  {
   "cell_type": "code",
   "execution_count": 10,
   "id": "3dbad591",
   "metadata": {},
   "outputs": [
    {
     "ename": "AttributeError",
     "evalue": "'Morse' object has no attribute 'UserLabels'",
     "output_type": "error",
     "traceback": [
      "\u001b[1;31m---------------------------------------------------------------------------\u001b[0m",
      "\u001b[1;31mAttributeError\u001b[0m                            Traceback (most recent call last)",
      "Cell \u001b[1;32mIn [10], line 1\u001b[0m\n\u001b[1;32m----> 1\u001b[0m data\u001b[39m.\u001b[39mReduceMorseComplex(\u001b[39m5\u001b[39m, conforming\u001b[39m=\u001b[39m\u001b[39mTrue\u001b[39;00m)\n\u001b[0;32m      2\u001b[0m \u001b[39mprint\u001b[39m(data\u001b[39m.\u001b[39mreducedMorseComplexes[\u001b[39m5\u001b[39m])\n\u001b[0;32m      4\u001b[0m data\u001b[39m.\u001b[39mExtractMorseCells(\u001b[39m5\u001b[39m)\n",
      "File \u001b[1;32mc:\\Users\\Theresa\\Documents\\00_Studium\\01_BA_Info\\Code\\MorseTheory\\src\\timer.py:7\u001b[0m, in \u001b[0;36mtimed.<locals>.wrapper\u001b[1;34m(*args, **kwargs)\u001b[0m\n\u001b[0;32m      5\u001b[0m \u001b[39mdef\u001b[39;00m \u001b[39mwrapper\u001b[39m(\u001b[39m*\u001b[39margs, \u001b[39m*\u001b[39m\u001b[39m*\u001b[39mkwargs):\n\u001b[0;32m      6\u001b[0m     before \u001b[39m=\u001b[39m time\u001b[39m.\u001b[39mtime()\n\u001b[1;32m----> 7\u001b[0m     return_value \u001b[39m=\u001b[39m function(\u001b[39m*\u001b[39margs, \u001b[39m*\u001b[39m\u001b[39m*\u001b[39mkwargs)\n\u001b[0;32m      8\u001b[0m     after \u001b[39m=\u001b[39m time\u001b[39m.\u001b[39mtime()\n\u001b[0;32m      9\u001b[0m     fname \u001b[39m=\u001b[39m function\u001b[39m.\u001b[39m\u001b[39m__name__\u001b[39m\n",
      "File \u001b[1;32mc:\\Users\\Theresa\\Documents\\00_Studium\\01_BA_Info\\Code\\MorseTheory\\src\\morse.py:165\u001b[0m, in \u001b[0;36mMorse.ReduceMorseComplex\u001b[1;34m(self, persistence, conforming)\u001b[0m\n\u001b[0;32m    162\u001b[0m \u001b[39melse\u001b[39;00m:\n\u001b[0;32m    163\u001b[0m     \u001b[39mif\u001b[39;00m conforming:\n\u001b[0;32m    164\u001b[0m         \u001b[39mself\u001b[39m\u001b[39m.\u001b[39mreducedMorseComplexes[persistence] \u001b[39m=\u001b[39m CancelCriticalConformingPairs(\u001b[39mself\u001b[39m\u001b[39m.\u001b[39mMorseComplex, persistence, \n\u001b[1;32m--> 165\u001b[0m                                                                       \u001b[39mself\u001b[39m\u001b[39m.\u001b[39mVertices, \u001b[39mself\u001b[39m\u001b[39m.\u001b[39mEdges, \u001b[39mself\u001b[39m\u001b[39m.\u001b[39mFaces, \u001b[39mself\u001b[39;49m\u001b[39m.\u001b[39;49mUserLabels)\n\u001b[0;32m    166\u001b[0m     \u001b[39melse\u001b[39;00m:\n\u001b[0;32m    167\u001b[0m         \u001b[39mself\u001b[39m\u001b[39m.\u001b[39mreducedMorseComplexes[persistence] \u001b[39m=\u001b[39m CancelCriticalPairs(\u001b[39mself\u001b[39m\u001b[39m.\u001b[39mMorseComplex, persistence, \n\u001b[0;32m    168\u001b[0m                                                                       \u001b[39mself\u001b[39m\u001b[39m.\u001b[39mVertices, \u001b[39mself\u001b[39m\u001b[39m.\u001b[39mEdges, \u001b[39mself\u001b[39m\u001b[39m.\u001b[39mFaces)\n",
      "\u001b[1;31mAttributeError\u001b[0m: 'Morse' object has no attribute 'UserLabels'"
     ]
    }
   ],
   "source": [
    "data.ReduceMorseComplex(5, conforming=True)\n",
    "print(data.reducedMorseComplexes[5])\n",
    "\n",
    "data.ExtractMorseCells(5)\n",
    "\n",
    "data.plot_MorseComplex_ply(5, filename, path_color=[255,0,255], detailed=True, separate_points_file=True)"
   ]
  },
  {
   "cell_type": "markdown",
   "id": "3eccb373",
   "metadata": {},
   "source": [
    "## Plot option for Gigamesh (there are several also for writing meshlab overlay files..)\n",
    "Uses a labels for each Morse cell to write a label file which can be read by Gigamesh for visualization.\n",
    "Need to Extract Morse cells first with **.ExtractMorseCells(persistence)** and than **.write_MorseCellLabels(persistence, filename)** to write the according label file. \n",
    "- **persistence:** The persistence of the Morse complex you want to visualize\n",
    "- **filename:** filename where the label file should be stored"
   ]
  },
  {
   "cell_type": "code",
   "execution_count": null,
   "id": "8cca9424",
   "metadata": {},
   "outputs": [],
   "source": [
    "# labelfile_name = \"Data/abc_labels\" # the .txt extension is written automatically\n",
    "\n",
    "# data.ExtractMorseCells(3)\n",
    "# data.write_MorseCellLabels(3, labelfile_name)"
   ]
  },
  {
   "cell_type": "markdown",
   "id": "0a9e39bb",
   "metadata": {},
   "source": [
    "## Visualize in Gigamesh:\n",
    "(Maybe the develop version of gigamesh is required, since import labels migth not be in the website version)\n",
    "1. Load the ply file into Gigamesh\n",
    "2. Choose Import labels under **File - Import - Import Labels** and load the written output label file\n",
    "3. Vertex in first column: YES \n",
    "4. Select **Labels-Connected Comp.** on the right to see the Morse cells of the Morse complex"
   ]
  },
  {
   "cell_type": "code",
   "execution_count": null,
   "id": "a2671fce",
   "metadata": {},
   "outputs": [],
   "source": []
  }
 ],
 "metadata": {
  "kernelspec": {
   "display_name": "Python 3.10.4 64-bit",
   "language": "python",
   "name": "python3"
  },
  "language_info": {
   "codemirror_mode": {
    "name": "ipython",
    "version": 3
   },
   "file_extension": ".py",
   "mimetype": "text/x-python",
   "name": "python",
   "nbconvert_exporter": "python",
   "pygments_lexer": "ipython3",
   "version": "3.10.4"
  },
  "vscode": {
   "interpreter": {
    "hash": "369f2c481f4da34e4445cda3fffd2e751bd1c4d706f27375911949ba6bb62e1c"
   }
  }
 },
 "nbformat": 4,
 "nbformat_minor": 5
}
