{
 "cells": [
  {
   "cell_type": "markdown",
   "metadata": {},
   "source": [
    "## Need to import the Morse class"
   ]
  },
  {
   "cell_type": "code",
   "execution_count": 21,
   "id": "6138dfe5",
   "metadata": {},
   "outputs": [],
   "source": [
    "from src.morse import Morse"
   ]
  },
  {
   "cell_type": "markdown",
   "id": "1feca73f",
   "metadata": {},
   "source": [
    "## Initialize Morse class"
   ]
  },
  {
   "cell_type": "code",
   "execution_count": 22,
   "id": "8046332d",
   "metadata": {},
   "outputs": [],
   "source": [
    "data = Morse()"
   ]
  },
  {
   "cell_type": "markdown",
   "id": "a527fe96",
   "metadata": {},
   "source": [
    "##  Load ply file into the Morse class\n",
    "Use the function: **.load_mesh_ply(filename, quality_index, inverted=False)**\n",
    "\n",
    "- **filename:** The path to the ply file you want to load\n",
    "- **quality_index:** The position index where the Morse function value are saved in the ply file (e.g. 3 if you want the quality value and the plyfile has the properties x,y,z,quality; or if you want to take the height function/z-value: choose 2)\n",
    "- **inverted:** Optional, default is false. Multiplies the Morse function with -1 -> min will become max and max will become min."
   ]
  },
  {
   "cell_type": "code",
   "execution_count": 23,
   "id": "d708ce2a",
   "metadata": {},
   "outputs": [
    {
     "name": "stdout",
     "output_type": "stream",
     "text": [
      "load_mesh_ply took 1.83363 seconds to execute!\n"
     ]
    }
   ],
   "source": [
    "file = \"Data/vase_reduced_cleaned_painted.ply\"\n",
    "data.load_mesh_ply(file, quality_index=2)"
   ]
  },
  {
   "cell_type": "markdown",
   "id": "86e3c428",
   "metadata": {},
   "source": [
    "## Dataset info (Optional)\n",
    "Prints out info like Vertices, Edges and Faces, as well as the Morse function range"
   ]
  },
  {
   "cell_type": "markdown",
   "id": "c592beff",
   "metadata": {},
   "source": [
    "## Perform Morse Complex Calculations\n",
    "Use the functions **.ProcessLowerStars()** and **.ExtractMorseComplex()**\n",
    "- **ProcessLowerStars()** calculates the discrete vector field\n",
    "- **ExtractMorseComplex()** calculates the Morse complex, so finds the neighborhood relations between critical simplices by finding separatrices from maxima to saddles and from saddles to minima"
   ]
  },
  {
   "cell_type": "code",
   "execution_count": 24,
   "id": "c7847e87",
   "metadata": {},
   "outputs": [],
   "source": [
    "#data.info()"
   ]
  },
  {
   "cell_type": "code",
   "execution_count": 25,
   "id": "3437f90a",
   "metadata": {},
   "outputs": [
    {
     "name": "stdout",
     "output_type": "stream",
     "text": [
      "ProcessLowerStars took 0.46282 seconds to execute!\n",
      "ExtractMorseComplex took 0.69420 seconds to execute!\n"
     ]
    }
   ],
   "source": [
    "#data.ProcessLowerStars()\n",
    "\n",
    "data.load_labels(\"Data/vase_reduced_cleaned_painted_labels.txt\")\n",
    "data.ConformingGradient()\n",
    "\n",
    "data.ExtractMorseComplex()"
   ]
  },
  {
   "cell_type": "markdown",
   "id": "25acbbdb",
   "metadata": {},
   "source": [
    "## Get Morse Complex info (Optional)\n",
    "Prints out infos on the original Morse complex like number of critical vertices, crit. edges and crit. faces. Persistence should be 0 on the original complex."
   ]
  },
  {
   "cell_type": "code",
   "execution_count": 26,
   "id": "c2d6192d",
   "metadata": {},
   "outputs": [],
   "source": [
    "#data.MorseComplex.info()"
   ]
  },
  {
   "cell_type": "code",
   "execution_count": 27,
   "id": "ddab56cf",
   "metadata": {},
   "outputs": [
    {
     "name": "stdout",
     "output_type": "stream",
     "text": [
      "BD points:  4179\n",
      "ExtractMorseCells took 0.15515 seconds to execute!\n",
      "plot_MorseComplex_ply took 0.50424 seconds to execute!\n"
     ]
    }
   ],
   "source": [
    "#labelfile_name = \"Data/torus_distorted_conforming_labels\" # the .txt extension is written automatically\n",
    "filename = \"Data/vase_conforming_complex\" # the .ply extension is written automatically\n",
    "\n",
    "data.ExtractMorseCells(0)\n",
    "\n",
    "data.plot_MorseComplex_ply(0, filename, path_color=[255,0,255], detailed=True, separate_points_file=True)\n",
    "\n",
    "#data.write_MorseCellLabels(0, labelfile_name)"
   ]
  },
  {
   "cell_type": "markdown",
   "id": "b9d6c096",
   "metadata": {},
   "source": [
    "## Reduce Morse complex (using Persistence)\n",
    "Use the function **.ReduceMorseComplex(persistence)**\n",
    "- **persistence:** The persistence level up to which the Morse complex should be simplified. (neighboring critical simplices will be cancelled, (if topologically possible,) if their Morse function value difference is less than the persistence.\n",
    "\n",
    "The reduced complex will be stored in a dictionary **data.reducedMorseComplexes[persistence]** which allows to calculate several persistences. Can be accessed using the persistence as key."
   ]
  },
  {
   "cell_type": "code",
   "execution_count": 28,
   "id": "86fdabab",
   "metadata": {},
   "outputs": [
    {
     "name": "stdout",
     "output_type": "stream",
     "text": [
      "ReduceMorseComplex took 0.10376 seconds to execute!\n",
      "+-------------------------------------------------------\n",
      "| MorseComplex Info\n",
      "+-------------------------------------------------------\n",
      "| Filename: Data/vase_reduced_cleaned_painted\n",
      "| Persistence of this Complex: 1\n",
      "+-------------------------------------------------------\n",
      "| Number of Vertices: 2\n",
      "| Number of Edges: 5\n",
      "| Number of Faces: 1\n",
      "+-------------------------------------------------------\n",
      "| Euler characteristic: -2\n",
      "| Betti numbers: None\n",
      "+-------------------------------------------------------\n",
      "BD points:  880\n",
      "ExtractMorseCells took 0.07082 seconds to execute!\n",
      "plot_MorseComplex_ply took 0.10023 seconds to execute!\n"
     ]
    }
   ],
   "source": [
    "data.ReduceMorseComplex(1, conforming=True)\n",
    "print(data.reducedMorseComplexes[1])\n",
    "\n",
    "data.ExtractMorseCells(1)\n",
    "\n",
    "data.plot_MorseComplex_ply(1, filename, path_color=[255,0,255], detailed=True, separate_points_file=True)"
   ]
  },
  {
   "cell_type": "code",
   "execution_count": 29,
   "id": "3dbad591",
   "metadata": {},
   "outputs": [
    {
     "name": "stdout",
     "output_type": "stream",
     "text": [
      "ReduceMorseComplex took 0.10930 seconds to execute!\n",
      "+-------------------------------------------------------\n",
      "| MorseComplex Info\n",
      "+-------------------------------------------------------\n",
      "| Filename: Data/vase_reduced_cleaned_painted\n",
      "| Persistence of this Complex: 5\n",
      "+-------------------------------------------------------\n",
      "| Number of Vertices: 2\n",
      "| Number of Edges: 5\n",
      "| Number of Faces: 1\n",
      "+-------------------------------------------------------\n",
      "| Euler characteristic: -2\n",
      "| Betti numbers: None\n",
      "+-------------------------------------------------------\n",
      "BD points:  880\n",
      "ExtractMorseCells took 0.06864 seconds to execute!\n",
      "plot_MorseComplex_ply took 0.10123 seconds to execute!\n"
     ]
    }
   ],
   "source": [
    "data.ReduceMorseComplex(5, conforming=True)\n",
    "print(data.reducedMorseComplexes[5])\n",
    "\n",
    "data.ExtractMorseCells(5)\n",
    "\n",
    "data.plot_MorseComplex_ply(5, filename, path_color=[255,0,255], detailed=True, separate_points_file=True)"
   ]
  },
  {
   "cell_type": "markdown",
   "id": "3eccb373",
   "metadata": {},
   "source": [
    "## Plot option for Gigamesh (there are several also for writing meshlab overlay files..)\n",
    "Uses a labels for each Morse cell to write a label file which can be read by Gigamesh for visualization.\n",
    "Need to Extract Morse cells first with **.ExtractMorseCells(persistence)** and than **.write_MorseCellLabels(persistence, filename)** to write the according label file. \n",
    "- **persistence:** The persistence of the Morse complex you want to visualize\n",
    "- **filename:** filename where the label file should be stored"
   ]
  },
  {
   "cell_type": "code",
   "execution_count": 30,
   "id": "8cca9424",
   "metadata": {},
   "outputs": [
    {
     "name": "stdout",
     "output_type": "stream",
     "text": [
      "Need to reduce Morse complex to this persistence first...\n",
      "ReduceMorseComplex took 0.09316 seconds to execute!\n",
      "BD points:  880\n",
      "ExtractMorseCells took 0.16207 seconds to execute!\n"
     ]
    },
    {
     "ename": "AttributeError",
     "evalue": "'Morse' object has no attribute 'write_MorseCellLabels'",
     "output_type": "error",
     "traceback": [
      "\u001b[1;31m---------------------------------------------------------------------------\u001b[0m",
      "\u001b[1;31mAttributeError\u001b[0m                            Traceback (most recent call last)",
      "Cell \u001b[1;32mIn [30], line 4\u001b[0m\n\u001b[0;32m      1\u001b[0m labelfile_name \u001b[39m=\u001b[39m \u001b[39m\"\u001b[39m\u001b[39mData/abc_labels\u001b[39m\u001b[39m\"\u001b[39m \u001b[39m# the .txt extension is written automatically\u001b[39;00m\n\u001b[0;32m      3\u001b[0m data\u001b[39m.\u001b[39mExtractMorseCells(\u001b[39m3\u001b[39m)\n\u001b[1;32m----> 4\u001b[0m data\u001b[39m.\u001b[39mwrite_MorseCellLabels(\u001b[39m3\u001b[39m, labelfile_name)\n",
      "\u001b[1;31mAttributeError\u001b[0m: 'Morse' object has no attribute 'write_MorseCellLabels'"
     ]
    }
   ],
   "source": [
    "labelfile_name = \"Data/abc_labels\" # the .txt extension is written automatically\n",
    "\n",
    "data.ExtractMorseCells(3)\n",
    "data.write_MorseCellLabels(3, labelfile_name)"
   ]
  },
  {
   "cell_type": "markdown",
   "id": "0a9e39bb",
   "metadata": {},
   "source": [
    "## Visualize in Gigamesh:\n",
    "(Maybe the develop version of gigamesh is required, since import labels migth not be in the website version)\n",
    "1. Load the ply file into Gigamesh\n",
    "2. Choose Import labels under **File - Import - Import Labels** and load the written output label file\n",
    "3. Vertex in first column: YES \n",
    "4. Select **Labels-Connected Comp.** on the right to see the Morse cells of the Morse complex"
   ]
  },
  {
   "cell_type": "code",
   "execution_count": null,
   "id": "a2671fce",
   "metadata": {},
   "outputs": [],
   "source": []
  }
 ],
 "metadata": {
  "kernelspec": {
   "display_name": "Python 3.10.4 64-bit",
   "language": "python",
   "name": "python3"
  },
  "language_info": {
   "codemirror_mode": {
    "name": "ipython",
    "version": 3
   },
   "file_extension": ".py",
   "mimetype": "text/x-python",
   "name": "python",
   "nbconvert_exporter": "python",
   "pygments_lexer": "ipython3",
   "version": "3.10.4"
  },
  "vscode": {
   "interpreter": {
    "hash": "369f2c481f4da34e4445cda3fffd2e751bd1c4d706f27375911949ba6bb62e1c"
   }
  }
 },
 "nbformat": 4,
 "nbformat_minor": 5
}
