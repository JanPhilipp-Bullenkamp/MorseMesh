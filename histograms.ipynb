{
 "cells": [
  {
   "cell_type": "code",
   "execution_count": 1,
   "id": "79164763",
   "metadata": {},
   "outputs": [],
   "source": [
    "from src.morse import Morse\n",
    "\n",
    "import os"
   ]
  },
  {
   "cell_type": "code",
   "execution_count": 2,
   "id": "96a36a0e",
   "metadata": {},
   "outputs": [],
   "source": [
    "folder = \"Data/Serie/\"\n",
    "# index of relevant function value should be equal in all files\n",
    "quality_index = 3"
   ]
  },
  {
   "cell_type": "code",
   "execution_count": 3,
   "id": "2d6bb57c",
   "metadata": {},
   "outputs": [
    {
     "name": "stdout",
     "output_type": "stream",
     "text": [
      "--------------------------------------------------------------------\n",
      "File:  Data/Serie/curvature/1467_r1.00_n4_v256.volume.ply\n",
      "Time read data file: 4.320539200000001\n",
      "Time read and prepare data: 10.6738511\n",
      "Mean:  -0.002959168816714935\n",
      "Std:  6.3456715203125735e-12\n",
      "--------------------------------------------------------------------\n",
      "File:  Data/Serie/curvature/1645_r1.00_n4_v256.volume.ply\n",
      "Time read data file: 1.7734211999999996\n",
      "Time read and prepare data: 4.2027506\n",
      "Mean:  0.005080772331731074\n",
      "Std:  2.9856706154776505e-13\n",
      "--------------------------------------------------------------------\n",
      "File:  Data/Serie/curvature/1649_r1.00_n4_v256.volume.ply\n",
      "Time read data file: 1.6743476000000008\n",
      "Time read and prepare data: 3.9616595999999973\n",
      "Mean:  0.0062383355175308864\n",
      "Std:  1.5418871065212129e-13\n",
      "--------------------------------------------------------------------\n",
      "File:  Data/Serie/curvature/31_r1.00_n4_v256.volume.ply\n",
      "Time read data file: 4.143043300000002\n",
      "Time read and prepare data: 10.350127899999997\n",
      "Mean:  -0.011234303624744106\n",
      "Std:  4.721350343399873e-13\n",
      "--------------------------------------------------------------------\n",
      "File:  Data/Serie/curvature/4124_r1.00_n4_v256.volume.ply\n",
      "Time read data file: 5.6900375000000025\n",
      "Time read and prepare data: 14.5150371\n",
      "Mean:  -0.007862423328765284\n",
      "Std:  2.0393249542513403e-12\n",
      "--------------------------------------------------------------------\n",
      "File:  Data/Serie/curvature/4501_r1.00_n4_v256.volume.ply\n",
      "Time read data file: 5.6457935999999975\n",
      "Time read and prepare data: 13.9214537\n",
      "Mean:  -0.009655500453929728\n",
      "Std:  5.843980613938492e-13\n",
      "--------------------------------------------------------------------\n",
      "File:  Data/Serie/curvature/4636_r1.00_n4_v256.volume.ply\n",
      "Time read data file: 5.683927099999991\n",
      "Time read and prepare data: 14.696796600000013\n",
      "Mean:  -0.017085560409103973\n",
      "Std:  3.784549778172512e-13\n",
      "--------------------------------------------------------------------\n",
      "File:  Data/Serie/curvature/5169_r1.00_n4_v256.volume.ply\n",
      "Time read data file: 5.667326200000005\n",
      "Time read and prepare data: 14.283028399999992\n",
      "Mean:  -0.0009093451905298973\n",
      "Std:  1.025878262775374e-12\n",
      "--------------------------------------------------------------------\n",
      "File:  Data/Serie/curvature/5194_r1.00_n4_v256.volume.ply\n",
      "Time read data file: 5.675032599999994\n",
      "Time read and prepare data: 14.335653499999992\n",
      "Mean:  -0.011437043819925448\n",
      "Std:  3.3004805055636927e-12\n",
      "--------------------------------------------------------------------\n",
      "File:  Data/Serie/curvature/5219_r1.00_n4_v256.volume.ply\n",
      "Time read data file: 5.668988100000007\n",
      "Time read and prepare data: 14.746302400000005\n",
      "Mean:  -0.005429925227095045\n",
      "Std:  3.272525550860082e-13\n",
      "--------------------------------------------------------------------\n",
      "File:  Data/Serie/curvature/5244_r1.00_n4_v256.volume.ply\n",
      "Time read data file: 5.679464599999989\n",
      "Time read and prepare data: 14.589127700000006\n",
      "Mean:  -0.018515928812287828\n",
      "Std:  1.013355853324991e-12\n",
      "--------------------------------------------------------------------\n",
      "File:  Data/Serie/curvature/6626_r1.00_n4_v256.volume.ply\n",
      "Time read data file: 8.731482299999982\n",
      "Time read and prepare data: 22.5316665\n",
      "Mean:  -0.008855154281984138\n",
      "Std:  3.839075722739634e-12\n",
      "--------------------------------------------------------------------\n",
      "File:  Data/Serie/curvature/691_r1.00_n4_v256.volume.ply\n",
      "Time read data file: 1.0355458999999883\n",
      "Time read and prepare data: 2.000668399999995\n",
      "Mean:  0.0032723860312172427\n",
      "Std:  3.496093926540826e-13\n",
      "--------------------------------------------------------------------\n",
      "File:  Data/Serie/curvature/700_r1.00_n4_v256.volume.ply\n",
      "Time read data file: 5.654984200000001\n",
      "Time read and prepare data: 14.196571300000016\n",
      "Mean:  4.059421719639816e-05\n",
      "Std:  8.630368149752537e-14\n",
      "--------------------------------------------------------------------\n",
      "File:  Data/Serie/curvature/709_r1.00_n4_v256.volume.ply\n",
      "Time read data file: 1.3822844000000032\n",
      "Time read and prepare data: 3.257867800000014\n",
      "Mean:  0.002816363319738731\n",
      "Std:  1.544984607692546e-13\n",
      "--------------------------------------------------------------------\n",
      "File:  Data/Serie/curvature/710_r1.00_n4_v256.volume.ply\n",
      "Time read data file: 1.5698646999999823\n",
      "Time read and prepare data: 4.253038400000008\n",
      "Mean:  0.0051046493678862034\n",
      "Std:  1.1703394655420838e-13\n",
      "--------------------------------------------------------------------\n",
      "File:  Data/Serie/curvature/728_r1.00_n4_v256.volume.ply\n",
      "Time read data file: 5.677477799999991\n",
      "Time read and prepare data: 14.602862600000009\n",
      "Mean:  -0.003916532815454197\n",
      "Std:  2.0075461313859852e-13\n",
      "--------------------------------------------------------------------\n",
      "File:  Data/Serie/curvature/729_r1.00_n4_v256.volume.ply\n",
      "Time read data file: 5.893033300000013\n",
      "Time read and prepare data: 16.188030400000002\n",
      "Mean:  -0.004802376719151335\n",
      "Std:  3.0343312426693323e-12\n",
      "--------------------------------------------------------------------\n",
      "File:  Data/Serie/curvature/737_r1.00_n4_v256.volume.ply\n",
      "Time read data file: 5.5065089\n",
      "Time read and prepare data: 15.209671499999985\n",
      "Mean:  -0.006964230421499821\n",
      "Std:  2.994589487883329e-13\n",
      "--------------------------------------------------------------------\n",
      "File:  Data/Serie/curvature/742_r1.00_n4_v256.volume.ply\n",
      "Time read data file: 1.0634873000000198\n",
      "Time read and prepare data: 2.2693840000000023\n",
      "Mean:  0.008702116054558718\n",
      "Std:  1.2279589766578756e-13\n",
      "--------------------------------------------------------------------\n",
      "File:  Data/Serie/curvature/752_r1.00_n4_v256.volume.ply\n",
      "Time read data file: 1.7508358000000044\n",
      "Time read and prepare data: 4.802047900000019\n",
      "Mean:  0.004062474671286028\n",
      "Std:  1.0861800410785529e-13\n",
      "--------------------------------------------------------------------\n",
      "File:  Data/Serie/curvature/757_r1.00_n4_v256.volume.ply\n",
      "Time read data file: 5.735071399999981\n",
      "Time read and prepare data: 15.950237500000014\n",
      "Mean:  -0.008877955782579905\n",
      "Std:  4.809098292525124e-13\n",
      "--------------------------------------------------------------------\n",
      "File:  Data/Serie/curvature/764_r1.00_n4_v256.volume.ply\n",
      "Time read data file: 4.982784700000025\n",
      "Time read and prepare data: 13.09981620000002\n",
      "Mean:  -0.006242495607275965\n",
      "Std:  4.997136783281746e-13\n",
      "--------------------------------------------------------------------\n",
      "File:  Data/Serie/curvature/798_r1.00_n4_v256.volume.ply\n",
      "Time read data file: 5.792308800000001\n",
      "Time read and prepare data: 15.625739399999986\n",
      "Mean:  -0.014608452923141663\n",
      "Std:  1.3946030808510386e-14\n",
      "--------------------------------------------------------------------\n",
      "File:  Data/Serie/curvature/800_r1.00_n4_v256.volume.ply\n",
      "Time read data file: 5.7596357999999555\n",
      "Time read and prepare data: 15.502319700000044\n",
      "Mean:  -0.009194698175308392\n",
      "Std:  1.2664076635225383e-12\n",
      "--------------------------------------------------------------------\n",
      "File:  Data/Serie/curvature/801_r1.00_n4_v256.volume.ply\n",
      "Time read data file: 5.101564899999971\n",
      "Time read and prepare data: 13.976403400000038\n",
      "Mean:  -0.006242866756994079\n",
      "Std:  4.4136933084047954e-13\n",
      "--------------------------------------------------------------------\n",
      "File:  Data/Serie/curvature/842_r1.00_n4_v256.volume.ply\n",
      "Time read data file: 5.87224040000001\n",
      "Time read and prepare data: 15.746761600000013\n",
      "Mean:  -0.015397230700901592\n",
      "Std:  1.0247239976081562e-12\n"
     ]
    },
    {
     "data": {
      "image/png": "[encoded data removed]",
      "text/plain": [
       "<Figure size 432x288 with 1 Axes>"
      ]
     },
     "metadata": {
      "needs_background": "light"
     },
     "output_type": "display_data"
    }
   ],
   "source": [
    "if not os.path.exists(folder + \"histograms/\"):\n",
    "    os.makedirs(folder + \"histograms/\")\n",
    "    \n",
    "stats_dict = {}\n",
    "for filename in os.listdir(folder+\"curvature/\"):\n",
    "    if filename.endswith(\".ply\"):\n",
    "        infilename = folder + \"curvature/\" + str(filename)\n",
    "        outfilename =  folder + \"histograms/\" + str(os.path.splitext(filename)[0] + \"_hist.png\")\n",
    "        \n",
    "        obj_id = filename.split(\"_r1.00_n4_v256.volume\", 1)[0]\n",
    "        \n",
    "        print(\"--------------------------------------------------------------------\")\n",
    "        print(\"File: \", infilename)\n",
    "        data = Morse()\n",
    "        data.load_mesh_ply(infilename, quality_index, inverted = True)\n",
    "        stats = data.plot_funval_histogram(nb_bins = 100, log=False, save = True, filepath = outfilename, show = False)\n",
    "        print(\"Mean: \", stats['mean'])\n",
    "        print(\"Std: \", stats['std'])\n",
    "        stats_dict[int(obj_id)] = stats"
   ]
  },
  {
   "cell_type": "code",
   "execution_count": 2,
   "id": "21b14807",
   "metadata": {},
   "outputs": [
    {
     "name": "stdout",
     "output_type": "stream",
     "text": [
      "ID:  1467 [90.5685413235025, 0.06, 0.07, 0.03, 0.5]\n",
      "ID:  1645 [94.54562991303229, 0.06, 0.05, 0.04, 0.5]\n",
      "ID:  1649 [90.60917156746099, 0.06, 0.05, 0.03, 0.2]\n",
      "ID:  31 [91.84601912788868, 0.04, 0.09, 0.07, 0.3]\n",
      "ID:  4124 [94.75755242447576, 0.06, 0.06, 0.05, 0.4]\n",
      "ID:  4501 [98.01451985480145, 0.1, 0.09, 0.08, 0.3]\n",
      "ID:  4636 [90.69459305406946, 0.05, 0.06, 0.05, 0.4]\n",
      "ID:  5169 [95.13364599062028, 0.05, 0.06, 0.03, 0.2]\n",
      "ID:  5194 [93.92356076439235, 0.06, 0.06, 0.05, 0.4]\n",
      "ID:  5219 [95.3895, 0.06, 0.07, 0.04, 0.5]\n",
      "ID:  5244 [94.65771785228455, 0.04, 0.1, 0.08, 0.3]\n",
      "ID:  6626 [82.0425843490206, 0.04, 0.07, 0.06, 0.5]\n",
      "ID:  691 [95.81350834016953, 0.06, 0.07, 0.05, 0.5]\n",
      "ID:  700 [81.43806507226911, 0.04, 0.11, 0.1, 0.4]\n",
      "ID:  709 [93.47144272036975, 0.06, 0.05, 0.04, 0.5]\n",
      "ID:  710 [92.6194130925508, 0.04, 0.08, 0.06, 0.3]\n",
      "ID:  728 [89.79760202397976, 0.04, 0.06, 0.03, 0.2]\n",
      "ID:  729 [94.63255367446325, 0.04, 0.05, 0.04, 0.5]\n",
      "ID:  737 [93.20767631031669, 0.04, 0.07, 0.06, 0.3]\n",
      "ID:  742 [94.65251294894416, 0.06, 0.05, 0.03, 0.3]\n",
      "ID:  752 [95.28017241379311, 0.06, 0.06, 0.03, 0.5]\n",
      "ID:  757 [93.03656963430366, 0.04, 0.08, 0.07, 0.6]\n",
      "ID:  764 [93.98820260888226, 0.04, 0.07, 0.03, 0.5]\n",
      "ID:  798 [90.22901145057253, 0.06, 0.05, 0.03, 0.5]\n",
      "ID:  800 [92.40207597924021, 0.06, 0.06, 0.05, 0.4]\n",
      "ID:  801 [90.68095336834023, 0.04, 0.06, 0.05, 0.3]\n",
      "ID:  842 [91.03108968910311, 0.04, 0.08, 0.07, 0.5]\n",
      "ID:  695 [94.20833471454763, 0.04, 0.07, 0.04, 0.6]\n",
      "ID:  713 [96.27477134146342, 0.05, 0.07, 0.04, 0.3]\n",
      "ID:  722 [89.93031160397243, 0.04, 0.05, 0.03, 0.5]\n",
      "92.49591010696103\n"
     ]
    }
   ],
   "source": [
    "folderlist = [\"Data/Serie/\", \"Data/Serie2/\", \"Data/Serie3/\", \"Data/Serie4/\", \"Data/Serie_last3/\"]\n",
    "bestres_dict = {}\n",
    "\n",
    "for fol in folderlist:\n",
    "    for file in os.listdir(fol+\"results/\"):\n",
    "        if file.endswith('.txt'):\n",
    "            f = open(fol+\"results/\"+file)\n",
    "            lines = f.readlines()\n",
    "            rows = []\n",
    "            for i, row in enumerate(lines):\n",
    "                row=row.split(\" \")\n",
    "                if i != 0:\n",
    "                    if int(row[0]) not in bestres_dict.keys():\n",
    "                        bestres_dict[int(row[0])] = [float(row[1]), float(row[2][1:-1]), \n",
    "                                                     float(row[3][:-1]), float(row[4][:-1]), \n",
    "                                                     float(row[5][:-2])]\n",
    "                    else:\n",
    "                        if bestres_dict[int(row[0])][0] < float(row[1]):\n",
    "                            bestres_dict[int(row[0])] = [float(row[1]), float(row[2][1:-1]), \n",
    "                                                         float(row[3][:-1]), float(row[4][:-1]), \n",
    "                                                         float(row[5][:-2])]\n",
    "            f.close()\n",
    "av=0\n",
    "for ids in bestres_dict.keys():\n",
    "    print(\"ID: \",ids,bestres_dict[ids])\n",
    "    av += bestres_dict[ids][0]\n",
    "print(av/len(bestres_dict))"
   ]
  },
  {
   "cell_type": "code",
   "execution_count": 3,
   "id": "2ca5af54",
   "metadata": {},
   "outputs": [
    {
     "name": "stdout",
     "output_type": "stream",
     "text": [
      "ID:  1467 [89.55016079692525, 0.04, 0.08, 0.03, 0.6]\n",
      "ID:  1645 [94.47168325108107, 0.04, 0.05, 0.04, 0.5]\n",
      "ID:  1649 [90.02107624842778, 0.04, 0.06, 0.03, 0.6]\n",
      "ID:  31 [93.47216331221695, 0.04, 0.06, 0.05, 0.3]\n",
      "ID:  4124 [92.65107348926512, 0.04, 0.07, 0.03, 0.5]\n",
      "ID:  4501 [97.1230287697123, 0.04, 0.09, 0.04, 0.4]\n",
      "ID:  4636 [92.2640773592264, 0.04, 0.05, 0.04, 0.6]\n",
      "ID:  5169 [95.11464656060318, 0.04, 0.05, 0.04, 0.2]\n",
      "ID:  5194 [95.40354596454036, 0.04, 0.09, 0.04, 0.3]\n",
      "ID:  5219 [93.66250000000001, 0.04, 0.08, 0.05, 0.5]\n",
      "ID:  5244 [94.37715051612386, 0.04, 0.1, 0.09, 0.4]\n",
      "ID:  6626 [82.17055770464398, 0.04, 0.07, 0.05, 0.6]\n",
      "ID:  691 [95.47990155865463, 0.04, 0.06, 0.05, 0.3]\n",
      "ID:  695 [91.8458207855327, 0.04, 0.09, 0.04, 0.6]\n",
      "ID:  700 [83.35404847342782, 0.04, 0.06, 0.05, 0.6]\n",
      "ID:  709 [91.6350280620667, 0.04, 0.05, 0.03, 0.6]\n",
      "ID:  710 [92.59593679458239, 0.04, 0.06, 0.05, 0.3]\n",
      "ID:  713 [95.62881097560975, 0.04, 0.07, 0.04, 0.4]\n",
      "ID:  722 [89.86385128078537, 0.04, 0.05, 0.03, 0.5]\n",
      "ID:  728 [90.04059959400405, 0.04, 0.06, 0.03, 0.2]\n",
      "ID:  729 [94.63855361446386, 0.04, 0.05, 0.04, 0.5]\n",
      "ID:  737 [92.66538552662753, 0.04, 0.07, 0.04, 0.4]\n",
      "ID:  742 [93.30354601855541, 0.04, 0.06, 0.03, 0.3]\n",
      "ID:  752 [94.93866047745358, 0.04, 0.07, 0.06, 0.3]\n",
      "ID:  757 [93.7710622893771, 0.04, 0.08, 0.06, 0.6]\n",
      "ID:  764 [92.5213588460133, 0.04, 0.06, 0.03, 0.5]\n",
      "ID:  798 [89.65448272413622, 0.04, 0.05, 0.04, 0.5]\n",
      "ID:  800 [92.17707822921771, 0.04, 0.07, 0.05, 0.3]\n",
      "ID:  801 [90.78743113970444, 0.04, 0.06, 0.04, 0.6]\n",
      "ID:  842 [91.03658963410366, 0.04, 0.1, 0.08, 0.3]\n",
      "92.20732699990276\n"
     ]
    }
   ],
   "source": [
    "folderlist = [\"Data/SerieFinal/\"]\n",
    "bestres_dict = {}\n",
    "\n",
    "for fol in folderlist:\n",
    "    for file in os.listdir(fol+\"results/\"):\n",
    "        if file.endswith('.txt'):\n",
    "            f = open(fol+\"results/\"+file)\n",
    "            lines = f.readlines()\n",
    "            rows = []\n",
    "            for i, row in enumerate(lines):\n",
    "                row=row.split(\" \")\n",
    "                if i != 0:\n",
    "                    if int(row[0]) not in bestres_dict.keys():\n",
    "                        bestres_dict[int(row[0])] = [float(row[1]), float(row[2][1:-1]), \n",
    "                                                     float(row[3][:-1]), float(row[4][:-1]), \n",
    "                                                     float(row[5][:-2])]\n",
    "                    else:\n",
    "                        if bestres_dict[int(row[0])][0] < float(row[1]):\n",
    "                            bestres_dict[int(row[0])] = [float(row[1]), float(row[2][1:-1]), \n",
    "                                                         float(row[3][:-1]), float(row[4][:-1]), \n",
    "                                                         float(row[5][:-2])]\n",
    "            f.close()\n",
    "av=0\n",
    "for ids in bestres_dict.keys():\n",
    "    print(\"ID: \",ids,bestres_dict[ids])\n",
    "    av += bestres_dict[ids][0]\n",
    "print(av/len(bestres_dict))"
   ]
  },
  {
   "cell_type": "code",
   "execution_count": 11,
   "id": "7cefe572",
   "metadata": {},
   "outputs": [
    {
     "name": "stdout",
     "output_type": "stream",
     "text": [
      "[0.7, 0.7, 0.9]\n"
     ]
    }
   ],
   "source": [
    "a=[0.1,0.2,0.4,0.7,0.3,0.7,0.9]\n",
    "print([i for i in a if i>0.5])"
   ]
  },
  {
   "cell_type": "code",
   "execution_count": 28,
   "id": "47c21f6e",
   "metadata": {},
   "outputs": [
    {
     "name": "stdout",
     "output_type": "stream",
     "text": [
      "[0.09426591862652113, 0.05698443015569844, 0.03909960900390996, 0.053553393398198056, 0.06340436595634044, 0.040555, 0.04697127310554533, 0.06964725184577522, 0.1093388907230109, 0.06325436745632544, 0.051443915023560695, 0.1265866014001935, 0.08076923076923077, 0.04967950320496795, 0.048772990122439984]\n",
      "[0.1101966016686225, 0.06631933680663193, 0.043794562054379454, 0.0889723308300751, 0.07965920340796592, 0.068425, 0.05573337601024246, 0.09762100082034454, 0.12790937603169364, 0.07535424645753543, 0.058240977176402454, 0.1744265467584951, 0.12813328912466843, 0.057019429805701946, 0.10230205729332816]\n",
      "[0.08314176861124954, 0.05698443015569844, 0.034929650703492965, 0.061653150405487835, 0.06340436595634044, 0.046935, 0.09773345602944707, 0.08118676510801204, 0.09539039286893364, 0.07535424645753543, 0.08020112143628083, 0.11178780807103421, 0.08076923076923077, 0.0970340296597034, 0.07931048482985424]\n"
     ]
    }
   ],
   "source": [
    "th1=[]\n",
    "th2=[]\n",
    "th3=[]\n",
    "for ids in bestres_dict.keys():\n",
    "    if bestres_dict[ids][0]>93:\n",
    "        th1.append(len([i for i in stats_dict[str(ids)]['fun_vals'] if i > bestres_dict[ids][2]])/len(stats_dict[str(ids)]['fun_vals']))\n",
    "        th2.append(len([i for i in stats_dict[str(ids)]['fun_vals'] if i > bestres_dict[ids][3]])/len(stats_dict[str(ids)]['fun_vals']))\n",
    "        th3.append(len([i for i in stats_dict[str(ids)]['fun_vals'] if i > bestres_dict[ids][1]])/len(stats_dict[str(ids)]['fun_vals']))\n",
    "print(th1)\n",
    "print(th2)\n",
    "print(th3)"
   ]
  },
  {
   "cell_type": "code",
   "execution_count": 29,
   "id": "37146443",
   "metadata": {},
   "outputs": [
    {
     "name": "stdout",
     "output_type": "stream",
     "text": [
      "0.06628844938611451\n",
      "0.08894048894973913\n",
      "0.07638772673748671\n"
     ]
    }
   ],
   "source": [
    "print(sum(th1)/len(th1))\n",
    "print(sum(th2)/len(th2))\n",
    "print(sum(th3)/len(th3))"
   ]
  },
  {
   "cell_type": "code",
   "execution_count": 40,
   "id": "bbcfbec6",
   "metadata": {},
   "outputs": [
    {
     "name": "stdout",
     "output_type": "stream",
     "text": [
      "0.05305875837802887\n"
     ]
    }
   ],
   "source": [
    "b=sorted(stats_dict[str(31)]['fun_vals'])\n",
    "newlen=int(0.08*len(b))\n",
    "print(b[-newlen])"
   ]
  },
  {
   "cell_type": "code",
   "execution_count": null,
   "id": "a76ebc64",
   "metadata": {},
   "outputs": [],
   "source": []
  }
 ],
 "metadata": {
  "kernelspec": {
   "display_name": "Python 3.10.6 64-bit",
   "language": "python",
   "name": "python3"
  },
  "language_info": {
   "codemirror_mode": {
    "name": "ipython",
    "version": 3
   },
   "file_extension": ".py",
   "mimetype": "text/x-python",
   "name": "python",
   "nbconvert_exporter": "python",
   "pygments_lexer": "ipython3",
   "version": "3.10.6"
  },
  "vscode": {
   "interpreter": {
    "hash": "916dbcbb3f70747c44a77c7bcd40155683ae19c65e1c03b4aa3499c5328201f1"
   }
  }
 },
 "nbformat": 4,
 "nbformat_minor": 5
}
