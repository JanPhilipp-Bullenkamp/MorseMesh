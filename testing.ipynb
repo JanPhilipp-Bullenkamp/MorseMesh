{
 "cells": [
  {
   "cell_type": "code",
   "execution_count": 1,
   "id": "648001e5",
   "metadata": {},
   "outputs": [],
   "source": [
    "from mesh import Mesh"
   ]
  },
  {
   "cell_type": "code",
   "execution_count": 13,
   "id": "c45da0e2",
   "metadata": {},
   "outputs": [],
   "source": [
    "#minimal\n",
    "#filename, quality_index = \"Data/simplicial_donut_3.ply\", 2\n",
    "#small\n",
    "#filename, quality_index = \"Data/simplicial_donut_3_deform.ply\", 2\n",
    "#filename, quality_index = \"Data/31_r1.00_n4_v256.volume.ply\", 3\n",
    "#filename, quality_index = \"Data/31_r1.00_n4_v256.volume_r1.50_n4_v256.volume.ply\", 3\n",
    "filename, quality_index = \"Data/31_mean_curvature.ply\", 7\n",
    "#filename, quality_index = \"Data/31_min_curvature_meshlab.ply\", 7\n",
    "#medium\n",
    "#filename, quality_index = \"Data/HS_0109_HeiCuBeDa_GigaMesh.ply\", 3\n",
    "#filename, quality_index = \"Data/HS_0109_HeiCuBeDa_GigaMesh_mean_curvature.ply\", 7\n",
    "#filename, quality_index = \"Data/Messer_Stein/Messer_ohneNachv_GMOCF_r1.50_n4_v256.volume.ply\", 3\n",
    "#large:\n",
    "#filename, quality_index = \"Data/HS_190_HeiCuBeDa_GigaMesh.ply\", 3"
   ]
  },
  {
   "cell_type": "markdown",
   "id": "8dfc7491",
   "metadata": {},
   "source": [
    "# Mesh class:\n",
    "The Mesh class can be initialized using **Mesh()** . It has the following variables and functions:\n",
    "\n",
    "## Variables:\n",
    "- **Mesh.filename** filename as string. saved without .ply, but with folder structure\n",
    "\n",
    "- **Mesh.Vertices** Vertices stored as a dictionary of Vertex objects, keys are Vertex indices\n",
    "\n",
    "- **Mesh.Edges** Edges stored as a dictionary of Edge objects, keys are numbered\n",
    "\n",
    "- **Mesh.Faces** Faces stored as a dictionary of Face objects, keys are numbered\n",
    "\n",
    "- **Mesh.MorseComplex** if not calculated yet: None, otherwise a MorseComplex object with MorseComplex.persistence = 0\n",
    "\n",
    "- **Mesh.reducedMorseComplexes** a dictionary of MorseComplex objects, that have been reduced by a persistence parameter. The persistence parameter also defines the key of each MorseComplex object\n",
    "\n",
    "- **Mesh.MorseCells** a dictionary of MorseCells dictionaries. the key for each MorseCell dictionary is given by the persistence of the MorseComplex, these Cells were taken from. Each MorseCell dictionary consits of key, value pairs, where the key gives the label of a cell and the value is a set of vertices that make up this cell.\n",
    "\n",
    "## Functions:\n",
    "- **Mesh.load_mesh_ply(filename, quality_index)** loads a .ply file into the Mesh class and takes the value given at quality_index position as the scalar function on the vertices\n",
    "\n",
    "- **Mesh.info()** prints out Mesh info\n",
    "\n",
    "- **Mesh.ProcessLowerStars()** calculates the combinatorial gradient and critical simplices; **required for ExtractMorseComplex**\n",
    "\n",
    "- **Mesh.only_return_ExtractMorseComplex** return MorseComplex without storing it in the Mesh class\n",
    "\n",
    "- **Mesh.ExtractMorseComplex** calculate MorseComplex and store it in the Mesh class\n",
    "\n",
    "- **Mesh.only_return_ReducedMorseComplex(persistence)** reduce the MorseComplex based on the given persistence parameter, but dont store it in the Mesh class\n",
    "\n",
    "- **Mesh.ReducedMorseComplex(persistence)** reduce the MorseComplex based on the given persistence parameter, and store it in the Mesh class\n",
    "\n",
    "- **Mesh.plot_MorseComplex(MorseComplex, filename, path_color=[255,0,255])** plots the critical simplices of a MorseComplex in red (vertex), green (edge) and blue (face) and the according paths connecting them in magenta. Only writes a ply file containing colored points, so should be used as an overlay for the original mesh\n",
    "\n",
    "- **Mesh.ExtractMorseCells(MorseComplex)** takes a MorseComplex and gets all connected cells individually that are enclosed by the lines between critical simplices\n",
    "\n",
    "- **Mesh.plot_MorseCells(persistence, filename)** plots the connected components in each Cell in the same color. Only writes a ply file containing colored points, so should be used as an overlay for the original mesh"
   ]
  },
  {
   "cell_type": "code",
   "execution_count": 14,
   "id": "808a1588",
   "metadata": {},
   "outputs": [
    {
     "name": "stdout",
     "output_type": "stream",
     "text": [
      "Time read data file: 1.2814996000000747\n",
      "Time read and prepare data: 8.562204399999928\n",
      "+-------------------------------------------------------\n",
      "| Mesh Info\n",
      "+-------------------------------------------------------\n",
      "| Filename:  Data/31_mean_curvature\n",
      "| Morse function values range:  [-5.574097, 17.70892]\n",
      "+-------------------------------------------------------\n",
      "| Number of Vertices:  146174\n",
      "| Number of Edges:  438516\n",
      "| Number of Faces:  292344\n",
      "+-------------------------------------------------------\n",
      "| Euler characteristic:  2\n",
      "+-------------------------------------------------------\n",
      "Time ProcessLowerStar: 4.198388300000033\n",
      "Time ExtractMorseComplex and Separatrices: 3.574103100000002\n",
      "+-------------------------------------------------------\n",
      "| MorseComplex Info\n",
      "+-------------------------------------------------------\n",
      "| Filename:  Data/31_mean_curvature\n",
      "| Persistence of this Complex:  0\n",
      "+-------------------------------------------------------\n",
      "| Number of Vertices:  9805\n",
      "| Number of Edges:  19670\n",
      "| Number of Faces:  9867\n",
      "+-------------------------------------------------------\n",
      "| Euler characteristic:  2\n",
      "+-------------------------------------------------------\n"
     ]
    }
   ],
   "source": [
    "data = Mesh()\n",
    "data.load_mesh_ply(filename, quality_index, inverted=False)\n",
    "data.info()\n",
    "data.ProcessLowerStars()\n",
    "data.ExtractMorseComplex()\n",
    "data.MorseComplex.info()"
   ]
  },
  {
   "cell_type": "code",
   "execution_count": 15,
   "id": "8d3e0f77",
   "metadata": {},
   "outputs": [],
   "source": [
    "#data.calculate_BettiNumbers()\n",
    "#data.plot_PersistenceDiagram()"
   ]
  },
  {
   "cell_type": "code",
   "execution_count": 16,
   "id": "e942bf3e",
   "metadata": {},
   "outputs": [
    {
     "name": "stdout",
     "output_type": "stream",
     "text": [
      "Time cancel critical points with  45  persistence:  2.386341399999992\n",
      "Persistence was higher than the range of function values,\n",
      "therefore this complex is maximally reduced and can be used for salient edge extraction.\n"
     ]
    }
   ],
   "source": [
    "red_MSC = data.ReduceMorseComplex(45)"
   ]
  },
  {
   "cell_type": "code",
   "execution_count": 17,
   "id": "dbe1fc7b",
   "metadata": {},
   "outputs": [],
   "source": [
    "#data.plot_salient_edge_histogram(100, log=True)"
   ]
  },
  {
   "cell_type": "code",
   "execution_count": 18,
   "id": "0b2406c0",
   "metadata": {},
   "outputs": [],
   "source": [
    "#red_MSC.Separatrices.sort(key=lambda x: x[0])\n",
    "#for pers,sep in red_MSC.Separatrices:\n",
    "#    print(pers)\n"
   ]
  },
  {
   "cell_type": "code",
   "execution_count": 19,
   "id": "84a8d693",
   "metadata": {},
   "outputs": [],
   "source": [
    "#thr = [1.3]\n",
    "#min_thresh = 10\n",
    "#max_thresh = 7\n",
    "#for thresh in thr:\n",
    "    #Mesh.plot_improved_salient_edge(str(data.filename)+\"_improved_salient_edge_justSum\"+str(thresh), \n",
    "    #                                thresh, min_thresh, max_thresh)\n",
    "    #data.plot_salient_edge(str(data.filename), thresh)\n",
    "    #data.plot_salient_edge_pline(str(data.filename), thresh)"
   ]
  },
  {
   "cell_type": "code",
   "execution_count": 20,
   "id": "6ff3cf6d",
   "metadata": {
    "scrolled": true
   },
   "outputs": [
    {
     "name": "stdout",
     "output_type": "stream",
     "text": [
      "Time cancel critical points with  0.5  persistence:  2.2220148999999765\n",
      "Bd pts 0\n",
      "Time writing overlay file for bd:  0.337838300000044\n",
      "Time get MorseCells:  45.93471700000009\n",
      "Time cancel critical points with  1  persistence:  0.8515756000000465\n",
      "Bd pts 0\n",
      "Time writing overlay file for bd:  0.2759421000000657\n",
      "Time get MorseCells:  14.095173799999998\n"
     ]
    }
   ],
   "source": [
    "# Calculate reduced Complexes for different persistence levels:\n",
    "\n",
    "persistences = [0.5,1]\n",
    "for persistence in persistences:\n",
    "    # reduce morse complex persistence based\n",
    "    data.ReduceMorseComplex(persistence)\n",
    "    \n",
    "    # plot MorseComplexes, calculate MorseCells and plot MorseCells\n",
    "    reduced_complex = data.reducedMorseComplexes[persistence]\n",
    "    #reduced_complex.info()\n",
    "    #data.plot_MorseComplex(reduced_complex, str(data.filename))\n",
    "    #thresholds = [0.1,0.15,0.2,0.25,0.3]\n",
    "    #for abs_thresh in thresholds:\n",
    "    #    data.plot_MorseComplex_thresholded(reduced_complex, \n",
    "    #                                       str(data.filename), \n",
    "    #                                       abs_thresh)\n",
    "    #    data.plot_MorseComplex_thresholded_pline(persistence, \n",
    "    #                                             str(data.filename), \n",
    "    #                                             minimum_length=5, thresh=abs_thresh)\n",
    "    \n",
    "    #data.plot_MorseComplex_pline(persistence, str(data.filename))\n",
    "    data.ExtractMorseCells(reduced_complex)\n",
    "    #data.write_MorseCellLabels(persistence, str(data.filename))\n",
    "    #data.plot_MorseCells(persistence, str(data.filename))\n"
   ]
  },
  {
   "cell_type": "code",
   "execution_count": 21,
   "id": "11d4f4ca",
   "metadata": {},
   "outputs": [
    {
     "data": {
      "text/plain": [
       "'\\ngraph_pers = 4.5\\ngraph = data.GetConnectivityGraph(graph_pers)\\ngraph.remove_small_components(data, persistence=graph_pers, size_thresh=100)\\ndata.write_MorseCellLabels(graph_pers, str(data.filename)+\"_error_removed_test2_smallCompRemoved\")\\ngraph.remove_weak_edges(data, persistence=graph_pers, absolute_threshold=0.5)\\ndata.write_MorseCellLabels(graph_pers, str(data.filename)+\"_error_removed_test2_weakEdgesRemoved\")\\n'"
      ]
     },
     "execution_count": 21,
     "metadata": {},
     "output_type": "execute_result"
    }
   ],
   "source": [
    "'''\n",
    "graph_pers = 4.5\n",
    "graph = data.GetConnectivityGraph(graph_pers)\n",
    "graph.remove_small_components(data, persistence=graph_pers, size_thresh=100)\n",
    "data.write_MorseCellLabels(graph_pers, str(data.filename)+\"_error_removed_test2_smallCompRemoved\")\n",
    "graph.remove_weak_edges(data, persistence=graph_pers, absolute_threshold=0.5)\n",
    "data.write_MorseCellLabels(graph_pers, str(data.filename)+\"_error_removed_test2_weakEdgesRemoved\")\n",
    "'''"
   ]
  },
  {
   "cell_type": "code",
   "execution_count": 22,
   "id": "26abcd30",
   "metadata": {
    "scrolled": true
   },
   "outputs": [
    {
     "name": "stdout",
     "output_type": "stream",
     "text": [
      "Time getting salient edge points for  0.8 threshold: 0.030426300000044648\n",
      "Time writing overlay file for bd:  0.25361979999979667\n",
      "Nb of not found labels:  0\n",
      "Time writing overlay file for bd:  0.04585740000015903\n",
      "Time get weighted ConnectivityGraph:  26.696559200000138\n",
      "0 iterations: 4448\n",
      "Time writing label txt file: 0.15411140000014711\n",
      "5 iterations: 971\n",
      "Time writing label txt file: 0.1575678000001517\n",
      "10 iterations: 407\n",
      "Time writing label txt file: 0.15144080000004578\n",
      "15 iterations: 281\n",
      "Time writing label txt file: 0.15685979999989286\n",
      "20 iterations: 229\n",
      "Time writing label txt file: 0.15778549999981806\n",
      "25 iterations: 203\n",
      "Time writing label txt file: 0.15025279999986196\n",
      "30 iterations: 190\n",
      "Time writing label txt file: 0.1525890000000345\n",
      "35 iterations: 180\n",
      "Time writing label txt file: 0.14861809999979414\n"
     ]
    }
   ],
   "source": [
    "\n",
    "pers = 1\n",
    "saledge_thresh = 0.8\n",
    "edge_percentage = 0.35\n",
    "\n",
    "graph, saledge_pts = data.SalientEdgeConnectivityGraph(saledge_thresh, pers)\n",
    "for i in range(40):\n",
    "    if i%5==0:\n",
    "        print(i,\"iterations:\",len(graph.conncomps.keys()))\n",
    "        data.write_MorseCellLabels(pers, \n",
    "                                   str(data.filename)+\"_\"+str(edge_percentage)+\"edgePerc_\"+str(pers)+\n",
    "                                   \"pers_\"+str(saledge_thresh)+\"SalEdgeThr_\"+str(i)+\"_iterations\")\n",
    "    MorseCell = graph.simplify_cells(data.MorseCells[pers], edge_percentage, saledge_pts)\n"
   ]
  },
  {
   "cell_type": "code",
   "execution_count": 23,
   "id": "8f24ccea",
   "metadata": {},
   "outputs": [
    {
     "name": "stdout",
     "output_type": "stream",
     "text": [
      "12\n",
      "Time writing label txt file: 0.15448459999993247\n"
     ]
    }
   ],
   "source": [
    "graph.remove_small_components(data, pers, size_thresh=300)\n",
    "print(len(graph.conncomps.keys()))\n",
    "data.write_MorseCellLabels(pers, str(data.filename)+\"_\"+str(edge_percentage)+\"edgePerc_\"+str(pers)+\n",
    "                                   \"pers_\"+str(saledge_thresh)+\"SalEdgeThr_\"+str(i)+\"_iterations_small_removed\")"
   ]
  },
  {
   "cell_type": "code",
   "execution_count": null,
   "id": "43b3cd48",
   "metadata": {},
   "outputs": [],
   "source": []
  }
 ],
 "metadata": {
  "kernelspec": {
   "display_name": "Python 3 (ipykernel)",
   "language": "python",
   "name": "python3"
  },
  "language_info": {
   "codemirror_mode": {
    "name": "ipython",
    "version": 3
   },
   "file_extension": ".py",
   "mimetype": "text/x-python",
   "name": "python",
   "nbconvert_exporter": "python",
   "pygments_lexer": "ipython3",
   "version": "3.9.7"
  }
 },
 "nbformat": 4,
 "nbformat_minor": 5
}
