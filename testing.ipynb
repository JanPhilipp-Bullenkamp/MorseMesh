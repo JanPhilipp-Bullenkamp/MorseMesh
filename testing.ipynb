{
 "cells": [
  {
   "cell_type": "code",
   "execution_count": 1,
   "id": "648001e5",
   "metadata": {},
   "outputs": [],
   "source": [
    "from morse import Morse\n",
    "#test"
   ]
  },
  {
   "cell_type": "code",
   "execution_count": 2,
   "id": "c45da0e2",
   "metadata": {},
   "outputs": [],
   "source": [
    "#minimal\n",
    "#filename, quality_index = \"Data/simplicial_donut_3.ply\", 2\n",
    "#small\n",
    "#filename, quality_index = \"Data/simplicial_donut_3_deform.ply\", 2\n",
    "filename, quality_index = \"Data/Test_new_stuff/curvature/691_r1.00_n4_v256.volume.ply\", 3\n",
    "#filename, quality_index = \"Data/31_r1.00_n4_v256.volume_r1.50_n4_v256.volume.ply\", 3\n",
    "#filename, quality_index = \"Data/31_mean_curvature.ply\", 7\n",
    "#filename, quality_index = \"Data/31_min_curvature_meshlab.ply\", 7\n",
    "#filename, quality_index = \"Data/further_tests/4125_mean_curv.ply\", 7\n",
    "#filename, quality_index = \"Data/further_tests/10354_mean_curv.ply\", 7\n",
    "#filename, quality_index = \"Data/further_tests/689_mean_curv.ply\", 7\n",
    "#filename, quality_index = \"Data/further_tests/475_mean_curv.ply\", 7\n",
    "#medium\n",
    "#filename, quality_index = \"Data/HS_0109_HeiCuBeDa_GigaMesh.ply\", 3\n",
    "#filename, quality_index = \"Data/HS_0109_HeiCuBeDa_GigaMesh_mean_curvature.ply\", 7\n",
    "#filename, quality_index = \"Data/Messer_Stein/Messer_ohneNachv_GMOCF_r1.50_n4_v256.volume.ply\", 3\n",
    "#large:\n",
    "#filename, quality_index = \"Data/HS_190_HeiCuBeDa_GigaMesh.ply\", 3"
   ]
  },
  {
   "cell_type": "code",
   "execution_count": 3,
   "id": "be21be47",
   "metadata": {},
   "outputs": [],
   "source": [
    "#filename, quality_index = \"Data/test_labelled_Florian/695_meanC.ply\", 7"
   ]
  },
  {
   "cell_type": "code",
   "execution_count": 5,
   "id": "808a1588",
   "metadata": {},
   "outputs": [
    {
     "name": "stdout",
     "output_type": "stream",
     "text": [
      "Time read data file: 1.0213950999999994\n",
      "Time read and prepare data: 2.6938125\n",
      "Time ProcessLowerStar: 0.9575232999999983\n",
      "Time ExtractMorseComplex and Separatrices: 0.6000732999999983\n"
     ]
    }
   ],
   "source": [
    "data = Morse()\n",
    "data.load_mesh_ply(filename, quality_index, inverted=True)\n",
    "#data.load_normals_ply(\"Data/31_normals.ply\")\n",
    "#data.info()\n",
    "#data.load_new_funvals(\"Data/Messer_Stein/Messer_ohneNachv_GMOCF_r1.50_n4_v256.normal.mat\")\n",
    "#data.info()\n",
    "#data.plot_funval_histogram(nb_bins=150)\n",
    "\n",
    "data.ProcessLowerStars()\n",
    "data.ExtractMorseComplex()\n",
    "#data.MorseComplex.info()"
   ]
  },
  {
   "cell_type": "code",
   "execution_count": 9,
   "id": "d27e1fe6",
   "metadata": {},
   "outputs": [
    {
     "name": "stdout",
     "output_type": "stream",
     "text": [
      "{1, 2, 3, 19, 20, 21, 23}\n",
      "0\n",
      "{0, 2, 3, 4, 5, 6}\n",
      "1\n",
      "{0, 1, 6, 7, 23}\n",
      "2\n",
      "{0, 1, 4, 21, 22}\n",
      "3\n",
      "{1, 3, 5, 8, 9, 10, 22, 25, 27}\n",
      "4\n",
      "{1, 10, 4, 6}\n",
      "5\n",
      "{1, 2, 5, 7, 10, 11, 12}\n",
      "6\n",
      "{2, 6, 12, 23, 26}\n",
      "7\n",
      "{4, 9, 10, 13, 15}\n",
      "8\n",
      "{4, 8, 13, 14, 27, 29}\n",
      "9\n"
     ]
    }
   ],
   "source": [
    "c=0\n",
    "for v in data.Vertices.values():\n",
    "    if c < 10:\n",
    "        print(v.neighbors)\n",
    "        print(v.index)\n",
    "        c+=1"
   ]
  },
  {
   "cell_type": "code",
   "execution_count": 5,
   "id": "a270cc97",
   "metadata": {},
   "outputs": [
    {
     "name": "stdout",
     "output_type": "stream",
     "text": [
      "Time cancel critical points with  1000000  persistence:  2.3048970000000963\n",
      "Persistence was high enough that this complex is maximally reduced.\n"
     ]
    },
    {
     "data": {
      "text/plain": [
       "<Algorithms.LoadData.Datastructure.MorseComplex at 0x1dac3e6c7f0>"
      ]
     },
     "execution_count": 5,
     "metadata": {},
     "output_type": "execute_result"
    }
   ],
   "source": [
    "data.ReduceMorseComplex(1000000)"
   ]
  },
  {
   "cell_type": "code",
   "execution_count": 6,
   "id": "134f6e1e",
   "metadata": {},
   "outputs": [],
   "source": [
    "#high = [0.05,0.06,0.07,0.08,0.09]\n",
    "#for hi in high:\n",
    "#    data.dual_thresh_edges(hi,hi-0.02)\n",
    "#    data.plot_double_thresh_salient_edge(str(data.filename), hi,hi-0.02)"
   ]
  },
  {
   "cell_type": "code",
   "execution_count": 7,
   "id": "49b78b5a",
   "metadata": {},
   "outputs": [],
   "source": [
    "#data.plot_double_thresh_salient_edge(str(data.filename), 0.9,0.8)"
   ]
  },
  {
   "cell_type": "code",
   "execution_count": 8,
   "id": "9fbc13e3",
   "metadata": {},
   "outputs": [],
   "source": [
    "#data.write_funval_thresh_labels(15, str(data.filename))"
   ]
  },
  {
   "cell_type": "code",
   "execution_count": 9,
   "id": "8d3e0f77",
   "metadata": {},
   "outputs": [],
   "source": [
    "#data.calculate_BettiNumbers()\n",
    "#data.plot_PersistenceDiagram()"
   ]
  },
  {
   "cell_type": "code",
   "execution_count": 10,
   "id": "dbe1fc7b",
   "metadata": {},
   "outputs": [],
   "source": [
    "#data.ReduceMorseComplex(1000000)\n",
    "#data.plot_salient_edge_histogram(100, log=True)"
   ]
  },
  {
   "cell_type": "code",
   "execution_count": 11,
   "id": "84a8d693",
   "metadata": {},
   "outputs": [],
   "source": [
    "#thr = [1.3]\n",
    "#min_thresh = 10\n",
    "#max_thresh = 7\n",
    "#for thresh in thr:\n",
    "    #Mesh.plot_improved_salient_edge(str(data.filename)+\"_improved_salient_edge_justSum\"+str(thresh), \n",
    "    #                                thresh, min_thresh, max_thresh)\n",
    "    #data.plot_salient_edge(str(data.filename), thresh)\n",
    "    #data.plot_salient_edge_pline(str(data.filename), thresh)"
   ]
  },
  {
   "cell_type": "code",
   "execution_count": 12,
   "id": "6ff3cf6d",
   "metadata": {
    "scrolled": false
   },
   "outputs": [
    {
     "name": "stdout",
     "output_type": "stream",
     "text": [
      "Time cancel critical points with  0.04  persistence:  2.8346751000000268\n",
      "Time get MorseCells for  0.04 persistence:  36.04417760000001\n"
     ]
    }
   ],
   "source": [
    "# Calculate reduced Complexes for different persistence levels:\n",
    "\n",
    "persistences = [0.04]\n",
    "for persistence in persistences:\n",
    "    # reduce morse complex persistence based\n",
    "    data.ReduceMorseComplex(persistence)\n",
    "    \n",
    "    # plot MorseComplexes, calculate MorseCells and plot MorseCells\n",
    "    #data.reducedMorseComplexes[persistence].info()\n",
    "    #data.plot_MorseComplex(persistence, str(data.filename))\n",
    "    #thresholds = [0.1,0.15,0.2,0.25,0.3]\n",
    "    #for abs_thresh in thresholds:\n",
    "    #    data.plot_MorseComplex_thresholded(persistence, \n",
    "    #                                       str(data.filename), \n",
    "    #                                       abs_thresh)\n",
    "    #    data.plot_MorseComplex_thresholded_pline(persistence, \n",
    "    #                                             str(data.filename), \n",
    "    #                                             minimum_length=5, thresh=abs_thresh)\n",
    "    \n",
    "    #data.plot_MorseComplex_pline(persistence, str(data.filename))\n",
    "    data.ExtractMorseCells(persistence)\n",
    "    #data.write_MorseCellLabels(persistence, str(data.filename))\n",
    "    #data.plot_MorseCells(persistence, str(data.filename))\n"
   ]
  },
  {
   "cell_type": "code",
   "execution_count": 17,
   "id": "133bc3b1",
   "metadata": {},
   "outputs": [
    {
     "name": "stdout",
     "output_type": "stream",
     "text": [
      "Time writing label txt file: 0.1686746000000312\n"
     ]
    }
   ],
   "source": [
    "#data.plot_salient_edge_pline(\"31_high\",0.09)\n",
    "#data.plot_salient_edge_pline(\"31_low\",0.07)\n",
    "data.write_MorseCellLabels(0.04, \"31_oversegmentation_0.04\")"
   ]
  },
  {
   "cell_type": "code",
   "execution_count": 14,
   "id": "26abcd30",
   "metadata": {
    "scrolled": true
   },
   "outputs": [
    {
     "name": "stdout",
     "output_type": "stream",
     "text": [
      "Time getting double threshold salient edge points for  0.05 - 0.030000000000000002 threshold: 0.04532510000001366\n",
      "av 0.008309014219008268\n",
      "max 0.40907502579569155\n",
      "min 4.3123586121592364e-07\n",
      "Time get weighted ConnectivityGraph:  54.31433149999998\n",
      "Time merging and simplifying Cells: 10.536693200000059\n",
      "Segmented for 0.04 persistence Complex with 0.05 0.030000000000000002 salient edge threshold and 20.0 % edge percentage merging threshold\n",
      "Got  32 differnt cell labels\n",
      "Time writing label txt file: 0.14220239999997375\n",
      "Time getting double threshold salient edge points for  0.05 - 0.030000000000000002 threshold: 0.042164700000057564\n",
      "av 0.008309014219008268\n",
      "max 0.40907502579569155\n",
      "min 4.3123586121592364e-07\n",
      "Time get weighted ConnectivityGraph:  55.818309699999986\n",
      "Time merging and simplifying Cells: 10.304649500000096\n",
      "Segmented for 0.04 persistence Complex with 0.05 0.030000000000000002 salient edge threshold and 30.0 % edge percentage merging threshold\n",
      "Got  24 differnt cell labels\n",
      "Time writing label txt file: 0.1440219999999499\n",
      "Time getting double threshold salient edge points for  0.05 - 0.030000000000000002 threshold: 0.04131489999997484\n",
      "av 0.008309014219008268\n",
      "max 0.40907502579569155\n",
      "min 4.3123586121592364e-07\n",
      "Time get weighted ConnectivityGraph:  58.304127900000026\n",
      "Time merging and simplifying Cells: 11.799147299999959\n",
      "Segmented for 0.04 persistence Complex with 0.05 0.030000000000000002 salient edge threshold and 40.0 % edge percentage merging threshold\n",
      "Got  17 differnt cell labels\n",
      "Time writing label txt file: 0.14730389999999716\n",
      "Time getting double threshold salient edge points for  0.05 - 0.030000000000000002 threshold: 0.04142369999999573\n",
      "av 0.008309014219008268\n",
      "max 0.40907502579569155\n",
      "min 4.3123586121592364e-07\n",
      "Time get weighted ConnectivityGraph:  56.908465500000034\n",
      "Time merging and simplifying Cells: 11.990917500000023\n",
      "Segmented for 0.04 persistence Complex with 0.05 0.030000000000000002 salient edge threshold and 50.0 % edge percentage merging threshold\n",
      "Got  13 differnt cell labels\n",
      "Time writing label txt file: 0.1465846999999485\n",
      "Time getting double threshold salient edge points for  0.06 - 0.039999999999999994 threshold: 0.03237289999992754\n",
      "av 0.008309014219008268\n",
      "max 0.40907502579569155\n",
      "min 4.3123586121592364e-07\n",
      "Time get weighted ConnectivityGraph:  56.523394399999916\n",
      "Time merging and simplifying Cells: 11.383062699999982\n",
      "Segmented for 0.04 persistence Complex with 0.06 0.039999999999999994 salient edge threshold and 20.0 % edge percentage merging threshold\n",
      "Got  22 differnt cell labels\n",
      "Time writing label txt file: 0.15019690000008268\n",
      "Time getting double threshold salient edge points for  0.06 - 0.039999999999999994 threshold: 0.034353699999996934\n",
      "av 0.008309014219008268\n",
      "max 0.40907502579569155\n",
      "min 4.3123586121592364e-07\n",
      "Time get weighted ConnectivityGraph:  56.57943369999998\n",
      "Time merging and simplifying Cells: 10.942644400000063\n",
      "Segmented for 0.04 persistence Complex with 0.06 0.039999999999999994 salient edge threshold and 30.0 % edge percentage merging threshold\n",
      "Got  19 differnt cell labels\n",
      "Time writing label txt file: 0.1462971999999354\n",
      "Time getting double threshold salient edge points for  0.06 - 0.039999999999999994 threshold: 0.03431589999991047\n",
      "av 0.008309014219008268\n",
      "max 0.40907502579569155\n",
      "min 4.3123586121592364e-07\n",
      "Time get weighted ConnectivityGraph:  60.376384500000086\n",
      "Time merging and simplifying Cells: 11.045380600000044\n",
      "Segmented for 0.04 persistence Complex with 0.06 0.039999999999999994 salient edge threshold and 40.0 % edge percentage merging threshold\n",
      "Got  22 differnt cell labels\n",
      "Time writing label txt file: 0.14928759999997965\n",
      "Time getting double threshold salient edge points for  0.06 - 0.039999999999999994 threshold: 0.03280299999983072\n",
      "av 0.008309014219008268\n",
      "max 0.40907502579569155\n",
      "min 4.3123586121592364e-07\n",
      "Time get weighted ConnectivityGraph:  60.06843909999998\n",
      "Time merging and simplifying Cells: 11.341310999999905\n",
      "Segmented for 0.04 persistence Complex with 0.06 0.039999999999999994 salient edge threshold and 50.0 % edge percentage merging threshold\n",
      "Got  19 differnt cell labels\n",
      "Time writing label txt file: 0.14657219999980953\n"
     ]
    }
   ],
   "source": [
    "\n",
    "import itertools\n",
    "\n",
    "pers = [0.04]\n",
    "saledge_thresh = [0.05,0.06]\n",
    "edge_percentage = [0.2,0.3,0.4,0.5]\n",
    "\n",
    "for p, s, ep in list(itertools.product(pers, saledge_thresh, edge_percentage)):\n",
    "    #Segmentation = data.SalientEdgeSegmentation(p, s, ep)\n",
    "    #data.write_SegmentationLabels(p, s, ep, str(data.filename))\n",
    "    \n",
    "    Segmentation = data.SalientEdgeSegmentation_DualThresh(p, s, s-0.02, ep)\n",
    "    data.write_DualSegmentationLabels(p, s, s-0.02, ep, str(data.filename))\n"
   ]
  },
  {
   "cell_type": "markdown",
   "id": "18ba81fb",
   "metadata": {},
   "source": [
    "# Mesh class:\n",
    "The Mesh class can be initialized using **Mesh()** . It has the following variables and functions:\n",
    "\n",
    "## Variables:\n",
    "- **Mesh.filename** filename as string. saved without .ply, but with folder structure\n",
    "\n",
    "- **Mesh.Vertices** Vertices stored as a dictionary of Vertex objects, keys are Vertex indices\n",
    "\n",
    "- **Mesh.Edges** Edges stored as a dictionary of Edge objects, keys are numbered\n",
    "\n",
    "- **Mesh.Faces** Faces stored as a dictionary of Face objects, keys are numbered\n",
    "\n",
    "- **Mesh.MorseComplex** if not calculated yet: None, otherwise a MorseComplex object with MorseComplex.persistence = 0\n",
    "\n",
    "- **Mesh.reducedMorseComplexes** a dictionary of MorseComplex objects, that have been reduced by a persistence parameter. The persistence parameter also defines the key of each MorseComplex object\n",
    "\n",
    "- **Mesh.MorseCells** a dictionary of MorseCells dictionaries. the key for each MorseCell dictionary is given by the persistence of the MorseComplex, these Cells were taken from. Each MorseCell dictionary consits of key, value pairs, where the key gives the label of a cell and the value is a set of vertices that make up this cell.\n",
    "\n",
    "## Functions:\n",
    "- **Mesh.load_mesh_ply(filename, quality_index)** loads a .ply file into the Mesh class and takes the value given at quality_index position as the scalar function on the vertices\n",
    "\n",
    "- **Mesh.info()** prints out Mesh info\n",
    "\n",
    "- **Mesh.ProcessLowerStars()** calculates the combinatorial gradient and critical simplices; **required for ExtractMorseComplex**\n",
    "\n",
    "- **Mesh.only_return_ExtractMorseComplex** return MorseComplex without storing it in the Mesh class\n",
    "\n",
    "- **Mesh.ExtractMorseComplex** calculate MorseComplex and store it in the Mesh class\n",
    "\n",
    "- **Mesh.only_return_ReducedMorseComplex(persistence)** reduce the MorseComplex based on the given persistence parameter, but dont store it in the Mesh class\n",
    "\n",
    "- **Mesh.ReducedMorseComplex(persistence)** reduce the MorseComplex based on the given persistence parameter, and store it in the Mesh class\n",
    "\n",
    "- **Mesh.plot_MorseComplex(MorseComplex, filename, path_color=[255,0,255])** plots the critical simplices of a MorseComplex in red (vertex), green (edge) and blue (face) and the according paths connecting them in magenta. Only writes a ply file containing colored points, so should be used as an overlay for the original mesh\n",
    "\n",
    "- **Mesh.ExtractMorseCells(MorseComplex)** takes a MorseComplex and gets all connected cells individually that are enclosed by the lines between critical simplices\n",
    "\n",
    "- **Mesh.plot_MorseCells(persistence, filename)** plots the connected components in each Cell in the same color. Only writes a ply file containing colored points, so should be used as an overlay for the original mesh"
   ]
  },
  {
   "cell_type": "code",
   "execution_count": null,
   "id": "3802d8dc",
   "metadata": {},
   "outputs": [],
   "source": []
  }
 ],
 "metadata": {
  "kernelspec": {
   "display_name": "Python 3 (ipykernel)",
   "language": "python",
   "name": "python3"
  },
  "language_info": {
   "codemirror_mode": {
    "name": "ipython",
    "version": 3
   },
   "file_extension": ".py",
   "mimetype": "text/x-python",
   "name": "python",
   "nbconvert_exporter": "python",
   "pygments_lexer": "ipython3",
   "version": "3.9.7"
  }
 },
 "nbformat": 4,
 "nbformat_minor": 5
}
