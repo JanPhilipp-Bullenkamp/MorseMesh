{
 "cells": [
  {
   "cell_type": "code",
   "execution_count": 1,
   "id": "648001e5",
   "metadata": {},
   "outputs": [],
   "source": [
    "from mesh import Mesh"
   ]
  },
  {
   "cell_type": "code",
   "execution_count": 2,
   "id": "c45da0e2",
   "metadata": {},
   "outputs": [],
   "source": [
    "#minimal\n",
    "#filename, quality_index = \"Data/simplicial_donut_3.ply\", 2\n",
    "#small\n",
    "#filename, quality_index = \"Data/simplicial_donut_3_deform.ply\", 2\n",
    "filename, quality_index = \"Data/31_r1.00_n4_v256.volume.ply\", 3\n",
    "#filename, quality_index = \"Data/31_mean_curvature.ply\", 7\n",
    "#medium\n",
    "#filename, quality_index = \"Data/HS_0109_HeiCuBeDa_GigaMesh.ply\", 3\n",
    "#filename, quality_index = \"Data/HS_0109_HeiCuBeDa_GigaMesh_mean_curvature.ply\", 7\n",
    "#large:\n",
    "#filename, quality_index = \"Data/HS_190_HeiCuBeDa_GigaMesh.ply\", 3"
   ]
  },
  {
   "cell_type": "markdown",
   "id": "8dfc7491",
   "metadata": {},
   "source": [
    "# Mesh class:\n",
    "The Mesh class can be initialized using **Mesh()** . It has the following variables and functions:\n",
    "\n",
    "## Variables:\n",
    "- **Mesh.filename** filename as string. saved without .ply, but with folder structure\n",
    "\n",
    "- **Mesh.Vertices** Vertices stored as a dictionary of Vertex objects, keys are Vertex indices\n",
    "\n",
    "- **Mesh.Edges** Edges stored as a dictionary of Edge objects, keys are numbered\n",
    "\n",
    "- **Mesh.Faces** Faces stored as a dictionary of Face objects, keys are numbered\n",
    "\n",
    "- **Mesh.MorseComplex** if not calculated yet: None, otherwise a MorseComplex object with MorseComplex.persistence = 0\n",
    "\n",
    "- **Mesh.reducedMorseComplexes** a dictionary of MorseComplex objects, that have been reduced by a persistence parameter. The persistence parameter also defines the key of each MorseComplex object\n",
    "\n",
    "- **Mesh.MorseCells** a dictionary of MorseCells dictionaries. the key for each MorseCell dictionary is given by the persistence of the MorseComplex, these Cells were taken from. Each MorseCell dictionary consits of key, value pairs, where the key gives the label of a cell and the value is a set of vertices that make up this cell.\n",
    "\n",
    "## Functions:\n",
    "- **Mesh.load_mesh_ply(filename, quality_index)** loads a .ply file into the Mesh class and takes the value given at quality_index position as the scalar function on the vertices\n",
    "\n",
    "- **Mesh.info()** prints out Mesh info\n",
    "\n",
    "- **Mesh.ProcessLowerStars()** calculates the combinatorial gradient and critical simplices; **required for ExtractMorseComplex**\n",
    "\n",
    "- **Mesh.only_return_ExtractMorseComplex** return MorseComplex without storing it in the Mesh class\n",
    "\n",
    "- **Mesh.ExtractMorseComplex** calculate MorseComplex and store it in the Mesh class\n",
    "\n",
    "- **Mesh.only_return_ReducedMorseComplex(persistence)** reduce the MorseComplex based on the given persistence parameter, but dont store it in the Mesh class\n",
    "\n",
    "- **Mesh.ReducedMorseComplex(persistence)** reduce the MorseComplex based on the given persistence parameter, and store it in the Mesh class\n",
    "\n",
    "- **Mesh.plot_MorseComplex(MorseComplex, filename, path_color=[255,0,255])** plots the critical simplices of a MorseComplex in red (vertex), green (edge) and blue (face) and the according paths connecting them in magenta. Only writes a ply file containing colored points, so should be used as an overlay for the original mesh\n",
    "\n",
    "- **Mesh.ExtractMorseCells(MorseComplex)** takes a MorseComplex and gets all connected cells individually that are enclosed by the lines between critical simplices\n",
    "\n",
    "- **Mesh.plot_MorseCells(persistence, filename)** plots the connected components in each Cell in the same color. Only writes a ply file containing colored points, so should be used as an overlay for the original mesh"
   ]
  },
  {
   "cell_type": "code",
   "execution_count": 3,
   "id": "808a1588",
   "metadata": {},
   "outputs": [
    {
     "name": "stdout",
     "output_type": "stream",
     "text": [
      "Time read data file: 6.0949537\n",
      "Time read and prepare data: 22.3389742\n",
      "+-------------------------------------------------------\n",
      "| Mesh Info\n",
      "+-------------------------------------------------------\n",
      "| Filename:  Data/31_r1.00_n4_v256.volume\n",
      "| Morse function values range:  [-0.5752798, 0.6062798]\n",
      "+-------------------------------------------------------\n",
      "| Number of Vertices:  146174\n",
      "| Number of Edges:  438516\n",
      "| Number of Faces:  292344\n",
      "+-------------------------------------------------------\n",
      "| Euler characteristic:  2\n",
      "+-------------------------------------------------------\n",
      "Time ProcessLowerStar: 6.563777600000002\n",
      "Time ExtractMorseComplex and Separatrices: 3.8155110999999984\n",
      "+-------------------------------------------------------\n",
      "| MorseComplex Info\n",
      "+-------------------------------------------------------\n",
      "| Filename:  Data/31_r1.00_n4_v256.volume\n",
      "| Persistence of this Complex:  0\n",
      "+-------------------------------------------------------\n",
      "| Number of Vertices:  8878\n",
      "| Number of Edges:  21092\n",
      "| Number of Faces:  12216\n",
      "+-------------------------------------------------------\n",
      "| Euler characteristic:  2\n",
      "+-------------------------------------------------------\n"
     ]
    }
   ],
   "source": [
    "Mesh = Mesh()\n",
    "Mesh.load_mesh_ply(filename, quality_index, inverted=False)\n",
    "Mesh.info()\n",
    "Mesh.ProcessLowerStars()\n",
    "Mesh.ExtractMorseComplex()\n",
    "Mesh.MorseComplex.info()"
   ]
  },
  {
   "cell_type": "code",
   "execution_count": 4,
   "id": "e942bf3e",
   "metadata": {},
   "outputs": [
    {
     "name": "stdout",
     "output_type": "stream",
     "text": [
      "Time cancel critical points with  2  persistence:  4.042885200000001\n",
      "Persistence was higher than the range of function values,\n",
      "therefore this complex is maximally reduced and can be used for salient edge extraction.\n"
     ]
    }
   ],
   "source": [
    "red_MSC = Mesh.ReducedMorseComplex(2)"
   ]
  },
  {
   "cell_type": "code",
   "execution_count": 5,
   "id": "dbe1fc7b",
   "metadata": {},
   "outputs": [],
   "source": [
    "#Mesh.plot_salient_edge_histogram(100, log=True)"
   ]
  },
  {
   "cell_type": "code",
   "execution_count": 6,
   "id": "0b2406c0",
   "metadata": {},
   "outputs": [],
   "source": [
    "#red_MSC.Separatrices.sort(key=lambda x: x[0])\n",
    "#for pers,sep in red_MSC.Separatrices:\n",
    "#    print(pers)\n"
   ]
  },
  {
   "cell_type": "code",
   "execution_count": 7,
   "id": "84a8d693",
   "metadata": {},
   "outputs": [],
   "source": [
    "#thr = [1,2,5,8,10,15,20,25,100,600,900]\n",
    "#min_thresh = 10\n",
    "#max_thresh = 7\n",
    "#for thresh in thr:\n",
    "#    Mesh.plot_improved_salient_edge(str(red_MSC.filename)+\"_improved_salient_edge_justSum\"+str(thresh), \n",
    "#                                    thresh, min_thresh, max_thresh)\n",
    "#    Mesh.plot_salient_edge(str(red_MSC.filename)+\"_salient_edge_justSum\"+str(thresh), thresh)"
   ]
  },
  {
   "cell_type": "code",
   "execution_count": 8,
   "id": "6ff3cf6d",
   "metadata": {
    "scrolled": true
   },
   "outputs": [
    {
     "name": "stdout",
     "output_type": "stream",
     "text": [
      "Time cancel critical points with  0.015  persistence:  3.4391226999999986\n",
      "Time cancel critical points with  0.2  persistence:  2.858816300000001\n",
      "Time get MorseCells:  1.0004849000000036\n",
      "Time writing label txt file: 0.14200629999999848\n",
      "Time get MorseCells:  1.0601343999999955\n",
      "Time writing label txt file: 0.12627970000000488\n"
     ]
    }
   ],
   "source": [
    "# Calculate reduced Complexes for different persistence levels:\n",
    "\n",
    "persistences = [0.015,0.2]\n",
    "for thresh in persistences:\n",
    "    Mesh.ReducedMorseComplex(thresh)\n",
    "    \n",
    "# plot MorseComplexes, calculate MorseCells and plot MorseCells\n",
    "for persistence in persistences:\n",
    "    reduced_complex = Mesh.reducedMorseComplexes[persistence]\n",
    "    #reduced_complex.info()\n",
    "    #Mesh.plot_MorseComplex(reduced_complex, str(reduced_complex.filename)+\"_mean_inverted\"+str(persistence))\n",
    "    \n",
    "    Mesh.ExtractMorseCells(reduced_complex)\n",
    "    Mesh.write_MorseCellLabels(persistence, str(reduced_complex.filename)+\"_error_removed_test_no_bd\"+str(persistence))\n",
    "    #Mesh.plot_MorseCells(persistence, str(reduced_complex.filename)+\"_error_removed_test_no_bd\"+str(persistence))\n"
   ]
  },
  {
   "cell_type": "code",
   "execution_count": 9,
   "id": "c005e6b8",
   "metadata": {},
   "outputs": [
    {
     "name": "stdout",
     "output_type": "stream",
     "text": [
      "Nb of not found labels:  112\n",
      "Time get weighted ConnectivityGraph:  0.14261020000000002\n"
     ]
    }
   ],
   "source": [
    "graph = Mesh.GetConnectivityGraph(0.2)"
   ]
  },
  {
   "cell_type": "code",
   "execution_count": 10,
   "id": "11d4f4ca",
   "metadata": {},
   "outputs": [
    {
     "name": "stdout",
     "output_type": "stream",
     "text": [
      "label 7 connected to:\n",
      "0 with weight -0.2400329311656234\n",
      "4 with weight 0.019243094846873792\n",
      "5 with weight 0.035927737010312606\n",
      "9 with weight 0.042309492410043\n",
      "23 with weight 0.060242882523328135\n",
      "22 with weight 0.050435352291508924\n",
      "10 with weight -0.016611210988391495\n",
      "81 with weight 0.023889683187007904\n",
      "35 with weight -0.19884283188730478\n",
      "115 with weight 0.023391450755298138\n",
      "78 with weight 0.024878489186189005\n",
      "31 with weight 0.02442047791555524\n",
      "59 with weight 0.04235781170427799\n",
      "24 with weight 0.10496249215974085\n",
      "129 with weight 0.07962565636262298\n",
      "116 with weight 0.070761495269835\n",
      "130 with weight 0.057187542668543756\n",
      "131 with weight 0.029097028821706773\n",
      "27 with weight 0.05227638501673937\n",
      "17 with weight 0.027777397442326945\n",
      "111 with weight 0.043377814426397286\n",
      "126 with weight 0.07715565711259842\n",
      "132 with weight 0.044317695001761116\n",
      "57 with weight 0.05727239378861019\n",
      "112 with weight 0.05092801107093692\n",
      "125 with weight 0.03477180376648903\n",
      "113 with weight 0.03448134753853083\n",
      "56 with weight 0.03424542459348837\n",
      "26 with weight 0.028470692597329615\n",
      "134 with weight 0.06842737334469955\n",
      "30 with weight 0.07052416503429412\n",
      "39 with weight 0.026688023936003447\n",
      "71 with weight 0.08361203223466873\n",
      "52 with weight -0.00369138119276613\n"
     ]
    }
   ],
   "source": [
    "for key, val in graph.conncomps.items():\n",
    "    if key==7:\n",
    "        print(\"label 7 connected to:\")\n",
    "        for ke, wei in val.items():\n",
    "            print(ke, \"with weight\", wei)"
   ]
  },
  {
   "cell_type": "code",
   "execution_count": 11,
   "id": "723b884c",
   "metadata": {},
   "outputs": [
    {
     "name": "stdout",
     "output_type": "stream",
     "text": [
      "138\n"
     ]
    }
   ],
   "source": [
    "print(len(graph.conncomps.keys()))"
   ]
  },
  {
   "cell_type": "code",
   "execution_count": null,
   "id": "2b9dff6f",
   "metadata": {},
   "outputs": [],
   "source": []
  }
 ],
 "metadata": {
  "kernelspec": {
   "display_name": "Python 3 (ipykernel)",
   "language": "python",
   "name": "python3"
  },
  "language_info": {
   "codemirror_mode": {
    "name": "ipython",
    "version": 3
   },
   "file_extension": ".py",
   "mimetype": "text/x-python",
   "name": "python",
   "nbconvert_exporter": "python",
   "pygments_lexer": "ipython3",
   "version": "3.9.7"
  }
 },
 "nbformat": 4,
 "nbformat_minor": 5
}
