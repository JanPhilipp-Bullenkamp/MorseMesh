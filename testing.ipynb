{
 "cells": [
  {
   "cell_type": "code",
   "execution_count": 1,
   "id": "648001e5",
   "metadata": {},
   "outputs": [],
   "source": [
    "from mesh import Mesh"
   ]
  },
  {
   "cell_type": "code",
   "execution_count": 2,
   "id": "c45da0e2",
   "metadata": {},
   "outputs": [],
   "source": [
    "#minimal\n",
    "#filename, quality_index = \"Data/simplicial_donut_3.ply\", 2\n",
    "#small\n",
    "#filename, quality_index = \"Data/simplicial_donut_3_deform.ply\", 2\n",
    "filename, quality_index = \"Data/31_r1.00_n4_v256.volume.ply\", 3\n",
    "#filename, quality_index = \"Data/31_mean_curvature.ply\", 7\n",
    "#medium\n",
    "#filename, quality_index = \"Data/HS_0109_HeiCuBeDa_GigaMesh.ply\", 3\n",
    "#filename, quality_index = \"Data/HS_0109_HeiCuBeDa_GigaMesh_mean_curvature.ply\", 7\n",
    "#large:\n",
    "#filename, quality_index = \"Data/HS_190_HeiCuBeDa_GigaMesh.ply\", 3"
   ]
  },
  {
   "cell_type": "markdown",
   "id": "8dfc7491",
   "metadata": {},
   "source": [
    "# Mesh class:\n",
    "The Mesh class can be initialized using **Mesh()** . It has the following variables and functions:\n",
    "\n",
    "## Variables:\n",
    "- **Mesh.filename** filename as string. saved without .ply, but with folder structure\n",
    "\n",
    "- **Mesh.Vertices** Vertices stored as a dictionary of Vertex objects, keys are Vertex indices\n",
    "\n",
    "- **Mesh.Edges** Edges stored as a dictionary of Edge objects, keys are numbered\n",
    "\n",
    "- **Mesh.Faces** Faces stored as a dictionary of Face objects, keys are numbered\n",
    "\n",
    "- **Mesh.MorseComplex** if not calculated yet: None, otherwise a MorseComplex object with MorseComplex.persistence = 0\n",
    "\n",
    "- **Mesh.reducedMorseComplexes** a dictionary of MorseComplex objects, that have been reduced by a persistence parameter. The persistence parameter also defines the key of each MorseComplex object\n",
    "\n",
    "- **Mesh.MorseCells** a dictionary of MorseCells dictionaries. the key for each MorseCell dictionary is given by the persistence of the MorseComplex, these Cells were taken from. Each MorseCell dictionary consits of key, value pairs, where the key gives the label of a cell and the value is a set of vertices that make up this cell.\n",
    "\n",
    "## Functions:\n",
    "- **Mesh.load_mesh_ply(filename, quality_index)** loads a .ply file into the Mesh class and takes the value given at quality_index position as the scalar function on the vertices\n",
    "\n",
    "- **Mesh.info()** prints out Mesh info\n",
    "\n",
    "- **Mesh.ProcessLowerStars()** calculates the combinatorial gradient and critical simplices; **required for ExtractMorseComplex**\n",
    "\n",
    "- **Mesh.only_return_ExtractMorseComplex** return MorseComplex without storing it in the Mesh class\n",
    "\n",
    "- **Mesh.ExtractMorseComplex** calculate MorseComplex and store it in the Mesh class\n",
    "\n",
    "- **Mesh.only_return_ReducedMorseComplex(persistence)** reduce the MorseComplex based on the given persistence parameter, but dont store it in the Mesh class\n",
    "\n",
    "- **Mesh.ReducedMorseComplex(persistence)** reduce the MorseComplex based on the given persistence parameter, and store it in the Mesh class\n",
    "\n",
    "- **Mesh.plot_MorseComplex(MorseComplex, filename, path_color=[255,0,255])** plots the critical simplices of a MorseComplex in red (vertex), green (edge) and blue (face) and the according paths connecting them in magenta. Only writes a ply file containing colored points, so should be used as an overlay for the original mesh\n",
    "\n",
    "- **Mesh.ExtractMorseCells(MorseComplex)** takes a MorseComplex and gets all connected cells individually that are enclosed by the lines between critical simplices\n",
    "\n",
    "- **Mesh.plot_MorseCells(persistence, filename)** plots the connected components in each Cell in the same color. Only writes a ply file containing colored points, so should be used as an overlay for the original mesh"
   ]
  },
  {
   "cell_type": "code",
   "execution_count": 3,
   "id": "808a1588",
   "metadata": {},
   "outputs": [
    {
     "name": "stdout",
     "output_type": "stream",
     "text": [
      "Time read data file: 4.176514299999999\n",
      "Time read and prepare data: 10.2966797\n",
      "+-------------------------------------------------------\n",
      "| Mesh Info\n",
      "+-------------------------------------------------------\n",
      "| Filename:  Data/31_r1.00_n4_v256.volume\n",
      "| Morse function values range:  [-0.5752798, 0.6062798]\n",
      "+-------------------------------------------------------\n",
      "| Number of Vertices:  146174\n",
      "| Number of Edges:  438516\n",
      "| Number of Faces:  292344\n",
      "+-------------------------------------------------------\n",
      "| Euler characteristic:  2\n",
      "+-------------------------------------------------------\n",
      "Time ProcessLowerStar: 4.234364000000001\n",
      "Time ExtractMorseComplex and Separatrices: 2.7085965000000023\n",
      "+-------------------------------------------------------\n",
      "| MorseComplex Info\n",
      "+-------------------------------------------------------\n",
      "| Filename:  Data/31_r1.00_n4_v256.volume\n",
      "| Persistence of this Complex:  0\n",
      "+-------------------------------------------------------\n",
      "| Number of Vertices:  8878\n",
      "| Number of Edges:  21092\n",
      "| Number of Faces:  12216\n",
      "+-------------------------------------------------------\n",
      "| Euler characteristic:  2\n",
      "+-------------------------------------------------------\n"
     ]
    }
   ],
   "source": [
    "Mesh = Mesh()\n",
    "Mesh.load_mesh_ply(filename, quality_index)\n",
    "Mesh.info()\n",
    "Mesh.ProcessLowerStars()\n",
    "Mesh.ExtractMorseComplex()\n",
    "Mesh.MorseComplex.info()"
   ]
  },
  {
   "cell_type": "code",
   "execution_count": 4,
   "id": "e942bf3e",
   "metadata": {},
   "outputs": [
    {
     "name": "stdout",
     "output_type": "stream",
     "text": [
      "Time cancel critical points with  1.5  persistence:  2.490191799999998\n",
      "Persistence was higher than the range of function values, therefore this complex is maximally reduced and can be used for salient edge extraction.\n"
     ]
    }
   ],
   "source": [
    "red_MSC = Mesh.ReducedMorseComplex(1.5)"
   ]
  },
  {
   "cell_type": "code",
   "execution_count": 5,
   "id": "be0fdd08",
   "metadata": {},
   "outputs": [
    {
     "name": "stdout",
     "output_type": "stream",
     "text": [
      "21092\n"
     ]
    }
   ],
   "source": [
    "print(len(red_MSC.Separatrices))"
   ]
  },
  {
   "cell_type": "code",
   "execution_count": 6,
   "id": "dbe1fc7b",
   "metadata": {},
   "outputs": [
    {
     "data": {
      "image/png": "[encoded data removed]",
      "text/plain": [
       "<Figure size 432x288 with 1 Axes>"
      ]
     },
     "metadata": {
      "needs_background": "light"
     },
     "output_type": "display_data"
    }
   ],
   "source": [
    "Mesh.plot_salient_edge_histogram(100, log=True)"
   ]
  },
  {
   "cell_type": "code",
   "execution_count": 7,
   "id": "0b2406c0",
   "metadata": {},
   "outputs": [],
   "source": [
    "#red_MSC.Separatrices.sort(key=lambda x: x[0])\n",
    "#for pers,sep in red_MSC.Separatrices:\n",
    "#    print(pers)\n"
   ]
  },
  {
   "cell_type": "code",
   "execution_count": 8,
   "id": "84a8d693",
   "metadata": {},
   "outputs": [],
   "source": [
    "#thr = [0.2,0.5,0.8,1,2,5,10]\n",
    "#for thresh in thr:\n",
    "#    Mesh.plot_salient_edge(red_MSC, str(red_MSC.filename)+\"salient_edge_test_squared_sum\"+str(thresh), thresh)"
   ]
  },
  {
   "cell_type": "code",
   "execution_count": 9,
   "id": "0132d4f5",
   "metadata": {},
   "outputs": [],
   "source": [
    "#M = {}\n",
    "#M[0] = {k: v for k, v in sorted(Mesh.reducedMorseComplexes[0.05].CritVertices.items(), key=lambda item: item[1].fun_val)}\n",
    "#M[1] = {k: v for k, v in sorted(Mesh.reducedMorseComplexes[0.05].CritEdges.items(), key=lambda item: item[1].fun_val)}\n",
    "#M[2] = {k: v for k, v in sorted(Mesh.reducedMorseComplexes[0.05].CritFaces.items(), key=lambda item: item[1].fun_val)}"
   ]
  },
  {
   "cell_type": "code",
   "execution_count": 10,
   "id": "6ff3cf6d",
   "metadata": {},
   "outputs": [
    {
     "name": "stdout",
     "output_type": "stream",
     "text": [
      "Time cancel critical points with  0.04  persistence:  2.3769431999999995\n",
      "Time cancel critical points with  0.06  persistence:  1.4000558000000005\n",
      "Time cancel critical points with  0.1  persistence:  1.0903516999999994\n",
      "Time cancel critical points with  0.2  persistence:  0.8185399999999987\n",
      "Time get MorseCells:  0.8299571000000014\n",
      "Time writing label txt file: 0.1130925999999981\n",
      "Time get MorseCells:  0.919883500000001\n",
      "Time writing label txt file: 0.15129729999999952\n",
      "Time get MorseCells:  0.7992729999999995\n",
      "Time writing label txt file: 0.14987290000000186\n",
      "Time get MorseCells:  0.6833775000000024\n",
      "Time writing label txt file: 0.145066700000001\n",
      "Time get MorseCells:  0.8137742999999986\n",
      "Time writing label txt file: 0.1288292999999996\n"
     ]
    }
   ],
   "source": [
    "# Calculate reduced Complexes for different persistence levels:\n",
    "\n",
    "persistences = [0.04,0.06,0.1,0.2]\n",
    "for thresh in persistences:\n",
    "    Mesh.ReducedMorseComplex(thresh)\n",
    "    \n",
    "# plot MorseComplexes, calculate MorseCells and plot MorseCells\n",
    "for persistence, reduced_complex in Mesh.reducedMorseComplexes.items():\n",
    "    #reduced_complex.info()\n",
    "    #Mesh.plot_MorseComplex(reduced_complex, str(reduced_complex.filename)+\"_complex_cancelling_\"+str(persistence))\n",
    "    \n",
    "    Mesh.ExtractMorseCells(reduced_complex)\n",
    "    Mesh.write_MorseCellLabels(persistence, str(reduced_complex.filename)+\"_test\"+str(persistence))\n",
    "    #Mesh.plot_MorseCells(persistence, str(reduced_complex.filename)+\"_\"+str(persistence))\n"
   ]
  },
  {
   "cell_type": "code",
   "execution_count": null,
   "id": "11d4f4ca",
   "metadata": {},
   "outputs": [],
   "source": []
  }
 ],
 "metadata": {
  "kernelspec": {
   "display_name": "Python 3 (ipykernel)",
   "language": "python",
   "name": "python3"
  },
  "language_info": {
   "codemirror_mode": {
    "name": "ipython",
    "version": 3
   },
   "file_extension": ".py",
   "mimetype": "text/x-python",
   "name": "python",
   "nbconvert_exporter": "python",
   "pygments_lexer": "ipython3",
   "version": "3.9.7"
  }
 },
 "nbformat": 4,
 "nbformat_minor": 5
}
