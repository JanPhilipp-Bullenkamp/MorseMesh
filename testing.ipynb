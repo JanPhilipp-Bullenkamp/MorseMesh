{
 "cells": [
  {
   "cell_type": "code",
   "execution_count": 1,
   "id": "648001e5",
   "metadata": {},
   "outputs": [],
   "source": [
    "from mesh import Mesh"
   ]
  },
  {
   "cell_type": "code",
   "execution_count": 2,
   "id": "c45da0e2",
   "metadata": {},
   "outputs": [],
   "source": [
    "#minimal\n",
    "#filename, quality_index = \"Data/simplicial_donut_3.ply\", 2\n",
    "#small\n",
    "#filename, quality_index = \"Data/simplicial_donut_3_deform.ply\", 2\n",
    "filename, quality_index = \"Data/31_r1.00_n4_v256.volume.ply\", 3\n",
    "#filename, quality_index = \"Data/31_mean_curvature.ply\", 7\n",
    "#medium\n",
    "#filename, quality_index = \"Data/HS_0109_HeiCuBeDa_GigaMesh.ply\", 3\n",
    "#filename, quality_index = \"Data/HS_0109_HeiCuBeDa_GigaMesh_mean_curvature.ply\", 7\n",
    "#large:\n",
    "#filename, quality_index = \"Data/HS_190_HeiCuBeDa_GigaMesh.ply\", 3"
   ]
  },
  {
   "cell_type": "markdown",
   "id": "8dfc7491",
   "metadata": {},
   "source": [
    "# Mesh class:\n",
    "The Mesh class can be initialized using **Mesh()** . It has the following variables and functions:\n",
    "\n",
    "## Variables:\n",
    "- **Mesh.filename** filename as string. saved without .ply, but with folder structure\n",
    "\n",
    "- **Mesh.Vertices** Vertices stored as a dictionary of Vertex objects, keys are Vertex indices\n",
    "\n",
    "- **Mesh.Edges** Edges stored as a dictionary of Edge objects, keys are numbered\n",
    "\n",
    "- **Mesh.Faces** Faces stored as a dictionary of Face objects, keys are numbered\n",
    "\n",
    "- **Mesh.MorseComplex** if not calculated yet: None, otherwise a MorseComplex object with MorseComplex.persistence = 0\n",
    "\n",
    "- **Mesh.reducedMorseComplexes** a dictionary of MorseComplex objects, that have been reduced by a persistence parameter. The persistence parameter also defines the key of each MorseComplex object\n",
    "\n",
    "- **Mesh.MorseCells** a dictionary of MorseCells dictionaries. the key for each MorseCell dictionary is given by the persistence of the MorseComplex, these Cells were taken from. Each MorseCell dictionary consits of key, value pairs, where the key gives the label of a cell and the value is a set of vertices that make up this cell.\n",
    "\n",
    "## Functions:\n",
    "- **Mesh.load_mesh_ply(filename, quality_index)** loads a .ply file into the Mesh class and takes the value given at quality_index position as the scalar function on the vertices\n",
    "\n",
    "- **Mesh.info()** prints out Mesh info\n",
    "\n",
    "- **Mesh.ProcessLowerStars()** calculates the combinatorial gradient and critical simplices; **required for ExtractMorseComplex**\n",
    "\n",
    "- **Mesh.only_return_ExtractMorseComplex** return MorseComplex without storing it in the Mesh class\n",
    "\n",
    "- **Mesh.ExtractMorseComplex** calculate MorseComplex and store it in the Mesh class\n",
    "\n",
    "- **Mesh.only_return_ReducedMorseComplex(persistence)** reduce the MorseComplex based on the given persistence parameter, but dont store it in the Mesh class\n",
    "\n",
    "- **Mesh.ReducedMorseComplex(persistence)** reduce the MorseComplex based on the given persistence parameter, and store it in the Mesh class\n",
    "\n",
    "- **Mesh.plot_MorseComplex(MorseComplex, filename, path_color=[255,0,255])** plots the critical simplices of a MorseComplex in red (vertex), green (edge) and blue (face) and the according paths connecting them in magenta. Only writes a ply file containing colored points, so should be used as an overlay for the original mesh\n",
    "\n",
    "- **Mesh.ExtractMorseCells(MorseComplex)** takes a MorseComplex and gets all connected cells individually that are enclosed by the lines between critical simplices\n",
    "\n",
    "- **Mesh.plot_MorseCells(persistence, filename)** plots the connected components in each Cell in the same color. Only writes a ply file containing colored points, so should be used as an overlay for the original mesh"
   ]
  },
  {
   "cell_type": "code",
   "execution_count": 3,
   "id": "808a1588",
   "metadata": {},
   "outputs": [
    {
     "name": "stdout",
     "output_type": "stream",
     "text": [
      "Time read data file: 4.107805\n",
      "Time read and prepare data: 10.1692169\n",
      "+-------------------------------------------------------\n",
      "| Mesh Info\n",
      "+-------------------------------------------------------\n",
      "| Filename:  Data/31_r1.00_n4_v256.volume\n",
      "| Morse function values range:  [-0.5752798, 0.6062798]\n",
      "+-------------------------------------------------------\n",
      "| Number of Vertices:  146174\n",
      "| Number of Edges:  438516\n",
      "| Number of Faces:  292344\n",
      "+-------------------------------------------------------\n",
      "| Euler characteristic:  2\n",
      "+-------------------------------------------------------\n",
      "Time ProcessLowerStar: 4.080167000000001\n",
      "Time ExtractMorseComplex and Separatrices: 2.774431399999999\n",
      "+-------------------------------------------------------\n",
      "| MorseComplex Info\n",
      "+-------------------------------------------------------\n",
      "| Filename:  Data/31_r1.00_n4_v256.volume\n",
      "| Persistence of this Complex:  0\n",
      "+-------------------------------------------------------\n",
      "| Number of Vertices:  8878\n",
      "| Number of Edges:  21092\n",
      "| Number of Faces:  12216\n",
      "+-------------------------------------------------------\n",
      "| Euler characteristic:  2\n",
      "+-------------------------------------------------------\n"
     ]
    }
   ],
   "source": [
    "data = Mesh()\n",
    "data.load_mesh_ply(filename, quality_index, inverted=False)\n",
    "data.info()\n",
    "data.ProcessLowerStars()\n",
    "data.ExtractMorseComplex()\n",
    "data.MorseComplex.info()"
   ]
  },
  {
   "cell_type": "code",
   "execution_count": 4,
   "id": "9e34c4e8",
   "metadata": {},
   "outputs": [
    {
     "name": "stdout",
     "output_type": "stream",
     "text": [
      "Time Betti numbers: 1.1840076999999987\n",
      "Betti Numbers:  [1. 0. 1.]\n"
     ]
    },
    {
     "data": {
      "image/png": "[encoded data removed]",
      "text/plain": [
       "<Figure size 432x288 with 1 Axes>"
      ]
     },
     "metadata": {
      "needs_background": "light"
     },
     "output_type": "display_data"
    }
   ],
   "source": [
    "data.calculate_BettiNumbers()\n",
    "data.plot_PersistenceDiagram()"
   ]
  },
  {
   "cell_type": "code",
   "execution_count": 5,
   "id": "e942bf3e",
   "metadata": {},
   "outputs": [
    {
     "name": "stdout",
     "output_type": "stream",
     "text": [
      "Time cancel critical points with  2  persistence:  3.2604974999999996\n",
      "Persistence was higher than the range of function values,\n",
      "therefore this complex is maximally reduced and can be used for salient edge extraction.\n"
     ]
    }
   ],
   "source": [
    "red_MSC = data.ReduceMorseComplex(2)"
   ]
  },
  {
   "cell_type": "code",
   "execution_count": 6,
   "id": "dbe1fc7b",
   "metadata": {},
   "outputs": [],
   "source": [
    "#Mesh.plot_salient_edge_histogram(100, log=True)"
   ]
  },
  {
   "cell_type": "code",
   "execution_count": 7,
   "id": "0b2406c0",
   "metadata": {},
   "outputs": [],
   "source": [
    "#red_MSC.Separatrices.sort(key=lambda x: x[0])\n",
    "#for pers,sep in red_MSC.Separatrices:\n",
    "#    print(pers)\n"
   ]
  },
  {
   "cell_type": "code",
   "execution_count": 8,
   "id": "84a8d693",
   "metadata": {},
   "outputs": [],
   "source": [
    "#thr = [1,2,5,8,10,15,20,25,100,600,900]\n",
    "#min_thresh = 10\n",
    "#max_thresh = 7\n",
    "#for thresh in thr:\n",
    "#    Mesh.plot_improved_salient_edge(str(red_MSC.filename)+\"_improved_salient_edge_justSum\"+str(thresh), \n",
    "#                                    thresh, min_thresh, max_thresh)\n",
    "#    Mesh.plot_salient_edge(str(red_MSC.filename)+\"_salient_edge_justSum\"+str(thresh), thresh)"
   ]
  },
  {
   "cell_type": "code",
   "execution_count": 9,
   "id": "6ff3cf6d",
   "metadata": {
    "scrolled": true
   },
   "outputs": [
    {
     "name": "stdout",
     "output_type": "stream",
     "text": [
      "Time cancel critical points with  0.1  persistence:  2.8029744\n",
      "Time get MorseCells:  1.1701720999999985\n",
      "Time cancel critical points with  0.2  persistence:  0.8462285000000023\n",
      "Time get MorseCells:  0.9527375000000013\n",
      "Time cancel critical points with  0.4  persistence:  0.5746692000000024\n",
      "Time get MorseCells:  0.988460700000001\n"
     ]
    }
   ],
   "source": [
    "# Calculate reduced Complexes for different persistence levels:\n",
    "\n",
    "persistences = [0.1,0.2,0.4]\n",
    "for persistence in persistences:\n",
    "    # reduce morse complex persistence based\n",
    "    data.ReduceMorseComplex(persistence)\n",
    "    \n",
    "    # plot MorseComplexes, calculate MorseCells and plot MorseCells\n",
    "    reduced_complex = data.reducedMorseComplexes[persistence]\n",
    "    #reduced_complex.info()\n",
    "    #data.plot_MorseComplex(reduced_complex, str(reduced_complex.filename)+\"_mean_inverted\"+str(persistence))\n",
    "    #data.plot_MorseComplex_pline(persistence, str(data.filename)+\"_test_pline_\"+str(persistence))\n",
    "    #data.plot_MorseComplex_thresholded_pline(persistence, str(data.filename)+\"_test_thresh_pline_\"+str(persistence), minimum_length=7, thresh=0.1)\n",
    "    data.ExtractMorseCells(reduced_complex)\n",
    "    #data.write_MorseCellLabels(persistence, str(reduced_complex.filename)+\"_error_removed_test2_no_bd\"+str(persistence))\n",
    "    #data.plot_MorseCells(persistence, str(reduced_complex.filename)+\"_error_removed_test_no_bd\"+str(persistence))\n"
   ]
  },
  {
   "cell_type": "code",
   "execution_count": 10,
   "id": "11d4f4ca",
   "metadata": {},
   "outputs": [
    {
     "data": {
      "text/plain": [
       "'\\ngraph_pers = 0.1\\ngraph = data.GetConnectivityGraph(graph_pers)\\ngraph.remove_small_components(data, persistence=graph_pers, size_thresh=30)\\ndata.write_MorseCellLabels(graph_pers, str(Mesh.filename)+\"_error_removed_test2_smallCompRemoved\")\\ngraph.remove_weak_edges(data, persistence=graph_pers, absolute_threshold=0.1)\\ndata.write_MorseCellLabels(graph_pers, str(Mesh.filename)+\"_error_removed_test2_weakEdgesRemoved\")\\n'"
      ]
     },
     "execution_count": 10,
     "metadata": {},
     "output_type": "execute_result"
    }
   ],
   "source": [
    "'''\n",
    "graph_pers = 0.1\n",
    "graph = data.GetConnectivityGraph(graph_pers)\n",
    "graph.remove_small_components(data, persistence=graph_pers, size_thresh=30)\n",
    "data.write_MorseCellLabels(graph_pers, str(Mesh.filename)+\"_error_removed_test2_smallCompRemoved\")\n",
    "graph.remove_weak_edges(data, persistence=graph_pers, absolute_threshold=0.1)\n",
    "data.write_MorseCellLabels(graph_pers, str(Mesh.filename)+\"_error_removed_test2_weakEdgesRemoved\")\n",
    "'''"
   ]
  },
  {
   "cell_type": "code",
   "execution_count": null,
   "id": "2b9dff6f",
   "metadata": {},
   "outputs": [],
   "source": []
  },
  {
   "cell_type": "code",
   "execution_count": null,
   "id": "77264edc",
   "metadata": {},
   "outputs": [],
   "source": []
  }
 ],
 "metadata": {
  "kernelspec": {
   "display_name": "Python 3 (ipykernel)",
   "language": "python",
   "name": "python3"
  },
  "language_info": {
   "codemirror_mode": {
    "name": "ipython",
    "version": 3
   },
   "file_extension": ".py",
   "mimetype": "text/x-python",
   "name": "python",
   "nbconvert_exporter": "python",
   "pygments_lexer": "ipython3",
   "version": "3.9.7"
  }
 },
 "nbformat": 4,
 "nbformat_minor": 5
}
