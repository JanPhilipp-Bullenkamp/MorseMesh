{
 "cells": [
  {
   "cell_type": "code",
   "execution_count": 1,
   "id": "648001e5",
   "metadata": {},
   "outputs": [],
   "source": [
    "from mesh import Mesh"
   ]
  },
  {
   "cell_type": "code",
   "execution_count": 2,
   "id": "c45da0e2",
   "metadata": {},
   "outputs": [],
   "source": [
    "#minimal\n",
    "#filename, quality_index = \"Data/simplicial_donut_3.ply\", 2\n",
    "#small\n",
    "#filename, quality_index = \"Data/simplicial_donut_3_deform.ply\", 2\n",
    "#filename, quality_index = \"Data/31_r1.00_n4_v256.volume.ply\", 3\n",
    "#filename, quality_index = \"Data/31_mean_curvature.ply\", 7\n",
    "#medium\n",
    "filename, quality_index = \"Data/HS_0109_HeiCuBeDa_GigaMesh.ply\", 3\n",
    "#filename, quality_index = \"Data/HS_0109_HeiCuBeDa_GigaMesh_mean_curvature.ply\", 7\n",
    "#large:\n",
    "#filename, quality_index = \"Data/HS_190_HeiCuBeDa_GigaMesh.ply\", 3"
   ]
  },
  {
   "cell_type": "markdown",
   "id": "8dfc7491",
   "metadata": {},
   "source": [
    "# Mesh class:\n",
    "The Mesh class can be initialized using **Mesh()** . It has the following variables and functions:\n",
    "\n",
    "## Variables:\n",
    "- **Mesh.filename** filename as string. saved without .ply, but with folder structure\n",
    "\n",
    "- **Mesh.Vertices** Vertices stored as a dictionary of Vertex objects, keys are Vertex indices\n",
    "\n",
    "- **Mesh.Edges** Edges stored as a dictionary of Edge objects, keys are numbered\n",
    "\n",
    "- **Mesh.Faces** Faces stored as a dictionary of Face objects, keys are numbered\n",
    "\n",
    "- **Mesh.MorseComplex** if not calculated yet: None, otherwise a MorseComplex object with MorseComplex.persistence = 0\n",
    "\n",
    "- **Mesh.reducedMorseComplexes** a dictionary of MorseComplex objects, that have been reduced by a persistence parameter. The persistence parameter also defines the key of each MorseComplex object\n",
    "\n",
    "- **Mesh.MorseCells** a dictionary of MorseCells dictionaries. the key for each MorseCell dictionary is given by the persistence of the MorseComplex, these Cells were taken from. Each MorseCell dictionary consits of key, value pairs, where the key gives the label of a cell and the value is a set of vertices that make up this cell.\n",
    "\n",
    "## Functions:\n",
    "- **Mesh.load_mesh_ply(filename, quality_index)** loads a .ply file into the Mesh class and takes the value given at quality_index position as the scalar function on the vertices\n",
    "\n",
    "- **Mesh.info()** prints out Mesh info\n",
    "\n",
    "- **Mesh.ProcessLowerStars()** calculates the combinatorial gradient and critical simplices; **required for ExtractMorseComplex**\n",
    "\n",
    "- **Mesh.only_return_ExtractMorseComplex** return MorseComplex without storing it in the Mesh class\n",
    "\n",
    "- **Mesh.ExtractMorseComplex** calculate MorseComplex and store it in the Mesh class\n",
    "\n",
    "- **Mesh.only_return_ReducedMorseComplex(persistence)** reduce the MorseComplex based on the given persistence parameter, but dont store it in the Mesh class\n",
    "\n",
    "- **Mesh.ReducedMorseComplex(persistence)** reduce the MorseComplex based on the given persistence parameter, and store it in the Mesh class\n",
    "\n",
    "- **Mesh.plot_MorseComplex(MorseComplex, filename, path_color=[255,0,255])** plots the critical simplices of a MorseComplex in red (vertex), green (edge) and blue (face) and the according paths connecting them in magenta. Only writes a ply file containing colored points, so should be used as an overlay for the original mesh\n",
    "\n",
    "- **Mesh.ExtractMorseCells(MorseComplex)** takes a MorseComplex and gets all connected cells individually that are enclosed by the lines between critical simplices\n",
    "\n",
    "- **Mesh.plot_MorseCells(persistence, filename)** plots the connected components in each Cell in the same color. Only writes a ply file containing colored points, so should be used as an overlay for the original mesh"
   ]
  },
  {
   "cell_type": "code",
   "execution_count": 3,
   "id": "808a1588",
   "metadata": {},
   "outputs": [
    {
     "name": "stdout",
     "output_type": "stream",
     "text": [
      "Time read data file: 5.0098378\n",
      "Time read and prepare data: 28.328500400000003\n",
      "+-------------------------------------------------------\n",
      "| Mesh Info\n",
      "+-------------------------------------------------------\n",
      "| Filename:  Data/HS_0109_HeiCuBeDa_GigaMesh\n",
      "| Morse function values range:  [-0.41149557, 0.910333]\n",
      "+-------------------------------------------------------\n",
      "| Number of Vertices:  559767\n",
      "| Number of Edges:  1679295\n",
      "| Number of Faces:  1119530\n",
      "+-------------------------------------------------------\n",
      "| Euler characteristic:  2\n",
      "+-------------------------------------------------------\n",
      "Time ProcessLowerStar: 14.760850099999999\n",
      "Time ExtractMorseComplex and Separatrices: 8.416868200000003\n",
      "+-------------------------------------------------------\n",
      "| MorseComplex Info\n",
      "+-------------------------------------------------------\n",
      "| Filename:  Data/HS_0109_HeiCuBeDa_GigaMesh\n",
      "| Persistence of this Complex:  0\n",
      "+-------------------------------------------------------\n",
      "| Number of Vertices:  29135\n",
      "| Number of Edges:  57819\n",
      "| Number of Faces:  28686\n",
      "+-------------------------------------------------------\n",
      "| Euler characteristic:  2\n",
      "+-------------------------------------------------------\n"
     ]
    }
   ],
   "source": [
    "Mesh = Mesh()\n",
    "Mesh.load_mesh_ply(filename, quality_index, inverted=False)\n",
    "Mesh.info()\n",
    "Mesh.ProcessLowerStars()\n",
    "Mesh.ExtractMorseComplex()\n",
    "Mesh.MorseComplex.info()"
   ]
  },
  {
   "cell_type": "code",
   "execution_count": 4,
   "id": "e942bf3e",
   "metadata": {},
   "outputs": [
    {
     "name": "stdout",
     "output_type": "stream",
     "text": [
      "Time cancel critical points with  2  persistence:  7.540399899999997\n",
      "Persistence was higher than the range of function values,\n",
      "therefore this complex is maximally reduced and can be used for salient edge extraction.\n"
     ]
    }
   ],
   "source": [
    "red_MSC = Mesh.ReduceMorseComplex(2)"
   ]
  },
  {
   "cell_type": "code",
   "execution_count": 5,
   "id": "dbe1fc7b",
   "metadata": {},
   "outputs": [],
   "source": [
    "#Mesh.plot_salient_edge_histogram(100, log=True)"
   ]
  },
  {
   "cell_type": "code",
   "execution_count": 6,
   "id": "0b2406c0",
   "metadata": {},
   "outputs": [],
   "source": [
    "#red_MSC.Separatrices.sort(key=lambda x: x[0])\n",
    "#for pers,sep in red_MSC.Separatrices:\n",
    "#    print(pers)\n"
   ]
  },
  {
   "cell_type": "code",
   "execution_count": 7,
   "id": "84a8d693",
   "metadata": {},
   "outputs": [],
   "source": [
    "#thr = [1,2,5,8,10,15,20,25,100,600,900]\n",
    "#min_thresh = 10\n",
    "#max_thresh = 7\n",
    "#for thresh in thr:\n",
    "#    Mesh.plot_improved_salient_edge(str(red_MSC.filename)+\"_improved_salient_edge_justSum\"+str(thresh), \n",
    "#                                    thresh, min_thresh, max_thresh)\n",
    "#    Mesh.plot_salient_edge(str(red_MSC.filename)+\"_salient_edge_justSum\"+str(thresh), thresh)"
   ]
  },
  {
   "cell_type": "code",
   "execution_count": 8,
   "id": "6ff3cf6d",
   "metadata": {
    "scrolled": true
   },
   "outputs": [
    {
     "name": "stdout",
     "output_type": "stream",
     "text": [
      "Time cancel critical points with  0.1  persistence:  10.275324199999993\n",
      "Time writing simplified pline file: 1.168288700000005\n",
      "Time get MorseCells:  6.0237961999999925\n"
     ]
    }
   ],
   "source": [
    "# Calculate reduced Complexes for different persistence levels:\n",
    "\n",
    "persistences = [0.1]\n",
    "for thresh in persistences:\n",
    "    Mesh.ReduceMorseComplex(thresh)\n",
    "    \n",
    "# plot MorseComplexes, calculate MorseCells and plot MorseCells\n",
    "for persistence in persistences:\n",
    "    reduced_complex = Mesh.reducedMorseComplexes[persistence]\n",
    "    #reduced_complex.info()\n",
    "    #Mesh.plot_MorseComplex(reduced_complex, str(reduced_complex.filename)+\"_mean_inverted\"+str(persistence))\n",
    "    #Mesh.plot_MorseComplex_pline(persistence, str(Mesh.filename)+\"_test_pline_\"+str(persistence))\n",
    "    Mesh.plot_MorseComplex_thresholded_pline(persistence, str(Mesh.filename)+\"_test_thresh_pline_\"+str(persistence), minimum_length=7, thresh=0.1)\n",
    "    Mesh.ExtractMorseCells(reduced_complex)\n",
    "    #Mesh.write_MorseCellLabels(persistence, str(reduced_complex.filename)+\"_error_removed_test2_no_bd\"+str(persistence))\n",
    "    #Mesh.plot_MorseCells(persistence, str(reduced_complex.filename)+\"_error_removed_test_no_bd\"+str(persistence))\n"
   ]
  },
  {
   "cell_type": "code",
   "execution_count": 9,
   "id": "11d4f4ca",
   "metadata": {},
   "outputs": [
    {
     "data": {
      "text/plain": [
       "'\\ngraph_pers = 0.1\\ngraph = Mesh.GetConnectivityGraph(graph_pers)\\ngraph.remove_small_components(Mesh, persistence=graph_pers, size_thresh=30)\\nMesh.write_MorseCellLabels(graph_pers, str(Mesh.filename)+\"_error_removed_test2_smallCompRemoved\")\\ngraph.remove_weak_edges(Mesh, persistence=graph_pers, absolute_threshold=0.1)\\nMesh.write_MorseCellLabels(graph_pers, str(Mesh.filename)+\"_error_removed_test2_weakEdgesRemoved\")\\n'"
      ]
     },
     "execution_count": 9,
     "metadata": {},
     "output_type": "execute_result"
    }
   ],
   "source": [
    "'''\n",
    "graph_pers = 0.1\n",
    "graph = Mesh.GetConnectivityGraph(graph_pers)\n",
    "graph.remove_small_components(Mesh, persistence=graph_pers, size_thresh=30)\n",
    "Mesh.write_MorseCellLabels(graph_pers, str(Mesh.filename)+\"_error_removed_test2_smallCompRemoved\")\n",
    "graph.remove_weak_edges(Mesh, persistence=graph_pers, absolute_threshold=0.1)\n",
    "Mesh.write_MorseCellLabels(graph_pers, str(Mesh.filename)+\"_error_removed_test2_weakEdgesRemoved\")\n",
    "'''"
   ]
  },
  {
   "cell_type": "code",
   "execution_count": null,
   "id": "2b9dff6f",
   "metadata": {},
   "outputs": [],
   "source": []
  },
  {
   "cell_type": "code",
   "execution_count": null,
   "id": "77264edc",
   "metadata": {},
   "outputs": [],
   "source": []
  }
 ],
 "metadata": {
  "kernelspec": {
   "display_name": "Python 3 (ipykernel)",
   "language": "python",
   "name": "python3"
  },
  "language_info": {
   "codemirror_mode": {
    "name": "ipython",
    "version": 3
   },
   "file_extension": ".py",
   "mimetype": "text/x-python",
   "name": "python",
   "nbconvert_exporter": "python",
   "pygments_lexer": "ipython3",
   "version": "3.9.7"
  }
 },
 "nbformat": 4,
 "nbformat_minor": 5
}
