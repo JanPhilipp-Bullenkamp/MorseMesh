{
 "cells": [
  {
   "cell_type": "code",
   "execution_count": 1,
   "id": "648001e5",
   "metadata": {},
   "outputs": [],
   "source": [
    "from mesh import Mesh"
   ]
  },
  {
   "cell_type": "code",
   "execution_count": 2,
   "id": "c45da0e2",
   "metadata": {},
   "outputs": [],
   "source": [
    "#minimal\n",
    "#filename, quality_index = \"Data/simplicial_donut_3.ply\", 2\n",
    "#small\n",
    "#filename, quality_index = \"Data/simplicial_donut_3_deform.ply\", 2\n",
    "#filename, quality_index = \"Data/31_r1.00_n4_v256.volume.ply\", 3\n",
    "#filename, quality_index = \"Data/31_r1.00_n4_v256.volume_r1.50_n4_v256.volume.ply\", 3\n",
    "filename, quality_index = \"Data/31_mean_curvature.ply\", 7\n",
    "#filename, quality_index = \"Data/31_min_curvature_meshlab.ply\", 7\n",
    "#filename, quality_index = \"Data/4125_mean_curv.ply\", 7\n",
    "#filename, quality_index = \"Data/10354_mean_curv.ply\", 7\n",
    "#filename, quality_index = \"Data/689_mean_curv.ply\", 7\n",
    "#filename, quality_index = \"Data/475_mean_curv.ply\", 7\n",
    "#medium\n",
    "#filename, quality_index = \"Data/HS_0109_HeiCuBeDa_GigaMesh.ply\", 3\n",
    "#filename, quality_index = \"Data/HS_0109_HeiCuBeDa_GigaMesh_mean_curvature.ply\", 7\n",
    "#filename, quality_index = \"Data/Messer_Stein/Messer_ohneNachv_GMOCF_r1.50_n4_v256.volume.ply\", 3\n",
    "#large:\n",
    "#filename, quality_index = \"Data/HS_190_HeiCuBeDa_GigaMesh.ply\", 3"
   ]
  },
  {
   "cell_type": "markdown",
   "id": "8dfc7491",
   "metadata": {},
   "source": [
    "# Mesh class:\n",
    "The Mesh class can be initialized using **Mesh()** . It has the following variables and functions:\n",
    "\n",
    "## Variables:\n",
    "- **Mesh.filename** filename as string. saved without .ply, but with folder structure\n",
    "\n",
    "- **Mesh.Vertices** Vertices stored as a dictionary of Vertex objects, keys are Vertex indices\n",
    "\n",
    "- **Mesh.Edges** Edges stored as a dictionary of Edge objects, keys are numbered\n",
    "\n",
    "- **Mesh.Faces** Faces stored as a dictionary of Face objects, keys are numbered\n",
    "\n",
    "- **Mesh.MorseComplex** if not calculated yet: None, otherwise a MorseComplex object with MorseComplex.persistence = 0\n",
    "\n",
    "- **Mesh.reducedMorseComplexes** a dictionary of MorseComplex objects, that have been reduced by a persistence parameter. The persistence parameter also defines the key of each MorseComplex object\n",
    "\n",
    "- **Mesh.MorseCells** a dictionary of MorseCells dictionaries. the key for each MorseCell dictionary is given by the persistence of the MorseComplex, these Cells were taken from. Each MorseCell dictionary consits of key, value pairs, where the key gives the label of a cell and the value is a set of vertices that make up this cell.\n",
    "\n",
    "## Functions:\n",
    "- **Mesh.load_mesh_ply(filename, quality_index)** loads a .ply file into the Mesh class and takes the value given at quality_index position as the scalar function on the vertices\n",
    "\n",
    "- **Mesh.info()** prints out Mesh info\n",
    "\n",
    "- **Mesh.ProcessLowerStars()** calculates the combinatorial gradient and critical simplices; **required for ExtractMorseComplex**\n",
    "\n",
    "- **Mesh.only_return_ExtractMorseComplex** return MorseComplex without storing it in the Mesh class\n",
    "\n",
    "- **Mesh.ExtractMorseComplex** calculate MorseComplex and store it in the Mesh class\n",
    "\n",
    "- **Mesh.only_return_ReducedMorseComplex(persistence)** reduce the MorseComplex based on the given persistence parameter, but dont store it in the Mesh class\n",
    "\n",
    "- **Mesh.ReducedMorseComplex(persistence)** reduce the MorseComplex based on the given persistence parameter, and store it in the Mesh class\n",
    "\n",
    "- **Mesh.plot_MorseComplex(MorseComplex, filename, path_color=[255,0,255])** plots the critical simplices of a MorseComplex in red (vertex), green (edge) and blue (face) and the according paths connecting them in magenta. Only writes a ply file containing colored points, so should be used as an overlay for the original mesh\n",
    "\n",
    "- **Mesh.ExtractMorseCells(MorseComplex)** takes a MorseComplex and gets all connected cells individually that are enclosed by the lines between critical simplices\n",
    "\n",
    "- **Mesh.plot_MorseCells(persistence, filename)** plots the connected components in each Cell in the same color. Only writes a ply file containing colored points, so should be used as an overlay for the original mesh"
   ]
  },
  {
   "cell_type": "code",
   "execution_count": 3,
   "id": "808a1588",
   "metadata": {},
   "outputs": [
    {
     "name": "stdout",
     "output_type": "stream",
     "text": [
      "Time read data file: 1.3194483\n",
      "Time read and prepare data: 7.6045021\n",
      "Time read normals data file: 7.289206500000001\n",
      "Time read normals: 7.5177905\n",
      "Time ProcessLowerStar: 4.146604700000001\n",
      "Time ExtractMorseComplex and Separatrices: 2.701700599999999\n",
      "+-------------------------------------------------------\n",
      "| MorseComplex Info\n",
      "+-------------------------------------------------------\n",
      "| Filename:  Data/31_mean_curvature\n",
      "| Persistence of this Complex:  0\n",
      "+-------------------------------------------------------\n",
      "| Number of Vertices:  9805\n",
      "| Number of Edges:  19670\n",
      "| Number of Faces:  9867\n",
      "+-------------------------------------------------------\n",
      "| Euler characteristic:  2\n",
      "+-------------------------------------------------------\n"
     ]
    }
   ],
   "source": [
    "data = Mesh()\n",
    "data.load_mesh_ply(filename, quality_index, inverted=False)\n",
    "data.load_normals_ply(\"Data/31_normals.ply\")\n",
    "#data.info()\n",
    "#data.load_new_funvals(\"Data/Messer_Stein/Messer_ohneNachv_GMOCF_r1.50_n4_v256.normal.mat\")\n",
    "#data.info()\n",
    "#data.plot_funval_histogram(nb_bins=150)\n",
    "\n",
    "data.ProcessLowerStars()\n",
    "data.ExtractMorseComplex()\n",
    "data.MorseComplex.info()"
   ]
  },
  {
   "cell_type": "code",
   "execution_count": 4,
   "id": "9fbc13e3",
   "metadata": {},
   "outputs": [],
   "source": [
    "#data.write_funval_thresh_labels(15, str(data.filename))"
   ]
  },
  {
   "cell_type": "code",
   "execution_count": 5,
   "id": "8d3e0f77",
   "metadata": {},
   "outputs": [],
   "source": [
    "#data.calculate_BettiNumbers()\n",
    "#data.plot_PersistenceDiagram()"
   ]
  },
  {
   "cell_type": "code",
   "execution_count": 6,
   "id": "dbe1fc7b",
   "metadata": {},
   "outputs": [],
   "source": [
    "#data.ReduceMorseComplex(1000000)\n",
    "#data.plot_salient_edge_histogram(100, log=True)"
   ]
  },
  {
   "cell_type": "code",
   "execution_count": 7,
   "id": "84a8d693",
   "metadata": {},
   "outputs": [],
   "source": [
    "#thr = [1.3]\n",
    "#min_thresh = 10\n",
    "#max_thresh = 7\n",
    "#for thresh in thr:\n",
    "    #Mesh.plot_improved_salient_edge(str(data.filename)+\"_improved_salient_edge_justSum\"+str(thresh), \n",
    "    #                                thresh, min_thresh, max_thresh)\n",
    "    #data.plot_salient_edge(str(data.filename), thresh)\n",
    "    #data.plot_salient_edge_pline(str(data.filename), thresh)"
   ]
  },
  {
   "cell_type": "code",
   "execution_count": 8,
   "id": "6ff3cf6d",
   "metadata": {
    "scrolled": true
   },
   "outputs": [
    {
     "name": "stdout",
     "output_type": "stream",
     "text": [
      "Time cancel critical points with  0.5  persistence:  2.0725684000000015\n",
      "Time get MorseCells:  38.27628729999999\n",
      "Time cancel critical points with  1  persistence:  1.4746259999999936\n",
      "Time get MorseCells:  13.359555300000011\n"
     ]
    }
   ],
   "source": [
    "# Calculate reduced Complexes for different persistence levels:\n",
    "\n",
    "persistences = [0.5,1]\n",
    "for persistence in persistences:\n",
    "    # reduce morse complex persistence based\n",
    "    data.ReduceMorseComplex(persistence)\n",
    "    \n",
    "    # plot MorseComplexes, calculate MorseCells and plot MorseCells\n",
    "    reduced_complex = data.reducedMorseComplexes[persistence]\n",
    "    #reduced_complex.info()\n",
    "    #data.plot_MorseComplex(reduced_complex, str(data.filename))\n",
    "    #thresholds = [0.1,0.15,0.2,0.25,0.3]\n",
    "    #for abs_thresh in thresholds:\n",
    "    #    data.plot_MorseComplex_thresholded(reduced_complex, \n",
    "    #                                       str(data.filename), \n",
    "    #                                       abs_thresh)\n",
    "    #    data.plot_MorseComplex_thresholded_pline(persistence, \n",
    "    #                                             str(data.filename), \n",
    "    #                                             minimum_length=5, thresh=abs_thresh)\n",
    "    \n",
    "    #data.plot_MorseComplex_pline(persistence, str(data.filename))\n",
    "    data.ExtractMorseCells(reduced_complex)\n",
    "    #data.write_MorseCellLabels(persistence, str(data.filename))\n",
    "    #data.plot_MorseCells(persistence, str(data.filename))\n"
   ]
  },
  {
   "cell_type": "code",
   "execution_count": 9,
   "id": "26abcd30",
   "metadata": {
    "scrolled": true
   },
   "outputs": [
    {
     "name": "stdout",
     "output_type": "stream",
     "text": [
      "Need maximally reduced complex for salient edges!\n",
      "Computing maximally reduced complex ...\n",
      "Time cancel critical points with  23.283016  persistence:  0.9733698000000004\n",
      "Persistence was high enough that this complex is maximally reduced.\n",
      "Time getting salient edge points for  0.9 threshold: 0.021505099999998833\n",
      "av 0.008553477269333577\n",
      "max 0.39076983783892855\n",
      "min 1.507444212055744e-06\n",
      "Time get weighted ConnectivityGraph:  30.4257159\n",
      "Time merging and simplifying Cells: 10.330403700000005\n",
      "Segmented for 1 persistence Complex with 0.9 salient edge threshold and 20.0 % edge percentage merging threshold\n",
      "Got  13 differnt cell labels\n"
     ]
    }
   ],
   "source": [
    "import itertools\n",
    "\n",
    "pers = [1]\n",
    "saledge_thresh = [0.9]\n",
    "edge_percentage = [0.2]\n",
    "\n",
    "for p, s, ep in list(itertools.product(pers, saledge_thresh, edge_percentage)):\n",
    "    Segmentation = data.SalientEdgeSegmentation(p, s, ep)\n",
    "    #data.write_SegmentationLabels(p, s, ep, str(data.filename))"
   ]
  },
  {
   "cell_type": "code",
   "execution_count": null,
   "id": "46bf002b",
   "metadata": {},
   "outputs": [],
   "source": []
  }
 ],
 "metadata": {
  "kernelspec": {
   "display_name": "Python 3 (ipykernel)",
   "language": "python",
   "name": "python3"
  },
  "language_info": {
   "codemirror_mode": {
    "name": "ipython",
    "version": 3
   },
   "file_extension": ".py",
   "mimetype": "text/x-python",
   "name": "python",
   "nbconvert_exporter": "python",
   "pygments_lexer": "ipython3",
   "version": "3.9.7"
  }
 },
 "nbformat": 4,
 "nbformat_minor": 5
}
